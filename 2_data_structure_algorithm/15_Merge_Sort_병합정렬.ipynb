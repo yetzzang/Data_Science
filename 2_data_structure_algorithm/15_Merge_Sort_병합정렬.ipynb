{
 "cells": [
  {
   "cell_type": "markdown",
   "metadata": {
    "id": "8tGhrIvtrtM7"
   },
   "source": [
    "# 1. 병합정렬 Merge Sort"
   ]
  },
  {
   "cell_type": "markdown",
   "metadata": {
    "id": "mopfQtz5s62J"
   },
   "source": [
    "* 재귀용법을 활용한 정렬 알고리즘으로 분할 정복 알고리즘 중 하나이다\n",
    "* 리스트를 절반으로 잘라 비슷한 크기의 두 부분 리스트로 나눔 \n",
    "* 각 부분 리스트를 재귀적으로 한병 정렬을 이용해 정렬\n",
    "* 두 부분 리스트를 다시 하나의 정렬된 리스트로 합병 \n",
    "\n",
    "<img src=\"https://upload.wikimedia.org/wikipedia/commons/c/cc/Merge-sort-example-300px.gif\" width=500/>"
   ]
  },
  {
   "cell_type": "markdown",
   "metadata": {
    "id": "ClYQxyoCtHCm"
   },
   "source": [
    "# 2. 알고리즘 이해"
   ]
  },
  {
   "cell_type": "markdown",
   "metadata": {},
   "source": [
    "### 2-1 단계 이해\n",
    "* 분할 (Divide): 하나의 리스트를 균등한 두개의 크기로 분할\n",
    "* 정복 (Conquer): 분할 된 부분 리스트를 정렬\n",
    "    * 이때 리스트의 크기가 충분히 작지 않다면 재귀 함수를 호출해 분할 정복을 적용\n",
    "* 결합 (Combine): 두개의 정렬 된 부분 리스트를 합함"
   ]
  },
  {
   "cell_type": "markdown",
   "metadata": {},
   "source": [
    "### 2-2 과정 \n",
    "1. 리스트의 길이가 0 또는 1이면 이미 정렬된 것으로 본다.\n",
    "2. 그렇지 않은 경우에는 정렬되지 않은 리스트를 절반으로 잘라 비슷한 크기의 두 부분 리스트로 나눈다.\n",
    "3. 각 부분 리스트를 재귀적으로 합병 정렬을 이용해 정렬한다.\n",
    "4. 두 부분 리스트를 다시 하나의 정렬된 리스트로 합병한다.\n",
    "<img src = https://gmlwjd9405.github.io/images/algorithm-merge-sort/merge-sort-concepts.png>"
   ]
  },
  {
   "cell_type": "markdown",
   "metadata": {},
   "source": [
    "# 3. 장단점"
   ]
  },
  {
   "cell_type": "markdown",
   "metadata": {},
   "source": [
    "* 장점\n",
    "    * 안정적인 정렬 방법: 데이터의 분포에 영향을 덜 받음. 입력 데이터가 무엇이든 시간 복잡도는 동일하게 O($nlog_{2}n$)\n",
    "* 단점\n",
    "    * 레코드를 배열로 구성하다면, 임시 배열이 필요하다\n",
    "    * 레코드들의 크기가 큰 경우에는 이동 횟수가 많으므로 시간적 낭비를 초래한다  "
   ]
  },
  {
   "cell_type": "markdown",
   "metadata": {},
   "source": [
    "# 4. 시간 복잡도 "
   ]
  },
  {
   "cell_type": "markdown",
   "metadata": {},
   "source": [
    "* 분할: 비교 연산과 이동 연산이 수행되지 않음\n",
    "* 합병: O($nlog_{2}n$)\n",
    "    * 비교 횟수:\n",
    "        * <img src=https://gmlwjd9405.github.io/images/algorithm-merge-sort/sort-time-complexity-etc.png> \n",
    "        * 합병 단계의 수 (순환 호출의 깊이): $k = log_{2}n$  \n",
    "        * 각 합병 단계의 비교 연산: 최대 n번\n",
    "        * 순환 호출의 깊이 * 각 합병 단계의 비교 연산 = $nlog_{2}n$\n",
    "    * 이동 횟수:\n",
    "        *  합병 단계의 수 (순환 호출의 깊이): $k = log_{2}n$\n",
    "        *  각 합병 단계의 이동 연산: 2n\n",
    "        * 순환 호출의 깊이 * 각 합병 단계의 이동 연산 = $2nlog_{2}n$\n",
    "    * $T(n) = nlog_{2}n + 2nlog_{2}n = 3nlog_{2}n = O(nlog_{2}n)$"
   ]
  },
  {
   "cell_type": "markdown",
   "metadata": {
    "id": "QXSZOUb-u02u"
   },
   "source": [
    "# 5. 알고리즘 구현 "
   ]
  },
  {
   "cell_type": "markdown",
   "metadata": {
    "id": "yAG429rqu7H2"
   },
   "source": [
    "### 3-1. mergesplit 함수 \n",
    "* 만약 리스트 갯수가 1개이면 해당 값을 리턴 \n",
    "* 그렇지 않으면 리스트를 앞 뒤 두개로 나눔\n",
    "  * 홀수라면 left에 적은 값\n",
    "* left = mergesplit(앞)\n",
    "* right = mergesplit(뒤)\n",
    "* 모두 나눠지면 merge(left, right) 호출 "
   ]
  },
  {
   "cell_type": "code",
   "execution_count": 2,
   "metadata": {
    "executionInfo": {
     "elapsed": 7,
     "status": "ok",
     "timestamp": 1685402185147,
     "user": {
      "displayName": "Yeji Kim",
      "userId": "13264010469112846795"
     },
     "user_tz": 420
    },
    "id": "vgfd00LevHU6"
   },
   "outputs": [],
   "source": [
    "def mergesplit (data):\n",
    "  if len(data) <= 1:\n",
    "    return data\n",
    "\n",
    "  medium = int(len(data)/2)\n",
    "  # [:n]라면 0 부터 n-1까지 create 되므로\n",
    "  left = mergesplit(data[:medium])\n",
    "  right = mergesplit(data[medium:])\n",
    "\n",
    "  return merge(left, right)"
   ]
  },
  {
   "cell_type": "markdown",
   "metadata": {
    "id": "gh2MbRjZvDZI"
   },
   "source": [
    "### 3-2. merge 함수 \n",
    "* 리스트 변수 하나 만듬 (sorted)\n",
    "* left_index, right_index = 0 to comapre two separate list when 병합 \n",
    "* while left_index < len(left) or right_index < len(right):\n",
    "* 만약 left_index나 right_index가 이미 left 또는 right 리스트를 모두 순회했다면 그 반대쪽 데이터를 그대로 넣고 해당 인덱스를 1 증가 \n",
    "\n",
    "```\n",
    "  if left[left_index] < right[right_index]:\n",
    "    sorted.append(left[left_index])\n",
    "    left_index += 1\n",
    "  else:\n",
    "    sorted.append(rihgt[right_index])\n",
    "    right_index += 1\n",
    "  \n",
    "```\n"
   ]
  },
  {
   "cell_type": "code",
   "execution_count": 3,
   "metadata": {
    "executionInfo": {
     "elapsed": 16,
     "status": "ok",
     "timestamp": 1685403043194,
     "user": {
      "displayName": "Yeji Kim",
      "userId": "13264010469112846795"
     },
     "user_tz": 420
    },
    "id": "4Ftib67evGqC"
   },
   "outputs": [],
   "source": [
    "def merge(left, right):\n",
    "  # combined / sorted list\n",
    "  merged = list()\n",
    "\n",
    "  left_point, right_point = 0, 0\n",
    "\n",
    "  # left랑 right 둘 다 있을때  \n",
    "  while len(left) > left_point and len(right) > right_point:\n",
    "    # if right has smaller data than left \n",
    "    # append right data to merged list and increase right_point \n",
    "    if left[left_point] > right[right_point]:\n",
    "      merged.append(right[right_point])\n",
    "      right_point += 1\n",
    "    else:\n",
    "      merged.append(left[left_point])\n",
    "      left_point += 1\n",
    "\n",
    "  # left에만 데이터가 남았을때\n",
    "  # 따로 오름차순 if-else문이 필요없음; bc 합쳐질때 이미 sorted 되어서 병렬 되었기 때문 \n",
    "  while len(left) > left_point:\n",
    "    merged.append(left[left_point])\n",
    "    left_point += 1\n",
    "\n",
    "  # only right만 남았을때 \n",
    "  while len(right) > right_point:\n",
    "    merged.append(right[right_point])\n",
    "    right_point += 1\n",
    "\n",
    "  return merged \n"
   ]
  },
  {
   "cell_type": "code",
   "execution_count": 4,
   "metadata": {
    "colab": {
     "base_uri": "https://localhost:8080/"
    },
    "executionInfo": {
     "elapsed": 15,
     "status": "ok",
     "timestamp": 1685403110610,
     "user": {
      "displayName": "Yeji Kim",
      "userId": "13264010469112846795"
     },
     "user_tz": 420
    },
    "id": "JCkbjZci2YHK",
    "outputId": "87a8c272-5bcb-4277-ddc1-58246cb6c9d4"
   },
   "outputs": [
    {
     "name": "stdout",
     "output_type": "stream",
     "text": [
      "[83, 91, 86, 3, 89, 62, 30, 61, 17, 79]\n"
     ]
    },
    {
     "data": {
      "text/plain": [
       "[3, 17, 30, 61, 62, 79, 83, 86, 89, 91]"
      ]
     },
     "execution_count": 4,
     "metadata": {},
     "output_type": "execute_result"
    }
   ],
   "source": [
    "import random\n",
    "\n",
    "data_list = random.sample(range(100), 10)\n",
    "print(data_list)\n",
    "mergesplit(data_list)"
   ]
  },
  {
   "cell_type": "markdown",
   "metadata": {
    "id": "EnE2duk42ogs"
   },
   "source": [
    "# 6. 예상 질문"
   ]
  },
  {
   "cell_type": "markdown",
   "metadata": {},
   "source": [
    "Merge Sort는 어떻게 동작하나요?\r\n",
    "> Merge Sort는 분할 정복 알고리즘으로, 배열을 반으로 나눈 후 각각을 재귀적으로 정렬하고, 정렬된 부분 배열을 병합하는 방식으로 동작합니다. 이러한 병합 작업을 반복하면서 최종적으로 정렬된 배열을 얻습니다. Merge Sort의 시간 복잡도는 항상 O(n log n)이며, 안정적인 정렬 알고리즘 중 하나입니다."
   ]
  },
  {
   "cell_type": "markdown",
   "metadata": {},
   "source": [
    "Merge Sort와 다른 정렬 알고리즘과의 차이점은 무엇인가요?\r\n",
    ">  Merge Sort는 항상 O(n log n)의 시간 복잡도를 가지며, 안정적인 특성을 갖고 있습니다. Quick Sort와는 달리 최악의 경우에도 일관된 성능을 보장합니다. 그러나 추가적인 메모리 공간이 필요하며, 다른 알고리즘들에 비해 상대적으로 느릴 수 있습니다."
   ]
  },
  {
   "cell_type": "markdown",
   "metadata": {},
   "source": [
    "Merge Sort의 장단점은 무엇인가요?\n",
    "\n",
    "> 장점으로는 안정적이며, 항상 O(n log n)의 성능을 보장하여 대규모 데이터에 적합합니다. 분할 정복 알고리즘으로 구현되어 병렬 처리가 가능합니다. 단점으로는 추가적인 메모리 공간이 필요하며, 이는 배열을 복사하는 데 사용됩니다. 따라서 메모리 사용에 제한이 있는 경우에는 다른 정렬 알고리즘을 고려해야 할 수 있습니다. 또한, 상수 계수가 다른 알고리즘에 비해 큰 편입니다."
   ]
  },
  {
   "cell_type": "code",
   "execution_count": null,
   "metadata": {},
   "outputs": [],
   "source": []
  }
 ],
 "metadata": {
  "colab": {
   "authorship_tag": "ABX9TyNjIJ7n7U/8eLRTkzpCkIAe",
   "provenance": []
  },
  "kernelspec": {
   "display_name": "Python 3 (ipykernel)",
   "language": "python",
   "name": "python3"
  },
  "language_info": {
   "codemirror_mode": {
    "name": "ipython",
    "version": 3
   },
   "file_extension": ".py",
   "mimetype": "text/x-python",
   "name": "python",
   "nbconvert_exporter": "python",
   "pygments_lexer": "ipython3",
   "version": "3.10.11"
  }
 },
 "nbformat": 4,
 "nbformat_minor": 4
}
