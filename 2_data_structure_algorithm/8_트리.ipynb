{
 "cells": [
  {
   "cell_type": "markdown",
   "id": "4cfad27f-46e7-4aa6-8b24-be0b7bf4160c",
   "metadata": {},
   "source": [
    "# 1. 트리 "
   ]
  },
  {
   "cell_type": "markdown",
   "id": "3e0d0221-49a8-444f-8046-90f35cccffae",
   "metadata": {},
   "source": [
    "* Node와 Branch를 이용해서 사이클을 이루지 않도록 구성한 데이터 구조\n",
    "* 계층적 데이터의 집합\n",
    "* 트리로 이루어진 집합을 숲이라고 칭함 \n",
    "* 트리 중 이진 트리(Binary Tree) 형태의 구조로 탐색 알고리즘 구현을 위해 많이 사용 "
   ]
  },
  {
   "cell_type": "markdown",
   "id": "31f927d8-07ea-41a7-ac7d-d93caea78de1",
   "metadata": {},
   "source": [
    "### 1-1. 알아둘 용어"
   ]
  },
  {
   "cell_type": "markdown",
   "id": "fcd193f5-ba60-4f2c-b432-545df94a9c48",
   "metadata": {},
   "source": [
    "* Node: 트리에서 데이터를 저장하는 기본 요소 (데이터와 다른 연결된 노드에 대한 Branch 정보를 포함)\n",
    "* Root Node: 트리 맨 위에 있는 노드\n",
    "* Level: 최상위 노드를 Level 0로 했을때 하위 Branch로 연결된 노드의 깊이를 나타냄 \n",
    "* Parent Node: 어떤 노드의 상위 레벨에 연결된 노드 \n",
    "* Child Node: 어떤 노드의 하위 레벨에 연결된 노드 \n",
    "* Leaf Node: child node가 하나도 없는 노드\n",
    "* Sibling Node: 동일한 Parent Node를 가진 노드 "
   ]
  },
  {
   "cell_type": "markdown",
   "id": "e922d8db-49e4-430c-90ca-a9703d567891",
   "metadata": {},
   "source": [
    "<img src = \"https://velog.velcdn.com/images%2Fragnarok_code%2Fpost%2F734ca02c-3f9e-477f-aa59-717411ecdbed%2F%EC%8A%A4%ED%81%AC%EB%A6%B0%EC%83%B7%202021-11-23%20%EC%98%A4%ED%9B%84%202.04.09.png\">"
   ]
  },
  {
   "cell_type": "markdown",
   "id": "749c8a97-17b8-447b-9bcf-f0001949c957",
   "metadata": {},
   "source": [
    "### 1-2. 특징"
   ]
  },
  {
   "cell_type": "markdown",
   "id": "e846dbe6-32eb-464f-b278-990f31e9caea",
   "metadata": {},
   "source": [
    "* 간선: 한 노드에서 다른 노드로 향하는 연결 방향성\n",
    "    * 간선의 수 = 노드의 수 - 1\n",
    "* 차수 (Degree): 부모 노드의 자식 노드의 개수가 해당 노드의 차수(Degree)\n",
    "* 연결성 continuity: 트리 내의 어떤 노드와 어떤 노드까지 경로는 반드시 '유일무이'하게 존재 "
   ]
  },
  {
   "cell_type": "markdown",
   "id": "bb0a8aee-f7f9-4217-9627-edfcb0b5d5c9",
   "metadata": {},
   "source": [
    "### 1-3. 트리의 높이와 레벨 "
   ]
  },
  {
   "cell_type": "markdown",
   "id": "951dbd13-f56c-4fd1-a355-c9fcc0bd74d4",
   "metadata": {},
   "source": [
    "* 깊이 / 레벨: 루트 노드부터 특정 노드까지의 최단 거리 \n",
    "* 높이: 루트 노드부터 리프 노드까지의 거리 중 최장 거리\n",
    "    * 예시) 위의 트리 높이는 3\n",
    "* 서브 트리: 트리 내의 하위 집합 / 부분 집합  \n",
    "    * 예시) D-H-I 트리 집합 장"
   ]
  },
  {
   "cell_type": "markdown",
   "id": "064a300e-ccde-43e8-92ae-933b20f6c0ae",
   "metadata": {},
   "source": [
    "# 2. 이진 트리 Binary Tree"
   ]
  },
  {
   "cell_type": "markdown",
   "id": "0afd7165-d1a3-4105-90a9-ce080c8d8464",
   "metadata": {},
   "source": [
    "* 이진 트리: 자식 노드의 수가 2개 이하인 트리 "
   ]
  },
  {
   "cell_type": "markdown",
   "id": "dcb2133c-52b6-437c-b903-dc61636c756c",
   "metadata": {},
   "source": [
    "### 2-1. 종류"
   ]
  },
  {
   "cell_type": "markdown",
   "id": "ea513d3f-0058-4db9-aa96-28acc120a55c",
   "metadata": {},
   "source": [
    "* 정이진 트리 (full binary tree): 자식 노드가 없거나 두개인 이진 트리\n",
    "* 완전 이진 트리 (complete binary tree): 왼쪽에서부터 채워져 있는 이진 트리. 마지막 레벨 제외 모든 레벨이 채워져 있으며, 마지막 레벨의 경우 왼쪽부터 채워져 있음\n",
    "* 변질 이진 트리 (degenerate binary tree): 자식 노드가 하나만 있는 이진 트리\n",
    "* 포화 이진 트리 (perfect binary tree): 모든 노드가 채워진 이진 트리\n",
    "* 균형 이진 트리 (balanced binary tree): 왼쪽 오른쪽 노드의 높이 차이가 1 이하인 이진 트리.\n",
    "    * map, set을 구성하는 레드 블랙 트리가 해당  "
   ]
  },
  {
   "cell_type": "markdown",
   "id": "a706496d-683a-42c2-a2fa-62d1810bcc5d",
   "metadata": {},
   "source": [
    "### 2-2. 이진 탐색 트리 Binary Search Tree (BST)"
   ]
  },
  {
   "cell_type": "markdown",
   "id": "50c6ea96-b983-48ff-819c-0337ca81872f",
   "metadata": {},
   "source": [
    "* 이진 탐색 트리 (Binary Search Tree, BST): 왼쪽 노드는 해당 노드보다 작은 값, 오른쪽 노드는 해당 노드보다 큰 값을 저장 \n",
    "* 주요 용도: 데이터 검색(탐색)\n",
    "* 장점: 탐색 속도를 개선할 수 있음\n",
    "* 시간 복잡도:\n",
    "    * 보통은 O(logn) when 비선형의 일반적인 트리 \n",
    "    * 최악의 경우 O(n) when 선형의 변질 트리 "
   ]
  },
  {
   "cell_type": "markdown",
   "id": "5b6a0a67-b201-4ffe-b654-ef85c53dae25",
   "metadata": {},
   "source": [
    "<img src = \"data:image/png;base64,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\">"
   ]
  },
  {
   "cell_type": "markdown",
   "id": "485f24e9-d020-491e-a82f-579cd4c04302",
   "metadata": {},
   "source": [
    "### 2-3 AVL 트리 (Adelson-Velsky and Landis tree)"
   ]
  },
  {
   "cell_type": "markdown",
   "id": "d0389359-a68a-4415-b3df-6d3b9fb87e97",
   "metadata": {},
   "source": [
    "* AVL 트리: BST 선형 방지를 위한 스스로 균형을 잡는 트리\n",
    "* 특징: 두 자식 서브트리의 높이는 ALWAYS 최대 1만큼 차이\n",
    "    * 삽입, 삭제를 할 때마다 균형이 안 맞는 것을 보안하기 위해 트리 일부를 왼쪽 혹은 오른쪽으로 회전 시키며 균형을 잡음  \n",
    "* 시간 복잡도: O(logn)"
   ]
  },
  {
   "cell_type": "markdown",
   "id": "7472bedf-482c-4166-8b79-7705f136b2b4",
   "metadata": {},
   "source": [
    "<img src = \"https://encrypted-tbn0.gstatic.com/images?q=tbn:ANd9GcS9TTa2nYSu8ITauMp7y4ZI-sAeKHn8zTX0c-FM5_YO4m3Px93k_1XR113U5V27MdMEWSo&usqp=CAU\">"
   ]
  },
  {
   "cell_type": "markdown",
   "id": "aa90d5b7-cd97-4e73-86d1-669553fe43c7",
   "metadata": {},
   "source": [
    "### 2-4. 레드 블랙 트리 "
   ]
  },
  {
   "cell_type": "markdown",
   "id": "12454341-55f9-4a26-bec0-5fb1aa7f4206",
   "metadata": {},
   "source": [
    "* 레드 블랙 트리: 균형 이진 트리\n",
    "* nil node: child node가 없을때 nil node로 표기 (값이 있는 노드와 동등하게 취급하기 때문에 leaf node는 nil node)\n",
    "* 다섯가지 속성:\n",
    "    1. 모든 노드는 black / red\n",
    "    2. root node는 black  \n",
    "    3. 모든 nil node는 black \n",
    "    4. red 노드의 자신은 반드시 black = red node는 연속 불가\n",
    "    5. 임의 노드에서 그 자손 nil 까지 가는 경로들의 black의 수는 같음 (자기 자신 제외)\n",
    "* 특징:\n",
    "    * 5번 속성을 만족하고 두 자녀의 색이 같을 때, 부모와 자녀의 색을 바꿔도 5번 속성은 만족한다\n",
    "* 어떻게 균형을 잡는가?\n",
    "    * 삽입/삭제 시 4번과 5번을 위반\n",
    "    * 이를 해결하기 위해 구조 변경: BST와 동일 \n",
    "    * 삽입 후 RB 트리 위반 여부 확인\n",
    "    * 위반 시 재조정 \n",
    "* 시간 복잡도: O(logn)"
   ]
  },
  {
   "cell_type": "markdown",
   "id": "389f1151-4964-4b12-b309-50c67468d60d",
   "metadata": {},
   "source": [
    "<img src = \"https://upload.wikimedia.org/wikipedia/commons/thumb/6/66/Red-black_tree_example.svg/500px-Red-black_tree_example.svg.png\">"
   ]
  },
  {
   "cell_type": "markdown",
   "id": "2d856118-fc1b-433d-be33-b6e6a2a240e4",
   "metadata": {},
   "source": [
    "RB 트리 추가 동영상 자료: https://youtu.be/2MdsebfJOyM?si=McS6XXGK4jlUHnag"
   ]
  },
  {
   "cell_type": "code",
   "execution_count": null,
   "id": "da2447bb-3e72-4901-bcef-27d520f43868",
   "metadata": {},
   "outputs": [],
   "source": []
  }
 ],
 "metadata": {
  "kernelspec": {
   "display_name": "Python 3 (ipykernel)",
   "language": "python",
   "name": "python3"
  },
  "language_info": {
   "codemirror_mode": {
    "name": "ipython",
    "version": 3
   },
   "file_extension": ".py",
   "mimetype": "text/x-python",
   "name": "python",
   "nbconvert_exporter": "python",
   "pygments_lexer": "ipython3",
   "version": "3.10.11"
  }
 },
 "nbformat": 4,
 "nbformat_minor": 5
}
