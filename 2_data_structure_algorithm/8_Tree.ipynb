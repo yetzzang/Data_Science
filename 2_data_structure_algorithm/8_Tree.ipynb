{
 "cells": [
  {
   "cell_type": "markdown",
   "metadata": {
    "id": "dGXrodIYia1u"
   },
   "source": [
    "# 1. 트리 Tree"
   ]
  },
  {
   "cell_type": "markdown",
   "metadata": {
    "id": "Ji5AiK3fG67p"
   },
   "source": [
    "* 트리 : Node와 Branch를 이용해서 사이클을 이루지 않도록 구성한 데이터 구조 \n",
    "* 트리 중 이진 트리(Binary Tree) 형태의 구조로 탐색 알고리즘 구현을 위해 많이 사용 "
   ]
  },
  {
   "cell_type": "markdown",
   "metadata": {
    "id": "XgShROQFHcWr"
   },
   "source": [
    "# 2. 알아둘 용어"
   ]
  },
  {
   "cell_type": "markdown",
   "metadata": {
    "id": "1jlavhPEZYqH"
   },
   "source": [
    "* Node: 트리에서 데이터를 저장하는 기본 요소 (데이터와 다른 연결된 노드에 대한 Branch 정보를 포함)\n",
    "* Root Node: 트리 맨 위에 있는 노드\n",
    "* Level: 최상위 노드를 Level 0로 했을때 하위 Branch로 연결된 노드의 깊이를 나타냄 \n",
    "* Parent Node: 어떤 노드의 상위 레벨에 연결된 노드 \n",
    "* Child Node: 어떤 노드의 하위 레벨에 연결된 노드 \n",
    "* Leaf Node: child node가 하나도 없는 노드\n",
    "* Sibling Node: 동일한 Parent Node를 가진 노드 "
   ]
  },
  {
   "cell_type": "markdown",
   "metadata": {
    "id": "FdYkv4mDaBAe"
   },
   "source": [
    "# 3. 이진 트리와 이진 탐색 트리 (Binary Search Tree) "
   ]
  },
  {
   "cell_type": "markdown",
   "metadata": {
    "id": "vOmmuHYhbJvO"
   },
   "source": [
    "* 이진 트리: 노드의 최대 Branch가 2개인 트리\n",
    "* 이진 탐색 트리 (Binary Search Tree, BST): 이진 트리에 아래와 같은 조건이 추가된 트리 \n",
    "  * 왼쪽 노드는 해당 노드보다 작은 값, 오른쪽 노드는 해당 노드보다 큰 값을 저장 \n",
    "\n"
   ]
  },
  {
   "cell_type": "markdown",
   "metadata": {
    "id": "MIepxBUjb485"
   },
   "source": [
    "# 4. 자료 구조 이진 탐색 트리 (BST) 장점과 주요 용도"
   ]
  },
  {
   "cell_type": "markdown",
   "metadata": {
    "id": "FT77Ufa_b_L4"
   },
   "source": [
    "* 주요 용도: 데이터 검색(탐색)\n",
    "* 장점: 탐색 속도를 개선할 수 있음 "
   ]
  },
  {
   "cell_type": "markdown",
   "metadata": {
    "id": "xCmTGNbarKPm"
   },
   "source": [
    "# 5.  파이썬 객체지향 프로그래밍으로 이진 탐색 트리 구현 "
   ]
  },
  {
   "cell_type": "markdown",
   "metadata": {
    "id": "UJKp4YKvtoNn"
   },
   "source": [
    "### 5-1. 노드 클래스 만들기"
   ]
  },
  {
   "cell_type": "code",
   "execution_count": 6,
   "metadata": {
    "executionInfo": {
     "elapsed": 9,
     "status": "ok",
     "timestamp": 1684982212566,
     "user": {
      "displayName": "Yeji Kim",
      "userId": "13264010469112846795"
     },
     "user_tz": 420
    },
    "id": "K4xD5It-trEX"
   },
   "outputs": [],
   "source": [
    "class Node:\n",
    "  def __init__(self, value):\n",
    "    self.value = value\n",
    "    self.left = None\n",
    "    self.right = None"
   ]
  },
  {
   "cell_type": "markdown",
   "metadata": {
    "id": "q8i3VMPftypM"
   },
   "source": [
    "### 5-2. 이진 탐색 트리에 데이터 삽입 "
   ]
  },
  {
   "cell_type": "code",
   "execution_count": 13,
   "metadata": {
    "executionInfo": {
     "elapsed": 211,
     "status": "ok",
     "timestamp": 1684982290702,
     "user": {
      "displayName": "Yeji Kim",
      "userId": "13264010469112846795"
     },
     "user_tz": 420
    },
    "id": "D_3nuI8at6Kq"
   },
   "outputs": [],
   "source": [
    "# BST does not insert the sane data value; data value repetition not allowed in BST\n",
    "class NodeMgmt:\n",
    "  def __init__(self, head):\n",
    "    self.head = head\n",
    "  \n",
    "  def insert(self, value):\n",
    "    # cn = current node \n",
    "    self.cn = self.head \n",
    "    \n",
    "    # adding data value has not yet been inserted  \n",
    "    while True:\n",
    "      # if adding data value is smaller than current node \n",
    "      if value < self.cn.value:\n",
    "        # if left branch is non-empty\n",
    "        # current node is now becoming left branch node > then goes to while loop again   \n",
    "        if self.cn.left != None:\n",
    "          self.cn = self.cn.left        \n",
    "        # if left branch is empty\n",
    "        # add data value to left branch node \n",
    "        else:\n",
    "          self.cn.left = Node(value)\n",
    "          break \n",
    "      \n",
    "      # if adding data value is bigger than current node \n",
    "      else:\n",
    "        # if left branch is non-empty\n",
    "        # current node is now becoming right branch node > then goes to while loop again \n",
    "        if self.cn.right != None:\n",
    "          self.cn = self.cn.right\n",
    "        # if right branch is empty\n",
    "        # add data value to right branch node \n",
    "        else:\n",
    "          self.cn.right = Node(value)\n",
    "          break\n"
   ]
  },
  {
   "cell_type": "code",
   "execution_count": 15,
   "metadata": {
    "executionInfo": {
     "elapsed": 204,
     "status": "ok",
     "timestamp": 1684982337233,
     "user": {
      "displayName": "Yeji Kim",
      "userId": "13264010469112846795"
     },
     "user_tz": 420
    },
    "id": "R4kQBT8lwkpS"
   },
   "outputs": [],
   "source": [
    "head = Node(10)\n",
    "BST = NodeMgmt(head)\n",
    "BST.insert(4)\n",
    "BST.insert(7)\n",
    "BST.insert(2)\n",
    "BST.insert(15)"
   ]
  },
  {
   "cell_type": "markdown",
   "metadata": {
    "id": "FeZcSwHBwy93"
   },
   "source": [
    "### 5-3. BST (이진 탐색 트리의) Search (탐색)"
   ]
  },
  {
   "cell_type": "code",
   "execution_count": 22,
   "metadata": {
    "executionInfo": {
     "elapsed": 236,
     "status": "ok",
     "timestamp": 1684983444501,
     "user": {
      "displayName": "Yeji Kim",
      "userId": "13264010469112846795"
     },
     "user_tz": 420
    },
    "id": "qOFFBxc6xnFC"
   },
   "outputs": [],
   "source": [
    "class NodeMgmt:\n",
    "  def __init__(self, head):\n",
    "    self.head = head\n",
    "  \n",
    "  def insert(self, value):\n",
    "    self.cn = head \n",
    "\n",
    "    while True:\n",
    "      # if adding value is smaller than current node value  \n",
    "      if value < self.cn.value:\n",
    "        if self.cn.left != None:\n",
    "          self.cn = self.cn.left\n",
    "        else:\n",
    "          self.cn.left = Node(value)\n",
    "          break \n",
    "      # if adding value is bigger than current node value \n",
    "      else:\n",
    "        if self.cn.right != None:\n",
    "          self.cn = self.cn.right\n",
    "        else:\n",
    "          self.cn.right = Node(value)\n",
    "          break \n",
    "\n",
    "  def search(self, value):\n",
    "    self.cn = self.head \n",
    "    \n",
    "    # until current node exists \n",
    "    while self.cn:\n",
    "      # if searching value is equal to current node \n",
    "      if value == self.cn.value:\n",
    "        # return True\n",
    "        # when searching value found \n",
    "        return True\n",
    "      # if searching value is smaller than current node\n",
    "      # move down to left branch; current node is now becoming left branch node \n",
    "      elif value < self.cn.value:\n",
    "        self.cn = self.cn.left \n",
    "      # if searching value is bigger than current node\n",
    "      # move down to right branch; current node is now becoming right branch node\n",
    "      else:\n",
    "        self.cn = self.cn.right\n",
    "      \n",
    "      # searching value not found in the tree  \n",
    "    return False\n"
   ]
  },
  {
   "cell_type": "code",
   "execution_count": 23,
   "metadata": {
    "colab": {
     "base_uri": "https://localhost:8080/"
    },
    "executionInfo": {
     "elapsed": 226,
     "status": "ok",
     "timestamp": 1684983457615,
     "user": {
      "displayName": "Yeji Kim",
      "userId": "13264010469112846795"
     },
     "user_tz": 420
    },
    "id": "eT-BAZo0zy8o",
    "outputId": "ce766e93-5848-436f-af24-5a9914060dff"
   },
   "outputs": [
    {
     "data": {
      "text/plain": [
       "(True, True, False)"
      ]
     },
     "execution_count": 23,
     "metadata": {},
     "output_type": "execute_result"
    }
   ],
   "source": [
    "head = Node(10)\n",
    "BST = NodeMgmt(head)\n",
    "BST.insert(2)\n",
    "BST.insert(5)\n",
    "BST.insert(13)\n",
    "BST.insert(19)\n",
    "BST.insert(11)\n",
    "BST.insert(8)\n",
    "\n",
    "BST.search(8), BST.search(13), BST.search(7)"
   ]
  },
  {
   "cell_type": "markdown",
   "metadata": {
    "id": "6ueYUn3k0I9I"
   },
   "source": [
    "### 5-4. 이진 탐색 트리 삭제 "
   ]
  },
  {
   "cell_type": "markdown",
   "metadata": {
    "id": "c7x7JMWH18As"
   },
   "source": [
    "\n",
    "* 삭제할 노드 탐색 \n",
    "\n",
    "```\n",
    "searched = False\n",
    "self.cn = self.head\n",
    "self.p = self.head \n",
    "\n",
    "while self.cn:\n",
    "  if self.cn.value == value:\n",
    "    searched = True\n",
    "    break\n",
    "  elif value < self.cn.value:\n",
    "    self.p = self.cn\n",
    "    self.cn = self.cn.left \n",
    "  else:\n",
    "    self.p = self.cn\n",
    "    self.cn = self.cn.right \n",
    "\n",
    "if searched == False:\n",
    "  return False \n",
    "\n",
    "```"
   ]
  },
  {
   "cell_type": "markdown",
   "metadata": {
    "id": "vpilQzkN3sOG"
   },
   "source": [
    "* 삭제할 node가 Leaf Node인 경우\n",
    "  * leaf node: there is no left branch and right branch \n",
    "  * 삭제할 node의 parent node가 node를 가르키지 않게 함 \n",
    "  \n",
    "```\n",
    "if self.cn.left == None and self.cn.right == None:\n",
    "  if value < self.p.value:\n",
    "    self.p.left = None\n",
    "  else:\n",
    "    self.p.right = None\n",
    "```\n"
   ]
  },
  {
   "cell_type": "markdown",
   "metadata": {
    "id": "hI_6YMXq5gnH"
   },
   "source": [
    "* 삭제할 Node의 Child Node가 한개인 경우 \n",
    "  * 삭제할 node의 parent node가 삭제할 node의 child node를 가르키게 함 \n",
    "  * 만약 if문에서 and가 아닌 or을 쓰게 된다면, 자식이 두개가 있는 경우도 해당하게 됨. BUT in this case, algorithm is different from the case of two child nodes. Therefore, we should use if and elif문 to give specific condition of one child node case \n",
    "\n",
    "```\n",
    "# when current node only has left child node\n",
    "if self.cn.left != None and self.cn.right == None:\n",
    "  # if current node is smaller than parent node \n",
    "  # link parent node to child node \n",
    "  if value < self.p.value:\n",
    "    self.p.left = self.cn.left\n",
    "  # if current node is bigger than parent node \n",
    "  else:\n",
    "    self.p.right = self.cn.left \n",
    "\n",
    "# when current node only has right child node \n",
    "elif self.cn.left == None and self.cn.right != None: \n",
    "  # if current node is smaller than parent node \n",
    "  # link parent node to child node \n",
    "  if value < self.p.value:\n",
    "    self.p.left = self.cn.right\n",
    "  # if current node is bigger than parent node \n",
    "  else:\n",
    "    self.p.right = self.cn.right \n",
    "\n",
    "```"
   ]
  },
  {
   "cell_type": "markdown",
   "metadata": {
    "id": "wfgTtl8s9H31"
   },
   "source": [
    "* 삭제 할 node의 child node가 두개인 경우 \n",
    "  * 삭제할 Node의 오른쪽 자식 중, 가장 작은 값을 삭제할 node의 parent node가 가리키도록 함 \n",
    "  * 삭제할 Node가 parent node 왼쪽에 있을때 \n",
    "    * 삭제할 node의 오른쪽 자식 중, 가장 작은 값을 가진 node의 child node가 없을때\n",
    "    * 삭제할 node의 오른쪽 자식 중, 가장 작은 값을 가진 Node의 오른쪽 child node가 있을때 \n",
    "  * 삭제할 Node가 parent node 오른쪽에 있을때 \n",
    "   * 삭제할 node의 오른쪽 자식 중, 가장 작은 값을 가진 node의 child node가 없을때\n",
    "    * 삭제할 node의 오른쪽 자식 중, 가장 작은 값을 가진 Node의 오른쪽 child node가 있을 때\n",
    "\n",
    "> Note: 가장 작은 값을 가진 Node의 Child Node가 왼쪽에 있을 경우는 없음. 왼쪽 Node가 있다는 것은 해당 node보다 더 작은 값을 가진 node가 있다는 뜻 \n",
    "\n",
    "> Note: There is no chance that the smallest node has left child node. If there is, it means there is smaller node.  \n",
    "\n",
    "```\n",
    "```"
   ]
  },
  {
   "cell_type": "markdown",
   "metadata": {
    "id": "_e0JbJfB_ixD"
   },
   "source": [
    "* child node가 두개인 node를 삭제하는 코드 구현 \n",
    "  * 삭제할 node의 오른쪽 자식 선택 \n",
    "  * 오른쪽 자식의 가장 왼쪽에 있는 node를 선택 (오른쪽 자식 중 가장 작은 값)\n",
    "  * 삭제할 node의 parent node가 가장 작은 값의 node를 가리키게 함; 해당 node를 삭제할 node의 parent node의 왼쪽 branch가 가리키게 함\n",
    "  * 끌어올려진 (삭제할 node의 오른쪽 child node 중에 가장 작은 값) node가 원래의 왼쪽 node를 가리키게 함; 해당 node의 왼쪽 branch가 삭제할 node의 왼쪽 child node를 가리키게 함\n",
    "  * 끌어올려진 node가 원래의 오른쪽 branch를 가리키게 함; 해당 node의 오른쪽 branch가 삭제할 node의 오른쪽 child node를 가리키게 함  \n",
    "  * BUT 만약 끌어올려진 node가 오른쪽 child node를 가지고 있었을 경우, 끌어올려진 node의 원래 parent node가 끌어올려진 node의 child node를 왼쪽으로 가르키게 함 \n",
    "\n",
    "```\n",
    "# when there is two child nodes of deleting node \n",
    "if self.cn.left != None and self.cn.right != None:\n",
    "  # if deleting value is smaller than parent node -> goes to left branch \n",
    "  if value < self.p.value:\n",
    "    # ch_n = change_node\n",
    "    # ch_p = change_node_parent \n",
    "    self.ch_n = self.cn.right \n",
    "    self.ch_p = self.cn.right\n",
    "\n",
    "    # until there is no more left child node\n",
    "    # finding the smallest left child node among the right child nodes of the deleting node value (let's call SLCN) \n",
    "      # self.ch_n is SLCN after while \n",
    "      # self.ch_p is SLCN's parent node \n",
    "    while self.ch_n.left != None:\n",
    "      self.ch_p = self.ch_n\n",
    "      self.ch_n = self.ch_n.left \n",
    "    \n",
    "    # if there is right child node of SLCN\n",
    "    if self.ch_n.right != None:\n",
    "      # link SLCN's right child node to SLCN's original parent node in left branch\n",
    "      # at this point, SLCN has no linkage to any nodes    \n",
    "      self.ch_p.left = self.ch_n.right \n",
    "    else: # if there is no right child node of SLCN\n",
    "      # nothing to do \n",
    "      self.ch_p.left = None\n",
    "\n",
    "    # giving position/linkage to SLCN\n",
    "    # deleting value location, which is deleting value's parent node left branch, is now becoming SLCN\n",
    "    self.p.left = self.ch_n\n",
    "\n",
    "    # link deleting value's right child node and SLCN in SLCN's new positioned right child node \n",
    "    self.ch_n.right = self.cn.right\n",
    "\n",
    "    # link deleting value's left child node and SLCN in SLCN's new postioned left child node \n",
    "    self.ch_n.left = self.cn.left\n",
    "\n",
    "  # if deleting value is bigger than its parent node -> goes to right branch\n",
    "    # the rest of code is almost repeating from above\n",
    "  else:\n",
    "    self.ch_n = self.cn.right\n",
    "    self.ch_p = self.cn.right \n",
    "\n",
    "    while self.ch_n.left != None:\n",
    "      self.ch_p = self.ch_n\n",
    "      self.ch_n = self.ch_n.left \n",
    "    \n",
    "    if self.ch_n.right != None:\n",
    "      self.ch_p.left = self.ch_n.right \n",
    "    else:\n",
    "      self.ch_n.left = None\n",
    "    \n",
    "    self.p.right = self.ch_n\n",
    "    self.ch_n.right = self.cn.right\n",
    "    self.ch_n.left = self.cn.left \n",
    "\n",
    "``` \n"
   ]
  },
  {
   "cell_type": "markdown",
   "metadata": {
    "id": "inYJI23cH5O3"
   },
   "source": [
    "### 5-5. 전체 코드 구현 "
   ]
  },
  {
   "cell_type": "code",
   "execution_count": 1,
   "metadata": {
    "executionInfo": {
     "elapsed": 231,
     "status": "ok",
     "timestamp": 1685007408161,
     "user": {
      "displayName": "Yeji Kim",
      "userId": "13264010469112846795"
     },
     "user_tz": 420
    },
    "id": "Fgm4buQMRCjD"
   },
   "outputs": [],
   "source": [
    "class Node:\n",
    "  def __init__(self, value):\n",
    "    self.value = value\n",
    "    self.left = None\n",
    "    self.right = None"
   ]
  },
  {
   "cell_type": "code",
   "execution_count": 6,
   "metadata": {
    "executionInfo": {
     "elapsed": 1109,
     "status": "ok",
     "timestamp": 1685008982330,
     "user": {
      "displayName": "Yeji Kim",
      "userId": "13264010469112846795"
     },
     "user_tz": 420
    },
    "id": "lHXWv8WQQLDR"
   },
   "outputs": [],
   "source": [
    "class NodeMgmt:\n",
    "  def __init__(self, head):\n",
    "    self.head = head\n",
    "  \n",
    "  def insert(self, value):\n",
    "    # cn = current node \n",
    "    self.cn = self.head \n",
    "    \n",
    "    # adding data value has not yet been inserted  \n",
    "    while True:\n",
    "      # if adding data value is smaller than current node \n",
    "      if value < self.cn.value:\n",
    "        # if left branch is non-empty\n",
    "        if self.cn.left != None:\n",
    "          self.cn = self.cn.left               \n",
    "        else: # if left branch is empty \n",
    "          self.cn.left = Node(value)\n",
    "          break \n",
    "      \n",
    "      # if adding data value is bigger than current node \n",
    "      else:\n",
    "        # if left branch is non-empty\n",
    "        if self.cn.right != None:\n",
    "          self.cn = self.cn.right    \n",
    "        else: # if right branch is empty\n",
    "          self.cn.right = Node(value)\n",
    "          break\n",
    "\n",
    "  def search(self, value):\n",
    "    self.cn = self.head\n",
    "    while self.cn:\n",
    "      if self.cn.value == value:\n",
    "        return True\n",
    "      elif value < self.cn.value:\n",
    "        self.cn = self.cn.left\n",
    "      else:\n",
    "        self.cn = self.cn.right \n",
    "    return False\n",
    "  \n",
    "  def delete(self, value):\n",
    "\n",
    "    # searching to determine if the deleting value exists in tree \n",
    "    searched = False\n",
    "    self.cn = self.head\n",
    "    self.p = self.head \n",
    "\n",
    "    while self.cn:\n",
    "      if self.cn.value == value:\n",
    "        searched = True\n",
    "        break\n",
    "      elif value < self.cn.value:\n",
    "        self.p = self.cn\n",
    "        self.cn = self.cn.left \n",
    "      else:\n",
    "        self.p = self.cn\n",
    "        self.cn = self.cn.right \n",
    "\n",
    "    if searched == False:\n",
    "      return False \n",
    "\n",
    "\n",
    "    # if deleting value is leaf node \n",
    "    if self.cn.left == None and self.cn.right == None:\n",
    "      if value < self.p.value:\n",
    "        self.p.left = None\n",
    "      else:\n",
    "        self.p.right = None\n",
    "\n",
    "\n",
    "    # when deleting value node only has left child node\n",
    "    if self.cn.left != None and self.cn.right == None: \n",
    "      # if current node is smaller than parent node    \n",
    "      if value < self.p.value: \n",
    "        self.p.left = self.cn.left      \n",
    "      else: # if current node is bigger than parent node\n",
    "        self.p.right = self.cn.left \n",
    "\n",
    "    # when deletng value node only has right child node \n",
    "    elif self.cn.left == None and self.cn.right != None:  \n",
    "      if value < self.p.value:\n",
    "        self.p.left = self.cn.right\n",
    "      else: \n",
    "        self.p.right = self.cn.right \n",
    "\n",
    "\n",
    "    # when there is two child nodes of deleting node \n",
    "    if self.cn.left != None and self.cn.right != None:\n",
    "      # if deleting value is smaller than parent node -> goes to left branch \n",
    "      if value < self.p.value:\n",
    "        # ch_n = change_node\n",
    "        # ch_p = change_node_parent \n",
    "        self.ch_n = self.cn.right \n",
    "        self.ch_p = self.cn.right\n",
    "\n",
    "        while self.ch_n.left != None:\n",
    "          self.ch_p = self.ch_n\n",
    "          self.ch_n = self.ch_n.left \n",
    "        \n",
    "        # if there is right child node of SLCN\n",
    "        if self.ch_n.right != None:    \n",
    "          self.ch_p.left = self.ch_n.right \n",
    "        else: # if there is no right child node of SLCN \n",
    "          self.ch_p.left = None\n",
    "\n",
    "        self.p.left = self.ch_n\n",
    "        self.ch_n.right = self.cn.right\n",
    "        self.ch_n.left = self.cn.left\n",
    "\n",
    "      # if deleting value is bigger than its parent node -> goes to right branch\n",
    "      else:\n",
    "        self.ch_n = self.cn.right\n",
    "        self.ch_p = self.cn.right \n",
    "\n",
    "        while self.ch_n.left != None:\n",
    "          self.ch_p = self.ch_n\n",
    "          self.ch_n = self.ch_n.left \n",
    "        \n",
    "        if self.ch_n.right != None:\n",
    "          self.ch_p.left = self.ch_n.right \n",
    "        else:\n",
    "          self.ch_n.left = None\n",
    "        \n",
    "        self.p.right = self.ch_n\n",
    "        self.ch_n.right = self.cn.right\n",
    "        self.ch_n.left = self.cn.left  \n"
   ]
  },
  {
   "cell_type": "code",
   "execution_count": 9,
   "metadata": {
    "colab": {
     "base_uri": "https://localhost:8080/"
    },
    "executionInfo": {
     "elapsed": 260,
     "status": "ok",
     "timestamp": 1685009128214,
     "user": {
      "displayName": "Yeji Kim",
      "userId": "13264010469112846795"
     },
     "user_tz": 420
    },
    "id": "qY1fB1DYUALS",
    "outputId": "f89e0b6a-eefe-467d-dd14-8735b082627c"
   },
   "outputs": [
    {
     "name": "stdout",
     "output_type": "stream",
     "text": [
      "{512, 5, 519, 521, 528, 531, 19, 22, 33, 42, 555, 557, 559, 49, 577, 587, 89, 99, 104, 108, 634, 635, 132, 655, 144, 666, 669, 161, 678, 681, 170, 173, 686, 688, 177, 189, 192, 193, 201, 715, 719, 218, 732, 740, 745, 234, 236, 239, 760, 255, 272, 279, 282, 795, 794, 800, 290, 813, 302, 814, 303, 821, 310, 823, 319, 321, 835, 324, 323, 328, 840, 340, 858, 863, 867, 869, 874, 875, 884, 911, 409, 925, 418, 428, 940, 435, 438, 950, 952, 961, 462, 976, 983, 984, 474, 482, 997, 487, 499, 502}\n",
      "{482, 99, 323, 521, 715, 108, 555, 813, 688, 255}\n",
      "Deletion Successed:  482\n",
      "Deletion Successed:  99\n",
      "Deletion Successed:  323\n",
      "Deletion Successed:  521\n",
      "Deletion Successed:  715\n",
      "Deletion Successed:  108\n",
      "Deletion Successed:  555\n",
      "Deletion Successed:  813\n",
      "Deletion Successed:  688\n",
      "Deletion Successed:  255\n"
     ]
    }
   ],
   "source": [
    "# 코드 테스트\n",
    "import random\n",
    "\n",
    "bst_nums = set()\n",
    "while len(bst_nums) != 100:\n",
    "    val = random.randint(0, 999)\n",
    "    if val != 500:\n",
    "        bst_nums.add(val)\n",
    "print(bst_nums)\n",
    "\n",
    "head = Node(500)\n",
    "binary_tree = NodeMgmt(head)\n",
    "for num in bst_nums:\n",
    "    binary_tree.insert(num)\n",
    "\n",
    "for num in bst_nums:\n",
    "    if binary_tree.search(num) == False:\n",
    "        print('Search Failed: ', num)\n",
    "\n",
    "delete_nums = set()\n",
    "bst_nums = list(bst_nums)\n",
    "while len(delete_nums) != 10:\n",
    "    delete_nums.add(bst_nums[random.randint(0, 99)])\n",
    "\n",
    "print(delete_nums)\n",
    "\n",
    "for del_num in delete_nums:\n",
    "    if binary_tree.delete(del_num) == False:\n",
    "        print('Deletion Failed: ', del_num)\n",
    "    else:\n",
    "        print('Deletion Successed: ', del_num)"
   ]
  },
  {
   "cell_type": "code",
   "execution_count": null,
   "metadata": {
    "id": "OmnylmIZVNEW"
   },
   "outputs": [],
   "source": []
  }
 ],
 "metadata": {
  "colab": {
   "authorship_tag": "ABX9TyPg9GiCAmEZPduimRn9Jq1F",
   "provenance": []
  },
  "kernelspec": {
   "display_name": "Python 3 (ipykernel)",
   "language": "python",
   "name": "python3"
  },
  "language_info": {
   "codemirror_mode": {
    "name": "ipython",
    "version": 3
   },
   "file_extension": ".py",
   "mimetype": "text/x-python",
   "name": "python",
   "nbconvert_exporter": "python",
   "pygments_lexer": "ipython3",
   "version": "3.10.11"
  }
 },
 "nbformat": 4,
 "nbformat_minor": 4
}
