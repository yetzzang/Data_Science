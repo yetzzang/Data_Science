{
 "cells": [
  {
   "cell_type": "markdown",
   "metadata": {
    "id": "zmoWfXPFxUdy"
   },
   "source": [
    "# 1. 스택 Stack "
   ]
  },
  {
   "cell_type": "markdown",
   "metadata": {
    "id": "KyTKNdBm5TbO"
   },
   "source": [
    "* 데이터를 제한적으로 접근할 수 있는 구조 \n",
    "* 한쪽 끝에서만 자료를 넣거나 뺄 수 있는 구조 \n",
    "* 가장 나중에 쌓은 데이터를 가장 먼저 빼낼 수 있는 구조 \n",
    "* LIFO (Last In First Out) : 추가를 하면 가장 앞에 들어가고, 빼낼때는 가장 앞에 것이 빠짐 "
   ]
  },
  {
   "cell_type": "markdown",
   "metadata": {
    "id": "So9LEUL25lVG"
   },
   "source": [
    "### 1-1. 스택의 구조 \n",
    "* 스택은 LIFO 또는 FILO 데이터 관리 방식\n",
    "* 스택의 활용 > 컴퓨터 내부의 프로세스 구조의 함수 동작 방식 \n",
    "* 기능():\n",
    "  * push() :  데이터를 스택에 쌓기 ]\n",
    "  * pop() : 데이터를 스택에서 꺼내기 (마지막꺼)"
   ]
  },
  {
   "cell_type": "markdown",
   "metadata": {
    "id": "rL_OPEYg596j"
   },
   "source": [
    "###1-2, 스택의 장단점\n",
    "* 장점: \n",
    "  * 구조가 단순해서 구현하기 쉬움\n",
    "  * 데이터 저장/읽기 속도가 빠름 \n",
    "* 단점:\n",
    "  * 데이터 최대 갯수를 미리 정해야 함 (배열로 구현하기 때문) (피이썬의 경우 재귀함수는 1000번까지만 가능하다)\n",
    "    * 재귀 함수란 자기 자신을 부르는 함수\n",
    "  * 저장 공간의 낭비가 발생할 수 있음 (미리 최대 갯수만큼 저장 공간을 미리 확보해야 함)\n",
    "\n",
    "> 스택은 단순하고 빠른 성능을 위해 사용하므로 보통 배열 구조를 활용해서 구현하는 것이 일반적  "
   ]
  },
  {
   "cell_type": "code",
   "execution_count": 2,
   "metadata": {
    "colab": {
     "base_uri": "https://localhost:8080/"
    },
    "executionInfo": {
     "elapsed": 585,
     "status": "ok",
     "timestamp": 1660541918599,
     "user": {
      "displayName": "Yeji Kim",
      "userId": "13264010469112846795"
     },
     "user_tz": 420
    },
    "id": "OS4VZaip8T3G",
    "outputId": "29df3883-42d9-46ae-dcc7-e43f9ef3a83f"
   },
   "outputs": [
    {
     "name": "stdout",
     "output_type": "stream",
     "text": [
      "[]\n",
      "[2, 10, 5]\n",
      "5\n",
      "[2, 10]\n",
      "[2]\n",
      "10\n"
     ]
    }
   ],
   "source": [
    "# 파이썬 리스트 기능에서 제공하는 메소드로 스택 사용하기 \n",
    "data_stack = list()\n",
    "print(data_stack)\n",
    "\n",
    "data_stack.append(2)\n",
    "data_stack.append(10)\n",
    "data_stack.append(5)\n",
    "print(data_stack)\n",
    "\n",
    "print(data_stack.pop()) # pop한 variable을 return함과 동시에 스택에서 delete \n",
    "print(data_stack)\n",
    "\n",
    "temp = data_stack.pop()\n",
    "print(data_stack)\n",
    "print(temp)"
   ]
  },
  {
   "cell_type": "markdown",
   "metadata": {
    "id": "ap4YdAQC9N0v"
   },
   "source": [
    "###문제\n",
    "리스트 변수로 스택을 다루는 pop과 push 기능을 직접 구현해보자 \n",
    "(단, 리스트의 pop 사용하지 않음)"
   ]
  },
  {
   "cell_type": "code",
   "execution_count": null,
   "metadata": {
    "executionInfo": {
     "elapsed": 58,
     "status": "aborted",
     "timestamp": 1660541901095,
     "user": {
      "displayName": "Yeji Kim",
      "userId": "13264010469112846795"
     },
     "user_tz": 420
    },
    "id": "_sI3NByg9knN"
   },
   "outputs": [],
   "source": [
    "stack_list = list()\n",
    "\n",
    "def push(data):\n",
    "  stack_list.append(data)\n",
    "\n",
    "def pop():\n",
    "  while True:\n",
    "    for i in stack_list:\n",
    "      if (len(i)) == 0: #공백이 있을 경우는??\n",
    "        return (i-1)\n",
    "        del stack_list[i-1]\n",
    "\n",
    "# 공백의 데이터가 있을 수도 있음. 너무 복잡함 "
   ]
  },
  {
   "cell_type": "code",
   "execution_count": 3,
   "metadata": {
    "executionInfo": {
     "elapsed": 427,
     "status": "ok",
     "timestamp": 1660541927248,
     "user": {
      "displayName": "Yeji Kim",
      "userId": "13264010469112846795"
     },
     "user_tz": 420
    },
    "id": "fniqM7qe8e-D"
   },
   "outputs": [],
   "source": [
    "stack_list = list()\n",
    "\n",
    "def push(data):\n",
    "  stack_list.append(data)\n",
    "\n",
    "def pop():\n",
    "  data = stack_list[-1] # 맨 마지막 것 \n",
    "  del stack_list[-1]\n",
    "  return data "
   ]
  },
  {
   "cell_type": "code",
   "execution_count": 5,
   "metadata": {
    "colab": {
     "base_uri": "https://localhost:8080/"
    },
    "executionInfo": {
     "elapsed": 379,
     "status": "ok",
     "timestamp": 1660541938294,
     "user": {
      "displayName": "Yeji Kim",
      "userId": "13264010469112846795"
     },
     "user_tz": 420
    },
    "id": "pUaUYWQN_7ay",
    "outputId": "9d1b5350-3497-4992-a072-94106c62a754"
   },
   "outputs": [
    {
     "name": "stdout",
     "output_type": "stream",
     "text": [
      "[0, 1, 2, 3, 4, 5, 6, 7, 8, 9]\n",
      "8\n",
      "[0, 1, 2, 3, 4, 5, 6, 7]\n"
     ]
    }
   ],
   "source": [
    "for index in range(10):\n",
    "  push(index)\n",
    "\n",
    "print(stack_list)\n",
    "pop()\n",
    "print(pop())\n",
    "print(stack_list)"
   ]
  }
 ],
 "metadata": {
  "colab": {
   "authorship_tag": "ABX9TyNijkcSkBh6Wl3Gx9DjBu4T",
   "name": "4_스택.ipynb",
   "provenance": []
  },
  "kernelspec": {
   "display_name": "Python 3 (ipykernel)",
   "language": "python",
   "name": "python3"
  },
  "language_info": {
   "codemirror_mode": {
    "name": "ipython",
    "version": 3
   },
   "file_extension": ".py",
   "mimetype": "text/x-python",
   "name": "python",
   "nbconvert_exporter": "python",
   "pygments_lexer": "ipython3",
   "version": "3.10.11"
  }
 },
 "nbformat": 4,
 "nbformat_minor": 4
}
