{
 "cells": [
  {
   "cell_type": "markdown",
   "metadata": {
    "id": "EClwC_2guBhg"
   },
   "source": [
    "#1. 해쉬 테이블 Hash Table"
   ]
  },
  {
   "cell_type": "markdown",
   "metadata": {
    "id": "fR-LTi26vRCT"
   },
   "source": [
    "* 키(key)에 데이터(value)를 저장하는 구조\n",
    "* 파이썬에서는 딕셔너리(dick)타입이 해쉬 테이블의 예\n",
    "* key를 통해서 데이터를 바로 찾을 수 있으므로 검색 속도가 빠름 \n",
    "* 보통 배열로 미리 Hash Table 사이즈만큼 생성 후에 사용 \n",
    "* 파이썬에서는 해쉬를 별도 구현할 필요가 없음 "
   ]
  },
  {
   "cell_type": "markdown",
   "metadata": {
    "id": "7VrVeGRXv7cY"
   },
   "source": [
    "#2. 알아둘 용어"
   ]
  },
  {
   "cell_type": "markdown",
   "metadata": {
    "id": "5JMrBjB8v9PD"
   },
   "source": [
    "* 해쉬 Hash: 임의 값을 고정 길이로 변환하는 것 \n",
    "* 해쉬 테이블 Hash Table: 키 값의 연산에 의해 직접 접근이 가능한 데이터 구조 \n",
    "* 해쉬 함수 Hashing Function: key에 대해 산술 연산을 이용해 데이터 위치를 찾을 수 있는 함수 \n",
    "* 슬롯 Slot: 한개의 데이터를 저장할 수 있는 공간 \n",
    "* 노트: 해쉬 함수를 통해 데이터의 인덱스가 나옴, 그러면 키값의 데이터가 그 인덱스로 들어가서 저장; 충돌이 되면 저장이 안됨 (나중에 나옴)"
   ]
  },
  {
   "cell_type": "markdown",
   "metadata": {
    "id": "2FBBA7bDyIja"
   },
   "source": [
    "#3. 간단한 해쉬 예시"
   ]
  },
  {
   "cell_type": "markdown",
   "metadata": {
    "id": "nPmaALCFyv2E"
   },
   "source": [
    "###3-1. Hash Table 만들기"
   ]
  },
  {
   "cell_type": "code",
   "execution_count": 32,
   "metadata": {
    "colab": {
     "base_uri": "https://localhost:8080/"
    },
    "executionInfo": {
     "elapsed": 213,
     "status": "ok",
     "timestamp": 1664317260596,
     "user": {
      "displayName": "Yeji Kim",
      "userId": "13264010469112846795"
     },
     "user_tz": 420
    },
    "id": "vcqku70DyzoV",
    "outputId": "1951c696-5e8c-4a3e-b285-1de159d5dd3a"
   },
   "outputs": [
    {
     "name": "stdout",
     "output_type": "stream",
     "text": [
      "[0, 0, 0, 0, 0, 0, 0, 0, 0, 0]\n"
     ]
    }
   ],
   "source": [
    "hash_table = list([0 for i in range(10)])\n",
    "print(hash_table)"
   ]
  },
  {
   "cell_type": "markdown",
   "metadata": {
    "id": "6M5D9TqEv2Ts"
   },
   "source": [
    "###3-2. Hashing Function  만들기\n",
    "* 해쉬 함수는 다양하게 생성할 수 있으며, 가장 간단한 방법으로 Division (나누기를 통한 나머지 값을 사용하는 기법) 사용함 "
   ]
  },
  {
   "cell_type": "code",
   "execution_count": 33,
   "metadata": {
    "executionInfo": {
     "elapsed": 319,
     "status": "ok",
     "timestamp": 1664317261192,
     "user": {
      "displayName": "Yeji Kim",
      "userId": "13264010469112846795"
     },
     "user_tz": 420
    },
    "id": "ILuuSmeJzbq5"
   },
   "outputs": [],
   "source": [
    "def hash_func(key):\n",
    "  return key % 5"
   ]
  },
  {
   "cell_type": "markdown",
   "metadata": {
    "id": "ut4itQ_qzRVX"
   },
   "source": [
    "### 3-3. 해쉬 테이블에 저장하기\n",
    "* 데이터에 따라 필요시 key 생성 방법 정의가 필요함 "
   ]
  },
  {
   "cell_type": "code",
   "execution_count": 34,
   "metadata": {
    "colab": {
     "base_uri": "https://localhost:8080/"
    },
    "executionInfo": {
     "elapsed": 75,
     "status": "ok",
     "timestamp": 1664317261194,
     "user": {
      "displayName": "Yeji Kim",
      "userId": "13264010469112846795"
     },
     "user_tz": 420
    },
    "id": "af8zZ3i-zntB",
    "outputId": "8f64690f-3716-4358-d305-067bb64766e3"
   },
   "outputs": [
    {
     "name": "stdout",
     "output_type": "stream",
     "text": [
      "97 98 111 109\n"
     ]
    }
   ],
   "source": [
    "data1 = 'apple'\n",
    "data2 = 'banana'\n",
    "data3 = 'orange'\n",
    "data4 = 'melon'\n",
    "\n",
    "# ord() : 문자의 ASCII(아스키) 코드를 반환\n",
    "print(ord(data1[0]), ord(data2[0]), ord(data3[0]), ord(data4[0]))"
   ]
  },
  {
   "cell_type": "code",
   "execution_count": 35,
   "metadata": {
    "colab": {
     "base_uri": "https://localhost:8080/"
    },
    "executionInfo": {
     "elapsed": 71,
     "status": "ok",
     "timestamp": 1664317261196,
     "user": {
      "displayName": "Yeji Kim",
      "userId": "13264010469112846795"
     },
     "user_tz": 420
    },
    "id": "m73KzF9u0bG9",
    "outputId": "9207e654-6147-4a86-ff0c-9d923aa72887"
   },
   "outputs": [
    {
     "name": "stdout",
     "output_type": "stream",
     "text": [
      "2\n",
      "3\n",
      "1\n",
      "4\n"
     ]
    }
   ],
   "source": [
    "print(hash_func(ord(data1[0])))\n",
    "print(hash_func(ord(data2[0])))\n",
    "print(hash_func(ord(data3[0])))\n",
    "print(hash_func(ord(data4[0])))"
   ]
  },
  {
   "cell_type": "code",
   "execution_count": 36,
   "metadata": {
    "executionInfo": {
     "elapsed": 64,
     "status": "ok",
     "timestamp": 1664317261197,
     "user": {
      "displayName": "Yeji Kim",
      "userId": "13264010469112846795"
     },
     "user_tz": 420
    },
    "id": "_AU2ofyr0xd-"
   },
   "outputs": [],
   "source": [
    "def storage_data(data, value):  # apple\n",
    "  key = ord(data[0])  # 2\n",
    "  hash_address = hash_func(key)  # 2\n",
    "  hash_table[hash_address] = value \n"
   ]
  },
  {
   "cell_type": "code",
   "execution_count": 37,
   "metadata": {
    "executionInfo": {
     "elapsed": 64,
     "status": "ok",
     "timestamp": 1664317261199,
     "user": {
      "displayName": "Yeji Kim",
      "userId": "13264010469112846795"
     },
     "user_tz": 420
    },
    "id": "pKEAkInU1Fat"
   },
   "outputs": [],
   "source": [
    "storage_data('apple', '010-1111-1111')"
   ]
  },
  {
   "cell_type": "code",
   "execution_count": 38,
   "metadata": {
    "colab": {
     "base_uri": "https://localhost:8080/"
    },
    "executionInfo": {
     "elapsed": 65,
     "status": "ok",
     "timestamp": 1664317261201,
     "user": {
      "displayName": "Yeji Kim",
      "userId": "13264010469112846795"
     },
     "user_tz": 420
    },
    "id": "AOpKhIDT1fjk",
    "outputId": "4214b3a1-104b-48bc-f1ae-057f877622e2"
   },
   "outputs": [
    {
     "data": {
      "text/plain": [
       "[0, 0, '010-1111-1111', 0, 0, 0, 0, 0, 0, 0]"
      ]
     },
     "execution_count": 38,
     "metadata": {},
     "output_type": "execute_result"
    }
   ],
   "source": [
    "hash_table"
   ]
  },
  {
   "cell_type": "code",
   "execution_count": 39,
   "metadata": {
    "executionInfo": {
     "elapsed": 61,
     "status": "ok",
     "timestamp": 1664317261204,
     "user": {
      "displayName": "Yeji Kim",
      "userId": "13264010469112846795"
     },
     "user_tz": 420
    },
    "id": "1HlFREsn1j3W"
   },
   "outputs": [],
   "source": [
    "storage_data('banana', '010-2222-2222')\n",
    "storage_data('orange', '010-3333-3333')\n",
    "storage_data('melon', '010-4444-4444')"
   ]
  },
  {
   "cell_type": "code",
   "execution_count": 40,
   "metadata": {
    "colab": {
     "base_uri": "https://localhost:8080/"
    },
    "executionInfo": {
     "elapsed": 62,
     "status": "ok",
     "timestamp": 1664317261206,
     "user": {
      "displayName": "Yeji Kim",
      "userId": "13264010469112846795"
     },
     "user_tz": 420
    },
    "id": "Mwg2k48G1txu",
    "outputId": "10127945-d682-4726-f8ba-19a50e8ce61c"
   },
   "outputs": [
    {
     "data": {
      "text/plain": [
       "[0,\n",
       " '010-3333-3333',\n",
       " '010-1111-1111',\n",
       " '010-2222-2222',\n",
       " '010-4444-4444',\n",
       " 0,\n",
       " 0,\n",
       " 0,\n",
       " 0,\n",
       " 0]"
      ]
     },
     "execution_count": 40,
     "metadata": {},
     "output_type": "execute_result"
    }
   ],
   "source": [
    "hash_table"
   ]
  },
  {
   "cell_type": "code",
   "execution_count": 41,
   "metadata": {
    "executionInfo": {
     "elapsed": 56,
     "status": "ok",
     "timestamp": 1664317261208,
     "user": {
      "displayName": "Yeji Kim",
      "userId": "13264010469112846795"
     },
     "user_tz": 420
    },
    "id": "Xi7H8PPk1vyJ"
   },
   "outputs": [],
   "source": [
    "def get_data(data):\n",
    "  key = ord(data[0])\n",
    "  hash_address = hash_func(key)\n",
    "  return hash_table[hash_address]"
   ]
  },
  {
   "cell_type": "code",
   "execution_count": 42,
   "metadata": {
    "colab": {
     "base_uri": "https://localhost:8080/",
     "height": 35
    },
    "executionInfo": {
     "elapsed": 57,
     "status": "ok",
     "timestamp": 1664317261210,
     "user": {
      "displayName": "Yeji Kim",
      "userId": "13264010469112846795"
     },
     "user_tz": 420
    },
    "id": "MMhtjsdO14ME",
    "outputId": "09fa8c57-1ea5-4db9-b937-fb76ace3f7ed"
   },
   "outputs": [
    {
     "data": {
      "application/vnd.google.colaboratory.intrinsic+json": {
       "type": "string"
      },
      "text/plain": [
       "'010-1111-1111'"
      ]
     },
     "execution_count": 42,
     "metadata": {},
     "output_type": "execute_result"
    }
   ],
   "source": [
    "get_data('apple')"
   ]
  },
  {
   "cell_type": "code",
   "execution_count": 43,
   "metadata": {
    "colab": {
     "base_uri": "https://localhost:8080/",
     "height": 35
    },
    "executionInfo": {
     "elapsed": 56,
     "status": "ok",
     "timestamp": 1664317261213,
     "user": {
      "displayName": "Yeji Kim",
      "userId": "13264010469112846795"
     },
     "user_tz": 420
    },
    "id": "3oJaFNsm2eEw",
    "outputId": "6f4a76bd-d206-4d6f-b366-e823761583e1"
   },
   "outputs": [
    {
     "data": {
      "application/vnd.google.colaboratory.intrinsic+json": {
       "type": "string"
      },
      "text/plain": [
       "'010-4444-4444'"
      ]
     },
     "execution_count": 43,
     "metadata": {},
     "output_type": "execute_result"
    }
   ],
   "source": [
    "get_data('melon')"
   ]
  },
  {
   "cell_type": "markdown",
   "metadata": {
    "id": "h4eFUp-52iGZ"
   },
   "source": [
    "###3-4. 해쉬 함수를 사용해서 해싱함수를 수정하기"
   ]
  },
  {
   "cell_type": "code",
   "execution_count": 44,
   "metadata": {
    "colab": {
     "base_uri": "https://localhost:8080/"
    },
    "executionInfo": {
     "elapsed": 352,
     "status": "ok",
     "timestamp": 1664317261513,
     "user": {
      "displayName": "Yeji Kim",
      "userId": "13264010469112846795"
     },
     "user_tz": 420
    },
    "id": "dNW2hSKp24u4",
    "outputId": "3ac9e52b-f97a-445f-a488-9a4573098508"
   },
   "outputs": [
    {
     "data": {
      "text/plain": [
       "-8147667908545490339"
      ]
     },
     "execution_count": 44,
     "metadata": {},
     "output_type": "execute_result"
    }
   ],
   "source": [
    "hash('apple')"
   ]
  },
  {
   "cell_type": "code",
   "execution_count": 45,
   "metadata": {
    "colab": {
     "base_uri": "https://localhost:8080/"
    },
    "executionInfo": {
     "elapsed": 99,
     "status": "ok",
     "timestamp": 1664317261515,
     "user": {
      "displayName": "Yeji Kim",
      "userId": "13264010469112846795"
     },
     "user_tz": 420
    },
    "id": "_ms9tapl299M",
    "outputId": "3966e16b-c410-4c9a-e94d-b8789b1164eb"
   },
   "outputs": [
    {
     "data": {
      "text/plain": [
       "6072589207173706183"
      ]
     },
     "execution_count": 45,
     "metadata": {},
     "output_type": "execute_result"
    }
   ],
   "source": [
    "hash('banana')"
   ]
  },
  {
   "cell_type": "code",
   "execution_count": 46,
   "metadata": {
    "colab": {
     "base_uri": "https://localhost:8080/"
    },
    "executionInfo": {
     "elapsed": 97,
     "status": "ok",
     "timestamp": 1664317261517,
     "user": {
      "displayName": "Yeji Kim",
      "userId": "13264010469112846795"
     },
     "user_tz": 420
    },
    "id": "bBZ5SOh-3AyX",
    "outputId": "52462122-d332-449d-c357-7b332f0cdc14"
   },
   "outputs": [
    {
     "data": {
      "text/plain": [
       "-8147667908545490339"
      ]
     },
     "execution_count": 46,
     "metadata": {},
     "output_type": "execute_result"
    }
   ],
   "source": [
    "hash('apple')"
   ]
  },
  {
   "cell_type": "code",
   "execution_count": 47,
   "metadata": {
    "executionInfo": {
     "elapsed": 91,
     "status": "ok",
     "timestamp": 1664317261519,
     "user": {
      "displayName": "Yeji Kim",
      "userId": "13264010469112846795"
     },
     "user_tz": 420
    },
    "id": "_z11Jljc3FCO"
   },
   "outputs": [],
   "source": [
    "def get_key(data):\n",
    "  return hash(data)\n",
    "\n",
    "def hash_function(key):\n",
    "  return key % 8 \n",
    "\n",
    "def save_data(data, value):\n",
    "  hash_address = hash_function(get_key(data))\n",
    "  hash_table[hash_address] = value\n",
    "\n",
    "def read_data(data):\n",
    "  hash_address = hash_function(get_key(data))\n",
    "  return hash_table[hash_address]\n",
    "   "
   ]
  },
  {
   "cell_type": "code",
   "execution_count": 48,
   "metadata": {
    "colab": {
     "base_uri": "https://localhost:8080/"
    },
    "executionInfo": {
     "elapsed": 92,
     "status": "ok",
     "timestamp": 1664317261521,
     "user": {
      "displayName": "Yeji Kim",
      "userId": "13264010469112846795"
     },
     "user_tz": 420
    },
    "id": "qwJA4K-R3jJs",
    "outputId": "d63948e0-f6ba-4115-e79c-447d04875c0b"
   },
   "outputs": [
    {
     "name": "stdout",
     "output_type": "stream",
     "text": [
      "[0, 0, 0, 0, 0, 0, 0, 0, 0, 0, 0]\n"
     ]
    }
   ],
   "source": [
    "hash_table = list([0 for i in range(11)])\n",
    "print(hash_table)"
   ]
  },
  {
   "cell_type": "code",
   "execution_count": 49,
   "metadata": {
    "executionInfo": {
     "elapsed": 87,
     "status": "ok",
     "timestamp": 1664317261523,
     "user": {
      "displayName": "Yeji Kim",
      "userId": "13264010469112846795"
     },
     "user_tz": 420
    },
    "id": "eTWRy_083oir"
   },
   "outputs": [],
   "source": [
    "save_data('apple', '010-1111-1111')"
   ]
  },
  {
   "cell_type": "code",
   "execution_count": 50,
   "metadata": {
    "colab": {
     "base_uri": "https://localhost:8080/",
     "height": 35
    },
    "executionInfo": {
     "elapsed": 89,
     "status": "ok",
     "timestamp": 1664317261526,
     "user": {
      "displayName": "Yeji Kim",
      "userId": "13264010469112846795"
     },
     "user_tz": 420
    },
    "id": "CVNPb6K84F3H",
    "outputId": "7caa9e30-7b02-4ba5-c4b9-bb434071772a"
   },
   "outputs": [
    {
     "data": {
      "application/vnd.google.colaboratory.intrinsic+json": {
       "type": "string"
      },
      "text/plain": [
       "'010-1111-1111'"
      ]
     },
     "execution_count": 50,
     "metadata": {},
     "output_type": "execute_result"
    }
   ],
   "source": [
    "read_data('apple')"
   ]
  },
  {
   "cell_type": "markdown",
   "metadata": {
    "id": "ah8jVf2M4HqW"
   },
   "source": [
    "#4. 자료구조 해쉬 테이블의 장단점 "
   ]
  },
  {
   "cell_type": "markdown",
   "metadata": {
    "id": "VUYuJ1Emn9H0"
   },
   "source": [
    "* 장점 \n",
    "  * 데이터 저장 및 읽기 속도가 빠름 (검색 속도가 빠름)\n",
    "  * 해쉬는 키에 대한 데이터가 있는지(중복) 확인이 쉬움 \n",
    "* 단점\n",
    "  * 일반적으로 저장공간이 많이 필요함 (미리 예측해서 저장 공간을 만들어야함 like array 배열)\n",
    "  * 여러키에 해당하는 주소가 동일할 경우 충돌을 해결하기 위한 별도의 자료구조가 필요함 "
   ]
  },
  {
   "cell_type": "markdown",
   "metadata": {
    "id": "3nwTx-Enojcq"
   },
   "source": [
    "#5. 충돌 Collision 해결 알고리즘 "
   ]
  },
  {
   "cell_type": "markdown",
   "metadata": {
    "id": "owDDALkhoncr"
   },
   "source": [
    "###5-1. Linear Probling 기법 \n",
    "* 폐쇄 해싱 또는 Close Hashing 기법 중 하나 \n",
    "* 해쉬 테이블 저장공간 안에서 충돌 문제를 해결하는 기법 \n",
    "* 충돌이 일어나면 해당 hash address의 다음 address부터 맨 처음 나오는 빈공간에 저장하는 기법 \n",
    "* 저장공간 활용도를 높이기 위한 방법 "
   ]
  },
  {
   "cell_type": "code",
   "execution_count": 51,
   "metadata": {
    "executionInfo": {
     "elapsed": 87,
     "status": "ok",
     "timestamp": 1664317261528,
     "user": {
      "displayName": "Yeji Kim",
      "userId": "13264010469112846795"
     },
     "user_tz": 420
    },
    "id": "-zm4zRB7o-ER"
   },
   "outputs": [],
   "source": [
    "hash_table = list([0 for i in range(10)])"
   ]
  },
  {
   "cell_type": "code",
   "execution_count": 52,
   "metadata": {
    "executionInfo": {
     "elapsed": 88,
     "status": "ok",
     "timestamp": 1664317261530,
     "user": {
      "displayName": "Yeji Kim",
      "userId": "13264010469112846795"
     },
     "user_tz": 420
    },
    "id": "G2EPqJIMqS0C"
   },
   "outputs": [],
   "source": [
    "def get_key(data):\n",
    "  return hash(data)\n",
    "\n",
    "\n",
    "def hash_function(key):\n",
    "  return key % 8\n",
    "\n",
    "\n",
    "def save_data(data, value):\n",
    "  index_key = get_key(data)\n",
    "  hash_address = hash_function(index_key)\n",
    "\n",
    "  if hash_table[hash_address] != 0:  # 충돌; 기본값이 0이기 때문에 이미 데이터가 들어있느냐\n",
    "    for index in range(hash_address, len(hash_table)):  # if hash_address가 4가 나왔다면 after hash_function, 4부터 끝까지\n",
    "      if hash_table[index] == 0:\n",
    "        hash_table[index] = [index_key, value]  # 키랑 같이 저장되어야하므로 \n",
    "        return \n",
    "      elif hash_table[index][0] == index_key:  # 키가 일치한다면 \n",
    "        hash_table[index][1] = value  # value값 업데이트\n",
    "        return \n",
    "  else:  # 충돌이 아닐때 \n",
    "    hash_table[hash_address] = [index_key, value]\n",
    "\n",
    "\n",
    "def read_data(data):\n",
    "  index_key = get_key(data)\n",
    "  hash_address = hash_function(index_key)\n",
    "\n",
    "  if hash_table[hash_address] != 0:\n",
    "    for index in range(hash_address, len(hash_table)):\n",
    "      if hash_table[index] == 0:  # 넣는 이유는 for loop을 썼기 때문 \n",
    "        return None\n",
    "      elif hash_table[index][0] == index_key:\n",
    "        return hash_table[index][1]\n",
    "  else:\n",
    "    return None \n",
    "\n"
   ]
  },
  {
   "cell_type": "code",
   "execution_count": 53,
   "metadata": {
    "colab": {
     "base_uri": "https://localhost:8080/"
    },
    "executionInfo": {
     "elapsed": 89,
     "status": "ok",
     "timestamp": 1664317261532,
     "user": {
      "displayName": "Yeji Kim",
      "userId": "13264010469112846795"
     },
     "user_tz": 420
    },
    "id": "A4Lx7qgiuUr0",
    "outputId": "b597a35a-bbd1-4010-dcca-69c75aa2efd1"
   },
   "outputs": [
    {
     "name": "stdout",
     "output_type": "stream",
     "text": [
      "5\n",
      "2\n",
      "2\n",
      "7\n",
      "5\n",
      "3\n",
      "3\n"
     ]
    }
   ],
   "source": [
    "print(hash('apple') % 8)\n",
    "print(hash('avocado') % 8)\n",
    "print(hash('cherry') % 8)\n",
    "print(hash('banana') % 8)\n",
    "print(hash('orange') % 8)\n",
    "print(hash('melon') % 8)\n",
    "print(hash('grape') % 8)"
   ]
  },
  {
   "cell_type": "code",
   "execution_count": 54,
   "metadata": {
    "executionInfo": {
     "elapsed": 83,
     "status": "ok",
     "timestamp": 1664317261534,
     "user": {
      "displayName": "Yeji Kim",
      "userId": "13264010469112846795"
     },
     "user_tz": 420
    },
    "id": "GdjX7yNJuLD5"
   },
   "outputs": [],
   "source": [
    "save_data('apple', '010-1111-1111')\n",
    "save_data('avocado', '010-2222-2222')\n",
    "save_data('cherry', '010-3333-3333')\n",
    "save_data('banana', '010-4444-4444')\n",
    "save_data('orange', '010-5555-5555')\n",
    "save_data('melon', '010-6666-6666')\n",
    "save_data('grape', '010-7777-7777')"
   ]
  },
  {
   "cell_type": "code",
   "execution_count": 55,
   "metadata": {
    "colab": {
     "base_uri": "https://localhost:8080/"
    },
    "executionInfo": {
     "elapsed": 84,
     "status": "ok",
     "timestamp": 1664317261536,
     "user": {
      "displayName": "Yeji Kim",
      "userId": "13264010469112846795"
     },
     "user_tz": 420
    },
    "id": "wF7_4GigvbIO",
    "outputId": "4aca7908-799f-4e90-87a1-2edea20493ed"
   },
   "outputs": [
    {
     "data": {
      "text/plain": [
       "[0,\n",
       " 0,\n",
       " [-7476763640514603702, '010-2222-2222'],\n",
       " [-3931034641226118302, '010-3333-3333'],\n",
       " [2289383031431811947, '010-6666-6666'],\n",
       " [-8147667908545490339, '010-1111-1111'],\n",
       " [3217730409604766589, '010-5555-5555'],\n",
       " [6072589207173706183, '010-4444-4444'],\n",
       " [-3134785077810348405, '010-7777-7777'],\n",
       " 0]"
      ]
     },
     "execution_count": 55,
     "metadata": {},
     "output_type": "execute_result"
    }
   ],
   "source": [
    "hash_table"
   ]
  },
  {
   "cell_type": "code",
   "execution_count": 56,
   "metadata": {
    "colab": {
     "base_uri": "https://localhost:8080/",
     "height": 35
    },
    "executionInfo": {
     "elapsed": 80,
     "status": "ok",
     "timestamp": 1664317261539,
     "user": {
      "displayName": "Yeji Kim",
      "userId": "13264010469112846795"
     },
     "user_tz": 420
    },
    "id": "sekicM6b0SD2",
    "outputId": "068ff007-f3ea-4f0e-b237-73d2e0ffb35a"
   },
   "outputs": [
    {
     "data": {
      "application/vnd.google.colaboratory.intrinsic+json": {
       "type": "string"
      },
      "text/plain": [
       "'010-5555-5555'"
      ]
     },
     "execution_count": 56,
     "metadata": {},
     "output_type": "execute_result"
    }
   ],
   "source": [
    "read_data('orange')"
   ]
  },
  {
   "cell_type": "markdown",
   "metadata": {
    "id": "APtn4TN30UBL"
   },
   "source": [
    "###5-2. Chaining 기법 \n",
    "* 개방 해쉬 또는 Open Hashing 기법 중 하나\n",
    "* 해쉬 테이블 저장공간 외의 공간을 활용하는 방법 \n",
    "* 충돌이 일어나면 링크드 리스트 자료구조를 사용해서 링크드 리스트로 데이터를 추가로 뒤에 연결시켜 저장하는 기법 "
   ]
  },
  {
   "cell_type": "code",
   "execution_count": 57,
   "metadata": {
    "executionInfo": {
     "elapsed": 78,
     "status": "ok",
     "timestamp": 1664317261541,
     "user": {
      "displayName": "Yeji Kim",
      "userId": "13264010469112846795"
     },
     "user_tz": 420
    },
    "id": "imsbwb420txK"
   },
   "outputs": [],
   "source": [
    "hash_table = list([0 for i in range(8)])"
   ]
  },
  {
   "cell_type": "code",
   "execution_count": 58,
   "metadata": {
    "executionInfo": {
     "elapsed": 74,
     "status": "ok",
     "timestamp": 1664317261543,
     "user": {
      "displayName": "Yeji Kim",
      "userId": "13264010469112846795"
     },
     "user_tz": 420
    },
    "id": "tLjqbrNM2Mo5"
   },
   "outputs": [],
   "source": [
    "def get_key(data):\n",
    "  return hash(data)\n",
    "\n",
    "def hash_function(key):\n",
    "  return key % 8\n",
    "\n",
    "def save_data(data, value):\n",
    "  index_key = get_key(data)\n",
    "  hash_address = hash_function(index_key)\n",
    "\n",
    "  if hash_table[hash_address] != 0:\n",
    "    for index in range(len(hash_table[hash_address])):  # 이차원으로 형성이 되어있기 때문에 그 슬롯 안의 리스트 길이를 찾는것 \n",
    "      # 같은 키 값 업데이트\n",
    "      if hash_table[hash_address][index][0] == index_key:   #[4][0][0]은 슬롯의 첫번째 인덱스의 키값\n",
    "        hash_table[hash_address][index][1] = value\n",
    "        return\n",
    "    # 같은 키 값이 아닐때 이차원의 형태로 추가 \n",
    "    hash_table[hash_address].append([index_key, value])\n",
    "  else: # hash_table[hash_address] == 0 ; 아예 새로운 데이터를 이차원을 만들어서 추가 \n",
    "    hash_table[hash_address] = [[index_key, value]]\n",
    "\n",
    "def read_data(data):\n",
    "  index_key = get_key(data)\n",
    "  hash_address = hash_function(index_key)\n",
    "\n",
    "  if hash_table[hash_address] != 0:\n",
    "    for index in range(len(hash_table[hash_address])):\n",
    "      if hash_table[hash_address][index][0] == index_key:\n",
    "        return hash_table[hash_address][index][1]\n",
    "  else:\n",
    "    return None"
   ]
  },
  {
   "cell_type": "code",
   "execution_count": 59,
   "metadata": {
    "colab": {
     "base_uri": "https://localhost:8080/"
    },
    "executionInfo": {
     "elapsed": 75,
     "status": "ok",
     "timestamp": 1664317261546,
     "user": {
      "displayName": "Yeji Kim",
      "userId": "13264010469112846795"
     },
     "user_tz": 420
    },
    "id": "VKLUgVR47dSH",
    "outputId": "ec8f9490-a362-4187-af7e-4b29cd356596"
   },
   "outputs": [
    {
     "name": "stdout",
     "output_type": "stream",
     "text": [
      "5\n",
      "2\n",
      "2\n",
      "7\n",
      "5\n",
      "3\n"
     ]
    }
   ],
   "source": [
    "print(hash('apple') % 8)\n",
    "print(hash('avocado') % 8)\n",
    "print(hash('cherry') % 8)\n",
    "print(hash('banana') % 8)\n",
    "print(hash('orange') % 8)\n",
    "print(hash('melon') % 8)\n"
   ]
  },
  {
   "cell_type": "code",
   "execution_count": 60,
   "metadata": {
    "executionInfo": {
     "elapsed": 70,
     "status": "ok",
     "timestamp": 1664317261547,
     "user": {
      "displayName": "Yeji Kim",
      "userId": "13264010469112846795"
     },
     "user_tz": 420
    },
    "id": "K5dG_QoL7g0z"
   },
   "outputs": [],
   "source": [
    "save_data('apple', '010-1111-1111')\n",
    "save_data('avocado', '010-2222-2222')\n",
    "save_data('cherry', '010-3333-3333')\n",
    "save_data('banana', '010-4444-4444')\n",
    "save_data('orange', '010-5555-5555')\n",
    "save_data('melon', '010-6666-6666')"
   ]
  },
  {
   "cell_type": "code",
   "execution_count": 61,
   "metadata": {
    "colab": {
     "base_uri": "https://localhost:8080/"
    },
    "executionInfo": {
     "elapsed": 342,
     "status": "ok",
     "timestamp": 1664317261821,
     "user": {
      "displayName": "Yeji Kim",
      "userId": "13264010469112846795"
     },
     "user_tz": 420
    },
    "id": "nSqqlz_-7mNn",
    "outputId": "96e65037-11a0-4bfe-cfce-931fc1fed982"
   },
   "outputs": [
    {
     "data": {
      "text/plain": [
       "[0,\n",
       " 0,\n",
       " [[-7476763640514603702, '010-2222-2222'],\n",
       "  [-3931034641226118302, '010-3333-3333']],\n",
       " [[2289383031431811947, '010-6666-6666']],\n",
       " 0,\n",
       " [[-8147667908545490339, '010-1111-1111'],\n",
       "  [3217730409604766589, '010-5555-5555']],\n",
       " 0,\n",
       " [[6072589207173706183, '010-4444-4444']]]"
      ]
     },
     "execution_count": 61,
     "metadata": {},
     "output_type": "execute_result"
    }
   ],
   "source": [
    "hash_table"
   ]
  },
  {
   "cell_type": "code",
   "execution_count": 62,
   "metadata": {
    "colab": {
     "base_uri": "https://localhost:8080/",
     "height": 35
    },
    "executionInfo": {
     "elapsed": 19,
     "status": "ok",
     "timestamp": 1664317261823,
     "user": {
      "displayName": "Yeji Kim",
      "userId": "13264010469112846795"
     },
     "user_tz": 420
    },
    "id": "RG3eUORw7nsP",
    "outputId": "4910d20d-ba4b-4b5a-d8a0-d2eb80edc35c"
   },
   "outputs": [
    {
     "data": {
      "application/vnd.google.colaboratory.intrinsic+json": {
       "type": "string"
      },
      "text/plain": [
       "'010-5555-5555'"
      ]
     },
     "execution_count": 62,
     "metadata": {},
     "output_type": "execute_result"
    }
   ],
   "source": [
    "read_data('orange')"
   ]
  },
  {
   "cell_type": "markdown",
   "metadata": {
    "id": "xTy5ZDDu8jvv"
   },
   "source": [
    "#6. 해쉬 함수와 키 생성 함수"
   ]
  },
  {
   "cell_type": "markdown",
   "metadata": {
    "id": "mEOtD86k8mM-"
   },
   "source": [
    "* 파이썬의 hash() 함수는 값이 달라질 수 있음\n",
    "* SHA(Secure Hash Algorithm, 안전한 해쉬 알고리즘)와 같은 유명한 해쉬 알고리즘을 사용\n",
    "* 어떤 데이터도 유일한 고정된 크기의 고정값을 리턴해주므로 해쉬 함수로 유용하게 활용 가능 "
   ]
  },
  {
   "cell_type": "markdown",
   "metadata": {
    "id": "2u7sdCcY80aH"
   },
   "source": [
    "###6-1. SHA-1\n",
    "* 임의의 길이의 입력데이터 최대 160비트(2^64) 또는 20바이트의 출력 데이터(해시값)로 바꿈"
   ]
  },
  {
   "cell_type": "markdown",
   "metadata": {
    "id": "cSYenBZL9yip"
   },
   "source": [
    "### 컴퓨터의 용량 단위\n",
    "* 1bit : 0 또는 1\n",
    "* 8bit : 1byte\n",
    "* 1024byte = 1KB\n",
    "* 1024KB = 1MB\n",
    "* 1024MB = 1GB\n",
    "* 1024GB = 1TB\n",
    "* 1024 TB = 1PB"
   ]
  },
  {
   "cell_type": "code",
   "execution_count": 63,
   "metadata": {
    "colab": {
     "base_uri": "https://localhost:8080/"
    },
    "executionInfo": {
     "elapsed": 17,
     "status": "ok",
     "timestamp": 1664317261823,
     "user": {
      "displayName": "Yeji Kim",
      "userId": "13264010469112846795"
     },
     "user_tz": 420
    },
    "id": "WZjLxj3w9nkT",
    "outputId": "1d761b2c-e129-42a3-c6bc-7358b18687f0"
   },
   "outputs": [
    {
     "name": "stdout",
     "output_type": "stream",
     "text": [
      "b'test'\n",
      "<sha1 HASH object @ 0x7f93825d2720>\n",
      "a94a8fe5ccb19ba61c4c0873d391e987982fbbd3\n",
      "966482230667555116936258103322711973649032657875\n"
     ]
    }
   ],
   "source": [
    "import hashlib\n",
    "\n",
    "data = 'test'.encode() # text 문자열을 바이트 단위로 변환\n",
    "print(data) #b'test'\n",
    "\n",
    "hash_object = hashlib.sha1()  # sha1을 쓸 수 있는 객체를 만듬\n",
    "print(hash_object)\n",
    "\n",
    "hash_object.update(data) # sha-1 객체로 data를 읽어옴 \n",
    "hex_dig = hash_object.hexdigest() # 16진수로 고정된 해쉬 값(20바이트)\n",
    "print(hex_dig)\n",
    "print(int(hex_dig, 16)) # 16진수로 고정된 해쉬값을 10진수의 고정된 해쉬값으로 변환 \n"
   ]
  },
  {
   "cell_type": "markdown",
   "metadata": {
    "id": "JWXUN228AOlW"
   },
   "source": [
    "###6-2. SHA-256\n",
    "* SHA 알고리즘의 한 종류로 256비트로 구성되어 64자리 문자열을 반환\n",
    "* SHA-2 계열중 하나로 블록체인에서 가장 만ㅎ이 채택하여 사용 "
   ]
  },
  {
   "cell_type": "code",
   "execution_count": 64,
   "metadata": {
    "colab": {
     "base_uri": "https://localhost:8080/"
    },
    "executionInfo": {
     "elapsed": 13,
     "status": "ok",
     "timestamp": 1664317261824,
     "user": {
      "displayName": "Yeji Kim",
      "userId": "13264010469112846795"
     },
     "user_tz": 420
    },
    "id": "Rdz4FJXRAf2y",
    "outputId": "41b524a0-86da-49ff-9847-fcc41b85f1a2"
   },
   "outputs": [
    {
     "name": "stdout",
     "output_type": "stream",
     "text": [
      "b'test'\n",
      "<sha256 HASH object @ 0x7f93825d2840>\n",
      "9f86d081884c7d659a2feaa0c55ad015a3bf4f1b2b0b822cd15d6c15b0f00a08\n",
      "72155939486846849509759369733266486982821795810448245423168957390607644363272\n"
     ]
    }
   ],
   "source": [
    "import hashlib\n",
    "\n",
    "data = 'test'.encode() \n",
    "print(data) \n",
    "\n",
    "hash_object = hashlib.sha256()  \n",
    "print(hash_object)\n",
    "\n",
    "hash_object.update(data)  \n",
    "hex_dig = hash_object.hexdigest() \n",
    "print(hex_dig)\n",
    "print(int(hex_dig, 16))  \n"
   ]
  },
  {
   "cell_type": "markdown",
   "metadata": {
    "id": "HiWW46XWAoq9"
   },
   "source": [
    "###과제\n",
    "Chaining 기법을 적용한 해쉬 테이블 코드에 키 생성 함수 sha256 해쉬 알고리즘을 사용하도록 변경해보자\n",
    "1. 해쉬 함수 : key % 8\n",
    "2. 해쉬 키 생성 : sha256(data) "
   ]
  },
  {
   "cell_type": "code",
   "execution_count": 68,
   "metadata": {
    "executionInfo": {
     "elapsed": 415,
     "status": "ok",
     "timestamp": 1664318097634,
     "user": {
      "displayName": "Yeji Kim",
      "userId": "13264010469112846795"
     },
     "user_tz": 420
    },
    "id": "hI5GaYriCk9n"
   },
   "outputs": [],
   "source": [
    "import hashlib\n",
    "\n",
    "hash_table = list([0 for i in range(8)])\n",
    "\n",
    "def get_key(data):\n",
    "  hash_object = hashlib.sha256()\n",
    "  hash_object.update(data.encode())\n",
    "  hex_dig = hash_object.hexdigest()\n",
    "  return int(hex_dig, 16)\n",
    "\n",
    "def hash_function(key):\n",
    "  return key % 8\n",
    "\n",
    "def save_data(data, value):\n",
    "  index_key = get_key(data)\n",
    "  hash_address = hash_function(index_key)\n",
    "  if hash_table[hash_address] != 0:\n",
    "    for index in range(len(hash_table[hash_address])):\n",
    "      if hash_table[hash_address][index][0] == index_key:\n",
    "        hash_table[hash_address][index][1] = value\n",
    "        return\n",
    "    hash_table[hash_address].append([index_key, value])\n",
    "  else:\n",
    "    hash_table[hash_address] = [[index_key, value]]\n",
    "\n",
    "def read_data(data):\n",
    "  index_key = get_key(data)\n",
    "  hash_address = hash_function(index_key)\n",
    "  if hash_table[hash_address] != 0:\n",
    "    for index in range(len(hash_table[hash_address])):\n",
    "      if hash_table[hash_address][index][0] == index_key:\n",
    "        return hash_table[hash_address][index][1]\n",
    "  else:\n",
    "    return None"
   ]
  },
  {
   "cell_type": "code",
   "execution_count": 69,
   "metadata": {
    "executionInfo": {
     "elapsed": 332,
     "status": "ok",
     "timestamp": 1664318103543,
     "user": {
      "displayName": "Yeji Kim",
      "userId": "13264010469112846795"
     },
     "user_tz": 420
    },
    "id": "qwoQcqU_Eh8Q"
   },
   "outputs": [],
   "source": [
    "save_data('apple', '010-1111-1111')\n",
    "save_data('avocado', '010-2222-2222')\n",
    "save_data('cherry', '010-3333-3333')\n",
    "save_data('banana', '010-4444-4444')\n",
    "save_data('orange', '010-5555-5555')\n",
    "save_data('melon', '010-6666-6666')"
   ]
  },
  {
   "cell_type": "code",
   "execution_count": 71,
   "metadata": {
    "colab": {
     "base_uri": "https://localhost:8080/"
    },
    "executionInfo": {
     "elapsed": 11,
     "status": "ok",
     "timestamp": 1664318117103,
     "user": {
      "displayName": "Yeji Kim",
      "userId": "13264010469112846795"
     },
     "user_tz": 420
    },
    "id": "TPjlAdrmEpUl",
    "outputId": "50e3d21b-c26d-408e-b723-e5e1bdb6caa5"
   },
   "outputs": [
    {
     "data": {
      "text/plain": [
       "[[[112982323934352589425180049383729697652692462823327605015335539780563025432096,\n",
       "   '010-2222-2222']],\n",
       " 0,\n",
       " 0,\n",
       " [[26452929773915387181124022930352263286101059613432915788569047929437325971227,\n",
       "   '010-1111-1111']],\n",
       " [[12347729439854570657921908745856170563904168537595263672036856469419797331348,\n",
       "   '010-5555-5555']],\n",
       " 0,\n",
       " [[20663375971449343567437890939728808532354865817022289781333181590448322644526,\n",
       "   '010-3333-3333'],\n",
       "  [81677505976092492256788526045794788656350341275302681754807117191827310239310,\n",
       "   '010-4444-4444']],\n",
       " [[75635856040252375081268883667212387409410230564410600651936135151777611054631,\n",
       "   '010-6666-6666']]]"
      ]
     },
     "execution_count": 71,
     "metadata": {},
     "output_type": "execute_result"
    }
   ],
   "source": [
    "hash_table"
   ]
  },
  {
   "cell_type": "code",
   "execution_count": 72,
   "metadata": {
    "colab": {
     "base_uri": "https://localhost:8080/",
     "height": 35
    },
    "executionInfo": {
     "elapsed": 17,
     "status": "ok",
     "timestamp": 1664318125809,
     "user": {
      "displayName": "Yeji Kim",
      "userId": "13264010469112846795"
     },
     "user_tz": 420
    },
    "id": "cB-Y4hykFxEO",
    "outputId": "dfc5dc04-091b-420b-8228-e6ad4b92b8af"
   },
   "outputs": [
    {
     "data": {
      "application/vnd.google.colaboratory.intrinsic+json": {
       "type": "string"
      },
      "text/plain": [
       "'010-3333-3333'"
      ]
     },
     "execution_count": 72,
     "metadata": {},
     "output_type": "execute_result"
    }
   ],
   "source": [
    "read_data('cherry')"
   ]
  }
 ],
 "metadata": {
  "colab": {
   "authorship_tag": "ABX9TyMuNCKgzwAtkYruiIizU9pT",
   "collapsed_sections": [],
   "provenance": []
  },
  "kernelspec": {
   "display_name": "Python 3 (ipykernel)",
   "language": "python",
   "name": "python3"
  },
  "language_info": {
   "codemirror_mode": {
    "name": "ipython",
    "version": 3
   },
   "file_extension": ".py",
   "mimetype": "text/x-python",
   "name": "python",
   "nbconvert_exporter": "python",
   "pygments_lexer": "ipython3",
   "version": "3.10.11"
  }
 },
 "nbformat": 4,
 "nbformat_minor": 4
}
