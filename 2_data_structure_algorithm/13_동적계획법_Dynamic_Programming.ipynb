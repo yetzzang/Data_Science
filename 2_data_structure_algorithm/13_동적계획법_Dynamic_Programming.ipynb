{
 "cells": [
  {
   "cell_type": "markdown",
   "metadata": {
    "id": "Skga2h3fYERr"
   },
   "source": [
    "# 1. Dynamic Programming "
   ]
  },
  {
   "cell_type": "markdown",
   "metadata": {
    "id": "E-vjFk38Yv2t"
   },
   "source": [
    "* 입력 크기가 작은 부분 문제를 해결한 후 해당 부분 문제의 값을 활용해서 보다 큰 크기의 부분 문제를 해결, 최종적으로 전체 문제를 해결하는 알고리즘 \n",
    "* 상향식 접근법 - 최하위 해답을 구한 후 해당 결과를 이용해서 상위 문제를 풀어가는 방식\n",
    "* Memoizaton - 프로그램 실행 시 이전의 계산한 값을 저장하여 다시 계산하지 않도록 전체 실행 속도를 빠르게 하는 기술 \n",
    "* 문제를 잘게 쪼갤 때, 부분 문제는 중복되기 때문에 재활용 \n",
    "  * 예: Fibonacci numbers \n"
   ]
  },
  {
   "cell_type": "markdown",
   "metadata": {
    "id": "KakLpvY8ZTEb"
   },
   "source": [
    "# 2. 동적 계획법 알고리즘 "
   ]
  },
  {
   "cell_type": "markdown",
   "metadata": {
    "id": "kNpmmHwgZpHz"
   },
   "source": [
    "* 피보나치 수열 n을 입력 받아서 아래와 같이 계산\n",
    "* $F_n = F_{n-2} + F_{n-1}$ \n",
    "  * 0, 1, 1, 2, 3, 5, 8, 13, ..."
   ]
  },
  {
   "cell_type": "markdown",
   "metadata": {
    "id": "gTnx3vNeZ27Q"
   },
   "source": [
    "### 2-1. recursive call 활용"
   ]
  },
  {
   "cell_type": "code",
   "execution_count": 5,
   "metadata": {
    "executionInfo": {
     "elapsed": 6,
     "status": "ok",
     "timestamp": 1685395850298,
     "user": {
      "displayName": "Yeji Kim",
      "userId": "13264010469112846795"
     },
     "user_tz": 420
    },
    "id": "h_6LdRC9aZ5f"
   },
   "outputs": [],
   "source": [
    "# fibonacci 구현, BUT 동적계획법은 아님 \n",
    "def fibonacci(num):\n",
    "  if num <= 1:\n",
    "    return num \n",
    "  return (fibonacci(num-1) + fibonacci(num-2))"
   ]
  },
  {
   "cell_type": "code",
   "execution_count": 6,
   "metadata": {
    "colab": {
     "base_uri": "https://localhost:8080/"
    },
    "executionInfo": {
     "elapsed": 163,
     "status": "ok",
     "timestamp": 1685395851442,
     "user": {
      "displayName": "Yeji Kim",
      "userId": "13264010469112846795"
     },
     "user_tz": 420
    },
    "id": "cunPbLjUanHQ",
    "outputId": "a6cbf9c4-783f-4db7-8f41-194b255a05d0"
   },
   "outputs": [
    {
     "data": {
      "text/plain": [
       "8"
      ]
     },
     "execution_count": 6,
     "metadata": {},
     "output_type": "execute_result"
    }
   ],
   "source": [
    "fibonacci(6)"
   ]
  },
  {
   "cell_type": "markdown",
   "metadata": {
    "id": "bc1RILKtas_o"
   },
   "source": [
    "### 2-2. 동적 계획법 활용 Dynamic Programming 활용 "
   ]
  },
  {
   "cell_type": "code",
   "execution_count": 11,
   "metadata": {
    "executionInfo": {
     "elapsed": 7,
     "status": "ok",
     "timestamp": 1685396151343,
     "user": {
      "displayName": "Yeji Kim",
      "userId": "13264010469112846795"
     },
     "user_tz": 420
    },
    "id": "FHHjLTPwbBpD"
   },
   "outputs": [],
   "source": [
    "def fibonacci(num):\n",
    "  # num만큼의 0을 list에 집어넣음 \n",
    "  cache = [0 for index in range(num+1)]\n",
    "  # print(cache)\n",
    "  cache[0] = 0\n",
    "  cache[1] = 1\n",
    "\n",
    "  for index in range(2, num + 1):\n",
    "    cache[index] = cache[index - 1] + cache[index - 2]\n",
    "  return cache[num]\n",
    "  "
   ]
  },
  {
   "cell_type": "code",
   "execution_count": 12,
   "metadata": {
    "colab": {
     "base_uri": "https://localhost:8080/"
    },
    "executionInfo": {
     "elapsed": 250,
     "status": "ok",
     "timestamp": 1685396153091,
     "user": {
      "displayName": "Yeji Kim",
      "userId": "13264010469112846795"
     },
     "user_tz": 420
    },
    "id": "54GIRdNsb2R_",
    "outputId": "cb698d42-c66c-40da-a003-209f1032947b"
   },
   "outputs": [
    {
     "data": {
      "text/plain": [
       "8"
      ]
     },
     "execution_count": 12,
     "metadata": {},
     "output_type": "execute_result"
    }
   ],
   "source": [
    "fibonacci(6)"
   ]
  },
  {
   "cell_type": "code",
   "execution_count": 20,
   "metadata": {
    "executionInfo": {
     "elapsed": 7,
     "status": "ok",
     "timestamp": 1685396309984,
     "user": {
      "displayName": "Yeji Kim",
      "userId": "13264010469112846795"
     },
     "user_tz": 420
    },
    "id": "h5pq9V5Mb3xY"
   },
   "outputs": [],
   "source": [
    "# 내가 만든거 \n",
    "def fibonacci(num):\n",
    "  cache = [0, 1]\n",
    "  for i in range(2,num+1):\n",
    "    cache.append(cache[i-1] + cache[i-2])\n",
    "  return cache[num]\n",
    "  "
   ]
  },
  {
   "cell_type": "code",
   "execution_count": 19,
   "metadata": {
    "colab": {
     "base_uri": "https://localhost:8080/"
    },
    "executionInfo": {
     "elapsed": 252,
     "status": "ok",
     "timestamp": 1685396302898,
     "user": {
      "displayName": "Yeji Kim",
      "userId": "13264010469112846795"
     },
     "user_tz": 420
    },
    "id": "pyKUu7eTcT0t",
    "outputId": "a25940db-4275-4f5b-8948-39d0a0c96ad3"
   },
   "outputs": [
    {
     "data": {
      "text/plain": [
       "8"
      ]
     },
     "execution_count": 19,
     "metadata": {},
     "output_type": "execute_result"
    }
   ],
   "source": [
    "fibonacci(6)"
   ]
  },
  {
   "cell_type": "markdown",
   "metadata": {
    "id": "UQG6uZNpcmP1"
   },
   "source": [
    "### 문제 \n",
    "* 2 X n 타일링 : 2xn 크기의 직사각형을 1x2, 2x1 타일로 채우는 방법의 수를 구하는 프로그램을 작성 "
   ]
  },
  {
   "cell_type": "code",
   "execution_count": 25,
   "metadata": {
    "executionInfo": {
     "elapsed": 4,
     "status": "ok",
     "timestamp": 1685397382227,
     "user": {
      "displayName": "Yeji Kim",
      "userId": "13264010469112846795"
     },
     "user_tz": 420
    },
    "id": "oJOksVu-dL3A"
   },
   "outputs": [],
   "source": [
    "# linear recurrence from MATH 461\n",
    "def tile(n):\n",
    "  cache = [0, 1, 2]\n",
    "  for i in range(3, n+1):\n",
    "    cache.append(cache[i-1] + cache[i-2])\n",
    "  return cache[n]"
   ]
  },
  {
   "cell_type": "code",
   "execution_count": 26,
   "metadata": {
    "colab": {
     "base_uri": "https://localhost:8080/"
    },
    "executionInfo": {
     "elapsed": 8,
     "status": "ok",
     "timestamp": 1685397382606,
     "user": {
      "displayName": "Yeji Kim",
      "userId": "13264010469112846795"
     },
     "user_tz": 420
    },
    "id": "u4pCb5cKgqG3",
    "outputId": "c80d71ce-9bb1-4529-ef50-2f4e44d343fb"
   },
   "outputs": [
    {
     "data": {
      "text/plain": [
       "5"
      ]
     },
     "execution_count": 26,
     "metadata": {},
     "output_type": "execute_result"
    }
   ],
   "source": [
    "tile(4)"
   ]
  },
  {
   "cell_type": "markdown",
   "metadata": {
    "id": "yR1Dt3eQgrJm"
   },
   "source": [
    "> 일반적인 동적 계획법 문제는 가장 적은 경우의 수부터 계산해 본 후, 패턴을 찾아 식을 세우는 것이 핵심. Linear Recurrence "
   ]
  },
  {
   "cell_type": "code",
   "execution_count": null,
   "metadata": {
    "id": "cJ9SQXiHg8dl"
   },
   "outputs": [],
   "source": []
  }
 ],
 "metadata": {
  "colab": {
   "authorship_tag": "ABX9TyP9gSAD9b7wpbPO80VSa4CQ",
   "provenance": []
  },
  "kernelspec": {
   "display_name": "Python 3 (ipykernel)",
   "language": "python",
   "name": "python3"
  },
  "language_info": {
   "codemirror_mode": {
    "name": "ipython",
    "version": 3
   },
   "file_extension": ".py",
   "mimetype": "text/x-python",
   "name": "python",
   "nbconvert_exporter": "python",
   "pygments_lexer": "ipython3",
   "version": "3.10.11"
  }
 },
 "nbformat": 4,
 "nbformat_minor": 4
}
