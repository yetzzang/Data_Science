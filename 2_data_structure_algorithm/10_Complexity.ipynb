{
 "cells": [
  {
   "cell_type": "markdown",
   "metadata": {
    "id": "l1vFUBujH3_B"
   },
   "source": [
    "# 1. 알고리즘 복잡도 표현 방법 "
   ]
  },
  {
   "cell_type": "markdown",
   "metadata": {
    "id": "rxKXXqcSILSb"
   },
   "source": [
    "### 1-1. 알고리즘 복잡도 계산이 필요한 이유 \n",
    "하나의 문제를 푸는 알고리즘은 다양함\n",
    "* 정수의 절대값을 구하는 방법 \n",
    "  * 방법1: 값이 음수인지 확인해서 0보다 작은 음수일때 -1 곱하기\n",
    "  * 방법2: 정수값을 제곱한 값에 다시 루트 씌우기\n",
    " \n",
    "다양한 알고리즘 중 어떤 알고리즘이 어 좋은지 분석하기 위해 복잡도를 정의하고 계산함 "
   ]
  },
  {
   "cell_type": "markdown",
   "metadata": {
    "id": "ARhxqydlJG_r"
   },
   "source": [
    "### 1-2. 알고리즘 복잡도 계산 항목\n",
    "* 공간 복잡도: 알고리즘이 사용하는 메모리 사이즈\n",
    "* 시간 복잡도: 알고리즘 실행 속도 "
   ]
  },
  {
   "cell_type": "markdown",
   "metadata": {
    "id": "HF22VpoTJSQ0"
   },
   "source": [
    "### 1-3. 알고리즘 성능 표기법 \n",
    "* 오메가 표기법\n",
    "  * 알고리즘 최상의 실행 시간을 표기\n",
    "* 세타 표기법\n",
    "  * 알고리즘 평균 실행시간을 표기\n",
    "* 빅오(Big-O) 표기법 \n",
    "  * 최악의 실행 시간을 표기 \n",
    "  * 가장 많이 사용함\n",
    "  * 아무리 최악의 상황이라도 이 정도의 성능은 보장함을 의미 \n",
    "  "
   ]
  },
  {
   "cell_type": "markdown",
   "metadata": {
    "id": "_WLYL0oPKN-n"
   },
   "source": [
    "### 1-4. 빅오(Big-O) 표기법 \n",
    "* 입력 n에 따라 결정되는 시간 복잡도 함수 \n",
    "* O(1) < O($log n$) < O($n$) < O($nlogn$) < O($n^2$) < O($2^n$) < O($n!$)\n",
    "* 입력 n에 따라 시간 복잡도가 늘어날 수 있음 \n",
    "\n",
    "<img src=\"https://droidtechknow.com/programming/algorithms/big-o-notation/images/big-o-notation.jpg\">\n",
    "\n",
    "<img src=\"https://2.bp.blogspot.com/-lwiXSsJzeVc/WGJrqpNp_QI/AAAAAAAAO10/uBdjjqCnzXsw_MQ_TALjZieaPSi2dZu_gCLcB/s1600/computability-tractable-intractable-and-noncomputable-function-9-638.jpeg\">"
   ]
  },
  {
   "cell_type": "markdown",
   "metadata": {
    "id": "rUgso9odLULf"
   },
   "source": [
    "# 2. 공간 복잡도 "
   ]
  },
  {
   "cell_type": "markdown",
   "metadata": {
    "id": "fwaQKCp0MCkU"
   },
   "source": [
    "* 공간 복잡도 (Space Complexity): 작성한 프로그램이 얼마나 많은 공간(메모리)을 차지하느냐를 분석하는 방법 \n",
    "* 컴퓨터 성능의 발달로 인해 메모리 공간이 넘치다보니 중요도가 떨어짐 \n",
    "* 알고리즘은 시간 복잡도가 중심\n",
    "* 공간 복잡도를 결정하는 것은 배열의 크기가 몇인지, 얼마만큼의 동적 할당인지, 몇번의 호출을 하는 재귀 함수인지등이 영향을 끼침 "
   ]
  },
  {
   "cell_type": "markdown",
   "metadata": {
    "id": "nIuLV7sCMcj4"
   },
   "source": [
    "# 시간 복잡도 (Time Complexity)"
   ]
  },
  {
   "cell_type": "markdown",
   "metadata": {
    "id": "VqwvZM3bMh_x"
   },
   "source": [
    "* 특정 알고리즘이 어떤 문제를 해결하는데 걸리는 시간을 의미 \n",
    "* 같은 결과를 갖는 프로그래밍 소스도 작성 방법에 따라 걸리는 시간이 달라지며 시간이 적게 거리는 소스가 좋은 소스 \n"
   ]
  },
  {
   "cell_type": "markdown",
   "metadata": {
    "id": "NlFthoBqMxLH"
   },
   "source": [
    "O($1$) : 입력데이터의 크기에 상관없이 언제나 일정한 시간이 걸리는 알고리즘을 나타냄. 데이터가 얼마나 증가하든 성능에 영향을 미치지 않음.\n",
    "```\n",
    "def print_list(data):\n",
    "  print(data[0])\n",
    "```\n",
    "\n",
    "O($log n$) : 입력 데이터의 크기가 커질수록 처리 시간이 로그만큼 짧아지는 알고리즘 \n",
    "  * 이진 탐색이 대표적\n",
    "  * 재귀가 순기능으로 이루어지는 경우도 해당 \n",
    "\n",
    "```\n",
    "def print(n):\n",
    "  i = n\n",
    "  while i>1:\n",
    "    print(i)\n",
    "    i = i/2\n",
    "```\n",
    "* 위의 예시 설명: 100을 집어넣었을때 i = 1/2가 없다면 100번을 돌아야할 것 같은데 위의 코드 덕분에 돌때마다 덜 돌게 됨 \n",
    "\n",
    "O($n$): 입력 데이터의 크기에 비례해 처리 시간이 증가하는 알고리즘. \n",
    "```\n",
    "def print_each(data):\n",
    "  for i in range(len(data)):\n",
    "    print(data[i])\n",
    "``` \n",
    "\n",
    "O($n log n$): 데이터가 많아질수록 처리시간이 로그배만큼 더 늘어나는 알고리즘. \n",
    "* 정렬 알고리즘 중 병합 정렬, 퀵 정렬이 대표적 \n",
    "\n",
    "O($n^2$): 데이터가 많아질수록 처리시간이 급수적으로 늘어나는 알고리즘. \n",
    "* 예시) 이중 루프\n",
    "\n",
    "```\n",
    "def print_each2(data):\n",
    "  for i in range(len(data)):\n",
    "    for j in range(len(data)):\n",
    "      print(data[i], data[j])\n",
    "```"
   ]
  },
  {
   "cell_type": "markdown",
   "metadata": {
    "id": "XIH6ojLBOCLx"
   },
   "source": [
    "# 4. 실제 알고리즘을 예로 각 알고리즘 시간 복잡도와 빅오 표기법 알아보기 "
   ]
  },
  {
   "cell_type": "markdown",
   "metadata": {
    "id": "2BUG5k2bRpfx"
   },
   "source": [
    "### 4-1. 1부터 n까지의 합을 구하는 알고리즘 "
   ]
  },
  {
   "cell_type": "code",
   "execution_count": 1,
   "metadata": {
    "executionInfo": {
     "elapsed": 7,
     "status": "ok",
     "timestamp": 1684890162100,
     "user": {
      "displayName": "Yeji Kim",
      "userId": "13264010469112846795"
     },
     "user_tz": 420
    },
    "id": "y7MVmklbRv2Z"
   },
   "outputs": [],
   "source": [
    "# 알고리즘 1번\n",
    "def sum_all(n):\n",
    "  total = 0\n",
    "  for num in range(1, n+1):\n",
    "    total += num\n",
    "  return total"
   ]
  },
  {
   "cell_type": "code",
   "execution_count": 2,
   "metadata": {
    "colab": {
     "base_uri": "https://localhost:8080/"
    },
    "executionInfo": {
     "elapsed": 7,
     "status": "ok",
     "timestamp": 1684890168049,
     "user": {
      "displayName": "Yeji Kim",
      "userId": "13264010469112846795"
     },
     "user_tz": 420
    },
    "id": "5Tq6HUThR34D",
    "outputId": "e0b39309-fb00-48ae-9521-b6e2a655bedd"
   },
   "outputs": [
    {
     "data": {
      "text/plain": [
       "5050"
      ]
     },
     "execution_count": 2,
     "metadata": {},
     "output_type": "execute_result"
    }
   ],
   "source": [
    "# O(n)\n",
    "sum_all(100)"
   ]
  },
  {
   "cell_type": "markdown",
   "metadata": {
    "id": "c-0ZKXikR6i4"
   },
   "source": [
    "### 알고리즘 2번 \n",
    "$\\frac{n(n+1)}{2}$ : 1부터 n까지의 합을 구함 "
   ]
  },
  {
   "cell_type": "code",
   "execution_count": 4,
   "metadata": {
    "executionInfo": {
     "elapsed": 2,
     "status": "ok",
     "timestamp": 1684890431889,
     "user": {
      "displayName": "Yeji Kim",
      "userId": "13264010469112846795"
     },
     "user_tz": 420
    },
    "id": "JL2Z7-sOSyuz"
   },
   "outputs": [],
   "source": [
    "def sum_all(n):\n",
    "  return int(n * (n+1) / 2)"
   ]
  },
  {
   "cell_type": "code",
   "execution_count": 6,
   "metadata": {
    "colab": {
     "base_uri": "https://localhost:8080/"
    },
    "executionInfo": {
     "elapsed": 151,
     "status": "ok",
     "timestamp": 1684890507804,
     "user": {
      "displayName": "Yeji Kim",
      "userId": "13264010469112846795"
     },
     "user_tz": 420
    },
    "id": "rXuzDFcuS4wv",
    "outputId": "83f01519-3b65-4972-bd46-e47f3226f73e"
   },
   "outputs": [
    {
     "data": {
      "text/plain": [
       "5050"
      ]
     },
     "execution_count": 6,
     "metadata": {},
     "output_type": "execute_result"
    }
   ],
   "source": [
    "sum_all(100) \n",
    "# O(1) - 시간 복잡도가 훨씬 줄어들기 때문에 1번보다 훨씬 빠름"
   ]
  },
  {
   "cell_type": "code",
   "execution_count": null,
   "metadata": {
    "id": "nHhuHqVfTCN6"
   },
   "outputs": [],
   "source": []
  }
 ],
 "metadata": {
  "colab": {
   "authorship_tag": "ABX9TyMtAcV8pOfc9Xudea9TsYk9",
   "provenance": []
  },
  "kernelspec": {
   "display_name": "Python 3 (ipykernel)",
   "language": "python",
   "name": "python3"
  },
  "language_info": {
   "codemirror_mode": {
    "name": "ipython",
    "version": 3
   },
   "file_extension": ".py",
   "mimetype": "text/x-python",
   "name": "python",
   "nbconvert_exporter": "python",
   "pygments_lexer": "ipython3",
   "version": "3.10.11"
  }
 },
 "nbformat": 4,
 "nbformat_minor": 4
}
