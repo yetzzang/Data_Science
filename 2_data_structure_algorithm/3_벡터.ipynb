{
 "cells": [
  {
   "cell_type": "markdown",
   "id": "8be4514d-fb3c-46e3-9047-874a872a5b01",
   "metadata": {},
   "source": [
    "# 1. 벡터 Vector"
   ]
  },
  {
   "cell_type": "markdown",
   "id": "6a64455c-59fb-40c5-81e2-21782fc8a344",
   "metadata": {},
   "source": [
    "* 동적 요소를 할당할 수 있는 동적 배열\n",
    "    * dynamic features allow modifications to be made while the program is running\n",
    "* 중복을 허용, 순서가 존재, 랜덤 접근 가능\n",
    "* 파이썬은 배열이 없음; 파이썬 리스트 타입은 배열 기능을 제공"
   ]
  },
  {
   "cell_type": "markdown",
   "id": "05b48e75-2416-4b18-a387-de18ef692ef8",
   "metadata": {},
   "source": [
    "### 1-1. 시간 복잡도\n",
    "* O(1): 탐색 / 가장 뒤의 요소를 삭제하거나 삽입할 때\n",
    "    * $c_{i}$가 $i$번째 push_back()을 할 때 드는 비용이라고 한다면, $c_{i}$는 1 또는 $1$ 또는 $1 + 2^{k}$\n",
    "    * n번 push_back()을 했을 때 드는 비용은 아래의 식과 같음\n",
    "    * $T(n) = \\sum_{i=0}^{n} c_{i} \\leq n + \\sum_{i=0}^{logn} 2^{i} = n + 2n -1 = 3n - 1$\n",
    "    * 평균적으로 드는 비용은 3 ($T(n) / 3 = 3$ )\n",
    "    * 1이라는 상수보다는 크지만 상수 시간에 가까운 amortized 복잡도를 가지기 때문에 O(1) 시간 복잡도를 가진다고 할 수 있음 \n",
    "* O(n): 가장 뒤나 앞이 아닌 요소를 삭제하거나 삽일할 때"
   ]
  },
  {
   "cell_type": "markdown",
   "id": "18c94276-e74d-4fa8-8a1f-f27424ade16d",
   "metadata": {},
   "source": [
    "### 1-2. 함수 \n",
    "* push_back() : 뒤부터 요소를 더함\n",
    "* <img src = \"https://modoocode.com/img/2124A44B595A137D239739.webp\">\n",
    "* pop_back() : 뒤부터 요소를 지움\n",
    "* erase() : 요소를 지움\n",
    "* find() : 요소를 찾음\n",
    "* clear() : 배열을 초기화 "
   ]
  },
  {
   "cell_type": "markdown",
   "id": "e03048a9-0aa2-4c0d-a1fc-2ad5b3fb72b6",
   "metadata": {},
   "source": [
    "### 1-3. 사용 경우"
   ]
  },
  {
   "cell_type": "markdown",
   "id": "dc3bfdc6-554a-4bfe-b895-ed4a1cc7d96d",
   "metadata": {},
   "source": [
    "* 저장할 데이터 개수가 가변적인 경우\n",
    "* 중간에 위치한 데이터 삽입이나 삭제가 없는 경우\n",
    "    * 벡터는 배열처럼 데이터를 순차적으로 저장. 그러므로 중간에 데이터 삭제 및 삽입의 경우 배열과 같은 문제 발생 \n",
    "* 저장할 데이터 개수가 적은 경우\n",
    "* 저장할 데이터의 개수가 많다면 빈번한 검색이 필요치 않은 경우\n",
    "    * 데이터를 순차적으로 저장하기 때문에 데이터의 양에 따라 검색 속도가 달라짐\n",
    "    * 양이 많다면 검색 속도가 빠르지 않음\n",
    "* 위치를 아는 데이터에 빠른 접근을 원하는 경우  "
   ]
  },
  {
   "cell_type": "code",
   "execution_count": null,
   "id": "daef4dd3-50b1-40c2-a7c4-de399a404d7a",
   "metadata": {},
   "outputs": [],
   "source": []
  }
 ],
 "metadata": {
  "kernelspec": {
   "display_name": "Python 3 (ipykernel)",
   "language": "python",
   "name": "python3"
  },
  "language_info": {
   "codemirror_mode": {
    "name": "ipython",
    "version": 3
   },
   "file_extension": ".py",
   "mimetype": "text/x-python",
   "name": "python",
   "nbconvert_exporter": "python",
   "pygments_lexer": "ipython3",
   "version": "3.10.11"
  }
 },
 "nbformat": 4,
 "nbformat_minor": 5
}
