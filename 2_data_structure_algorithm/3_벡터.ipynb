{
 "cells": [
  {
   "cell_type": "markdown",
   "id": "8be4514d-fb3c-46e3-9047-874a872a5b01",
   "metadata": {},
   "source": [
    "# 1. 벡터 Vector"
   ]
  },
  {
   "cell_type": "markdown",
   "id": "6a64455c-59fb-40c5-81e2-21782fc8a344",
   "metadata": {},
   "source": [
    "* 동적 요소를 할당할 수 있는 동적 배열\n",
    "    * dynamic features allow modifications to be made while the program is running\n",
    "* 중복을 허용하며, 순서가 존재하고, 랜덤 접근이 가능한 자료 구조\n",
    "* 파이썬은 배열이 없음; 파이썬 리스트 타입은 배열 기능을 제공"
   ]
  },
  {
   "cell_type": "markdown",
   "id": "05b48e75-2416-4b18-a387-de18ef692ef8",
   "metadata": {},
   "source": [
    "### 1-1. 시간 복잡도\n",
    "* O(1): 탐색 / 가장 뒤의 요소를 삭제하거나 삽입할 때\n",
    "    * $c_{i}$가 $i$번째 push_back()을 할 때 드는 비용이라고 한다면, $c_{i}$는 1 또는 $1$ 또는 $1 + 2^{k}$\n",
    "    * n번 push_back()을 했을 때 드는 비용은 아래의 식과 같음\n",
    "    * $T(n) = \\sum_{i=0}^{n} c_{i} \\leq n + \\sum_{i=0}^{logn} 2^{i} = n + 2n -1 = 3n - 1$\n",
    "    * 평균적으로 드는 비용은 3 ($T(n) / 3 = 3$ )\n",
    "    * 1이라는 상수보다는 크지만 상수 시간에 가까운 amortized 복잡도를 가지기 때문에 O(1) 시간 복잡도를 가진다고 할 수 있음 \n",
    "* O(n): 가장 뒤나 앞이 아닌 요소를 삭제하거나 삽일할 때"
   ]
  },
  {
   "cell_type": "markdown",
   "id": "18c94276-e74d-4fa8-8a1f-f27424ade16d",
   "metadata": {},
   "source": [
    "### 1-2. 함수 \n",
    "* push_back() : 뒤부터 요소를 더함\n",
    "* <img src = \"https://modoocode.com/img/2124A44B595A137D239739.webp\">\n",
    "* pop_back() : 뒤부터 요소를 지움\n",
    "* erase() : 요소를 지움\n",
    "* find() : 요소를 찾음\n",
    "* clear() : 배열을 초기화 "
   ]
  },
  {
   "cell_type": "code",
   "execution_count": null,
   "id": "1dc08374-ef39-4a34-823e-fb5608c721b9",
   "metadata": {},
   "outputs": [],
   "source": []
  },
  {
   "cell_type": "code",
   "execution_count": null,
   "id": "f2cd86cd-2405-4919-b2fd-362664c50d37",
   "metadata": {},
   "outputs": [],
   "source": []
  }
 ],
 "metadata": {
  "kernelspec": {
   "display_name": "Python 3 (ipykernel)",
   "language": "python",
   "name": "python3"
  },
  "language_info": {
   "codemirror_mode": {
    "name": "ipython",
    "version": 3
   },
   "file_extension": ".py",
   "mimetype": "text/x-python",
   "name": "python",
   "nbconvert_exporter": "python",
   "pygments_lexer": "ipython3",
   "version": "3.10.11"
  }
 },
 "nbformat": 4,
 "nbformat_minor": 5
}
