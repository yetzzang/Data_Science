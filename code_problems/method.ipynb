{
 "cells": [
  {
   "cell_type": "markdown",
   "id": "5c25b647-a05e-4851-8c71-cfc8c718da1c",
   "metadata": {},
   "source": [
    "* 매게변수가 홀수인지 짝수인지 출력시키는 함수"
   ]
  },
  {
   "cell_type": "code",
   "execution_count": 1,
   "id": "384f54e1-1885-4bf7-93b8-adc93d388079",
   "metadata": {},
   "outputs": [],
   "source": [
    "def find_odd_even(n):\n",
    "    if n % 2 != 0:\n",
    "        print(f'{n} is odd number')\n",
    "    else:\n",
    "        print(f'{n} is even number')"
   ]
  },
  {
   "cell_type": "code",
   "execution_count": 2,
   "id": "82f40e31-15c8-4d36-a3d5-634fba20d070",
   "metadata": {},
   "outputs": [
    {
     "name": "stdout",
     "output_type": "stream",
     "text": [
      "1 is odd number\n"
     ]
    }
   ],
   "source": [
    "find_odd_even(1)"
   ]
  },
  {
   "cell_type": "code",
   "execution_count": 3,
   "id": "10f9d38d-f454-4cfa-b7ec-1e63988df443",
   "metadata": {},
   "outputs": [
    {
     "name": "stdout",
     "output_type": "stream",
     "text": [
      "2 is even number\n"
     ]
    }
   ],
   "source": [
    "find_odd_even(2)"
   ]
  },
  {
   "cell_type": "markdown",
   "id": "bdb4c9f9-d287-4f0f-a447-6c1b7cbc4063",
   "metadata": {},
   "source": [
    "* 두 정수를 매개변수로 넘겨받아 나눗셈의 결과를 출력하는 함수 작성"
   ]
  },
  {
   "cell_type": "code",
   "execution_count": 4,
   "id": "f2ea5ae7-309a-4740-85f9-a7ab02b852c6",
   "metadata": {},
   "outputs": [],
   "source": [
    "def divide_two_int(x,y):\n",
    "    result = round(x / y, 2)\n",
    "    print(result)"
   ]
  },
  {
   "cell_type": "code",
   "execution_count": 5,
   "id": "edf43513-1ab1-4ea3-8ca4-e9e006b1cf4d",
   "metadata": {},
   "outputs": [
    {
     "name": "stdout",
     "output_type": "stream",
     "text": [
      "2.0\n"
     ]
    }
   ],
   "source": [
    "divide_two_int(6,3)"
   ]
  },
  {
   "cell_type": "code",
   "execution_count": 6,
   "id": "e4abd5eb-ebf3-4640-bd2f-d82bea63c7bd",
   "metadata": {},
   "outputs": [
    {
     "name": "stdout",
     "output_type": "stream",
     "text": [
      "2.75\n"
     ]
    }
   ],
   "source": [
    "divide_two_int(11,4)"
   ]
  },
  {
   "cell_type": "markdown",
   "id": "8cb8e243-6f28-4a1c-8e0c-8802f1f3f938",
   "metadata": {},
   "source": [
    "* 매개변수로 정수 두개를 넘겨받아 두수 사이에 있는 정수의 합을 리턴하는 함수 작성\n",
    "* 조건: 매개변수로 넘어온 2개 수는 서로 다르고 작은 수부터 입력한"
   ]
  },
  {
   "cell_type": "code",
   "execution_count": 7,
   "id": "13b6e363-c25b-4f33-915b-b9a5a1f8644d",
   "metadata": {},
   "outputs": [],
   "source": [
    "def find_sum(n,m):\n",
    "    sum = 0\n",
    "    nums = [i for i in range(n,m+1)]\n",
    "    for n in nums:\n",
    "        sum += n\n",
    "    return sum "
   ]
  },
  {
   "cell_type": "code",
   "execution_count": 8,
   "id": "a4322275-a60e-4a63-97b6-077559950183",
   "metadata": {},
   "outputs": [
    {
     "data": {
      "text/plain": [
       "55"
      ]
     },
     "execution_count": 8,
     "metadata": {},
     "output_type": "execute_result"
    }
   ],
   "source": [
    "find_sum(1,10)"
   ]
  },
  {
   "cell_type": "code",
   "execution_count": 9,
   "id": "cc45d708-4d52-4a3c-84e3-7ef039e96810",
   "metadata": {},
   "outputs": [
    {
     "data": {
      "text/plain": [
       "5050"
      ]
     },
     "execution_count": 9,
     "metadata": {},
     "output_type": "execute_result"
    }
   ],
   "source": [
    "find_sum(1,100)"
   ]
  },
  {
   "cell_type": "markdown",
   "id": "153fb2a0-16f9-40df-8251-17966f94d89f",
   "metadata": {},
   "source": [
    "* 메소드를 정의하여 입력받은 숫자를 거꾸로 뒤집은 수를 출력하는 프로그램을 작성하시오"
   ]
  },
  {
   "cell_type": "code",
   "execution_count": 19,
   "id": "6f65d80d-b11a-4551-a6a5-ff5acb9e68ee",
   "metadata": {},
   "outputs": [],
   "source": [
    "def reverse_num(n):\n",
    "    n = str(n)\n",
    "    result = [char for char in n]\n",
    "    for i in result[::-1]:\n",
    "        print(i,end=' ')"
   ]
  },
  {
   "cell_type": "code",
   "execution_count": 20,
   "id": "1e6b4a5c-4c47-4f38-8eb0-a0535e97ebea",
   "metadata": {},
   "outputs": [
    {
     "name": "stdout",
     "output_type": "stream",
     "text": [
      "5 4 3 2 1 "
     ]
    }
   ],
   "source": [
    "reverse_num(12345)"
   ]
  },
  {
   "cell_type": "markdown",
   "id": "0f51e413-0f02-4067-ae81-eea259500607",
   "metadata": {},
   "source": [
    "* 정수 두개를 매개변수로 넘겨받아 두 수 중 큰 수를 리턴하는 함수를 작성하시오"
   ]
  },
  {
   "cell_type": "code",
   "execution_count": 21,
   "id": "24f15efc-d685-4776-ab21-52b2372671ee",
   "metadata": {},
   "outputs": [],
   "source": [
    "def find_bigger(n,m):\n",
    "    if n > m:\n",
    "        print(n)\n",
    "    elif n == m:\n",
    "        print(n,m)\n",
    "    else:\n",
    "        print(m)"
   ]
  },
  {
   "cell_type": "code",
   "execution_count": 22,
   "id": "1cd5ba53-a1f6-48e9-87b6-d9a8054881d0",
   "metadata": {},
   "outputs": [
    {
     "name": "stdout",
     "output_type": "stream",
     "text": [
      "4\n"
     ]
    }
   ],
   "source": [
    "find_bigger(3,4)"
   ]
  },
  {
   "cell_type": "code",
   "execution_count": 23,
   "id": "0f4a3784-80f2-4be8-ab04-d5b1e872bafb",
   "metadata": {},
   "outputs": [
    {
     "name": "stdout",
     "output_type": "stream",
     "text": [
      "5\n"
     ]
    }
   ],
   "source": [
    "find_bigger(5,3)"
   ]
  },
  {
   "cell_type": "code",
   "execution_count": 24,
   "id": "93043606-cf01-420f-80c2-11a3c54a5e62",
   "metadata": {},
   "outputs": [
    {
     "name": "stdout",
     "output_type": "stream",
     "text": [
      "3 3\n"
     ]
    }
   ],
   "source": [
    "find_bigger(3,3)"
   ]
  },
  {
   "cell_type": "markdown",
   "id": "c45a3233-4ca2-432b-a98f-5f2f48a67718",
   "metadata": {},
   "source": [
    "* 매개변수로 문자 한계를 넘겨받아 대문자를 소문자로, 소문자를 대문자로 변환한 후 해당 문자를 리턴하는 함수를 작성하시오."
   ]
  },
  {
   "cell_type": "code",
   "execution_count": null,
   "id": "bbd15b80-6d0b-4e95-9f1f-ea60454387ef",
   "metadata": {},
   "outputs": [],
   "source": []
  },
  {
   "cell_type": "code",
   "execution_count": null,
   "id": "ce075781-6d07-491c-910c-53f72e1a372f",
   "metadata": {},
   "outputs": [],
   "source": []
  }
 ],
 "metadata": {
  "kernelspec": {
   "display_name": "Python 3 (ipykernel)",
   "language": "python",
   "name": "python3"
  },
  "language_info": {
   "codemirror_mode": {
    "name": "ipython",
    "version": 3
   },
   "file_extension": ".py",
   "mimetype": "text/x-python",
   "name": "python",
   "nbconvert_exporter": "python",
   "pygments_lexer": "ipython3",
   "version": "3.10.11"
  }
 },
 "nbformat": 4,
 "nbformat_minor": 5
}
