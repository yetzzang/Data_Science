{
 "cells": [
  {
   "cell_type": "markdown",
   "id": "dafc5ba7-896c-41db-8dd5-42121e70707b",
   "metadata": {},
   "source": [
    "* https://leetcode.com/problems/max-increase-to-keep-city-skyline/description/"
   ]
  },
  {
   "cell_type": "code",
   "execution_count": null,
   "id": "722cfc3e-2751-4f89-940c-8432189df84a",
   "metadata": {},
   "outputs": [],
   "source": []
  }
 ],
 "metadata": {
  "kernelspec": {
   "display_name": "Python 3 (ipykernel)",
   "language": "python",
   "name": "python3"
  },
  "language_info": {
   "codemirror_mode": {
    "name": "ipython",
    "version": 3
   },
   "file_extension": ".py",
   "mimetype": "text/x-python",
   "name": "python",
   "nbconvert_exporter": "python",
   "pygments_lexer": "ipython3",
   "version": "3.10.11"
  }
 },
 "nbformat": 4,
 "nbformat_minor": 5
}
