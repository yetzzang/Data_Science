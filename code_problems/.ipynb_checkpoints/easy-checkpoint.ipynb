{
 "cells": [
  {
   "cell_type": "markdown",
   "id": "91f37cc2-3f21-4d3a-9510-47ef3486ee39",
   "metadata": {},
   "source": [
    "* https://www.hackerrank.com/challenges/birthday-cake-candles/problem"
   ]
  },
  {
   "cell_type": "code",
   "execution_count": 1,
   "id": "a147c5bc-848a-49ab-8648-ccca19f3890f",
   "metadata": {},
   "outputs": [],
   "source": [
    "def birthdayCakeCandles(candles):\n",
    "    max_num = 0\n",
    "    max_count = 0\n",
    "    for i in candles:\n",
    "        if i > max_num:\n",
    "            max_num = i\n",
    "            max_count = 0\n",
    "        if i == max_num:\n",
    "            max_count += 1\n",
    "    return max_count"
   ]
  },
  {
   "cell_type": "markdown",
   "id": "ebdc4404-faa3-407f-8839-e7af298b655b",
   "metadata": {},
   "source": [
    "* https://www.hackerrank.com/challenges/diagonal-difference/problem"
   ]
  },
  {
   "cell_type": "code",
   "execution_count": 22,
   "id": "b9ebadb6-472a-4b09-b641-754e443322c1",
   "metadata": {},
   "outputs": [],
   "source": [
    "def diagonalDifference(arr):\n",
    "    primary_sum = 0\n",
    "    secondary_sum = 0\n",
    "    for i in range(len(arr)):\n",
    "        primary_sum += arr[i][i]\n",
    "        secondary_sum += arr[i][len(arr)-i-1]\n",
    "    abs_diff = int(((primary_sum - secondary_sum) * (primary_sum - secondary_sum)) ** 0.5)\n",
    "    return abs_diff"
   ]
  },
  {
   "cell_type": "markdown",
   "id": "e7d6b19c-5f84-490d-9d42-e117bd3ef1b2",
   "metadata": {},
   "source": [
    "* https://leetcode.com/problems/build-array-from-permutation/description/"
   ]
  },
  {
   "cell_type": "code",
   "execution_count": 24,
   "id": "7abdcd02-3feb-49d7-86a3-b505f348b8d6",
   "metadata": {},
   "outputs": [],
   "source": [
    "def buildArray(nums):\n",
    "    result = []\n",
    "    for i in range(len(nums)):\n",
    "        result.append(nums[nums[i]])\n",
    "    return result "
   ]
  },
  {
   "cell_type": "markdown",
   "id": "8d6c545c-b69e-4475-b473-b82b85a2ec80",
   "metadata": {},
   "source": [
    "* https://leetcode.com/problems/left-and-right-sum-differences/"
   ]
  },
  {
   "cell_type": "code",
   "execution_count": 37,
   "id": "21b7435a-f9b3-4019-8e92-8e5e5291e11a",
   "metadata": {},
   "outputs": [],
   "source": [
    "def leftRightDifference(nums):\n",
    "\n",
    "    # find rightSum list \n",
    "    rightSumList = []\n",
    "    rightSum = 0\n",
    "    for i in range(len(nums)-1):\n",
    "        rightSum += nums[len(nums)-1-i]\n",
    "        rightSumList.append(rightSum)\n",
    "    rightSumList = rightSumList[::-1] + [0]\n",
    "\n",
    "    # find result \n",
    "    leftSum = 0\n",
    "    result = []\n",
    "    for i in range(len(nums)-1):\n",
    "        result.append(int(((leftSum - rightSumList[i]) ** 2) ** 0.5))\n",
    "        leftSum += nums[i]\n",
    "    result.append(int(((leftSum - rightSumList[-1]) ** 2) ** 0.5))\n",
    "    return result "
   ]
  },
  {
   "cell_type": "markdown",
   "id": "986d631d-af51-43a8-b752-4f6ed02a4722",
   "metadata": {},
   "source": [
    "https://school.programmers.co.kr/learn/courses/30/lessons/120860?language=python3"
   ]
  },
  {
   "cell_type": "code",
   "execution_count": 92,
   "id": "37170679-f239-470b-913d-59c16ba84407",
   "metadata": {},
   "outputs": [],
   "source": [
    "def findRectArea(dots):\n",
    "    return abs((max(dots)[0] - min(dots)[0]) * (max(dots)[1] - min(dots)[1]))"
   ]
  },
  {
   "cell_type": "markdown",
   "id": "fa016df1-22d8-4cce-a971-9a88103e6f74",
   "metadata": {},
   "source": [
    "* 다차원 배열에서의 min, max\n",
    "    * max(원소의 합이 가장 큰 배열을 return)\n",
    "    * what if 배열 안에서 가장 큰 값? map 함수 활용!\n",
    "        * max(map(max, 배열)) "
   ]
  },
  {
   "cell_type": "markdown",
   "id": "a97b2baa-ec07-4729-8707-8e18143a67a0",
   "metadata": {},
   "source": [
    "https://school.programmers.co.kr/learn/courses/30/lessons/120922"
   ]
  },
  {
   "cell_type": "code",
   "execution_count": 94,
   "id": "1477d97f-3e60-44bc-b989-338aea35d3be",
   "metadata": {},
   "outputs": [],
   "source": [
    "def findScissorsCut(M,N):\n",
    "    return N * M -1\n",
    "\n",
    "# vertical = (N-1)\n",
    "# horizontal = (M-1) * N\n",
    "# vertical + horizontal = (N-1) + (M-1)N = N -1 + MN - N = NM -1"
   ]
  },
  {
   "cell_type": "markdown",
   "id": "bdcc0144-b6c7-4924-92c3-5a5312a4e9f2",
   "metadata": {},
   "source": [
    "https://school.programmers.co.kr/learn/courses/30/lessons/120871"
   ]
  },
  {
   "cell_type": "code",
   "execution_count": 185,
   "id": "71b1fecf-b6a9-4f50-8dea-7181ba673588",
   "metadata": {},
   "outputs": [],
   "source": [
    "def noThreeVillage(n):\n",
    "    noThree = 0\n",
    "    for i in range(n):\n",
    "        noThree = updateNoThree(noThree)\n",
    "    return noThree\n",
    "\n",
    "def updateNoThree(noThree):\n",
    "    noThree += 1\n",
    "    if noThree % 3 == 0 or '3' in [char for char in str(noThree)]:\n",
    "        noThree = updateNoThree(noThree)\n",
    "    return noThree"
   ]
  },
  {
   "cell_type": "code",
   "execution_count": 162,
   "id": "7c37f64d-5468-49bd-8c82-3cc279aaeaf8",
   "metadata": {},
   "outputs": [],
   "source": [
    "# 간단하게 푼 방법 \n",
    "def solution(n):\n",
    "    answer = 0\n",
    "    for _ in range(n):\n",
    "        answer += 1\n",
    "        while answer % 3 == 0 or '3' in str(answer):\n",
    "            answer += 1\n",
    "    return answer"
   ]
  },
  {
   "cell_type": "markdown",
   "id": "ba7d0f7d-8eff-4cff-a933-8c1ca2418ece",
   "metadata": {},
   "source": [
    "https://school.programmers.co.kr/learn/courses/30/lessons/120884"
   ]
  },
  {
   "cell_type": "code",
   "execution_count": 72,
   "id": "ec532e18-8057-4325-bcae-bd99c32a0d9c",
   "metadata": {},
   "outputs": [],
   "source": [
    "def findServiceChicken(chicken):\n",
    "    service = 0\n",
    "    while chicken >= 10:\n",
    "        service += chicken // 10\n",
    "        chicken = chicken // 10 + chicken % 10\n",
    "    return service "
   ]
  },
  {
   "cell_type": "code",
   "execution_count": 80,
   "id": "bc4e7928-9fc8-4202-a357-0e2a5edfaa62",
   "metadata": {},
   "outputs": [],
   "source": [
    "# 시간 복잡도 줄이기\n",
    "def findServiceChicken(chicken):\n",
    "    return (chicken - 1) // 9 if chicken >= 1 else 0"
   ]
  },
  {
   "cell_type": "markdown",
   "id": "c701975f-0af3-4250-9248-1ef755b5d70f",
   "metadata": {},
   "source": [
    "* 현재 가격을 입력 받아 상한가 (30%)를 출력하는 print_upper_price 함수를 만드시오 "
   ]
  },
  {
   "cell_type": "code",
   "execution_count": 18,
   "id": "1c2cc1b6-9ddc-40ba-a8e7-eeb6f51628c2",
   "metadata": {},
   "outputs": [],
   "source": [
    "def print_upper_price():\n",
    "    user_input = int(input('숫자를 입력하세요'))\n",
    "    print(user_input * 1.3)"
   ]
  },
  {
   "cell_type": "code",
   "execution_count": 19,
   "id": "7c35e8de-97a7-40b8-a3d4-32fbca78f1c2",
   "metadata": {},
   "outputs": [
    {
     "name": "stdin",
     "output_type": "stream",
     "text": [
      "숫자를 입력하세요 100\n"
     ]
    },
    {
     "name": "stdout",
     "output_type": "stream",
     "text": [
      "130.0\n"
     ]
    }
   ],
   "source": [
    "print_upper_price()"
   ]
  },
  {
   "cell_type": "markdown",
   "id": "b73e8f2f-ca6b-4f8d-9cb0-e0033c760eea",
   "metadata": {},
   "source": [
    "* 태어난 년도를 네자리 숫자로 입력하면 한국 나이로 반환하는 함수를 만드시오"
   ]
  },
  {
   "cell_type": "code",
   "execution_count": 20,
   "id": "559241aa-b3dc-40a8-a78c-91f1bd20f74a",
   "metadata": {},
   "outputs": [],
   "source": [
    "def return_korean_age():\n",
    "    user_input = int(input('태어난 년도를 네자리 숫자로 입력하세요:'))\n",
    "    return (2024 - user_input + 1)"
   ]
  },
  {
   "cell_type": "code",
   "execution_count": 21,
   "id": "7c19d0fa-45b6-4efd-a080-e763368cc6f2",
   "metadata": {},
   "outputs": [
    {
     "name": "stdin",
     "output_type": "stream",
     "text": [
      "태어난 년도를 네자리 숫자로 입력하세요: 1998\n"
     ]
    },
    {
     "data": {
      "text/plain": [
       "27"
      ]
     },
     "execution_count": 21,
     "metadata": {},
     "output_type": "execute_result"
    }
   ],
   "source": [
    "return_korean_age()"
   ]
  },
  {
   "cell_type": "markdown",
   "id": "2f166717-c468-475f-89bf-588e06d4536c",
   "metadata": {},
   "source": [
    "* 매개변수로 넘어온 정수를 8진수, 10진수, 16진수로 출력하는 함수를 만드시오"
   ]
  },
  {
   "cell_type": "code",
   "execution_count": 109,
   "id": "b163e3e9-f763-49d4-8f10-685e56ed72de",
   "metadata": {},
   "outputs": [],
   "source": [
    "def return_number(n, output):\n",
    "    if output == 10:\n",
    "        return n\n",
    "    else:\n",
    "        if n-n//output*output < 10:\n",
    "           return str(n // output) + str(n - n // output * output) \n",
    "        else:\n",
    "            hex_dict = {10:'a', 11:'b', 12:'c', 13:'d', 14:'e', 15:'f'}\n",
    "            return str(n // output) + hex_dict[n-n//output*output]"
   ]
  },
  {
   "cell_type": "markdown",
   "id": "81ef0a25-e493-4ff4-b4cf-06fc482b1f64",
   "metadata": {},
   "source": [
    "* 매개변수로 넘어온 정수보다 10만큼 큰 수까지 출력하는 함수를 작성하세요"
   ]
  },
  {
   "cell_type": "code",
   "execution_count": 116,
   "id": "42224762-d195-4909-b8bc-feda886242bf",
   "metadata": {},
   "outputs": [],
   "source": [
    "def returnNtoNplus10(n):\n",
    "    for i in range(n,n+11):\n",
    "        print(i, end=' ')"
   ]
  },
  {
   "cell_type": "markdown",
   "id": "443b0f18-8706-4d7e-b9f3-2d6552a77b28",
   "metadata": {},
   "source": [
    "* 배열을 입력 받아서 첫 번째와 마지막 원소를 제외한 나머지 원소들을 담은 새 배열을 반환하는 함수를 작성하라."
   ]
  },
  {
   "cell_type": "code",
   "execution_count": 118,
   "id": "279fc060-aa0e-4040-86ab-d17deada9d35",
   "metadata": {},
   "outputs": [],
   "source": [
    "def returnNewArray(list):\n",
    "    return list[1:-1]"
   ]
  },
  {
   "cell_type": "markdown",
   "id": "b404de61-3412-4da6-b815-f1a5952abc15",
   "metadata": {},
   "source": [
    "* 배열을 인자로 받아 오름차순으로 정렬되어 있으면 True를 반환하고, 아니면 False를 반환하는 함수를 작성하라."
   ]
  },
  {
   "cell_type": "code",
   "execution_count": 143,
   "id": "7b8a22b9-6e5c-4d60-829a-ab20371cd81d",
   "metadata": {},
   "outputs": [],
   "source": [
    "def findIfArraySorted(list):\n",
    "    for i in range(len(list)-1):\n",
    "        if list[i] > list[i+1]:\n",
    "            return False\n",
    "    return True"
   ]
  },
  {
   "cell_type": "markdown",
   "id": "a7a5ffb6-62fa-4d55-ab84-348053620e67",
   "metadata": {},
   "source": [
    "* https://leetcode.com/problems/minimum-sum-of-four-digit-number-after-splitting-digits/description/\n",
    "* https://leetcode.com/problems/number-of-arithmetic-triplets/description/"
   ]
  },
  {
   "cell_type": "code",
   "execution_count": 172,
   "id": "e5b9fbf9-5283-4e18-b9f0-37cf882d3e59",
   "metadata": {},
   "outputs": [],
   "source": [
    "# sorted 함수 미사용 \n",
    "def minimumSum(num):\n",
    "    num = [int(char) for char in str(num)]\n",
    "    lst = [num[0], num[1]] if num[0] <= num[1] else [num[1], num[0]] \n",
    "    for i in range(2, len(num)):\n",
    "        if num[i] < lst[0]:\n",
    "            lst = [num[i]] + lst\n",
    "        elif lst[1] > num[i] >= lst[0]:\n",
    "            lst = [lst[0]] + [num[i]] + lst[1:]\n",
    "        else:\n",
    "            lst.append(num[i])\n",
    "    return lst[0] * 10 + lst[1] * 10 + lst[2] + lst[3]"
   ]
  },
  {
   "cell_type": "code",
   "execution_count": 192,
   "id": "8c610947-3642-49bd-ba8d-63ae1539e426",
   "metadata": {},
   "outputs": [],
   "source": [
    "# sorted 함수 사용 \n",
    "def minimumSum(num):\n",
    "    num = sorted([int(char) for char in str(num)])\n",
    "    return num[0] * 10 + num[1] * 10 + num[2] + num[3]"
   ]
  },
  {
   "cell_type": "markdown",
   "id": "7ecfbe10-491f-415c-94e3-a4aa938b1b80",
   "metadata": {},
   "source": [
    "* https://leetcode.com/problems/counting-bits/description/"
   ]
  },
  {
   "cell_type": "code",
   "execution_count": 87,
   "id": "3c4bc34d-ba37-4f9c-8a86-6c9c34759fa7",
   "metadata": {},
   "outputs": [],
   "source": [
    "def countBits(n):\n",
    "    answer = [0, 1]\n",
    "    if n == 0:\n",
    "        return [answer[0]]\n",
    "    for i in range(n+1)[2::]:\n",
    "        index = i // 2\n",
    "        answer.append(answer[index] + i%2)\n",
    "    return answer"
   ]
  },
  {
   "cell_type": "markdown",
   "id": "29d9a478-2620-4494-983d-bb60b94cdb98",
   "metadata": {},
   "source": [
    "* https://leetcode.com/problems/max-increase-to-keep-city-skyline/description/"
   ]
  },
  {
   "cell_type": "code",
   "execution_count": null,
   "id": "864d58b8-a6d9-44d1-8676-193d8dec49b3",
   "metadata": {},
   "outputs": [],
   "source": [
    "def maxIncreaseKeepingSkyline(grid):\n",
    "    answer = 0\n",
    "    for i in range(len(grid)):\n",
    "        for j in range(len(grid)):\n",
    "            answer += abs(grid[i][j] - min(max(grid[i]), max([row[j] for row in grid])))\n",
    "    return answer"
   ]
  },
  {
   "cell_type": "code",
   "execution_count": 136,
   "id": "556effe6-a7f6-4c74-b543-22417415efde",
   "metadata": {},
   "outputs": [],
   "source": [
    "# 시간 복잡도 줄이기 \n",
    "def maxIncreaseKeepingSkyline(grid):\n",
    "    pass"
   ]
  },
  {
   "cell_type": "code",
   "execution_count": null,
   "id": "61c4635d-348e-491e-8c59-b14dda8b658d",
   "metadata": {},
   "outputs": [],
   "source": []
  }
 ],
 "metadata": {
  "kernelspec": {
   "display_name": "Python 3 (ipykernel)",
   "language": "python",
   "name": "python3"
  },
  "language_info": {
   "codemirror_mode": {
    "name": "ipython",
    "version": 3
   },
   "file_extension": ".py",
   "mimetype": "text/x-python",
   "name": "python",
   "nbconvert_exporter": "python",
   "pygments_lexer": "ipython3",
   "version": "3.10.11"
  }
 },
 "nbformat": 4,
 "nbformat_minor": 5
}
