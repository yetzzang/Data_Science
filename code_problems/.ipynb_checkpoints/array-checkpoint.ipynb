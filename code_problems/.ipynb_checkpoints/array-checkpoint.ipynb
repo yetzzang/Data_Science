{
 "cells": [
  {
   "cell_type": "markdown",
   "id": "34690919-8872-419b-a9de-b4bf40ba9a05",
   "metadata": {},
   "source": [
    "* 두 행렬을 곱을 2차원 배열을 이용하여 계산하는 프로그램을 작성하시오"
   ]
  },
  {
   "cell_type": "code",
   "execution_count": 115,
   "id": "106ba4f0-1679-481a-a7d8-acb8be494b5b",
   "metadata": {},
   "outputs": [],
   "source": [
    "A = [[3,2], \n",
    "    [1,4]]\n",
    "B = [[9,2],\n",
    "    [1,7]]"
   ]
  },
  {
   "cell_type": "code",
   "execution_count": 132,
   "id": "1d252d64-43c9-4f3b-99b4-38442ec11ed4",
   "metadata": {},
   "outputs": [
    {
     "data": {
      "text/plain": [
       "[[29, 20], [13, 30]]"
      ]
     },
     "execution_count": 132,
     "metadata": {},
     "output_type": "execute_result"
    }
   ],
   "source": [
    "C = [[0 for i in range(len(A[0]))] for j in range(len(B))]\n",
    "for i in range(len(A)):\n",
    "        for j in range(len(B[0])):\n",
    "            for k in range(len(A[0])):\n",
    "                C[i][j] += A[i][k] * B[k][j]\n",
    "C"
   ]
  },
  {
   "cell_type": "code",
   "execution_count": 12,
   "id": "14974118-b7b8-4832-bc60-b1110046f4b3",
   "metadata": {},
   "outputs": [
    {
     "data": {
      "text/plain": [
       "array([[29, 20],\n",
       "       [13, 30]])"
      ]
     },
     "execution_count": 12,
     "metadata": {},
     "output_type": "execute_result"
    }
   ],
   "source": [
    "# test \n",
    "import numpy as np\n",
    "A = np.array(A)\n",
    "B = np.array(B)\n",
    "np.dot(A, B)"
   ]
  },
  {
   "cell_type": "markdown",
   "id": "9cc88359-4c19-45ff-b4b3-959788a73b9e",
   "metadata": {},
   "source": [
    "* 배열을 거꾸로 출력시키기\n",
    "* 배열을 사용해 6개의 숫자를 입력 받고, 6개의 숫자를 거꾸로 출력시키는 예제를 만드시오"
   ]
  },
  {
   "cell_type": "code",
   "execution_count": 66,
   "id": "5811c5ce-3a33-4ed6-be28-db3307e6e559",
   "metadata": {},
   "outputs": [
    {
     "name": "stdin",
     "output_type": "stream",
     "text": [
      "여섯개의 숫자를 입력하세요:  1 2 3 4 5 6\n"
     ]
    },
    {
     "name": "stdout",
     "output_type": "stream",
     "text": [
      "6 5 4 3 2 1 "
     ]
    }
   ],
   "source": [
    "user_input = input('여섯개의 숫자를 입력하세요: ').split(' ')\n",
    "reversed = [n for n in user_input[::-1]]\n",
    "for i in reversed:\n",
    "    print(i, end = ' ')"
   ]
  },
  {
   "cell_type": "markdown",
   "id": "37c88d8d-515c-43e7-9c08-b9c22c48a707",
   "metadata": {},
   "source": [
    "* 배열을 사용해 홀수와 짝수를 구분해 출력시키기 "
   ]
  },
  {
   "cell_type": "code",
   "execution_count": 71,
   "id": "debab664-f8b2-496e-8462-40c1444d5ec1",
   "metadata": {},
   "outputs": [
    {
     "name": "stdin",
     "output_type": "stream",
     "text": [
      "숫자들을 입력하세요:  1 2 3 4 5 6\n"
     ]
    },
    {
     "name": "stdout",
     "output_type": "stream",
     "text": [
      "1 3 5 \n",
      "2 4 6 "
     ]
    }
   ],
   "source": [
    "user_input = list(map(int, input('숫자들을 입력하세요: ').split(' ')))\n",
    "odd = []\n",
    "even = []\n",
    "for i in user_input:\n",
    "    if i % 2 != 0:\n",
    "        odd.append(i)\n",
    "    else:\n",
    "        even.append(i)\n",
    "        \n",
    "for i in odd:\n",
    "    print(i, end=' ')\n",
    "print()\n",
    "for i in even:\n",
    "    print(i, end=' ')"
   ]
  },
  {
   "cell_type": "markdown",
   "id": "a1e5f813-68c8-4f4f-bfa0-143200937fc7",
   "metadata": {},
   "source": [
    "* 오름 차순으로 정렬된 숫자 6개가 저장되는 배열을 선언해주고, 숫자를 입력 받았을때, 그 숫자가 배열 안에서 자기 자리를 찾아가는 프로그램을 만들어보세요.\n",
    "* 예) 1 2 5 7 10 15라는 배열이 선언되고 숫자 11이 입력된다면 10과 15에 자리를 찾아가는 방식"
   ]
  },
  {
   "cell_type": "code",
   "execution_count": 90,
   "id": "404ffc64-207f-44a1-ba87-630a5cb664b7",
   "metadata": {},
   "outputs": [
    {
     "name": "stdin",
     "output_type": "stream",
     "text": [
      "숫자들을 입력하세요:  1 3 5 7 10\n",
      "삽입을 원하는 숫자를 입력하세요:  8\n"
     ]
    },
    {
     "name": "stdout",
     "output_type": "stream",
     "text": [
      "1 3 5 7 8 10 "
     ]
    }
   ],
   "source": [
    "user_list = list(map(int, input('숫자들을 입력하세요: ').split(' ')))\n",
    "user_input = int(input('삽입을 원하는 숫자를 입력하세요: '))\n",
    "\n",
    "a = 0\n",
    "b = 0\n",
    "first_half = []\n",
    "second_half = []\n",
    "for i in range(len(user_list) - 1):\n",
    "    a = user_list[i] \n",
    "    b = user_list[i+1]\n",
    "    if a < user_input < b:\n",
    "        first_half = user_list[:i+1] + [user_input]\n",
    "        second_half = user_list[i+1:] \n",
    "        user_list = first_half + second_half\n",
    "        break \n",
    "\n",
    "for i in user_list:\n",
    "    print(i, end=' ')"
   ]
  },
  {
   "cell_type": "markdown",
   "id": "7eb872ef-2bff-4e70-9a5f-191e5d4efcce",
   "metadata": {},
   "source": [
    "* 사용자로부터 5개의 정수를 배열로 입력 받은 후 숫자 하나를 추가로 입력 받아 그 수가 배열에 몇개 존재하는 지를 출력하는 프로그램을 작성하시오"
   ]
  },
  {
   "cell_type": "code",
   "execution_count": 91,
   "id": "a974cae5-5b90-4373-b21e-3d97453ee2de",
   "metadata": {},
   "outputs": [
    {
     "name": "stdin",
     "output_type": "stream",
     "text": [
      "숫자 다섯개를 입력하세요:  1 2 3 1 1\n",
      "숫자를 입력하세요:  1\n"
     ]
    },
    {
     "name": "stdout",
     "output_type": "stream",
     "text": [
      "3\n"
     ]
    }
   ],
   "source": [
    "user_list = list(map(int, input('숫자 다섯개를 입력하세요: ').split(' ')))\n",
    "user_input = int(input('숫자를 입력하세요: '))\n",
    "\n",
    "count = 0\n",
    "for i in user_list:\n",
    "    if i == user_input:\n",
    "        count += 1\n",
    "\n",
    "print(count)"
   ]
  },
  {
   "cell_type": "markdown",
   "id": "bed645d7-110b-45eb-91f2-6753360508d1",
   "metadata": {},
   "source": [
    "* 1~5 사이의 랜덤한 값이 10개 저장된 배열에서 중복된 값이 제거된 배열을 만드시오\n",
    "* ex) [1, 3, 3, 2, 1, 4, 5, 5, 5, 1, 3] -> [1,3,2,4,5]"
   ]
  },
  {
   "cell_type": "code",
   "execution_count": 100,
   "id": "d3e76386-0935-49ad-8017-53c8c70984cb",
   "metadata": {},
   "outputs": [
    {
     "name": "stdout",
     "output_type": "stream",
     "text": [
      "[5, 4, 5, 3, 2, 4, 4, 3, 5, 4]\n",
      "[5, 4, 3, 2]\n"
     ]
    }
   ],
   "source": [
    "import random\n",
    "rand_list = [random.randint(1, 5) for i in range(10)]\n",
    "result = []\n",
    "for i in rand_list:\n",
    "    if i not in result:\n",
    "        result.append(i)\n",
    "print(rand_list)\n",
    "print(result)"
   ]
  },
  {
   "cell_type": "markdown",
   "id": "2085e627-c21f-49b1-bd10-e12c8a2e4a6e",
   "metadata": {},
   "source": [
    "* transpose matrix -> horizontally flip the matrix "
   ]
  },
  {
   "cell_type": "code",
   "execution_count": 112,
   "id": "a73033d0-6725-4c53-8cf1-7eeaf680a9aa",
   "metadata": {},
   "outputs": [
    {
     "data": {
      "text/plain": [
       "[[5, 3, 1], [6, 4, 2]]"
      ]
     },
     "execution_count": 112,
     "metadata": {},
     "output_type": "execute_result"
    }
   ],
   "source": [
    "A = [[1,2], \n",
    "    [3,4],\n",
    "    [5,6]]\n",
    "A_transposed = [[row[i] for row in A] for i in range(len(A[0]))]\n",
    "newA = [[element for element in A_transposed[i][::-1]] for i in range(len(A_transposed))]\n",
    "newA"
   ]
  },
  {
   "cell_type": "code",
   "execution_count": null,
   "id": "e87d8375-6391-4124-9983-a06b436818d1",
   "metadata": {},
   "outputs": [],
   "source": []
  }
 ],
 "metadata": {
  "kernelspec": {
   "display_name": "Python 3 (ipykernel)",
   "language": "python",
   "name": "python3"
  },
  "language_info": {
   "codemirror_mode": {
    "name": "ipython",
    "version": 3
   },
   "file_extension": ".py",
   "mimetype": "text/x-python",
   "name": "python",
   "nbconvert_exporter": "python",
   "pygments_lexer": "ipython3",
   "version": "3.10.11"
  }
 },
 "nbformat": 4,
 "nbformat_minor": 5
}
