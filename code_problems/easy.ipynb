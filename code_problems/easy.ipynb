{
 "cells": [
  {
   "cell_type": "markdown",
   "id": "91f37cc2-3f21-4d3a-9510-47ef3486ee39",
   "metadata": {},
   "source": [
    "https://www.hackerrank.com/challenges/birthday-cake-candles/problem\n",
    "https://www.hackerrank.com/challenges/diagonal-difference/problem\n",
    "https://leetcode.com/problems/build-array-from-permutation/description/\n",
    "https://leetcode.com/problems/left-and-right-sum-differences/"
   ]
  },
  {
   "cell_type": "code",
   "execution_count": 1,
   "id": "a147c5bc-848a-49ab-8648-ccca19f3890f",
   "metadata": {},
   "outputs": [],
   "source": [
    "def birthdayCakeCandles(candles):\n",
    "    max_num = 0\n",
    "    max_count = 0\n",
    "    for i in candles:\n",
    "        if i > max_num:\n",
    "            max_num = i\n",
    "            max_count = 0\n",
    "        if i == max_num:\n",
    "            max_count += 1\n",
    "    return max_count"
   ]
  },
  {
   "cell_type": "code",
   "execution_count": 22,
   "id": "b9ebadb6-472a-4b09-b641-754e443322c1",
   "metadata": {},
   "outputs": [],
   "source": [
    "def diagonalDifference(arr):\n",
    "    primary_sum = 0\n",
    "    secondary_sum = 0\n",
    "    for i in range(len(arr)):\n",
    "        primary_sum += arr[i][i]\n",
    "        secondary_sum += arr[i][len(arr)-i-1]\n",
    "    abs_diff = int(((primary_sum - secondary_sum) * (primary_sum - secondary_sum)) ** 0.5)\n",
    "    return abs_diff"
   ]
  },
  {
   "cell_type": "code",
   "execution_count": 24,
   "id": "7abdcd02-3feb-49d7-86a3-b505f348b8d6",
   "metadata": {},
   "outputs": [],
   "source": [
    "def buildArray(nums):\n",
    "    result = []\n",
    "    for i in range(len(nums)):\n",
    "        result.append(nums[nums[i]])\n",
    "    return result "
   ]
  },
  {
   "cell_type": "code",
   "execution_count": 37,
   "id": "21b7435a-f9b3-4019-8e92-8e5e5291e11a",
   "metadata": {},
   "outputs": [],
   "source": [
    "def leftRightDifference(nums):\n",
    "\n",
    "    # find rightSum list \n",
    "    rightSumList = []\n",
    "    rightSum = 0\n",
    "    for i in range(len(nums)-1):\n",
    "        rightSum += nums[len(nums)-1-i]\n",
    "        rightSumList.append(rightSum)\n",
    "    rightSumList = rightSumList[::-1] + [0]\n",
    "\n",
    "    # find result \n",
    "    leftSum = 0\n",
    "    result = []\n",
    "    for i in range(len(nums)-1):\n",
    "        result.append(int(((leftSum - rightSumList[i]) ** 2) ** 0.5))\n",
    "        leftSum += nums[i]\n",
    "    result.append(int(((leftSum - rightSumList[-1]) ** 2) ** 0.5))\n",
    "    return result "
   ]
  },
  {
   "cell_type": "markdown",
   "id": "986d631d-af51-43a8-b752-4f6ed02a4722",
   "metadata": {},
   "source": [
    "https://school.programmers.co.kr/learn/courses/30/lessons/120860?language=python3"
   ]
  },
  {
   "cell_type": "code",
   "execution_count": 92,
   "id": "37170679-f239-470b-913d-59c16ba84407",
   "metadata": {},
   "outputs": [],
   "source": [
    "def findRectArea(dots):\n",
    "    return abs((max(dots)[0] - min(dots)[0]) * (max(dots)[1] - min(dots)[1]))"
   ]
  },
  {
   "cell_type": "markdown",
   "id": "fa016df1-22d8-4cce-a971-9a88103e6f74",
   "metadata": {},
   "source": [
    "* 다차원 배열에서의 min, max\n",
    "    * max(원소의 합이 가장 큰 배열을 return)\n",
    "    * what if 배열 안에서 가장 큰 값? map 함수 활용!\n",
    "        * max(map(max, 배열)) "
   ]
  },
  {
   "cell_type": "markdown",
   "id": "a97b2baa-ec07-4729-8707-8e18143a67a0",
   "metadata": {},
   "source": [
    "https://school.programmers.co.kr/learn/courses/30/lessons/120922"
   ]
  },
  {
   "cell_type": "code",
   "execution_count": 94,
   "id": "1477d97f-3e60-44bc-b989-338aea35d3be",
   "metadata": {},
   "outputs": [],
   "source": [
    "def findScissorsCut(M,N):\n",
    "    return N * M -1\n",
    "\n",
    "# vertical = (N-1)\n",
    "# horizontal = (M-1) * N\n",
    "# vertical + horizontal = (N-1) + (M-1)N = N -1 + MN - N = NM -1"
   ]
  },
  {
   "cell_type": "markdown",
   "id": "bdcc0144-b6c7-4924-92c3-5a5312a4e9f2",
   "metadata": {},
   "source": [
    "https://school.programmers.co.kr/learn/courses/30/lessons/120871"
   ]
  },
  {
   "cell_type": "code",
   "execution_count": 185,
   "id": "71b1fecf-b6a9-4f50-8dea-7181ba673588",
   "metadata": {},
   "outputs": [],
   "source": [
    "def noThreeVillage(n):\n",
    "    noThree = 0\n",
    "    for i in range(n):\n",
    "        noThree = updateNoThree(noThree)\n",
    "    return noThree\n",
    "\n",
    "def updateNoThree(noThree):\n",
    "    noThree += 1\n",
    "    if noThree % 3 == 0 or '3' in [char for char in str(noThree)]:\n",
    "        noThree = updateNoThree(noThree)\n",
    "    return noThree"
   ]
  },
  {
   "cell_type": "code",
   "execution_count": 162,
   "id": "7c37f64d-5468-49bd-8c82-3cc279aaeaf8",
   "metadata": {},
   "outputs": [],
   "source": [
    "# 간단하게 푼 방법 \n",
    "def solution(n):\n",
    "    answer = 0\n",
    "    for _ in range(n):\n",
    "        answer += 1\n",
    "        while answer % 3 == 0 or '3' in str(answer):\n",
    "            answer += 1\n",
    "    return answer"
   ]
  },
  {
   "cell_type": "markdown",
   "id": "ba7d0f7d-8eff-4cff-a933-8c1ca2418ece",
   "metadata": {},
   "source": [
    "https://school.programmers.co.kr/learn/courses/30/lessons/120884"
   ]
  },
  {
   "cell_type": "code",
   "execution_count": 255,
   "id": "ec532e18-8057-4325-bcae-bd99c32a0d9c",
   "metadata": {},
   "outputs": [],
   "source": [
    "def findServiceChicken(chicken):\n",
    "    service = (chicken-1) // 9\n",
    "    return service"
   ]
  },
  {
   "cell_type": "code",
   "execution_count": null,
   "id": "f0c617eb-4d4c-477c-b903-7e6e53d2bc74",
   "metadata": {},
   "outputs": [],
   "source": []
  }
 ],
 "metadata": {
  "kernelspec": {
   "display_name": "Python 3 (ipykernel)",
   "language": "python",
   "name": "python3"
  },
  "language_info": {
   "codemirror_mode": {
    "name": "ipython",
    "version": 3
   },
   "file_extension": ".py",
   "mimetype": "text/x-python",
   "name": "python",
   "nbconvert_exporter": "python",
   "pygments_lexer": "ipython3",
   "version": "3.10.11"
  }
 },
 "nbformat": 4,
 "nbformat_minor": 5
}
