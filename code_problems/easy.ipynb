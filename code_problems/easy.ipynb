{
 "cells": [
  {
   "cell_type": "markdown",
   "id": "91f37cc2-3f21-4d3a-9510-47ef3486ee39",
   "metadata": {},
   "source": [
    "* https://www.hackerrank.com/challenges/birthday-cake-candles/problem\n",
    "* https://www.hackerrank.com/challenges/diagonal-difference/problem\n",
    "* https://leetcode.com/problems/build-array-from-permutation/description/\n",
    "* https://leetcode.com/problems/left-and-right-sum-differences/"
   ]
  },
  {
   "cell_type": "code",
   "execution_count": 1,
   "id": "a147c5bc-848a-49ab-8648-ccca19f3890f",
   "metadata": {},
   "outputs": [],
   "source": [
    "def birthdayCakeCandles(candles):\n",
    "    max_num = 0\n",
    "    max_count = 0\n",
    "    for i in candles:\n",
    "        if i > max_num:\n",
    "            max_num = i\n",
    "            max_count = 0\n",
    "        if i == max_num:\n",
    "            max_count += 1\n",
    "    return max_count"
   ]
  },
  {
   "cell_type": "code",
   "execution_count": 22,
   "id": "b9ebadb6-472a-4b09-b641-754e443322c1",
   "metadata": {},
   "outputs": [],
   "source": [
    "def diagonalDifference(arr):\n",
    "    primary_sum = 0\n",
    "    secondary_sum = 0\n",
    "    for i in range(len(arr)):\n",
    "        primary_sum += arr[i][i]\n",
    "        secondary_sum += arr[i][len(arr)-i-1]\n",
    "    abs_diff = int(((primary_sum - secondary_sum) * (primary_sum - secondary_sum)) ** 0.5)\n",
    "    return abs_diff"
   ]
  },
  {
   "cell_type": "code",
   "execution_count": 24,
   "id": "7abdcd02-3feb-49d7-86a3-b505f348b8d6",
   "metadata": {},
   "outputs": [],
   "source": [
    "def buildArray(nums):\n",
    "    result = []\n",
    "    for i in range(len(nums)):\n",
    "        result.append(nums[nums[i]])\n",
    "    return result "
   ]
  },
  {
   "cell_type": "code",
   "execution_count": 37,
   "id": "21b7435a-f9b3-4019-8e92-8e5e5291e11a",
   "metadata": {},
   "outputs": [],
   "source": [
    "def leftRightDifference(nums):\n",
    "\n",
    "    # find rightSum list \n",
    "    rightSumList = []\n",
    "    rightSum = 0\n",
    "    for i in range(len(nums)-1):\n",
    "        rightSum += nums[len(nums)-1-i]\n",
    "        rightSumList.append(rightSum)\n",
    "    rightSumList = rightSumList[::-1] + [0]\n",
    "\n",
    "    # find result \n",
    "    leftSum = 0\n",
    "    result = []\n",
    "    for i in range(len(nums)-1):\n",
    "        result.append(int(((leftSum - rightSumList[i]) ** 2) ** 0.5))\n",
    "        leftSum += nums[i]\n",
    "    result.append(int(((leftSum - rightSumList[-1]) ** 2) ** 0.5))\n",
    "    return result "
   ]
  },
  {
   "cell_type": "markdown",
   "id": "986d631d-af51-43a8-b752-4f6ed02a4722",
   "metadata": {},
   "source": [
    "https://school.programmers.co.kr/learn/courses/30/lessons/120860?language=python3"
   ]
  },
  {
   "cell_type": "code",
   "execution_count": 92,
   "id": "37170679-f239-470b-913d-59c16ba84407",
   "metadata": {},
   "outputs": [],
   "source": [
    "def findRectArea(dots):\n",
    "    return abs((max(dots)[0] - min(dots)[0]) * (max(dots)[1] - min(dots)[1]))"
   ]
  },
  {
   "cell_type": "markdown",
   "id": "fa016df1-22d8-4cce-a971-9a88103e6f74",
   "metadata": {},
   "source": [
    "* 다차원 배열에서의 min, max\n",
    "    * max(원소의 합이 가장 큰 배열을 return)\n",
    "    * what if 배열 안에서 가장 큰 값? map 함수 활용!\n",
    "        * max(map(max, 배열)) "
   ]
  },
  {
   "cell_type": "markdown",
   "id": "a97b2baa-ec07-4729-8707-8e18143a67a0",
   "metadata": {},
   "source": [
    "https://school.programmers.co.kr/learn/courses/30/lessons/120922"
   ]
  },
  {
   "cell_type": "code",
   "execution_count": 94,
   "id": "1477d97f-3e60-44bc-b989-338aea35d3be",
   "metadata": {},
   "outputs": [],
   "source": [
    "def findScissorsCut(M,N):\n",
    "    return N * M -1\n",
    "\n",
    "# vertical = (N-1)\n",
    "# horizontal = (M-1) * N\n",
    "# vertical + horizontal = (N-1) + (M-1)N = N -1 + MN - N = NM -1"
   ]
  },
  {
   "cell_type": "markdown",
   "id": "bdcc0144-b6c7-4924-92c3-5a5312a4e9f2",
   "metadata": {},
   "source": [
    "https://school.programmers.co.kr/learn/courses/30/lessons/120871"
   ]
  },
  {
   "cell_type": "code",
   "execution_count": 185,
   "id": "71b1fecf-b6a9-4f50-8dea-7181ba673588",
   "metadata": {},
   "outputs": [],
   "source": [
    "def noThreeVillage(n):\n",
    "    noThree = 0\n",
    "    for i in range(n):\n",
    "        noThree = updateNoThree(noThree)\n",
    "    return noThree\n",
    "\n",
    "def updateNoThree(noThree):\n",
    "    noThree += 1\n",
    "    if noThree % 3 == 0 or '3' in [char for char in str(noThree)]:\n",
    "        noThree = updateNoThree(noThree)\n",
    "    return noThree"
   ]
  },
  {
   "cell_type": "code",
   "execution_count": 162,
   "id": "7c37f64d-5468-49bd-8c82-3cc279aaeaf8",
   "metadata": {},
   "outputs": [],
   "source": [
    "# 간단하게 푼 방법 \n",
    "def solution(n):\n",
    "    answer = 0\n",
    "    for _ in range(n):\n",
    "        answer += 1\n",
    "        while answer % 3 == 0 or '3' in str(answer):\n",
    "            answer += 1\n",
    "    return answer"
   ]
  },
  {
   "cell_type": "markdown",
   "id": "ba7d0f7d-8eff-4cff-a933-8c1ca2418ece",
   "metadata": {},
   "source": [
    "https://school.programmers.co.kr/learn/courses/30/lessons/120884"
   ]
  },
  {
   "cell_type": "code",
   "execution_count": 72,
   "id": "ec532e18-8057-4325-bcae-bd99c32a0d9c",
   "metadata": {},
   "outputs": [],
   "source": [
    "def findServiceChicken(chicken):\n",
    "    service = 0\n",
    "    while chicken >= 10:\n",
    "        service += chicken // 10\n",
    "        chicken = chicken // 10 + chicken % 10\n",
    "    return service "
   ]
  },
  {
   "cell_type": "code",
   "execution_count": 80,
   "id": "bc4e7928-9fc8-4202-a357-0e2a5edfaa62",
   "metadata": {},
   "outputs": [],
   "source": [
    "# 시간 복잡도 줄이기\n",
    "def findServiceChicken(chicken):\n",
    "    return (chicken - 1) // 9 if chicken >= 1 else 0 "
   ]
  },
  {
   "cell_type": "markdown",
   "id": "c701975f-0af3-4250-9248-1ef755b5d70f",
   "metadata": {},
   "source": [
    "* 현재 가격을 입력 받아 상한가 (30%)를 출력하는 print_upper_price 함수를 만드시오 "
   ]
  },
  {
   "cell_type": "code",
   "execution_count": 18,
   "id": "1c2cc1b6-9ddc-40ba-a8e7-eeb6f51628c2",
   "metadata": {},
   "outputs": [],
   "source": [
    "def print_upper_price():\n",
    "    user_input = int(input('숫자를 입력하세요'))\n",
    "    print(user_input * 1.3)"
   ]
  },
  {
   "cell_type": "code",
   "execution_count": 19,
   "id": "7c35e8de-97a7-40b8-a3d4-32fbca78f1c2",
   "metadata": {},
   "outputs": [
    {
     "name": "stdin",
     "output_type": "stream",
     "text": [
      "숫자를 입력하세요 100\n"
     ]
    },
    {
     "name": "stdout",
     "output_type": "stream",
     "text": [
      "130.0\n"
     ]
    }
   ],
   "source": [
    "print_upper_price()"
   ]
  },
  {
   "cell_type": "markdown",
   "id": "b73e8f2f-ca6b-4f8d-9cb0-e0033c760eea",
   "metadata": {},
   "source": [
    "* 태어난 년도를 네자리 숫자로 입력하면 한국 나이로 반환하는 함수를 만드시오"
   ]
  },
  {
   "cell_type": "code",
   "execution_count": 20,
   "id": "559241aa-b3dc-40a8-a78c-91f1bd20f74a",
   "metadata": {},
   "outputs": [],
   "source": [
    "def return_korean_age():\n",
    "    user_input = int(input('태어난 년도를 네자리 숫자로 입력하세요:'))\n",
    "    return (2024 - user_input + 1)"
   ]
  },
  {
   "cell_type": "code",
   "execution_count": 21,
   "id": "7c19d0fa-45b6-4efd-a080-e763368cc6f2",
   "metadata": {},
   "outputs": [
    {
     "name": "stdin",
     "output_type": "stream",
     "text": [
      "태어난 년도를 네자리 숫자로 입력하세요: 1998\n"
     ]
    },
    {
     "data": {
      "text/plain": [
       "27"
      ]
     },
     "execution_count": 21,
     "metadata": {},
     "output_type": "execute_result"
    }
   ],
   "source": [
    "return_korean_age()"
   ]
  },
  {
   "cell_type": "markdown",
   "id": "2f166717-c468-475f-89bf-588e06d4536c",
   "metadata": {},
   "source": [
    "* 매개변수로 넘어온 정수를 8진수, 10진수, 16진수로 출력하는 함수를 만드시오"
   ]
  },
  {
   "cell_type": "code",
   "execution_count": 109,
   "id": "b163e3e9-f763-49d4-8f10-685e56ed72de",
   "metadata": {},
   "outputs": [],
   "source": [
    "def return_number(n, output):\n",
    "    if output == 10:\n",
    "        return n\n",
    "    else:\n",
    "        if n-n//output*output < 10:\n",
    "           return str(n // output) + str(n - n // output * output) \n",
    "        else:\n",
    "            hex_dict = {10:'a', 11:'b', 12:'c', 13:'d', 14:'e', 15:'f'}\n",
    "            return str(n // output) + hex_dict[n-n//output*output]"
   ]
  },
  {
   "cell_type": "markdown",
   "id": "81ef0a25-e493-4ff4-b4cf-06fc482b1f64",
   "metadata": {},
   "source": [
    "* 매개변수로 넘어온 정수보다 10만큼 큰 수까지 출력하는 함수를 작성하세요"
   ]
  },
  {
   "cell_type": "code",
   "execution_count": 116,
   "id": "42224762-d195-4909-b8bc-feda886242bf",
   "metadata": {},
   "outputs": [],
   "source": [
    "def returnNtoNplus10(n):\n",
    "    for i in range(n,n+11):\n",
    "        print(i, end=' ')"
   ]
  },
  {
   "cell_type": "markdown",
   "id": "443b0f18-8706-4d7e-b9f3-2d6552a77b28",
   "metadata": {},
   "source": [
    "* 배열을 입력 받아서 첫 번째와 마지막 원소를 제외한 나머지 원소들을 담은 새 배열을 반환하는 함수를 작성하라."
   ]
  },
  {
   "cell_type": "code",
   "execution_count": 118,
   "id": "279fc060-aa0e-4040-86ab-d17deada9d35",
   "metadata": {},
   "outputs": [],
   "source": [
    "def returnNewArray(list):\n",
    "    return list[1:-1]"
   ]
  },
  {
   "cell_type": "markdown",
   "id": "b404de61-3412-4da6-b815-f1a5952abc15",
   "metadata": {},
   "source": [
    "* 배열을 인자로 받아 오름차순으로 정렬되어 있으면 True를 반환하고, 아니면 False를 반환하는 함수를 작성하라."
   ]
  },
  {
   "cell_type": "code",
   "execution_count": 143,
   "id": "7b8a22b9-6e5c-4d60-829a-ab20371cd81d",
   "metadata": {},
   "outputs": [],
   "source": [
    "def findIfArraySorted(list):\n",
    "    for i in range(len(list)-1):\n",
    "        if list[i] > list[i+1]:\n",
    "            return False\n",
    "    return True"
   ]
  },
  {
   "cell_type": "markdown",
   "id": "a7a5ffb6-62fa-4d55-ab84-348053620e67",
   "metadata": {},
   "source": [
    "* https://leetcode.com/problems/minimum-sum-of-four-digit-number-after-splitting-digits/description/\n",
    "* https://leetcode.com/problems/counting-bits/description/\n",
    "* https://leetcode.com/problems/max-increase-to-keep-city-skyline/description/\n",
    "* https://leetcode.com/problems/number-of-arithmetic-triplets/description/"
   ]
  },
  {
   "cell_type": "code",
   "execution_count": 172,
   "id": "e5b9fbf9-5283-4e18-b9f0-37cf882d3e59",
   "metadata": {},
   "outputs": [],
   "source": [
    "# sorted 함수 미사용 \n",
    "def minimumSum(num):\n",
    "    num = [int(char) for char in str(num)]\n",
    "    lst = [num[0], num[1]] if num[0] <= num[1] else [num[1], num[0]] \n",
    "    for i in range(2, len(num)):\n",
    "        if num[i] < lst[0]:\n",
    "            lst = [num[i]] + lst\n",
    "        elif lst[1] > num[i] >= lst[0]:\n",
    "            lst = [lst[0]] + [num[i]] + lst[1:]\n",
    "        else:\n",
    "            lst.append(num[i])\n",
    "    return lst[0] * 10 + lst[1] * 10 + lst[2] + lst[3]"
   ]
  },
  {
   "cell_type": "code",
   "execution_count": 192,
   "id": "8c610947-3642-49bd-ba8d-63ae1539e426",
   "metadata": {},
   "outputs": [],
   "source": [
    "# sorted 함수 사용 \n",
    "def minimumSum(num):\n",
    "    num = sorted([int(char) for char in str(num)])\n",
    "    return num[0] * 10 + num[1] * 10 + num[2] + num[3]"
   ]
  },
  {
   "cell_type": "code",
   "execution_count": 87,
   "id": "3c4bc34d-ba37-4f9c-8a86-6c9c34759fa7",
   "metadata": {},
   "outputs": [],
   "source": [
    "def countBits(n):\n",
    "    answer = [0, 1]\n",
    "    if n == 0:\n",
    "        return [answer[0]]\n",
    "    for i in range(n+1)[2::]:\n",
    "        index = i // 2\n",
    "        answer.append(answer[index] + i%2)\n",
    "    return answer"
   ]
  },
  {
   "cell_type": "code",
   "execution_count": null,
   "id": "864d58b8-a6d9-44d1-8676-193d8dec49b3",
   "metadata": {},
   "outputs": [],
   "source": [
    "def maxIncreaseKeepingSkyline(grid):\n",
    "    answer = 0\n",
    "    for i in range(len(grid)):\n",
    "        for j in range(len(grid)):\n",
    "            answer += abs(grid[i][j] - min(max(grid[i]), max([row[j] for row in grid])))\n",
    "    return answer"
   ]
  },
  {
   "cell_type": "code",
   "execution_count": null,
   "id": "556effe6-a7f6-4c74-b543-22417415efde",
   "metadata": {},
   "outputs": [],
   "source": [
    "# 시간 복잡도 줄이기 \n",
    "def maxIncreaseKeepingSkyline(grid):\n",
    "    pass"
   ]
  },
  {
   "cell_type": "markdown",
   "id": "3c393619-beca-4664-8b0e-9ae9bdb918fe",
   "metadata": {},
   "source": [
    "* https://www.acmicpc.net/problem/11659"
   ]
  },
  {
   "cell_type": "code",
   "execution_count": 12,
   "id": "bd5b323e-d7b0-4429-93e5-b23b0170c3d7",
   "metadata": {},
   "outputs": [
    {
     "name": "stdin",
     "output_type": "stream",
     "text": [
      " 5 3\n",
      " 5 4 3 2 1\n"
     ]
    },
    {
     "name": "stdout",
     "output_type": "stream",
     "text": [
      "[5, 9, 12, 14, 15]\n"
     ]
    },
    {
     "name": "stdin",
     "output_type": "stream",
     "text": [
      " 1 3\n"
     ]
    },
    {
     "name": "stdout",
     "output_type": "stream",
     "text": [
      "12\n"
     ]
    },
    {
     "name": "stdin",
     "output_type": "stream",
     "text": [
      " 2 4\n"
     ]
    },
    {
     "name": "stdout",
     "output_type": "stream",
     "text": [
      "9\n"
     ]
    },
    {
     "name": "stdin",
     "output_type": "stream",
     "text": [
      " 5 5\n"
     ]
    },
    {
     "name": "stdout",
     "output_type": "stream",
     "text": [
      "1\n"
     ]
    }
   ],
   "source": [
    "N, M = map(int, input().split(\" \"))\n",
    "nums = list(map(int, input().split(\" \")))\n",
    "for i in range(len(nums))[1:]:\n",
    "    nums[i] = nums[i] + nums[i-1]\n",
    "\n",
    "def printSubsetSum(start, end):\n",
    "    if start == end:\n",
    "        print(1)\n",
    "    elif start == 1:\n",
    "        print(nums[end-1])\n",
    "    else:\n",
    "        print(nums[end-1] - nums[start-2])\n",
    "    \n",
    "for i in range(M):\n",
    "    start, end = map(int, input().split(\" \"))\n",
    "    printSubsetSum(start, end)"
   ]
  },
  {
   "cell_type": "markdown",
   "id": "4921b832-8c9a-4440-a4bb-61222d16f749",
   "metadata": {},
   "source": [
    "* https://www.acmicpc.net/problem/11660"
   ]
  },
  {
   "cell_type": "code",
   "execution_count": 78,
   "id": "704fa433-0b92-4565-8888-b3b2e9993646",
   "metadata": {},
   "outputs": [
    {
     "name": "stdin",
     "output_type": "stream",
     "text": [
      " 4 3\n",
      " 1 2 3 4\n",
      " 2 3 4 5\n",
      " 3 4 5 6\n",
      " 4 5 6 7\n",
      " 1 1 1 1\n"
     ]
    },
    {
     "name": "stdout",
     "output_type": "stream",
     "text": [
      "1\n"
     ]
    },
    {
     "name": "stdin",
     "output_type": "stream",
     "text": [
      " 2 2 3 4\n"
     ]
    },
    {
     "name": "stdout",
     "output_type": "stream",
     "text": [
      "27\n"
     ]
    },
    {
     "name": "stdin",
     "output_type": "stream",
     "text": [
      " 3 3 4 4\n"
     ]
    },
    {
     "name": "stdout",
     "output_type": "stream",
     "text": [
      "24\n"
     ]
    }
   ],
   "source": [
    "# 1차원: 시간 초과\n",
    "n, m = map(int, input().split(' '))\n",
    "mat = []\n",
    "for i in range(n):\n",
    "    mat.append(list(map(int, input().split(' '))))\n",
    "    \n",
    "matSum = []\n",
    "matSum_index = 0\n",
    "for i in range(n):\n",
    "    for j in range(n):\n",
    "        if i == 0 and j == 0:\n",
    "            matSum.append(mat[i][j])\n",
    "        elif i != 0 and j == 0:\n",
    "            matSum.append(matSum[matSum_index -1] + mat[i][j])\n",
    "        else:\n",
    "            matSum.append(matSum[matSum_index -1] + mat[i][j])\n",
    "        matSum_index += 1\n",
    "\n",
    "def findSubsetSum(matSum, x1, y1, x2, y2):    \n",
    "    answer = 0\n",
    "    plus_index = n * (x2-1) + y2 - 1\n",
    "    minus_index = n * (x2-1) + y1 - 2\n",
    "    \n",
    "    for i in range(x2 - x1+1):\n",
    "        if minus_index >= 0:\n",
    "            answer += matSum[plus_index] \n",
    "            answer -= matSum[minus_index]\n",
    "        else:\n",
    "            answer += matSum[plus_index]\n",
    "        plus_index -= n\n",
    "        minus_index -= n\n",
    "    return answer \n",
    "\n",
    "for i in range(m):\n",
    "    x1, y1, x2, y2 = map(int, input().split(' '))\n",
    "    answer = findSubsetSum(matSum, x1, y1, x2, y2)\n",
    "    print(answer)"
   ]
  },
  {
   "cell_type": "code",
   "execution_count": 110,
   "id": "51a11246-0670-4cee-8334-31b411a6eaeb",
   "metadata": {},
   "outputs": [
    {
     "name": "stdin",
     "output_type": "stream",
     "text": [
      " 4 3\n",
      " 1 2 3 4\n",
      " 2 3 4 5\n",
      " 3 4 5 6\n",
      " 4 5 6 7\n",
      " 1 1 1 1\n"
     ]
    },
    {
     "name": "stdout",
     "output_type": "stream",
     "text": [
      "1\n"
     ]
    },
    {
     "name": "stdin",
     "output_type": "stream",
     "text": [
      " 4 4 4 4\n"
     ]
    },
    {
     "name": "stdout",
     "output_type": "stream",
     "text": [
      "7\n"
     ]
    },
    {
     "name": "stdin",
     "output_type": "stream",
     "text": [
      " 2 2 3 4\n"
     ]
    },
    {
     "name": "stdout",
     "output_type": "stream",
     "text": [
      "27\n"
     ]
    }
   ],
   "source": [
    "# hint: prefix sum\n",
    "import sys\n",
    "input = sys.stdin.readline\n",
    "\n",
    "n, m = map(int, input().split())\n",
    "mat = []\n",
    "for _ in range(n):\n",
    "    mat.append(list(map(int, input().split())))\n",
    "\n",
    "matSum = [[mat[x][0]] + [0 for _ in range(n-1)] for x in range(n)]\n",
    "\n",
    "# add by rows\n",
    "for i in range(n):\n",
    "    for j in range(n-1):\n",
    "        matSum[i][j+1] = matSum[i][j] + mat[i][j+1]\n",
    "\n",
    "# add by cols\n",
    "for i in range(n-1):\n",
    "    for j in range(n):\n",
    "        matSum[i+1][j] = matSum[i][j] + matSum[i+1][j]\n",
    "        \n",
    "for i in range(m):\n",
    "    row1, col1, row2, col2 = map(int, input().split(' '))\n",
    "    if row1 == 1 and col1 == 1 and row2 == 1 and col2 == 1:\n",
    "        print(matSum[0][0])\n",
    "    else:\n",
    "        print(matSum[row2-1][col2-1] - matSum[row2-1][col1-2] - matSum[row1-2][col2-1] + matSum[row1-2][col1-2])"
   ]
  },
  {
   "cell_type": "code",
   "execution_count": 1,
   "id": "00fdbee4-4ba0-4e32-a213-ab96929dd41d",
   "metadata": {},
   "outputs": [
    {
     "name": "stdin",
     "output_type": "stream",
     "text": [
      " 4 3\n",
      " 1 2 3 4\n",
      " 2 3 4 5\n",
      " 3 4 5 6\n",
      " 4 5 6 7\n",
      " 1 1 1 1\n"
     ]
    },
    {
     "name": "stdout",
     "output_type": "stream",
     "text": [
      "1\n"
     ]
    },
    {
     "name": "stdin",
     "output_type": "stream",
     "text": [
      " 2 2 3 4\n"
     ]
    },
    {
     "name": "stdout",
     "output_type": "stream",
     "text": [
      "27\n"
     ]
    },
    {
     "name": "stdin",
     "output_type": "stream",
     "text": [
      " 4 4 4 4\n"
     ]
    },
    {
     "name": "stdout",
     "output_type": "stream",
     "text": [
      "7\n"
     ]
    }
   ],
   "source": [
    "n, m = map(int, input().split())\n",
    "\n",
    "mat = []\n",
    "for i in range(n):\n",
    "    mat.append(list(map(int, input().split())))\n",
    "    \n",
    "matSum = [[0]*(n+1) for i in range(n+1)]\n",
    "\n",
    "for i in range(1, n+1):\n",
    "    for j in range(1, n+1):\n",
    "        matSum[i][j] = matSum[i-1][j] + matSum[i][j-1] + mat[i-1][j-1] - matSum[i-1][j-1]\n",
    "        \n",
    "for i in range(m):\n",
    "    row1, col1, row2, col2 = map(int,input().split())\n",
    "    print(matSum[row2][col2] - matSum[row2][col1-1] -matSum[row1-1][col2] + matSum[row1-1][col1-1])"
   ]
  },
  {
   "cell_type": "markdown",
   "id": "6f29b1b6-948c-432e-b5c5-c43fab72c377",
   "metadata": {},
   "source": [
    "* https://www.acmicpc.net/problem/2018"
   ]
  },
  {
   "cell_type": "code",
   "execution_count": 29,
   "id": "8c8f7c1b-490d-4dd6-ae6e-3254cef83d53",
   "metadata": {},
   "outputs": [
    {
     "name": "stdin",
     "output_type": "stream",
     "text": [
      " 15\n"
     ]
    },
    {
     "name": "stdout",
     "output_type": "stream",
     "text": [
      "4\n"
     ]
    }
   ],
   "source": [
    "n = int(input())\n",
    "\n",
    "nSum = {}\n",
    "for _ in range(1,n+1):\n",
    "    nSum[_] = 0\n",
    "\n",
    "for i in range(1, n//2+1):\n",
    "    sum = 0\n",
    "    increasing = i\n",
    "    while sum < n:\n",
    "        sum += increasing\n",
    "        if sum <= n:\n",
    "            nSum[sum] += 1\n",
    "            increasing += 1\n",
    "\n",
    "print(nSum[n]+1)  "
   ]
  },
  {
   "cell_type": "code",
   "execution_count": 70,
   "id": "fcaf9ef9-087a-4458-a5fa-9cfe0260ec3b",
   "metadata": {},
   "outputs": [
    {
     "name": "stdin",
     "output_type": "stream",
     "text": [
      " 15\n"
     ]
    },
    {
     "name": "stdout",
     "output_type": "stream",
     "text": [
      "4\n"
     ]
    }
   ],
   "source": [
    "n = int(input())\n",
    "count, nSum = 1,1\n",
    "start, end = 1,1\n",
    "\n",
    "while end < n//2+2:\n",
    "    if nSum == n:\n",
    "        end += 1\n",
    "        count += 1\n",
    "        nSum += end\n",
    "    elif nSum > n:\n",
    "        nSum -= start\n",
    "        start += 1\n",
    "    else: # nSum < n\n",
    "        end += 1\n",
    "        nSum += end\n",
    "print(count)"
   ]
  },
  {
   "cell_type": "markdown",
   "id": "a840d29a-93c7-41db-ab93-12fde1091fac",
   "metadata": {},
   "source": [
    "* https://www.acmicpc.net/problem/1940"
   ]
  },
  {
   "cell_type": "code",
   "execution_count": null,
   "id": "40266645-c7bc-420d-8799-aa70f65b480c",
   "metadata": {},
   "outputs": [],
   "source": [
    "n = int(input())\n",
    "m = int(input())\n",
    "num = list(map(int, input().split()))\n",
    "\n",
    "num.sort()\n",
    "\n",
    "count = 0\n",
    "start, end = 0, n-1\n",
    "\n",
    "while num[start] < num[end]:\n",
    "    if num[start] + num[end] == m:\n",
    "        count += 1\n",
    "        start += 1\n",
    "        end -= 1\n",
    "    elif num[start] + num[end] < m:\n",
    "        start += 1\n",
    "    else: # num[start] + num[end] < m\n",
    "        end -= 1\n",
    "\n",
    "print(count)"
   ]
  },
  {
   "cell_type": "markdown",
   "id": "d1b7be23-b610-435c-a6cc-f952bab4f25d",
   "metadata": {},
   "source": [
    "* https://leetcode.com/problems/maximum-sum-with-exactly-k-elements/description/"
   ]
  },
  {
   "cell_type": "code",
   "execution_count": 13,
   "id": "e7a1adda-a063-43cf-b2b0-33d3ee4c5542",
   "metadata": {},
   "outputs": [
    {
     "data": {
      "text/plain": [
       "40"
      ]
     },
     "execution_count": 13,
     "metadata": {},
     "output_type": "execute_result"
    }
   ],
   "source": [
    "def maximizeSum(nums, k):\n",
    "    return int(max(nums) * k + ((k-1) * k) / 2)"
   ]
  },
  {
   "cell_type": "markdown",
   "id": "87e7029b-aca2-4ad4-be1c-7d5c10a65048",
   "metadata": {},
   "source": [
    "* https://leetcode.com/problems/minimum-operations-to-make-the-array-increasing/description/"
   ]
  },
  {
   "cell_type": "code",
   "execution_count": 23,
   "id": "2759ca0f-ecad-4faa-920f-64ba5f791876",
   "metadata": {},
   "outputs": [],
   "source": [
    "def minOperations(nums):\n",
    "    increment = 0\n",
    "    if len(nums) == 1:\n",
    "        return increment \n",
    "    for i in range(len(nums)-1):\n",
    "        if nums[i] >= nums[i+1]:\n",
    "            increment += nums[i] - nums[i+1] + 1\n",
    "            nums[i+1] += nums[i] - nums[i+1] + 1\n",
    "    return increment "
   ]
  },
  {
   "cell_type": "markdown",
   "id": "6f5c6d2a-a54f-4863-8214-05f38d9a2003",
   "metadata": {},
   "source": [
    "* https://leetcode.com/problems/longest-subsequence-with-limited-sum/description/"
   ]
  },
  {
   "cell_type": "code",
   "execution_count": 12,
   "id": "422ce269-ac93-4109-84c5-1679715d8a39",
   "metadata": {},
   "outputs": [],
   "source": [
    "def answerQueries(nums, queries):\n",
    "    nums.sort()\n",
    "    for i in range(len(nums)-1):\n",
    "        nums[i+1] += nums[i]\n",
    "    sorted_queries = queries.sort(reverse=True)\n",
    "    for query in sorted_queries:\n",
    "        nums = [:answer + 2]\n",
    "        medianIndex = (len(nums)) // 2\n",
    "        while True:\n",
    "            if medianIndex == len(nums) - 1 or nums[medianIndex] <= query < nums[medianIndex+1]:\n",
    "                answer = medianIndex + 1\n",
    "            else: \n",
    "                # update median Index "
   ]
  },
  {
   "cell_type": "code",
   "execution_count": 28,
   "id": "c331b4d0-1168-4c22-ba97-daa7b1aa355d",
   "metadata": {},
   "outputs": [
    {
     "data": {
      "text/plain": [
       "[12, 7, 3]"
      ]
     },
     "execution_count": 28,
     "metadata": {},
     "output_type": "execute_result"
    }
   ],
   "source": [
    "a = answerQueries([1,2,4,5], [3,10,1])\n",
    "a.sort(reverse=True) \n",
    "a += [None]\n",
    "a[:3]"
   ]
  },
  {
   "cell_type": "code",
   "execution_count": 31,
   "id": "57fdc1d6-b817-4bbe-89da-f7bdea98200c",
   "metadata": {},
   "outputs": [
    {
     "data": {
      "text/plain": [
       "8"
      ]
     },
     "execution_count": 31,
     "metadata": {},
     "output_type": "execute_result"
    }
   ],
   "source": [
    "nums = [1,2,4,5,6,7,8,9,10,11,12]"
   ]
  },
  {
   "cell_type": "code",
   "execution_count": 27,
   "id": "c90a95a2-921f-4504-9e0e-140e706aaa6f",
   "metadata": {},
   "outputs": [
    {
     "data": {
      "text/plain": [
       "0"
      ]
     },
     "execution_count": 27,
     "metadata": {},
     "output_type": "execute_result"
    }
   ],
   "source": [
    "1 // 2"
   ]
  }
 ],
 "metadata": {
  "kernelspec": {
   "display_name": "Python 3 (ipykernel)",
   "language": "python",
   "name": "python3"
  },
  "language_info": {
   "codemirror_mode": {
    "name": "ipython",
    "version": 3
   },
   "file_extension": ".py",
   "mimetype": "text/x-python",
   "name": "python",
   "nbconvert_exporter": "python",
   "pygments_lexer": "ipython3",
   "version": "3.10.11"
  }
 },
 "nbformat": 4,
 "nbformat_minor": 5
}
