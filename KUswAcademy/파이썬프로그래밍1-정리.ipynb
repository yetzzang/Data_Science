{
 "cells": [
  {
   "cell_type": "markdown",
   "id": "72f506be-106d-47fc-a5f8-677ec0df65b4",
   "metadata": {},
   "source": [
    "# Functional Paradigm 함수형 패러다임 "
   ]
  },
  {
   "cell_type": "markdown",
   "id": "97cbfae6-9853-463e-be90-57a4f0b554d2",
   "metadata": {},
   "source": [
    "### 함수형 패러다임이란?\n",
    "* 함수를 일급 객체로 취급하고, 상태와 기변 데이터를 피하면서 함수 조합과 응용 프로그램을 구성하는 스타일 강조\n",
    "* 한개가 아닌 여러개의 값을 사용한다\n",
    "* thus, !!!!!여러개의 값을 쉽게 만들거나, 변화 시킬때 사용 (반복과 결합)\n",
    "\n",
    "* 주요 개념\n",
    "    * first-class function:\n",
    "        * 함수를 이름에 할당 -> 다름 함수의 인자로 전달 -> 함수의 반환값으로 사용\n",
    "        * first class is 값 that can be everything if it can be simplifed into single data, and therefore you can use expressions such as functions  \n",
    "        * thus, this means that we are using the functions as data type\n",
    "    * higher-order functions:\n",
    "        * 함수를 다른 함수의 인자로 받거나 / 함수를 반환하는 함수를 뜻함\n",
    "        * 함수를 조합하여 더 복잡한 동작을 수행\n",
    "        * ex) x()()\n",
    "    * 불변성 immutability:\n",
    "        * 데이터의 불변성을 보장하여 부작용을 최소화\n",
    "        * prefer creating new data rather than chaning existing data\n",
    "    * pure functions:\n",
    "        * side effect가 없는 함수\n",
    "        * 함수의 실행이 항상 같은 인자로 호출될 때 동일한 결과를 반환\n",
    "        * 외부 상태에 영향을 주지 않는 함수\n",
    "        * 상태란? 어떤 시점에서 시스템 또는 객체가 가지고 있는 데이터의 현재 상황이나 조건을 의미\n",
    "            * 주로 변수나 객체의 속성을 표현되며, 이러한 상태의 변화는 프로그램의 실행 과정에서 발생할 수 있다\n",
    "            * 객체지향 프로그래밍에서 객체의 상태는 해당 객체가 가지고 있는 속성의 값들로 표현된다  \n",
    "    * recursion:\n",
    "        * 반복문 대신 재귀적 호출을 사용   "
   ]
  },
  {
   "cell_type": "markdown",
   "id": "383985d1-1d6b-4aca-b3e2-0601e6cfbb21",
   "metadata": {},
   "source": [
    "### 명령형 프로그래밍이란? \n",
    "* 명령어의 연속으로 구성\n",
    "* opposite of functional paradigm  \n",
    "* python is also the part of it\n",
    "\n",
    "  \n",
    "* 특징:\n",
    "    * 상태 state:\n",
    "        * 프로그램 도중에 상태를 변경 가능 -> this means that we can change the values of variable or data structure\n",
    "    * 명령문 statements:\n",
    "        * 각각의 명령문은 컴퓨터에게 수행할 특정 작업을 지정하며, 일반적으로 순차적으로 진행된다\n",
    "    * side effects:\n",
    "        * 함수 호출이 예측할 수 없는 부작용을 일으킬 수 있다. 외부 상태를 변경할 있다 -> this means that other parts can be also affected\n",
    "    * 변수 variable:\n",
    "        * variables are dynamic/mutuable that the values can be changed during the program    "
   ]
  },
  {
   "cell_type": "markdown",
   "id": "1a116835-3f86-4e32-919e-85e0cb14db63",
   "metadata": {},
   "source": [
    "### 객체지향 프로그래밍 (OOP) 이란?\n",
    "   * 객체지향 프로그래밍이란? 객체들의 집합으로 구성 -> 객체들의 상호작용으로 통해 프로그램 설계\n",
    "\n",
    "* 특징\n",
    "    * Object 객체:\n",
    "        * 상태  state + 행위 method\n",
    "        * ex) 자동자 객체의 상태 = 속도, 생상, 모델; 행위 = 주행, 정지, 가속\n",
    "        * 속성 attribute:\n",
    "            * 객체가 가지고 있는 데이터나 상태\n",
    "            * 객체의 특징을 나타내는 정보를 저장\n",
    "            * 주로 변수로 표현된다\n",
    "        * method\n",
    "            * 객체가 수행할 수 있는 동작이나 행위의 정의\n",
    "            * 메서드는 함수로서, 작업을 수업하는 코드 블럭\n",
    "            * 객체의 속성에 적급하고 조작할 수 있다    \n",
    "    * Class 클래스:\n",
    "        * 객체를 생성하기 위한 설계도/틀\n",
    "        * 클래스는 객체의 공통된 속성 attribute와 행위 method를 정의\n",
    "        * 클래스는 다수의 객체를 생성할 수 있으며, 각 객체는 클래스에서 정의된 속성과 행위를 가짐\n",
    "    * Inhertiance 상속:\n",
    "        * 상위 클래스 (부모 클래스)의 특성을 하위 클래스 (자식 클래스)가 상속 받아 사용. -> 코드의 reusability를 높이고 클래스 간의 계층 구조를 구축\n",
    "    * Polymorphism 다형성:\n",
    "        * 같은 이름의 메서드나 함수가 다른 동작을 할 수 있도록 하는 기능\n",
    "        * thus, 코드의 유연성으로 높이고, 객체간의 상호 교환성을 제공\n",
    "    * encapsulation:\n",
    "        * 객채의 상태와 행위를 하나로 묶고, 외부에서 직접 접근하지 못하도록 정보 은닉을 통해 보호\n",
    "        * thus, 안정성과 유지 보수성을 높힘\n"
   ]
  },
  {
   "cell_type": "markdown",
   "id": "9d98e8ad-f623-4aa6-bebe-9689b5d9a08a",
   "metadata": {},
   "source": [
    "### WHY are we using FP?\n",
    "* 객체지향 부작용:\n",
    "    * 객체의 메서드 호출이 다른 객체나 시스템의 상태를 변경할 수 있기 때문\n",
    "    * BUT FP는 함수의 입력에만 의존하므로 출력에만 영향을 끼침\n",
    "* 병령 및 동시성 프로그래밍:\n",
    "    * 객체지향의 객체 간의 상태 공유와 동기화가 필요할 수 있다.\n",
    "    * 따라서, 병령 및 동시성 프로그래밍이 복잡\n",
    "    * BUT, FP는 상태 변화가 업다\n",
    "    * 따라서, 병령 및 동시성 프로그래밍이 더 쉽고 안전"
   ]
  },
  {
   "cell_type": "markdown",
   "id": "e8ef627d-753b-4901-bd7f-037ead559718",
   "metadata": {},
   "source": [
    "* Question about pure functions in FP where used to not affect the 외부 상태\n",
    "    * learned about local and global\n",
    "    * as local variable does not affect the gloabl variable, FP does not change the global state? \n",
    "    * BUT how / in what process does 객체지향 affect the state variable of such class attribute when 호출 different class method\n",
    "\n",
    "\n",
    "* Question about reusability of FP\n",
    "    * isn't the purpose of function is to reuse the code?\n",
    "    * then, how does the FP enhance the reusability like 객체지향 uses inheritance?\n",
    "    * is the answer for above question is the higher-order function that you can combine the functions by getting the functions with argument?\n",
    "    * related to this, is this the reason why you can minimize the side effects of not changing the state variable by combining functions that consists of argument and return?"
   ]
  },
  {
   "cell_type": "markdown",
   "id": "29a3efed-b604-484b-a057-e3af35644a72",
   "metadata": {},
   "source": [
    "# 1. (Avoiding Flow Control)"
   ]
  },
  {
   "cell_type": "markdown",
   "id": "0eaa703c-19f5-4301-b7f4-f2e8d4599368",
   "metadata": {},
   "source": [
    "*  FP에서는 객체지향에서 흔히 쓰이는 조건문이나 반복문 보다는 함수 호출과 함수 합성을 사용한다.\n",
    "*  why? 흐름을 제어하기 위해\n",
    "*  therefore, we should focus on 'what' rather than 'how'\n",
    "*  then, 이러한 방식은 immutability와 pure functions의 feature를 강조한다\n",
    "*  => 코드의 가독성과 유지보수성을 높힌다 "
   ]
  },
  {
   "cell_type": "markdown",
   "id": "856884e1-1ffe-484a-ac6c-e0d2348d7db2",
   "metadata": {},
   "source": [
    "### 1-1. 함수란?\n",
    "* x()\n",
    "    * 함수: x\n",
    "    * 연산: (); callable\n",
    "    * then, x() = return 값\n",
    "* 특징\n",
    "    * 파이썬에선 return이 되는 것이 없다면 자동적으로 None이 리턴이 되게끔 프로그래밍 되어 있다  "
   ]
  },
  {
   "cell_type": "code",
   "execution_count": 2,
   "id": "84508fbb-15a9-4fa4-a10a-d0c1257d696d",
   "metadata": {},
   "outputs": [],
   "source": [
    "# 함수를 이름에 할당\n",
    "# 파이썬에선 함수도 할당할 수 있기 때문에 identifier 또는 식별자라고 한다 \n",
    "aa = print"
   ]
  },
  {
   "cell_type": "code",
   "execution_count": 3,
   "id": "1c80d25f-5372-497c-91c7-e924f120bcb8",
   "metadata": {},
   "outputs": [
    {
     "data": {
      "text/plain": [
       "'print'"
      ]
     },
     "execution_count": 3,
     "metadata": {},
     "output_type": "execute_result"
    }
   ],
   "source": [
    "aa.__name__"
   ]
  },
  {
   "cell_type": "code",
   "execution_count": 4,
   "id": "2293999a-a407-4b32-8afb-81f2c669a35c",
   "metadata": {},
   "outputs": [
    {
     "data": {
      "text/plain": [
       "'print'"
      ]
     },
     "execution_count": 4,
     "metadata": {},
     "output_type": "execute_result"
    }
   ],
   "source": [
    "aa.__qualname__"
   ]
  },
  {
   "cell_type": "code",
   "execution_count": 5,
   "id": "c1ea9ff0-e355-4b97-945b-21ef372b2eb1",
   "metadata": {},
   "outputs": [],
   "source": [
    "print = 1\n",
    "# 빌트인 함수를 다른 것으로 할당하면 디버깅이 매우 힘들어서 피해야 한다\n",
    "# 위의 sum과 동일한 예시"
   ]
  },
  {
   "cell_type": "code",
   "execution_count": 6,
   "id": "efb41cb7-3b03-49ab-932f-5e9005a26bab",
   "metadata": {},
   "outputs": [
    {
     "data": {
      "text/plain": [
       "1"
      ]
     },
     "execution_count": 6,
     "metadata": {},
     "output_type": "execute_result"
    }
   ],
   "source": [
    "print"
   ]
  },
  {
   "cell_type": "code",
   "execution_count": 7,
   "id": "df1075f1-04f6-4317-b182-c77b9cf2236a",
   "metadata": {},
   "outputs": [
    {
     "name": "stdout",
     "output_type": "stream",
     "text": [
      "문근영\n"
     ]
    }
   ],
   "source": [
    "# Question: \n",
    "# basic reassignment에서는 copy를 하지 않으면 같이 바뀌어 버린다\n",
    "# 하지만 이 경우 바뀌지 않는다? 왜?\n",
    "aa('문근영')"
   ]
  },
  {
   "cell_type": "code",
   "execution_count": 8,
   "id": "d23d8480-bfc2-4716-a519-9e386854991f",
   "metadata": {},
   "outputs": [],
   "source": [
    "del print"
   ]
  },
  {
   "cell_type": "code",
   "execution_count": 9,
   "id": "6783b1ce-ae84-41f6-ae0d-024a4b72ddbf",
   "metadata": {},
   "outputs": [],
   "source": [
    "def x(a):\n",
    "    print(a)"
   ]
  },
  {
   "cell_type": "code",
   "execution_count": 19,
   "id": "52d54c42-3bbf-418d-9d88-39764e00820b",
   "metadata": {},
   "outputs": [],
   "source": [
    "a = x\n",
    "# x is learned of expression, and this expression is function where first class 값 \n",
    "# x = expression = function = first class"
   ]
  },
  {
   "cell_type": "code",
   "execution_count": 16,
   "id": "1fd6a467-7a7f-4e7a-a04d-66dd2605ffad",
   "metadata": {},
   "outputs": [
    {
     "data": {
      "text/plain": [
       "(function, function)"
      ]
     },
     "execution_count": 16,
     "metadata": {},
     "output_type": "execute_result"
    }
   ],
   "source": [
    "type(a), type(x)"
   ]
  },
  {
   "cell_type": "code",
   "execution_count": 12,
   "id": "ada52c09-6f9a-4a18-b51e-2b046e7fd0f0",
   "metadata": {},
   "outputs": [],
   "source": [
    "b = [x]"
   ]
  },
  {
   "cell_type": "code",
   "execution_count": 17,
   "id": "e19ffa1e-5520-4f33-a1db-6fab247344d7",
   "metadata": {},
   "outputs": [
    {
     "name": "stdout",
     "output_type": "stream",
     "text": [
      "4\n"
     ]
    }
   ],
   "source": [
    "b[0](4) \n",
    "# threfore 값이 들어갈 수 있는 자리에 함수를 집어넣을 수 있다 "
   ]
  },
  {
   "cell_type": "markdown",
   "id": "04b2a0af-aa5d-44d2-902f-96893cf94031",
   "metadata": {},
   "source": [
    "### 1-2. Encapsulation "
   ]
  },
  {
   "cell_type": "markdown",
   "id": "f560d9e2-f96b-42b8-af5d-d599533ca2d8",
   "metadata": {},
   "source": [
    "* 반복을 돌 때 하나의 함수를 재사용하면 편리하게 사용할 수 있다\n",
    "* 이처럼, 코드를 하나의 함수로 만들어 묶어버리는 개념을 encapsulation이라고 칭한다\n",
    "* 이것의 장점은 '접근을 제한한다'\n",
    "    * scope: 안에 있는 것을 밖으로 가져갈 수 없다 \n",
    "* => 유지 보수성과 안전성 "
   ]
  },
  {
   "cell_type": "markdown",
   "id": "54676612-209c-4adc-b01a-af81426d24dc",
   "metadata": {},
   "source": [
    "#### LEGB (Local Enclosing Global built In)\n",
    "* global이란?\n",
    "    * 함수 또는 class 안에 포함되지 않은 영역\n",
    "* local이란?\n",
    "    * 함수 또는 class 안의 영역  \n",
    "* 로컬에선 모두 접근이 가능하지만, global에선 안된다\n",
    "* 따라서, 함수 안에 있는 것은 global이 접근 할 수 없다\n",
    "* 함수 실행에서, 로컬에 변수가 존재한다면 로컬에 있는 것을 먼저 찾고, 없다면 global에서 찾는다\n",
    "* global을 열면 builtin이 따라온다. 만약, builtin 함수가 변수의 이름으로 다르게 할당 된 것이 없다면 존재하는 builtin이 따라온다\n",
    "    * ex) sum\n",
    "\n",
    "> 이러한 이유로 인해 state variable들의 변화를 minimize 할 수 있다"
   ]
  },
  {
   "cell_type": "code",
   "execution_count": 21,
   "id": "5cc6e9cc-4408-4d96-920d-1c3cbd0ec87f",
   "metadata": {},
   "outputs": [
    {
     "data": {
      "text/plain": [
       "{'__name__': '__main__',\n",
       " '__doc__': 'Automatically created module for IPython interactive environment',\n",
       " '__package__': None,\n",
       " '__loader__': None,\n",
       " '__spec__': None,\n",
       " '__builtin__': <module 'builtins' (built-in)>,\n",
       " '__builtins__': <module 'builtins' (built-in)>,\n",
       " '_ih': ['',\n",
       "  '# 1. (Avoiding Flow Control)',\n",
       "  '# 함수를 이름에 할당\\n# 파이썬에선 함수도 할당할 수 있기 때문에 identifier 또는 식별자라고 한다 \\naa = print',\n",
       "  'aa.__name__',\n",
       "  'aa.__qualname__',\n",
       "  'print = 1\\n# 빌트인 함수를 다른 것으로 할당하면 디버깅이 매우 힘들어서 피해야 한다\\n# 위의 sum과 동일한 예시',\n",
       "  'print',\n",
       "  \"# Question: \\n# basic reassignment에서는 copy를 하지 않으면 같이 바뀌어 버린다\\n# 하지만 이 경우 바뀌지 않는다? 왜?\\naa('문근영')\",\n",
       "  'del print',\n",
       "  'def x(a):\\n    print(a)',\n",
       "  'a = x',\n",
       "  'type(x)',\n",
       "  'b = [x]',\n",
       "  'b[0](4)',\n",
       "  'type(a)',\n",
       "  'type(a)',\n",
       "  'type(a), type(x)',\n",
       "  'b[0](4) # threfore 값이 들어갈 수 있는 자리에 함수를 집어넣을 수 있다 ',\n",
       "  'a = x\\n# x is learned of expression, and this expression is function where first class 값 \\n# x = expression = function = first class',\n",
       "  'a = x\\n# x is learned of expression, and this expression is function where first class 값 \\n# x = expression = function = first class',\n",
       "  'b = 1\\ndef a():\\n    return b',\n",
       "  '# 현재 내가 사용하고 있는 모든 글로벌들을 확인 가능\\nglobals()'],\n",
       " '_oh': {3: 'print',\n",
       "  4: 'print',\n",
       "  6: 1,\n",
       "  11: function,\n",
       "  14: function,\n",
       "  15: function,\n",
       "  16: (function, function)},\n",
       " '_dh': [WindowsPath('C:/data_sci/swAcademy')],\n",
       " 'In': ['',\n",
       "  '# 1. (Avoiding Flow Control)',\n",
       "  '# 함수를 이름에 할당\\n# 파이썬에선 함수도 할당할 수 있기 때문에 identifier 또는 식별자라고 한다 \\naa = print',\n",
       "  'aa.__name__',\n",
       "  'aa.__qualname__',\n",
       "  'print = 1\\n# 빌트인 함수를 다른 것으로 할당하면 디버깅이 매우 힘들어서 피해야 한다\\n# 위의 sum과 동일한 예시',\n",
       "  'print',\n",
       "  \"# Question: \\n# basic reassignment에서는 copy를 하지 않으면 같이 바뀌어 버린다\\n# 하지만 이 경우 바뀌지 않는다? 왜?\\naa('문근영')\",\n",
       "  'del print',\n",
       "  'def x(a):\\n    print(a)',\n",
       "  'a = x',\n",
       "  'type(x)',\n",
       "  'b = [x]',\n",
       "  'b[0](4)',\n",
       "  'type(a)',\n",
       "  'type(a)',\n",
       "  'type(a), type(x)',\n",
       "  'b[0](4) # threfore 값이 들어갈 수 있는 자리에 함수를 집어넣을 수 있다 ',\n",
       "  'a = x\\n# x is learned of expression, and this expression is function where first class 값 \\n# x = expression = function = first class',\n",
       "  'a = x\\n# x is learned of expression, and this expression is function where first class 값 \\n# x = expression = function = first class',\n",
       "  'b = 1\\ndef a():\\n    return b',\n",
       "  '# 현재 내가 사용하고 있는 모든 글로벌들을 확인 가능\\nglobals()'],\n",
       " 'Out': {3: 'print',\n",
       "  4: 'print',\n",
       "  6: 1,\n",
       "  11: function,\n",
       "  14: function,\n",
       "  15: function,\n",
       "  16: (function, function)},\n",
       " 'get_ipython': <bound method InteractiveShell.get_ipython of <ipykernel.zmqshell.ZMQInteractiveShell object at 0x000001F0280E4C70>>,\n",
       " 'exit': <IPython.core.autocall.ZMQExitAutocall at 0x1f0280e5810>,\n",
       " 'quit': <IPython.core.autocall.ZMQExitAutocall at 0x1f0280e5810>,\n",
       " 'open': <function io.open(file, mode='r', buffering=-1, encoding=None, errors=None, newline=None, closefd=True, opener=None)>,\n",
       " '_': (function, function),\n",
       " '__': function,\n",
       " '___': function,\n",
       " '__session__': 'C:\\\\data_sci\\\\swAcademy\\\\Untitled.ipynb',\n",
       " '_i': 'b = 1\\ndef a():\\n    return b',\n",
       " '_ii': 'a = x\\n# x is learned of expression, and this expression is function where first class 값 \\n# x = expression = function = first class',\n",
       " '_iii': 'a = x\\n# x is learned of expression, and this expression is function where first class 값 \\n# x = expression = function = first class',\n",
       " '_i1': '# 1. (Avoiding Flow Control)',\n",
       " '_i2': '# 함수를 이름에 할당\\n# 파이썬에선 함수도 할당할 수 있기 때문에 identifier 또는 식별자라고 한다 \\naa = print',\n",
       " 'aa': <function print>,\n",
       " '_i3': 'aa.__name__',\n",
       " '_3': 'print',\n",
       " '_i4': 'aa.__qualname__',\n",
       " '_4': 'print',\n",
       " '_i5': 'print = 1\\n# 빌트인 함수를 다른 것으로 할당하면 디버깅이 매우 힘들어서 피해야 한다\\n# 위의 sum과 동일한 예시',\n",
       " '_i6': 'print',\n",
       " '_6': 1,\n",
       " '_i7': \"# Question: \\n# basic reassignment에서는 copy를 하지 않으면 같이 바뀌어 버린다\\n# 하지만 이 경우 바뀌지 않는다? 왜?\\naa('문근영')\",\n",
       " '_i8': 'del print',\n",
       " '_i9': 'def x(a):\\n    print(a)',\n",
       " 'x': <function __main__.x(a)>,\n",
       " '_i10': 'a = x',\n",
       " 'a': <function __main__.a()>,\n",
       " '_i11': 'type(x)',\n",
       " '_11': function,\n",
       " '_i12': 'b = [x]',\n",
       " 'b': 1,\n",
       " '_i13': 'b[0](4)',\n",
       " '_i14': 'type(a)',\n",
       " '_14': function,\n",
       " '_i15': 'type(a)',\n",
       " '_15': function,\n",
       " '_i16': 'type(a), type(x)',\n",
       " '_16': (function, function),\n",
       " '_i17': 'b[0](4) # threfore 값이 들어갈 수 있는 자리에 함수를 집어넣을 수 있다 ',\n",
       " '_i18': 'a = x\\n# x is learned of expression, and this expression is function where first class 값 \\n# x = expression = function = first class',\n",
       " '_i19': 'a = x\\n# x is learned of expression, and this expression is function where first class 값 \\n# x = expression = function = first class',\n",
       " '_i20': 'b = 1\\ndef a():\\n    return b',\n",
       " '_i21': '# 현재 내가 사용하고 있는 모든 글로벌들을 확인 가능\\nglobals()'}"
      ]
     },
     "execution_count": 21,
     "metadata": {},
     "output_type": "execute_result"
    }
   ],
   "source": [
    "# 현재 내가 사용하고 있는 모든 글로벌들을 확인 가능\n",
    "globals()"
   ]
  },
  {
   "cell_type": "code",
   "execution_count": 22,
   "id": "d6a53e64-e603-4348-87c5-de2d35ddee6e",
   "metadata": {},
   "outputs": [],
   "source": [
    "b = 1\n",
    "def a():\n",
    "    return b"
   ]
  },
  {
   "cell_type": "code",
   "execution_count": 23,
   "id": "66812d2c-a13d-4439-b295-1d552b4d2d8e",
   "metadata": {},
   "outputs": [
    {
     "data": {
      "text/plain": [
       "1"
      ]
     },
     "execution_count": 23,
     "metadata": {},
     "output_type": "execute_result"
    }
   ],
   "source": [
    "a()"
   ]
  },
  {
   "cell_type": "code",
   "execution_count": 25,
   "id": "c9de648d-fb04-43a7-b8f6-41b1eceb6635",
   "metadata": {},
   "outputs": [],
   "source": [
    "b = 1\n",
    "def a():\n",
    "    ttt = 3\n",
    "    return b"
   ]
  },
  {
   "cell_type": "code",
   "execution_count": 26,
   "id": "8a24866f-e854-4861-8f66-8a6c39df6e83",
   "metadata": {},
   "outputs": [
    {
     "data": {
      "text/plain": [
       "1"
      ]
     },
     "execution_count": 26,
     "metadata": {},
     "output_type": "execute_result"
    }
   ],
   "source": [
    "a()"
   ]
  },
  {
   "cell_type": "code",
   "execution_count": 27,
   "id": "b704bbb2-e779-4275-b019-d2d37eaf8039",
   "metadata": {},
   "outputs": [
    {
     "ename": "NameError",
     "evalue": "name 'ttt' is not defined",
     "output_type": "error",
     "traceback": [
      "\u001b[1;31m---------------------------------------------------------------------------\u001b[0m",
      "\u001b[1;31mNameError\u001b[0m                                 Traceback (most recent call last)",
      "Cell \u001b[1;32mIn[27], line 1\u001b[0m\n\u001b[1;32m----> 1\u001b[0m \u001b[43mttt\u001b[49m\n",
      "\u001b[1;31mNameError\u001b[0m: name 'ttt' is not defined"
     ]
    }
   ],
   "source": [
    "ttt\n",
    "# NameError: name 'ttt' is not defined\n",
    "# local에 있기 때문에 불러올 수 없음 "
   ]
  },
  {
   "cell_type": "code",
   "execution_count": 28,
   "id": "4dc81c48-77ad-4e0c-935d-abd595fd9b8b",
   "metadata": {},
   "outputs": [],
   "source": [
    "b = 1\n",
    "def a():\n",
    "    ttt = 3\n",
    "    b = 2\n",
    "    return b"
   ]
  },
  {
   "cell_type": "code",
   "execution_count": 30,
   "id": "e6392470-c224-405c-8510-0ae128f1c007",
   "metadata": {},
   "outputs": [
    {
     "data": {
      "text/plain": [
       "2"
      ]
     },
     "execution_count": 30,
     "metadata": {},
     "output_type": "execute_result"
    }
   ],
   "source": [
    "a()\n",
    "# local에 똑같은 b variable이 있기 때문에\n",
    "# local에 먼저 접근 "
   ]
  },
  {
   "cell_type": "code",
   "execution_count": 31,
   "id": "9cf517d5-2f41-4c84-a88b-be7eaf57e463",
   "metadata": {},
   "outputs": [
    {
     "data": {
      "text/plain": [
       "0"
      ]
     },
     "execution_count": 31,
     "metadata": {},
     "output_type": "execute_result"
    }
   ],
   "source": [
    "# sum: 내장함수\n",
    "sum = 0 # builtins : sum\n",
    "sum\n",
    "# gloabl에 있는 sum이 있기 때문에 빌트인 sum 함수는 0이 된다\n",
    "# therefore local <- global <- builtin "
   ]
  },
  {
   "cell_type": "code",
   "execution_count": 32,
   "id": "35f80020-cc87-410e-ac77-2cc14fe626f6",
   "metadata": {},
   "outputs": [],
   "source": [
    "del sum\n",
    "# gloabl에서 먼저 찾고 없다면 builtin으로 넘어가게 된다"
   ]
  },
  {
   "cell_type": "markdown",
   "id": "16867e17-3cb3-41fc-9d3f-a463ee621228",
   "metadata": {},
   "source": [
    "### 1-3. Comprehension"
   ]
  },
  {
   "cell_type": "markdown",
   "id": "0d7dc0fd-6129-4622-8bf7-a0459478bf7e",
   "metadata": {},
   "source": [
    "* 함수형 패러다임은 '문/문장' 보다 '식'을 선호한다\n",
    "* why? 속도도 빠르고 메모리도 절감\n",
    "* also 코드가 more easily readable to focus on 'what' rather than 'how'\n",
    "* 단점이라면 메모리를 크게 잡아 먹어 대규모 딥러닝에선 힘들어 질 수도 있다\n",
    "    * how? 숫자가 너무 크면 가상 메모리를 생성해서 사용\n",
    "    * note: 바이트에 따라 다르기 때문에 영상처리는 주로 X, 자연어처리는 가능할 수도 있다  \n",
    "* 세가지 종류: list, set, dict\n",
    "    * 공통점: mutuable\n",
    "* NOTE: FP는 mutuable data type을 싫어한다. 하지만 파이썬 언어의 특성 때문에 어쩔 수 없다 "
   ]
  },
  {
   "cell_type": "code",
   "execution_count": 33,
   "id": "5ed71f71-d1e5-4a81-8c23-fa215117c589",
   "metadata": {},
   "outputs": [
    {
     "name": "stdout",
     "output_type": "stream",
     "text": [
      "15.5 µs ± 784 ns per loop (mean ± std. dev. of 7 runs, 100,000 loops each)\n"
     ]
    }
   ],
   "source": [
    "%%timeit\n",
    "temp = []\n",
    "for i in range(100):\n",
    "    temp.append(i)\n",
    "temp"
   ]
  },
  {
   "cell_type": "code",
   "execution_count": 35,
   "id": "53522957-4d43-4887-9308-7c68db156e45",
   "metadata": {},
   "outputs": [
    {
     "name": "stdout",
     "output_type": "stream",
     "text": [
      "7.2 µs ± 359 ns per loop (mean ± std. dev. of 7 runs, 100,000 loops each)\n"
     ]
    }
   ],
   "source": [
    "%timeit [i for i in range(100)]  # haskell 차용 문법 "
   ]
  },
  {
   "cell_type": "code",
   "execution_count": 38,
   "id": "7bd3dcd8-c6ac-474d-a2ac-99f2e3619015",
   "metadata": {},
   "outputs": [
    {
     "ename": "NameError",
     "evalue": "name 'i' is not defined",
     "output_type": "error",
     "traceback": [
      "\u001b[1;31m---------------------------------------------------------------------------\u001b[0m",
      "\u001b[1;31mNameError\u001b[0m                                 Traceback (most recent call last)",
      "Cell \u001b[1;32mIn[38], line 1\u001b[0m\n\u001b[1;32m----> 1\u001b[0m \u001b[43mi\u001b[49m\n\u001b[0;32m      2\u001b[0m \u001b[38;5;66;03m# NameError: name 'i' is not defined\u001b[39;00m\n\u001b[0;32m      3\u001b[0m \u001b[38;5;66;03m# scope where i is local in comrehension \u001b[39;00m\n",
      "\u001b[1;31mNameError\u001b[0m: name 'i' is not defined"
     ]
    }
   ],
   "source": [
    "i\n",
    "# NameError: name 'i' is not defined\n",
    "# scope where i is local in comrehension "
   ]
  },
  {
   "cell_type": "code",
   "execution_count": 39,
   "id": "7951d6e6-3920-472d-8ea3-adf12e34aa69",
   "metadata": {},
   "outputs": [
    {
     "data": {
      "text/plain": [
       "[0, 1, 2, 3, 4, 5, 6, 7, 8, 9]"
      ]
     },
     "execution_count": 39,
     "metadata": {},
     "output_type": "execute_result"
    }
   ],
   "source": [
    "a = [i for i in range(10)]\n",
    "a"
   ]
  },
  {
   "cell_type": "code",
   "execution_count": 40,
   "id": "7e1530c3-9525-4f5a-a699-107182cece31",
   "metadata": {},
   "outputs": [
    {
     "data": {
      "text/plain": [
       "[1, 2, 3, 4, 5, 6, 7, 8, 9, 10]"
      ]
     },
     "execution_count": 40,
     "metadata": {},
     "output_type": "execute_result"
    }
   ],
   "source": [
    "[b+1 for b in a]"
   ]
  },
  {
   "cell_type": "code",
   "execution_count": 41,
   "id": "9256f440-d176-45b5-af89-cfa28eb15d7e",
   "metadata": {},
   "outputs": [
    {
     "data": {
      "text/plain": [
       "[1, 3, 5, 7, 9]"
      ]
     },
     "execution_count": 41,
     "metadata": {},
     "output_type": "execute_result"
    }
   ],
   "source": [
    "[b+1 for b in range(10) if b%2==0]"
   ]
  },
  {
   "cell_type": "code",
   "execution_count": 42,
   "id": "692b8cfd-b3ea-4f0c-976f-6fb146ea0a1e",
   "metadata": {},
   "outputs": [
    {
     "data": {
      "text/plain": [
       "[0, '', 2, '', 4, '', 6, '', 8, '']"
      ]
     },
     "execution_count": 42,
     "metadata": {},
     "output_type": "execute_result"
    }
   ],
   "source": [
    "[b if b%2==0 else '' for b in range(10)] "
   ]
  },
  {
   "cell_type": "code",
   "execution_count": 45,
   "id": "18ce7c93-4487-4898-a097-31b6feb864f8",
   "metadata": {},
   "outputs": [
    {
     "ename": "SyntaxError",
     "evalue": "invalid syntax (179984113.py, line 1)",
     "output_type": "error",
     "traceback": [
      "\u001b[1;36m  Cell \u001b[1;32mIn[45], line 1\u001b[1;36m\u001b[0m\n\u001b[1;33m    [b for b in range(10) if b%2==0 else '']\u001b[0m\n\u001b[1;37m                                    ^\u001b[0m\n\u001b[1;31mSyntaxError\u001b[0m\u001b[1;31m:\u001b[0m invalid syntax\n"
     ]
    }
   ],
   "source": [
    "[b for b in range(10) if b%2==0 else '']"
   ]
  },
  {
   "cell_type": "code",
   "execution_count": 43,
   "id": "14c386bb-266f-4ed7-af3b-a36c2ba9b57e",
   "metadata": {},
   "outputs": [
    {
     "data": {
      "text/plain": [
       "[(11, 0),\n",
       " (12, 0),\n",
       " (13, 0),\n",
       " (14, 0),\n",
       " (15, 0),\n",
       " (16, 0),\n",
       " (17, 0),\n",
       " (18, 0),\n",
       " (19, 0),\n",
       " (11, 1),\n",
       " (12, 1),\n",
       " (13, 1),\n",
       " (14, 1),\n",
       " (15, 1),\n",
       " (16, 1),\n",
       " (17, 1),\n",
       " (18, 1),\n",
       " (19, 1),\n",
       " (11, 2),\n",
       " (12, 2),\n",
       " (13, 2),\n",
       " (14, 2),\n",
       " (15, 2),\n",
       " (16, 2),\n",
       " (17, 2),\n",
       " (18, 2),\n",
       " (19, 2),\n",
       " (11, 3),\n",
       " (12, 3),\n",
       " (13, 3),\n",
       " (14, 3),\n",
       " (15, 3),\n",
       " (16, 3),\n",
       " (17, 3),\n",
       " (18, 3),\n",
       " (19, 3),\n",
       " (11, 4),\n",
       " (12, 4),\n",
       " (13, 4),\n",
       " (14, 4),\n",
       " (15, 4),\n",
       " (16, 4),\n",
       " (17, 4),\n",
       " (18, 4),\n",
       " (19, 4),\n",
       " (11, 5),\n",
       " (12, 5),\n",
       " (13, 5),\n",
       " (14, 5),\n",
       " (15, 5),\n",
       " (16, 5),\n",
       " (17, 5),\n",
       " (18, 5),\n",
       " (19, 5),\n",
       " (11, 6),\n",
       " (12, 6),\n",
       " (13, 6),\n",
       " (14, 6),\n",
       " (15, 6),\n",
       " (16, 6),\n",
       " (17, 6),\n",
       " (18, 6),\n",
       " (19, 6),\n",
       " (11, 7),\n",
       " (12, 7),\n",
       " (13, 7),\n",
       " (14, 7),\n",
       " (15, 7),\n",
       " (16, 7),\n",
       " (17, 7),\n",
       " (18, 7),\n",
       " (19, 7),\n",
       " (11, 8),\n",
       " (12, 8),\n",
       " (13, 8),\n",
       " (14, 8),\n",
       " (15, 8),\n",
       " (16, 8),\n",
       " (17, 8),\n",
       " (18, 8),\n",
       " (19, 8),\n",
       " (11, 9),\n",
       " (12, 9),\n",
       " (13, 9),\n",
       " (14, 9),\n",
       " (15, 9),\n",
       " (16, 9),\n",
       " (17, 9),\n",
       " (18, 9),\n",
       " (19, 9)]"
      ]
     },
     "execution_count": 43,
     "metadata": {},
     "output_type": "execute_result"
    }
   ],
   "source": [
    "# 딥러닝 영상처리에서 좌표 평면 딸때 유용하게 쓰인다 \n",
    "[(a,b) for b in range (10) for a in range(11,20)] \n",
    "'''\n",
    "result = []\n",
    "for b in range(10):\n",
    "    for a in range(11, 20):\n",
    "        result.append((a, b))\n",
    "'''"
   ]
  },
  {
   "cell_type": "markdown",
   "id": "7d3bd9c4-2ab5-43b5-b342-b1249ecb0fae",
   "metadata": {},
   "source": [
    "#### Dynamic Typing\n",
    "* data를 할당할 때 앞에 data type을 붙혀야 한다\n",
    "    * ex) java: a = int 1\n",
    "    * 메모리 공간을 미리 할당하기 때문에 메모리 타입을 바꾸기 어렵다\n",
    "* 하지만 파이썬의 내부 구조로 인해 가능하다\n",
    "* why this matter?\n",
    "    * 재할당이 쉽다 bc 파이썬에서 알아서 메모리 공간을 확보해준다\n",
    "    * FP의 immutability와 반대된다\n",
    "    * therefore, we often use numpy / tensorflow\n",
    "* 파이썬에서는 자주 쓰이는 -5 <= x <= 256은 메모리를 공유한다\n",
    "    * why? 파이썬은 속도가 느리기 때문\n",
    "    * therefore, we should check if variables are have same value & address\n",
    "        * 메모리가 같으면 값이 같다\n",
    "        * => 메모리를 체크한다\n",
    "    * if NOT, 'interning'\n",
    "        * 하나의 값을 바꿀 때 다른 이름의 값도 바껴버릴 수 있다 "
   ]
  },
  {
   "cell_type": "code",
   "execution_count": 54,
   "id": "023f0c70-170f-42cf-8352-4b75211fb6ea",
   "metadata": {},
   "outputs": [
    {
     "data": {
      "text/plain": [
       "(2130999922352, 2130999922992)"
      ]
     },
     "execution_count": 54,
     "metadata": {},
     "output_type": "execute_result"
    }
   ],
   "source": [
    "a = 1000\n",
    "b = 1000\n",
    "id(a), id(b)\n",
    "# 메모리 주소가 다름 "
   ]
  },
  {
   "cell_type": "code",
   "execution_count": 55,
   "id": "de14ed07-9c55-48da-83a2-e1342f2e5501",
   "metadata": {},
   "outputs": [
    {
     "data": {
      "text/plain": [
       "True"
      ]
     },
     "execution_count": 55,
     "metadata": {},
     "output_type": "execute_result"
    }
   ],
   "source": [
    "# 값이 같은지 확인\n",
    "a == b\n",
    "# 값은 같음 "
   ]
  },
  {
   "cell_type": "code",
   "execution_count": 57,
   "id": "37809f7c-8b4b-4b56-abe4-4fb4539b5166",
   "metadata": {},
   "outputs": [
    {
     "data": {
      "text/plain": [
       "False"
      ]
     },
     "execution_count": 57,
     "metadata": {},
     "output_type": "execute_result"
    }
   ],
   "source": [
    "# 메모리 주소가 같은지\n",
    "a is b\n",
    "# 메모리 주소는 다름"
   ]
  },
  {
   "cell_type": "code",
   "execution_count": 66,
   "id": "596e8f7a-249a-44c9-9b53-0207c8ccc814",
   "metadata": {},
   "outputs": [
    {
     "data": {
      "text/plain": [
       "(2130923752784, 2130923752784, 2130923749616, 2130923749616)"
      ]
     },
     "execution_count": 66,
     "metadata": {},
     "output_type": "execute_result"
    }
   ],
   "source": [
    "a = 100\n",
    "b = 100\n",
    "c = 1\n",
    "d = 1\n",
    "id(a), id(b), id(c), id(d)"
   ]
  },
  {
   "cell_type": "code",
   "execution_count": 62,
   "id": "b6d6e9f1-01de-4fe3-aff2-dfbfd59def1f",
   "metadata": {},
   "outputs": [
    {
     "data": {
      "text/plain": [
       "(True, False)"
      ]
     },
     "execution_count": 62,
     "metadata": {},
     "output_type": "execute_result"
    }
   ],
   "source": [
    "a == b, a==c"
   ]
  },
  {
   "cell_type": "code",
   "execution_count": 63,
   "id": "168208e7-955d-4b97-aa9f-bf02e2c099ed",
   "metadata": {},
   "outputs": [
    {
     "data": {
      "text/plain": [
       "(True, False)"
      ]
     },
     "execution_count": 63,
     "metadata": {},
     "output_type": "execute_result"
    }
   ],
   "source": [
    "a is b, a is c"
   ]
  },
  {
   "cell_type": "code",
   "execution_count": 68,
   "id": "da345122-f6a7-4254-abb2-ea89798db5be",
   "metadata": {},
   "outputs": [],
   "source": [
    "import sys"
   ]
  },
  {
   "cell_type": "code",
   "execution_count": 70,
   "id": "7e172341-0157-4ae3-ad48-d6ecaa65251f",
   "metadata": {},
   "outputs": [
    {
     "data": {
      "text/plain": [
       "'a'"
      ]
     },
     "execution_count": 70,
     "metadata": {},
     "output_type": "execute_result"
    }
   ],
   "source": [
    "sys.intern('a')"
   ]
  },
  {
   "cell_type": "markdown",
   "id": "b71e8a74-f908-454a-aa9e-0e7cf70d27b1",
   "metadata": {},
   "source": [
    "### 1-4. Mutuable data type: List, Set, Dict"
   ]
  },
  {
   "cell_type": "markdown",
   "id": "6f493ba2-c7e0-4a0f-8688-f8d91df68365",
   "metadata": {},
   "source": [
    "* 특징:\n",
    "    * 재할당을 할 경우, 값이 바뀌어도 메모리 주소가 바뀌지 않는다\n",
    "    * => 새로 할당하지 않고 (메모리 주소를 주지 않고) 값을 변화 할 수 있다\n",
    "    * why matter?\n",
    "        * 선언된 두개의 variable 둘 중 하나만 바껴도 둘 다 바껴버리게 된다\n",
    "        * why? 메모리를 공유하니까\n",
    "\n",
    "> therefore, we should look at the mutuable data type with the PERSPECTIVE of MEMORY\n",
    "> therfore, we should not use mutuable data type in FP except comprehension\n",
    "\n",
    "* 대체:\n",
    "    * list <-> tuple\n",
    "    * set <-> frozenset\n",
    "    * dict <-> 없음  "
   ]
  },
  {
   "cell_type": "code",
   "execution_count": 72,
   "id": "8c8df6d3-40fd-444a-88ae-00a59cf8e8ed",
   "metadata": {},
   "outputs": [],
   "source": [
    "a = 1"
   ]
  },
  {
   "cell_type": "code",
   "execution_count": 73,
   "id": "aef9dd33-982a-438f-b1d6-87e9485536df",
   "metadata": {},
   "outputs": [
    {
     "data": {
      "text/plain": [
       "2130923749616"
      ]
     },
     "execution_count": 73,
     "metadata": {},
     "output_type": "execute_result"
    }
   ],
   "source": [
    "id(a)"
   ]
  },
  {
   "cell_type": "code",
   "execution_count": 75,
   "id": "25190ba8-a074-4ec2-9334-7cf7b9df2f69",
   "metadata": {},
   "outputs": [
    {
     "data": {
      "text/plain": [
       "2130923749648"
      ]
     },
     "execution_count": 75,
     "metadata": {},
     "output_type": "execute_result"
    }
   ],
   "source": [
    "a = 2\n",
    "id(a)\n",
    "# 재할당: 재할당은 일반적으로 값이 바뀌기 때문에 주소가 바뀐다 \n",
    "# 값이 자주 바뀌면 메모리가 그만큼 많이 필요하다 "
   ]
  },
  {
   "cell_type": "code",
   "execution_count": 76,
   "id": "a77a744d-8433-4365-a5f8-4d607e207dca",
   "metadata": {},
   "outputs": [
    {
     "data": {
      "text/plain": [
       "2131000244992"
      ]
     },
     "execution_count": 76,
     "metadata": {},
     "output_type": "execute_result"
    }
   ],
   "source": [
    "x = [1,2,3]\n",
    "id(x)"
   ]
  },
  {
   "cell_type": "code",
   "execution_count": 77,
   "id": "cc937306-f0cd-444e-9149-f8c06471795d",
   "metadata": {},
   "outputs": [
    {
     "data": {
      "text/plain": [
       "[1, 2, 3, 4]"
      ]
     },
     "execution_count": 77,
     "metadata": {},
     "output_type": "execute_result"
    }
   ],
   "source": [
    "x.append(4)\n",
    "x"
   ]
  },
  {
   "cell_type": "code",
   "execution_count": 78,
   "id": "ea946b5d-2422-4d89-84f2-24c65949af94",
   "metadata": {},
   "outputs": [
    {
     "data": {
      "text/plain": [
       "2131000244992"
      ]
     },
     "execution_count": 78,
     "metadata": {},
     "output_type": "execute_result"
    }
   ],
   "source": [
    "id(x)"
   ]
  },
  {
   "cell_type": "code",
   "execution_count": 79,
   "id": "47db1670-14bb-4b64-896e-f89a535a173c",
   "metadata": {},
   "outputs": [
    {
     "data": {
      "text/plain": [
       "2131000244992"
      ]
     },
     "execution_count": 79,
     "metadata": {},
     "output_type": "execute_result"
    }
   ],
   "source": [
    "y = x\n",
    "id(y)"
   ]
  },
  {
   "cell_type": "code",
   "execution_count": 81,
   "id": "748c1a65-909c-4e72-8401-e6ca9010d9b8",
   "metadata": {},
   "outputs": [
    {
     "data": {
      "text/plain": [
       "[100, 2, 3, 4]"
      ]
     },
     "execution_count": 81,
     "metadata": {},
     "output_type": "execute_result"
    }
   ],
   "source": [
    "y[0] = 100\n",
    "x"
   ]
  },
  {
   "cell_type": "code",
   "execution_count": 82,
   "id": "77eaa40a-9634-417b-a774-32cfcfd8ace0",
   "metadata": {},
   "outputs": [],
   "source": [
    "from collections import namedtuple, OrderedDict"
   ]
  },
  {
   "cell_type": "code",
   "execution_count": 84,
   "id": "634f0349-aad1-474c-a457-49fd9f015c85",
   "metadata": {},
   "outputs": [],
   "source": [
    "aa = {'a':1}"
   ]
  },
  {
   "cell_type": "code",
   "execution_count": 85,
   "id": "3c8bf720-2d35-426c-ba04-e79ad6e4d6e5",
   "metadata": {},
   "outputs": [
    {
     "ename": "KeyError",
     "evalue": "'b'",
     "output_type": "error",
     "traceback": [
      "\u001b[1;31m---------------------------------------------------------------------------\u001b[0m",
      "\u001b[1;31mKeyError\u001b[0m                                  Traceback (most recent call last)",
      "Cell \u001b[1;32mIn[85], line 1\u001b[0m\n\u001b[1;32m----> 1\u001b[0m \u001b[43maa\u001b[49m\u001b[43m[\u001b[49m\u001b[38;5;124;43m'\u001b[39;49m\u001b[38;5;124;43mb\u001b[39;49m\u001b[38;5;124;43m'\u001b[39;49m\u001b[43m]\u001b[49m\n",
      "\u001b[1;31mKeyError\u001b[0m: 'b'"
     ]
    }
   ],
   "source": [
    "aa['b']"
   ]
  },
  {
   "cell_type": "code",
   "execution_count": 86,
   "id": "2a9e8aaf-1d3e-4467-b34f-0b96f0cf76b4",
   "metadata": {},
   "outputs": [],
   "source": [
    "aa['b'] = 2\n",
    "# key는 해쉬라서 이런것이 가능"
   ]
  },
  {
   "cell_type": "markdown",
   "id": "25893db7-3edc-410e-b317-342743fa6b0f",
   "metadata": {},
   "source": [
    "### 1-5. Generator"
   ]
  },
  {
   "cell_type": "markdown",
   "id": "316c005f-e16f-483a-9339-89404064180d",
   "metadata": {},
   "source": [
    "* FP는 여러개의 값을 동시에 사용한다\n",
    "* then, there should be a function of 뽑아내는\n",
    "* How effectively? !!순서\n",
    "    * iterable & iterator\n",
    "    * 상황에 따라 앞에서 부터, 뒤에서 부터 정할 수 있다\n",
    "    * but default는 앞에서 부터\n",
    ">\n",
    "> \n",
    "* iterator vs generator\n",
    "    * 공통점:\n",
    "        * 역할이 같다 - 순서대로 뽑아낸다\n",
    "    * 다른점: \n",
    "        * iter는 파이썬에서 내부적으로 제공 받음\n",
    "            * 이미 만들어진 데이터를 하나씩 추출하고 싶을 때 (iter) \n",
    "        * generator는 직접 구현해서 쓴다\n",
    "            * 자유롭게 뽑고 싶을때\n",
    "            * 동적으로 만들고 싶을때\n",
    "              > 데이터 구조를 만들면서 iter를 사용하는 구조를 만들때  \n",
    ">\n",
    "> \n",
    "* Generator를 구현하는 두가지 방법\n",
    "    1. tuple comprehension\n",
    "    2. yield 사용 \n"
   ]
  },
  {
   "cell_type": "code",
   "execution_count": 87,
   "id": "f7c2ea74-419f-4497-a7b3-02b712fda8aa",
   "metadata": {},
   "outputs": [],
   "source": [
    "import dis"
   ]
  },
  {
   "cell_type": "code",
   "execution_count": 88,
   "id": "2a026dac-4967-4891-8e78-1fcfe282db5e",
   "metadata": {},
   "outputs": [],
   "source": [
    "def y():\n",
    "    for i in range(10):\n",
    "        print(i)"
   ]
  },
  {
   "cell_type": "code",
   "execution_count": 89,
   "id": "b6dcc08d-10d3-4228-827a-37b5805f3c43",
   "metadata": {},
   "outputs": [
    {
     "name": "stdout",
     "output_type": "stream",
     "text": [
      "  2           0 LOAD_GLOBAL              0 (range)\n",
      "              2 LOAD_CONST               1 (10)\n",
      "              4 CALL_FUNCTION            1\n",
      "              6 GET_ITER\n",
      "        >>    8 FOR_ITER                 6 (to 22)\n",
      "             10 STORE_FAST               0 (i)\n",
      "\n",
      "  3          12 LOAD_GLOBAL              1 (print)\n",
      "             14 LOAD_FAST                0 (i)\n",
      "             16 CALL_FUNCTION            1\n",
      "             18 POP_TOP\n",
      "             20 JUMP_ABSOLUTE            4 (to 8)\n",
      "\n",
      "  2     >>   22 LOAD_CONST               0 (None)\n",
      "             24 RETURN_VALUE\n"
     ]
    }
   ],
   "source": [
    "dis.dis(y)"
   ]
  },
  {
   "cell_type": "code",
   "execution_count": 95,
   "id": "8dfc23e0-e704-473d-869b-b234916ec728",
   "metadata": {},
   "outputs": [],
   "source": [
    "# 파이썬은 내부적으로 iter를 변환해준다\n",
    "# ex) for in range(10)\n",
    "# 만약 iterable한 아이로 만들어주고 싶다면?\n",
    "a = [1,2,3]\n",
    "b = iter(a)"
   ]
  },
  {
   "cell_type": "code",
   "execution_count": 96,
   "id": "1940ac13-0438-49f7-9b43-9c843cf9282e",
   "metadata": {},
   "outputs": [
    {
     "data": {
      "text/plain": [
       "1"
      ]
     },
     "execution_count": 96,
     "metadata": {},
     "output_type": "execute_result"
    }
   ],
   "source": [
    "next(b)"
   ]
  },
  {
   "cell_type": "code",
   "execution_count": 97,
   "id": "bca3ddb4-52e0-4bc1-a8ee-6815f6c2c0f4",
   "metadata": {},
   "outputs": [
    {
     "data": {
      "text/plain": [
       "2"
      ]
     },
     "execution_count": 97,
     "metadata": {},
     "output_type": "execute_result"
    }
   ],
   "source": [
    "next(b)"
   ]
  },
  {
   "cell_type": "code",
   "execution_count": 98,
   "id": "8e61e96b-c6d1-4d48-8a6e-732fa9d27b22",
   "metadata": {},
   "outputs": [
    {
     "data": {
      "text/plain": [
       "3"
      ]
     },
     "execution_count": 98,
     "metadata": {},
     "output_type": "execute_result"
    }
   ],
   "source": [
    "next(b)"
   ]
  },
  {
   "cell_type": "code",
   "execution_count": 99,
   "id": "57dd5755-16e4-4422-ae06-ca34aa5177ee",
   "metadata": {},
   "outputs": [
    {
     "ename": "StopIteration",
     "evalue": "",
     "output_type": "error",
     "traceback": [
      "\u001b[1;31m---------------------------------------------------------------------------\u001b[0m",
      "\u001b[1;31mStopIteration\u001b[0m                             Traceback (most recent call last)",
      "Cell \u001b[1;32mIn[99], line 1\u001b[0m\n\u001b[1;32m----> 1\u001b[0m \u001b[38;5;28;43mnext\u001b[39;49m\u001b[43m(\u001b[49m\u001b[43mb\u001b[49m\u001b[43m)\u001b[49m\n",
      "\u001b[1;31mStopIteration\u001b[0m: "
     ]
    }
   ],
   "source": [
    "next(b)\n",
    "# StopIteration: \n",
    "# 더이상 뽑아낼 것이 없기 때문에 "
   ]
  },
  {
   "cell_type": "markdown",
   "id": "6b6279a5-db73-4b96-ac7c-50817e70ac89",
   "metadata": {},
   "source": [
    "#### tuple comprehension 구현"
   ]
  },
  {
   "cell_type": "code",
   "execution_count": 100,
   "id": "364be9bc-531b-48d7-9ec3-d7a2c7704180",
   "metadata": {},
   "outputs": [
    {
     "data": {
      "text/plain": [
       "<generator object <genexpr> at 0x000001F02986DBD0>"
      ]
     },
     "execution_count": 100,
     "metadata": {},
     "output_type": "execute_result"
    }
   ],
   "source": [
    "c = (i for i in range(10))\n",
    "c"
   ]
  },
  {
   "cell_type": "code",
   "execution_count": 101,
   "id": "43645bc3-2a08-457d-8011-f5c68854296b",
   "metadata": {},
   "outputs": [
    {
     "data": {
      "text/plain": [
       "(0, 1, 2)"
      ]
     },
     "execution_count": 101,
     "metadata": {},
     "output_type": "execute_result"
    }
   ],
   "source": [
    "next(c), next(c), next(c)"
   ]
  },
  {
   "cell_type": "markdown",
   "id": "3b1c1eee-460c-4b6e-9cf7-23e09f1d8c98",
   "metadata": {},
   "source": [
    "#### yield 구현"
   ]
  },
  {
   "cell_type": "code",
   "execution_count": 107,
   "id": "ceb162db-6531-44be-a58e-27bb87f7061b",
   "metadata": {},
   "outputs": [],
   "source": [
    "def z():\n",
    "    yield 1\n",
    "    yield 2"
   ]
  },
  {
   "cell_type": "code",
   "execution_count": 108,
   "id": "141cf03e-a2d9-4209-9c0c-f3eb71fdef0b",
   "metadata": {},
   "outputs": [],
   "source": [
    "zz = z()"
   ]
  },
  {
   "cell_type": "code",
   "execution_count": 109,
   "id": "ed241c07-5fc6-4a8b-8c58-ea50709a1008",
   "metadata": {},
   "outputs": [
    {
     "data": {
      "text/plain": [
       "<generator object z at 0x000001F02986D3F0>"
      ]
     },
     "execution_count": 109,
     "metadata": {},
     "output_type": "execute_result"
    }
   ],
   "source": [
    "zz "
   ]
  },
  {
   "cell_type": "code",
   "execution_count": 110,
   "id": "78cf4a71-d147-49aa-bff7-9ec7b5b6d191",
   "metadata": {},
   "outputs": [
    {
     "data": {
      "text/plain": [
       "(1, 2)"
      ]
     },
     "execution_count": 110,
     "metadata": {},
     "output_type": "execute_result"
    }
   ],
   "source": [
    "next(zz), next(zz)"
   ]
  },
  {
   "cell_type": "markdown",
   "id": "aa8f0011-fd30-42b4-b9d9-2fac9d3d4bcb",
   "metadata": {},
   "source": [
    "### 1-6. Recursion"
   ]
  },
  {
   "cell_type": "markdown",
   "id": "c26f92c9-ffc8-4440-ab37-52357eb6aeba",
   "metadata": {},
   "source": [
    "* Recursion이란?\n",
    "    * 자기 자신을 불러냄\n",
    "* NOTE:\n",
    "    * 교과서에선 반복문 보단 recursion을 사용하라고 이야기한다\n",
    "    * bc 우아하다 & can focus more on 'what' rather than 'how'\n",
    "    * BUT 파이썬에선 최대한 사용을 지양해야 한다\n",
    "    * why?\n",
    "        * stack의 특성 때문에 stackoverflow에 걸리기 쉽다\n",
    "        * stackoverflow란?\n",
    "            * stack 담던 내용이 흘러 넘친다 \n",
    "        * 따라서, 작은 범위의 데이터는 괜찮지만 크기가 커지면 불리하다\n",
    "        * this means that this is not appropriate for deep learning or big data\n",
    "    > then, we use efficiently use 'for' loop & 'dynamic programming' technique\n",
    "    > we use 'tail recursion elimination'\n",
    ">\n",
    "* tail recursion elimination이란?\n",
    "    * 딱 하나의 캐시만 사용\n",
    "    * cache란?\n",
    "        * 임시로 계산한 값들을 저장\n",
    "    * in other words, 재귀 호출 후에 바로 반환 ('꼬리 재귀'를 인식) -> 이를 반복문으로 변환 -> 스택 오버플로우 방지 \n",
    "\n",
    ">\n",
    "* stack이란?\n",
    "    * 여러개를 동시에 실행할 때 임시 공간에 넣어두고 하나씩 실행한다\n",
    "    * 주로 C언어로 구현되었다\n",
    "    * lambda도 stack의 영역이다 => 휘발성\n",
    "    * stack과 반대되는 영역은 heap; but 메모리를 계속 사용한다\n",
    ">\n",
    "* Side NOTE:\n",
    "    * Python은 C언어 구현된 프로그래밍 언어로 명세서에 가깝다\n",
    "    * PyPy: 파이썬으로 만든 파이썬\n",
    "        * stackless\n",
    "    * numpy는 C 언어로 만들어졌다\n",
    "    * and therefore, 파이썬은 파이썬의 탈을 쓴 C언어가 많다 \n"
   ]
  },
  {
   "cell_type": "code",
   "execution_count": 111,
   "id": "5f61beda-f3cf-4832-ba71-a13705331821",
   "metadata": {},
   "outputs": [],
   "source": [
    "# recursion의 예시 \n",
    "# 피보나치 수열: 1 3 5 7 9\n",
    "def t(x):\n",
    "    if x ==1:\n",
    "        return 1\n",
    "    return t(x-1)+2"
   ]
  },
  {
   "cell_type": "code",
   "execution_count": 112,
   "id": "0c3af676-a9df-4cd0-9888-acbb50be7ab6",
   "metadata": {},
   "outputs": [
    {
     "data": {
      "text/plain": [
       "5"
      ]
     },
     "execution_count": 112,
     "metadata": {},
     "output_type": "execute_result"
    }
   ],
   "source": [
    "t(3)\n",
    "# t(3-1) + 2 = t(2) + 2 <*> -> t(2-1) + 2 = t(1) + 2  <**> \n",
    "# -> 1 -> 1 + 2 = 3 <**> -> 3 + 2 = 5 <*>\n",
    "# in the stack [<*>, ,<**>] 이렇게 아직 실행되지 않은채 아직 쌓여있음\n",
    "# 이것이 끝에 도달하면 하나씩 실행된다 "
   ]
  },
  {
   "cell_type": "code",
   "execution_count": 114,
   "id": "71b3938e-6213-4f24-9ba1-ce5088e0f572",
   "metadata": {},
   "outputs": [],
   "source": [
    "def recursive_function(n):\n",
    "    if n == 0:\n",
    "        return 0\n",
    "    else:\n",
    "        return n + recursive_function(n - 1)"
   ]
  },
  {
   "cell_type": "code",
   "execution_count": 116,
   "id": "0ab3b97f-1ad6-4119-b609-f7837cd8dd86",
   "metadata": {},
   "outputs": [
    {
     "data": {
      "text/plain": [
       "6"
      ]
     },
     "execution_count": 116,
     "metadata": {},
     "output_type": "execute_result"
    }
   ],
   "source": [
    "recursive_function(3)"
   ]
  },
  {
   "cell_type": "markdown",
   "id": "27e66ede-e848-4bf9-8be3-955df224a2c7",
   "metadata": {},
   "source": [
    "### 1-7. Higher-Order Function"
   ]
  },
  {
   "cell_type": "markdown",
   "id": "9dbd4300-11ff-4d8f-81b3-956f514bbc42",
   "metadata": {},
   "source": [
    "* higher order function이란?\n",
    "    * 함수 자체가 인자로 들어가고 함수 자체가 반환되는 함수\n",
    "* closoure:\n",
    "    * 하이퍼 파라미터 튜닝 등 모델의 유연성에 유용하게 쓰인다\n",
    "* function closoure = decorator\n",
    "    * tensorflow에서 가장 어렵게 사용되는 AOP 테크닉이 function closure를 활용\n",
    "* lambda 람다\n",
    "    * 람다 대수를 이용한 함수\n",
    "    * 람다 함수: 일회성 -> stack의 휘발성 때문 -> 속도가 떨어진다\n",
    "    * 함수는 '문'이다. 람다는 '식'이다.\n",
    "        * FP는 문장보다 식을 좋아한다 \n",
    "    * => thus, it is 하나의 결과값\n",
    "    * 람다는 익명함수이다. 왜냐면 이름이 없다    "
   ]
  },
  {
   "cell_type": "code",
   "execution_count": 117,
   "id": "51eae0ef-2216-4ba7-8a0b-891daf314278",
   "metadata": {},
   "outputs": [],
   "source": [
    "def y():\n",
    "    print('y')\n",
    "    return y"
   ]
  },
  {
   "cell_type": "code",
   "execution_count": 118,
   "id": "2dacf704-a6b5-4d79-b013-e91de243f5eb",
   "metadata": {},
   "outputs": [
    {
     "name": "stdout",
     "output_type": "stream",
     "text": [
      "y\n"
     ]
    },
    {
     "data": {
      "text/plain": [
       "<function __main__.y()>"
      ]
     },
     "execution_count": 118,
     "metadata": {},
     "output_type": "execute_result"
    }
   ],
   "source": [
    "y()"
   ]
  },
  {
   "cell_type": "code",
   "execution_count": 120,
   "id": "764e318f-bca1-446f-ae5d-83d3fd37ec52",
   "metadata": {},
   "outputs": [
    {
     "name": "stdout",
     "output_type": "stream",
     "text": [
      "y\n",
      "y\n"
     ]
    },
    {
     "data": {
      "text/plain": [
       "<function __main__.y()>"
      ]
     },
     "execution_count": 120,
     "metadata": {},
     "output_type": "execute_result"
    }
   ],
   "source": [
    "y()()\n",
    "# y를 프린트 하고 y가 반환되므로 또 하나의 연산이 가능해진다"
   ]
  },
  {
   "cell_type": "code",
   "execution_count": 121,
   "id": "f08c0b3d-aaa8-49e9-8aa4-d54c09ee2813",
   "metadata": {},
   "outputs": [
    {
     "name": "stdout",
     "output_type": "stream",
     "text": [
      "y\n",
      "y\n",
      "y\n"
     ]
    },
    {
     "data": {
      "text/plain": [
       "<function __main__.y()>"
      ]
     },
     "execution_count": 121,
     "metadata": {},
     "output_type": "execute_result"
    }
   ],
   "source": [
    "y()()()"
   ]
  },
  {
   "cell_type": "markdown",
   "id": "b9a2ed8b-82ed-4174-a857-d19c59f23b91",
   "metadata": {},
   "source": [
    "#### closoure"
   ]
  },
  {
   "cell_type": "code",
   "execution_count": 144,
   "id": "d920f724-4d13-410f-ad09-4224fda7c5df",
   "metadata": {},
   "outputs": [],
   "source": [
    "# 함수의 의미는 재사용 \n",
    "# but why? 함수안에 함수?\n",
    "def t():\n",
    "    def y():\n",
    "        return 1\n",
    "    return y() # y 함수로 연산을; 괄호로 연산을 했기 때문에 "
   ]
  },
  {
   "cell_type": "code",
   "execution_count": 124,
   "id": "2848aa28-6d79-4a39-ba75-3a13301c04dc",
   "metadata": {},
   "outputs": [
    {
     "data": {
      "text/plain": [
       "1"
      ]
     },
     "execution_count": 124,
     "metadata": {},
     "output_type": "execute_result"
    }
   ],
   "source": [
    "t()\n",
    "# 값이 리턴되는 이유는 ()가 있기 때문에 y 함수로 연산을 해서 "
   ]
  },
  {
   "cell_type": "code",
   "execution_count": 125,
   "id": "6a7cc517-0019-4e05-9a68-8b3b7e5ee4d0",
   "metadata": {},
   "outputs": [],
   "source": [
    "def t():\n",
    "    def y():\n",
    "        return 1\n",
    "    return y  # y 함수를 리턴  "
   ]
  },
  {
   "cell_type": "code",
   "execution_count": 130,
   "id": "f7743d47-9ff5-4853-aa29-4d1e95eece4b",
   "metadata": {},
   "outputs": [
    {
     "data": {
      "text/plain": [
       "<function __main__.t.<locals>.y()>"
      ]
     },
     "execution_count": 130,
     "metadata": {},
     "output_type": "execute_result"
    }
   ],
   "source": [
    "t()\n",
    "# 한번의 연산만 하기 때문에 y함수를 리턴. 따라서 값이 아닌 local 함수가 리턴 됐다"
   ]
  },
  {
   "cell_type": "code",
   "execution_count": 128,
   "id": "c3efd338-0d3c-42a1-bc57-ae1a35f8171f",
   "metadata": {},
   "outputs": [
    {
     "data": {
      "text/plain": [
       "1"
      ]
     },
     "execution_count": 128,
     "metadata": {},
     "output_type": "execute_result"
    }
   ],
   "source": [
    "t()()\n",
    "# 첫번째에서는 y함수를 리턴, 그 y 함수가 값을 리턴하기 때문에 1이라는 값이 리턴됐음"
   ]
  },
  {
   "cell_type": "code",
   "execution_count": 131,
   "id": "011caeeb-394e-4ba8-a44d-6c6ae8b22e35",
   "metadata": {},
   "outputs": [],
   "source": [
    "def t():\n",
    "    def y(m):\n",
    "        return m\n",
    "    return y"
   ]
  },
  {
   "cell_type": "code",
   "execution_count": 134,
   "id": "38dd13ee-a8f2-46ed-9450-fad0d0f1d66b",
   "metadata": {},
   "outputs": [
    {
     "ename": "TypeError",
     "evalue": "t.<locals>.y() missing 1 required positional argument: 'm'",
     "output_type": "error",
     "traceback": [
      "\u001b[1;31m---------------------------------------------------------------------------\u001b[0m",
      "\u001b[1;31mTypeError\u001b[0m                                 Traceback (most recent call last)",
      "Cell \u001b[1;32mIn[134], line 1\u001b[0m\n\u001b[1;32m----> 1\u001b[0m \u001b[43mt\u001b[49m\u001b[43m(\u001b[49m\u001b[43m)\u001b[49m\u001b[43m(\u001b[49m\u001b[43m)\u001b[49m\n\u001b[0;32m      2\u001b[0m \u001b[38;5;66;03m# 파라미터 = 인자의 수 \u001b[39;00m\n",
      "\u001b[1;31mTypeError\u001b[0m: t.<locals>.y() missing 1 required positional argument: 'm'"
     ]
    }
   ],
   "source": [
    "t()()\n",
    "# 파라미터 = 인자의 수 \n",
    "# 따라서 local 함수의 연산에 맞게 인자를 넣어줘야 한"
   ]
  },
  {
   "cell_type": "code",
   "execution_count": 133,
   "id": "fb73bc45-dc4a-40bb-b3e6-ae486718750b",
   "metadata": {},
   "outputs": [
    {
     "data": {
      "text/plain": [
       "3"
      ]
     },
     "execution_count": 133,
     "metadata": {},
     "output_type": "execute_result"
    }
   ],
   "source": [
    "t()(3)"
   ]
  },
  {
   "cell_type": "markdown",
   "id": "c601fcc0-695a-4e82-b81d-119afeffd32f",
   "metadata": {},
   "source": [
    "#### decorator"
   ]
  },
  {
   "cell_type": "code",
   "execution_count": 135,
   "id": "8aff31c8-fb05-4a99-ab07-36662e6bfa06",
   "metadata": {},
   "outputs": [],
   "source": [
    "def t(n):\n",
    "    def y(m):\n",
    "        return n + m\n",
    "    return y"
   ]
  },
  {
   "cell_type": "code",
   "execution_count": 136,
   "id": "4c4d71b3-120e-4935-bb78-5c2871ea93d0",
   "metadata": {},
   "outputs": [
    {
     "data": {
      "text/plain": [
       "5"
      ]
     },
     "execution_count": 136,
     "metadata": {},
     "output_type": "execute_result"
    }
   ],
   "source": [
    "t(1)(4)"
   ]
  },
  {
   "cell_type": "code",
   "execution_count": 142,
   "id": "d4cd4c29-cb3c-43a4-a247-ef5d77be4fba",
   "metadata": {},
   "outputs": [],
   "source": [
    "xx = t(1)\n",
    "# 1을 더하는 함수가 된다\n",
    "# def y(m):\n",
    "#    return 1 + m"
   ]
  },
  {
   "cell_type": "code",
   "execution_count": 146,
   "id": "c66ddc03-d658-40ca-86f2-ff6beae8ffe7",
   "metadata": {},
   "outputs": [
    {
     "data": {
      "text/plain": [
       "(4, 5, 6)"
      ]
     },
     "execution_count": 146,
     "metadata": {},
     "output_type": "execute_result"
    }
   ],
   "source": [
    "xx(3), xx(4), xx(5)\n",
    "# 첫번째 인자와 두번째 인자의 상호작용을 볼 수 있다"
   ]
  },
  {
   "cell_type": "markdown",
   "id": "eb6f7aa0-cf5b-44d9-a1b9-00eeca99f9a6",
   "metadata": {},
   "source": [
    "#### lambda"
   ]
  },
  {
   "cell_type": "markdown",
   "id": "b23f1d9f-3b79-4704-910e-e4da0979a5ad",
   "metadata": {},
   "source": [
    "```\n",
    "lambda 매개변수 : 표현식\n",
    "```"
   ]
  },
  {
   "cell_type": "code",
   "execution_count": 157,
   "id": "bb3d28fe-0d32-4b44-b2d5-903e32732cb5",
   "metadata": {},
   "outputs": [
    {
     "data": {
      "text/plain": [
       "7"
      ]
     },
     "execution_count": 157,
     "metadata": {},
     "output_type": "execute_result"
    }
   ],
   "source": [
    "(lambda x,y : x+y)(3,4)"
   ]
  },
  {
   "cell_type": "code",
   "execution_count": 158,
   "id": "538bede8-9984-4ca7-8ccd-4a17786f85c8",
   "metadata": {},
   "outputs": [
    {
     "data": {
      "text/plain": [
       "7"
      ]
     },
     "execution_count": 158,
     "metadata": {},
     "output_type": "execute_result"
    }
   ],
   "source": [
    "def xandy (x,y):\n",
    "    return x + y\n",
    "xandy(3,4) "
   ]
  },
  {
   "cell_type": "code",
   "execution_count": 148,
   "id": "83f2e1d3-34ab-48a3-9ab9-5f02afb19dd3",
   "metadata": {},
   "outputs": [
    {
     "data": {
      "text/plain": [
       "1"
      ]
     },
     "execution_count": 148,
     "metadata": {},
     "output_type": "execute_result"
    }
   ],
   "source": [
    "a = lambda x:1\n",
    "a(3)"
   ]
  },
  {
   "cell_type": "code",
   "execution_count": 149,
   "id": "fc1b33bd-a735-41b8-ada5-d0e669e7a75b",
   "metadata": {},
   "outputs": [
    {
     "data": {
      "text/plain": [
       "'<lambda>'"
      ]
     },
     "execution_count": 149,
     "metadata": {},
     "output_type": "execute_result"
    }
   ],
   "source": [
    "a.__name__"
   ]
  },
  {
   "cell_type": "code",
   "execution_count": 150,
   "id": "b35e9130-5051-4e29-8528-348dfa1b2528",
   "metadata": {},
   "outputs": [],
   "source": [
    "def t(n):\n",
    "    return lambda m : m + n"
   ]
  },
  {
   "cell_type": "code",
   "execution_count": 152,
   "id": "41c1dda4-a098-496a-893b-4f1af9fed927",
   "metadata": {},
   "outputs": [
    {
     "data": {
      "text/plain": [
       "5"
      ]
     },
     "execution_count": 152,
     "metadata": {},
     "output_type": "execute_result"
    }
   ],
   "source": [
    "xx = t(1)\n",
    "xx(4)"
   ]
  },
  {
   "cell_type": "markdown",
   "id": "39bd1db1-3865-4fe7-b5dc-ebb5ee2dc31f",
   "metadata": {},
   "source": [
    "#### 주의사항\n",
    "* 이름이 없다 -> 메모리 주소가 같다\n",
    "* 따라서 람다가 스택에 쌓여버리게 되면 맨 위에 있는 결과 값이 밑에 있는 결과 값가 동일해진다\n",
    "* 람다 팩토리얼"
   ]
  },
  {
   "cell_type": "code",
   "execution_count": 162,
   "id": "18a402d6-90ab-4f24-ac3a-e305046f027e",
   "metadata": {},
   "outputs": [
    {
     "data": {
      "text/plain": [
       "[<function __main__.<lambda>(m)>,\n",
       " <function __main__.<lambda>(m)>,\n",
       " <function __main__.<lambda>(m)>,\n",
       " <function __main__.<lambda>(m)>,\n",
       " <function __main__.<lambda>(m)>]"
      ]
     },
     "execution_count": 162,
     "metadata": {},
     "output_type": "execute_result"
    }
   ],
   "source": [
    "# example\n",
    "adders = []\n",
    "for n in range(5):\n",
    "    adders.append(lambda m : m+n)\n",
    "adders"
   ]
  },
  {
   "cell_type": "code",
   "execution_count": 164,
   "id": "dfb26025-4944-4683-9b06-92ccc603bffd",
   "metadata": {},
   "outputs": [
    {
     "data": {
      "text/plain": [
       "[14, 14, 14, 14, 14]"
      ]
     },
     "execution_count": 164,
     "metadata": {},
     "output_type": "execute_result"
    }
   ],
   "source": [
    "[adder(10) for adder in adders]\n",
    "\n",
    "# m = 10, n = (0 to 4)\n",
    "# stack에 [10+0, 10+1, 10+2, 10+3, 10+4]가 차례대로 쌓였다\n",
    "# 하지만 스택에 쌓인 실행될 함수의 이름은 람다 \n",
    "# 따라서 이들의 주소는 모두 동일\n",
    "# 주소가 동일하다는 것은 값이 동일\n",
    "# 따라서 스택에서 하니씩 실행되면 값이 꺼내질때, \n",
    "# 맨 위/ 가장 먼저 나올 값/ 가장 늦게 입력된 값이 모두 동일하게 빠져나온다 "
   ]
  },
  {
   "cell_type": "markdown",
   "id": "72b2cfde-d2dd-4cf1-a8f5-4565cdff4eaf",
   "metadata": {},
   "source": [
    "### 그외"
   ]
  },
  {
   "cell_type": "markdown",
   "id": "4d052112-bead-4dc9-876c-e179e3d3f8dc",
   "metadata": {},
   "source": [
    "#### '*'"
   ]
  },
  {
   "cell_type": "code",
   "execution_count": 165,
   "id": "0813167e-89c2-4a8d-abef-6ec8a6a7778a",
   "metadata": {},
   "outputs": [
    {
     "data": {
      "text/plain": [
       "81"
      ]
     },
     "execution_count": 165,
     "metadata": {},
     "output_type": "execute_result"
    }
   ],
   "source": [
    "# 1. \n",
    "# 속도 차이가 난다 \n",
    "3**4      # 해당 문이 밑의 것으로 바꿔서 계산 하기 때문에 느림  \n",
    "3*3*3*3"
   ]
  },
  {
   "cell_type": "code",
   "execution_count": 166,
   "id": "892a345a-3f4e-4449-81f6-52939af6c209",
   "metadata": {},
   "outputs": [
    {
     "ename": "SyntaxError",
     "evalue": "named arguments must follow bare * (1253821984.py, line 3)",
     "output_type": "error",
     "traceback": [
      "\u001b[1;36m  Cell \u001b[1;32mIn[166], line 3\u001b[1;36m\u001b[0m\n\u001b[1;33m    def fun(*)\u001b[0m\n\u001b[1;37m            ^\u001b[0m\n\u001b[1;31mSyntaxError\u001b[0m\u001b[1;31m:\u001b[0m named arguments must follow bare *\n"
     ]
    }
   ],
   "source": [
    "# 2. \n",
    "a, *b = 1,2,3\n",
    "def fun(*)\n",
    "def fun(*arg)\n",
    "def fun(**arg)\n",
    "fun(*arg)\n",
    "{*,}\n",
    "from import *  # 모든 것이지만 모든것은 아닌다, private & 접근제한 개념 "
   ]
  },
  {
   "cell_type": "markdown",
   "id": "aeca74a9-6e71-4ab5-a97b-f00db3f88a0e",
   "metadata": {},
   "source": [
    "#### map & reduce"
   ]
  },
  {
   "cell_type": "code",
   "execution_count": 168,
   "id": "77310160-ad97-4ba2-b6a1-8bb4f418dc00",
   "metadata": {},
   "outputs": [
    {
     "data": {
      "text/plain": [
       "[0, 1, 4, 9, 16]"
      ]
     },
     "execution_count": 168,
     "metadata": {},
     "output_type": "execute_result"
    }
   ],
   "source": [
    "# map() : map(함수, 리스트)\n",
    "# 리스트로부터 원소를 하나씩 꺼내서 함수를 적용시킨 다음,\n",
    "# 그 결과를 새로운 리스트에 담아준답니다\n",
    "list(map(lambda x: x ** 2, range(5)))"
   ]
  },
  {
   "cell_type": "code",
   "execution_count": 170,
   "id": "cfb1ef73-a2ac-4da1-b0e1-a0a6401c899f",
   "metadata": {},
   "outputs": [
    {
     "data": {
      "text/plain": [
       "10"
      ]
     },
     "execution_count": 170,
     "metadata": {},
     "output_type": "execute_result"
    }
   ],
   "source": [
    "# reduce(): reduce(함수, 시퀀스)\n",
    "from functools import reduce\n",
    "reduce(lambda x, y: x + y, [0, 1, 2, 3, 4])\n",
    "# 먼저 0과 1을 더하고, \n",
    "# 그 결과에 2를 더하고, \n",
    "# 거기다가 3을 더하고, \n",
    "# 또 4를 더한 값을 돌려줍니다"
   ]
  },
  {
   "cell_type": "code",
   "execution_count": null,
   "id": "deaf1de3-6545-4ff5-abed-1f9c29c935fa",
   "metadata": {},
   "outputs": [],
   "source": []
  }
 ],
 "metadata": {
  "kernelspec": {
   "display_name": "Python 3 (ipykernel)",
   "language": "python",
   "name": "python3"
  },
  "language_info": {
   "codemirror_mode": {
    "name": "ipython",
    "version": 3
   },
   "file_extension": ".py",
   "mimetype": "text/x-python",
   "name": "python",
   "nbconvert_exporter": "python",
   "pygments_lexer": "ipython3",
   "version": "3.10.11"
  }
 },
 "nbformat": 4,
 "nbformat_minor": 5
}
