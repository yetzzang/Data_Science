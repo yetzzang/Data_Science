{
 "cells": [
  {
   "cell_type": "markdown",
   "id": "bd952197-fa2b-4999-814f-474bdc6bfe7e",
   "metadata": {},
   "source": [
    "# Callable"
   ]
  },
  {
   "cell_type": "markdown",
   "id": "6abe3e45-b141-45f5-bcc8-251c22f42f2f",
   "metadata": {},
   "source": [
    "* 파이썬은 함수형 패러다임을 지원하여 모든 것에 ()를 붙힐 수 있다 \n",
    "    * 함수\n",
    "    * 클래스\n",
    "    * call\n",
    "* 파이썬은 객체지향 언어로써, 객체지향 언어를 사용하여 함수형 패러다임을 구현한다\n",
    "    * 예시) tensorflow\n",
    ">\n",
    "* WHY?\n",
    "    * to reuse    "
   ]
  },
  {
   "cell_type": "code",
   "execution_count": 1,
   "id": "5dc75f45-ebf3-47dc-9e05-1cd5df9b726e",
   "metadata": {},
   "outputs": [],
   "source": [
    "# 1. callable - function \n",
    "def x():\n",
    "    print(1)"
   ]
  },
  {
   "cell_type": "code",
   "execution_count": 2,
   "id": "04ed2ecd-99c7-473c-9e62-c28eb19dbf1d",
   "metadata": {},
   "outputs": [
    {
     "data": {
      "text/plain": [
       "True"
      ]
     },
     "execution_count": 2,
     "metadata": {},
     "output_type": "execute_result"
    }
   ],
   "source": [
    "callable(x)"
   ]
  },
  {
   "cell_type": "code",
   "execution_count": 4,
   "id": "f6ca95fd-8679-4b9e-8a24-5192a407bf58",
   "metadata": {},
   "outputs": [
    {
     "data": {
      "text/plain": [
       "True"
      ]
     },
     "execution_count": 4,
     "metadata": {},
     "output_type": "execute_result"
    }
   ],
   "source": [
    "# 2. callable - class\n",
    "# int is class\n",
    "callable(int)"
   ]
  },
  {
   "cell_type": "code",
   "execution_count": 5,
   "id": "65676cc9-8730-4f88-91ac-b50e5d5cd935",
   "metadata": {},
   "outputs": [
    {
     "data": {
      "text/plain": [
       "False"
      ]
     },
     "execution_count": 5,
     "metadata": {},
     "output_type": "execute_result"
    }
   ],
   "source": [
    "# 3. callable - variable\n",
    "a = 1\n",
    "callable(a)"
   ]
  },
  {
   "cell_type": "code",
   "execution_count": 6,
   "id": "5551343b-e68e-4993-b1e1-807cf5e5f2b0",
   "metadata": {},
   "outputs": [
    {
     "data": {
      "text/plain": [
       "['__call__',\n",
       " '__class__',\n",
       " '__delattr__',\n",
       " '__dir__',\n",
       " '__doc__',\n",
       " '__eq__',\n",
       " '__format__',\n",
       " '__ge__',\n",
       " '__getattribute__',\n",
       " '__gt__',\n",
       " '__hash__',\n",
       " '__init__',\n",
       " '__init_subclass__',\n",
       " '__le__',\n",
       " '__lt__',\n",
       " '__module__',\n",
       " '__name__',\n",
       " '__ne__',\n",
       " '__new__',\n",
       " '__qualname__',\n",
       " '__reduce__',\n",
       " '__reduce_ex__',\n",
       " '__repr__',\n",
       " '__self__',\n",
       " '__setattr__',\n",
       " '__sizeof__',\n",
       " '__str__',\n",
       " '__subclasshook__',\n",
       " '__text_signature__']"
      ]
     },
     "execution_count": 6,
     "metadata": {},
     "output_type": "execute_result"
    }
   ],
   "source": [
    "# how to check the callable? \n",
    "dir(print)\n",
    "# __call__이 있으면 ()를 붙힐 수 있다"
   ]
  },
  {
   "cell_type": "markdown",
   "id": "cee3e956-3950-41fe-9e3a-6756af295cbe",
   "metadata": {},
   "source": [
    "### 1. Named Functions & Lambda"
   ]
  },
  {
   "cell_type": "markdown",
   "id": "5661d177-02cc-45f0-ad78-dcba7de17f61",
   "metadata": {},
   "source": [
    "* to ensure the pure functionality\n",
    "* function에 output이 없는 경우는 None을 return하는 경우 "
   ]
  },
  {
   "cell_type": "code",
   "execution_count": 7,
   "id": "003443f0-7458-4e3f-8c38-4d2468530b1c",
   "metadata": {},
   "outputs": [],
   "source": [
    "def x():\n",
    "    print(1)"
   ]
  },
  {
   "cell_type": "code",
   "execution_count": 8,
   "id": "13d28ab4-5946-4fcd-9436-2e2d1cdfc287",
   "metadata": {},
   "outputs": [],
   "source": [
    "a = x"
   ]
  },
  {
   "cell_type": "code",
   "execution_count": 10,
   "id": "26ac8644-d524-426b-bbeb-226ab22389c3",
   "metadata": {},
   "outputs": [
    {
     "data": {
      "text/plain": [
       "'x'"
      ]
     },
     "execution_count": 10,
     "metadata": {},
     "output_type": "execute_result"
    }
   ],
   "source": [
    "a.__name__\n",
    "# 원래의 함수 이름은 바뀌지 않는다"
   ]
  },
  {
   "cell_type": "markdown",
   "id": "7b49834e-d866-4102-bd75-fe7e3b3bbe12",
   "metadata": {},
   "source": [
    "#### 1-1. 람다 함수의 주의사항"
   ]
  },
  {
   "cell_type": "code",
   "execution_count": 11,
   "id": "e038f2b2-0d7d-42ef-86b6-e3142856b5b5",
   "metadata": {},
   "outputs": [
    {
     "data": {
      "text/plain": [
       "[<function __main__.<lambda>(m)>,\n",
       " <function __main__.<lambda>(m)>,\n",
       " <function __main__.<lambda>(m)>,\n",
       " <function __main__.<lambda>(m)>,\n",
       " <function __main__.<lambda>(m)>]"
      ]
     },
     "execution_count": 11,
     "metadata": {},
     "output_type": "execute_result"
    }
   ],
   "source": [
    "adders = []\n",
    "for n in range(5):\n",
    "    adders.append(lambda m:m+n)\n",
    "adders  "
   ]
  },
  {
   "cell_type": "code",
   "execution_count": 12,
   "id": "7d963759-cda8-440d-8e0a-0677535a67b4",
   "metadata": {},
   "outputs": [
    {
     "data": {
      "text/plain": [
       "(5, 5, 5)"
      ]
     },
     "execution_count": 12,
     "metadata": {},
     "output_type": "execute_result"
    }
   ],
   "source": [
    "adders[0](1), adders[2](1), adders[4](1)"
   ]
  },
  {
   "cell_type": "code",
   "execution_count": 14,
   "id": "3ad00dfe-8551-415c-8baa-9709fd9b8f4f",
   "metadata": {},
   "outputs": [],
   "source": [
    "# why above happens?\n",
    "# due to stack & lambda's features\n",
    "# lambda is nameless function where python read the lambda as the same thing \n",
    "# and it shares the same memory address,\n",
    "# when lambda is stacked onto the stack like lambda (1), lambda (2), lambda (3), \n",
    "# all same name lambda -> same address -> output as same values \n",
    "# > 이름이 없는 것이기 때문에 똑같은 4가 실행이 된다"
   ]
  },
  {
   "cell_type": "markdown",
   "id": "08da9e48-7a69-435e-bedc-93b68064d135",
   "metadata": {},
   "source": [
    "#### 1-2. mutuable data type의 주의사항\n",
    "\n",
    "* mutuable return 값은 총 3 종류\n",
    "    1. 리턴 값은 없는데 자기 자신은 바뀜\n",
    "    2. 리턴 값은 있지만 자기 자신은 바뀌지 않음\n",
    "    3. 자기 자신도 바뀌고 리턴 값도 존재   "
   ]
  },
  {
   "cell_type": "code",
   "execution_count": 22,
   "id": "d1182735-7ce5-43a6-a75a-edb5c10bee67",
   "metadata": {},
   "outputs": [],
   "source": [
    "# 1. 리턴 값은 없는데 자기 자신은 바뀜 \n",
    "a = [1,2,3,4]\n",
    "a.append(5)\n",
    "# return 값이 None"
   ]
  },
  {
   "cell_type": "code",
   "execution_count": 23,
   "id": "aacf285a-c96b-420d-b5f6-5872133c76bc",
   "metadata": {},
   "outputs": [
    {
     "data": {
      "text/plain": [
       "[1, 2, 3, 4, 5]"
      ]
     },
     "execution_count": 23,
     "metadata": {},
     "output_type": "execute_result"
    }
   ],
   "source": [
    "a\n",
    "# but 자기 자신은 바뀜 "
   ]
  },
  {
   "cell_type": "code",
   "execution_count": 24,
   "id": "2c1cd21a-5a6c-4f3b-9758-5059b28ded12",
   "metadata": {},
   "outputs": [
    {
     "data": {
      "text/plain": [
       "2"
      ]
     },
     "execution_count": 24,
     "metadata": {},
     "output_type": "execute_result"
    }
   ],
   "source": [
    "# 2. 리턴 값은 있지만 자기 자신은 바뀌지 않음\n",
    "a.index(3)"
   ]
  },
  {
   "cell_type": "code",
   "execution_count": 25,
   "id": "8331d821-6ede-4959-a1eb-fbab9ba6a933",
   "metadata": {},
   "outputs": [
    {
     "data": {
      "text/plain": [
       "5"
      ]
     },
     "execution_count": 25,
     "metadata": {},
     "output_type": "execute_result"
    }
   ],
   "source": [
    "# 3. 자기 자신도 바뀌고 리턴 값도 존재\n",
    "a.pop()"
   ]
  },
  {
   "cell_type": "code",
   "execution_count": 26,
   "id": "1365bdc6-fbc4-4549-9a77-173953f54e71",
   "metadata": {},
   "outputs": [
    {
     "data": {
      "text/plain": [
       "[1, 2, 3, 4]"
      ]
     },
     "execution_count": 26,
     "metadata": {},
     "output_type": "execute_result"
    }
   ],
   "source": [
    "a"
   ]
  },
  {
   "cell_type": "code",
   "execution_count": 27,
   "id": "ff5f55cb-4398-40cf-87d3-1be155221fb3",
   "metadata": {},
   "outputs": [],
   "source": [
    "def x(b, aa=[]):\n",
    "    return aa.append(b)    "
   ]
  },
  {
   "cell_type": "code",
   "execution_count": 28,
   "id": "b6613dbd-7349-44c5-b75f-8c978df8a792",
   "metadata": {},
   "outputs": [
    {
     "ename": "NameError",
     "evalue": "name 'aa' is not defined",
     "output_type": "error",
     "traceback": [
      "\u001b[1;31m---------------------------------------------------------------------------\u001b[0m",
      "\u001b[1;31mNameError\u001b[0m                                 Traceback (most recent call last)",
      "Cell \u001b[1;32mIn[28], line 1\u001b[0m\n\u001b[1;32m----> 1\u001b[0m \u001b[43maa\u001b[49m\n",
      "\u001b[1;31mNameError\u001b[0m: name 'aa' is not defined"
     ]
    }
   ],
   "source": [
    "aa\n",
    "# NameError: name 'aa' is not defined\n",
    "# 함수 안의 local이기 때문에 gloabl에서 접근 제한 "
   ]
  },
  {
   "cell_type": "markdown",
   "id": "f960381b-9e07-4ecf-b565-526c7a7a01a5",
   "metadata": {},
   "source": [
    "### 2. Class"
   ]
  },
  {
   "cell_type": "markdown",
   "id": "08ef9f53-5fe5-4ac8-bde6-8298e5209050",
   "metadata": {},
   "source": [
    "* 함수 vs 클래스\n",
    "    * 함수:\n",
    "        * 수학 함수 that (이론 관련) 증명 가능 여부가 생긴다\n",
    "        * 값을 저장할 수 있다\n",
    "        * 접급: encapsulation으로 인해 외부에서 내부로 접근 제한 LEGB\n",
    "    * 클래스:\n",
    "        * 행동 method와 값을 동시에 가질 수 있다\n",
    "        * 증명이 힘들다\n",
    "        * encapsulation - 접근이 자유롭다; 접근 제한이 없다 => descriptor\n",
    "> therefore, class is efficient for 유지 보수. (BUT Python has lots of exception cases where make it difficult to 구현)\n",
    "* 클래스의 용어\n",
    "    * class란?\n",
    "        * 객체 (instance)를 만들기 위한 템플릿   \n",
    "    * instance 객체\n",
    "        * class를 사용하여 만들어진 실제 객체\n",
    "        * 따라서, 객체는 class의 구체적인 값을 뜻한다 \n",
    "    * method\n",
    "        * 클래스 안의 함수\n",
    "    * instance method\n",
    "        * 인스턴스끼리 공유하는 함수  \n",
    "    * class variable\n",
    "        * 클래스 안에 지정된 함수\n",
    "        * 클래스끼리 공유하는 값으로 변하지 않는다 -> 접근제한 \n",
    "    * instance variable\n",
    "        * method 안에서 생성된 변수\n",
    "        * 클래스 내에서는 공유된다\n",
    "        * 객체 instance끼리는 다른 값을 가질 수 있다\n",
    "        * IMPORTNAT: 인스턴스 변수는 해당 method가 실행되어야만 생성이 된다\n",
    "            > 이러한 단점을 극복하기 위해 객체가 생성될 때 __init__를 사용해 처음부터 변수들을 생성해준다 \n",
    "        * ex) self.--\n",
    "    * attribute\n",
    "        * 위의 모든 내용을 통칭함\n",
    "> 객체지향 OOP는 이러한 클래스들의 조합으로 프로그램을 구현한다\n",
    ">\n",
    "\n",
    "* 꼭 알아야 하는 기능\n",
    "    * dir()\n",
    "        * to check what kind of functions/variable the instance has  \n",
    "    * vars()\n",
    "        * to check what kind of variable the instanve has\n",
    "    * type()\n",
    "        * to check the data type\n",
    "> these three are to check how the variables get different/changed     "
   ]
  },
  {
   "cell_type": "code",
   "execution_count": 55,
   "id": "e0a8e4cb-989b-4283-ab37-f7762e711a41",
   "metadata": {},
   "outputs": [],
   "source": [
    "# pep에 따라 이름은 대문자로 시작한다 \n",
    "class A:\n",
    "    \n",
    "    # class varible\n",
    "    x = 1\n",
    "    \n",
    "    # method \n",
    "    def xx(self, t):\n",
    "        # instance varible \n",
    "        self.t = t\n",
    "        print(self.t)"
   ]
  },
  {
   "cell_type": "code",
   "execution_count": 34,
   "id": "b3f1e48a-6efe-4cef-9adb-67d800d46dcb",
   "metadata": {},
   "outputs": [],
   "source": [
    "# object: A()\n",
    "# a = instance \n",
    "a = A()"
   ]
  },
  {
   "cell_type": "code",
   "execution_count": 38,
   "id": "7d7e8a67-3eb5-4870-ab78-ba5d47e43c62",
   "metadata": {},
   "outputs": [
    {
     "name": "stdout",
     "output_type": "stream",
     "text": [
      "1\n"
     ]
    }
   ],
   "source": [
    "# instance method\n",
    "a.xx(1)"
   ]
  },
  {
   "cell_type": "code",
   "execution_count": 40,
   "id": "359255ee-e19a-4700-a8bc-41e502034615",
   "metadata": {},
   "outputs": [
    {
     "data": {
      "text/plain": [
       "1"
      ]
     },
     "execution_count": 40,
     "metadata": {},
     "output_type": "execute_result"
    }
   ],
   "source": [
    "# instance variable \n",
    "a.t"
   ]
  },
  {
   "cell_type": "code",
   "execution_count": 43,
   "id": "370d7e35-95c2-4ad4-ac99-3c89a32a0943",
   "metadata": {},
   "outputs": [
    {
     "data": {
      "text/plain": [
       "2"
      ]
     },
     "execution_count": 43,
     "metadata": {},
     "output_type": "execute_result"
    }
   ],
   "source": [
    "# 이렇게 instance variable들은 값을 수정/추가/삭제가 가능하다\n",
    "a.t = 2\n",
    "a.t"
   ]
  },
  {
   "cell_type": "code",
   "execution_count": 56,
   "id": "dc3b9b8b-2fc1-491c-b56c-78c48c9a85a6",
   "metadata": {},
   "outputs": [
    {
     "ename": "AttributeError",
     "evalue": "'A' object has no attribute 'x'",
     "output_type": "error",
     "traceback": [
      "\u001b[1;31m---------------------------------------------------------------------------\u001b[0m",
      "\u001b[1;31mAttributeError\u001b[0m                            Traceback (most recent call last)",
      "Cell \u001b[1;32mIn[56], line 1\u001b[0m\n\u001b[1;32m----> 1\u001b[0m \u001b[43ma\u001b[49m\u001b[38;5;241;43m.\u001b[39;49m\u001b[43mx\u001b[49m\n\u001b[0;32m      2\u001b[0m \u001b[38;5;66;03m# AttributeError: 'A' object has no attribute 'x'\u001b[39;00m\n\u001b[0;32m      3\u001b[0m \u001b[38;5;66;03m# class varible의 접근 제한 -> 유지 보수 \u001b[39;00m\n",
      "\u001b[1;31mAttributeError\u001b[0m: 'A' object has no attribute 'x'"
     ]
    }
   ],
   "source": [
    "a.x\n",
    "# AttributeError: 'A' object has no attribute 'x'\n",
    "# class varible의 접근 제한 -> 유지 보수 "
   ]
  },
  {
   "cell_type": "markdown",
   "id": "36eb1adf-1efa-4b47-a8e4-a757834dd54d",
   "metadata": {},
   "source": [
    "#### 2-1. instance 변수는 method가 해당 실행되어야만 생성이 된다 "
   ]
  },
  {
   "cell_type": "code",
   "execution_count": 46,
   "id": "a6345d1d-87e5-43e3-9d80-98cc7199daa1",
   "metadata": {},
   "outputs": [],
   "source": [
    "class B:\n",
    "    def bb(self):\n",
    "        self.t = 1"
   ]
  },
  {
   "cell_type": "code",
   "execution_count": 49,
   "id": "74fc722a-5819-4a96-9858-1b067544c251",
   "metadata": {},
   "outputs": [],
   "source": [
    "b = B()"
   ]
  },
  {
   "cell_type": "code",
   "execution_count": 50,
   "id": "227feba8-d3ed-46a2-b737-7cbdfeaad4b4",
   "metadata": {},
   "outputs": [
    {
     "data": {
      "text/plain": [
       "{}"
      ]
     },
     "execution_count": 50,
     "metadata": {},
     "output_type": "execute_result"
    }
   ],
   "source": [
    "vars(b)"
   ]
  },
  {
   "cell_type": "code",
   "execution_count": 51,
   "id": "b13238c1-1aca-4a4d-867b-8bb8f32a2848",
   "metadata": {},
   "outputs": [
    {
     "data": {
      "text/plain": [
       "['__class__',\n",
       " '__delattr__',\n",
       " '__dict__',\n",
       " '__dir__',\n",
       " '__doc__',\n",
       " '__eq__',\n",
       " '__format__',\n",
       " '__ge__',\n",
       " '__getattribute__',\n",
       " '__gt__',\n",
       " '__hash__',\n",
       " '__init__',\n",
       " '__init_subclass__',\n",
       " '__le__',\n",
       " '__lt__',\n",
       " '__module__',\n",
       " '__ne__',\n",
       " '__new__',\n",
       " '__reduce__',\n",
       " '__reduce_ex__',\n",
       " '__repr__',\n",
       " '__setattr__',\n",
       " '__sizeof__',\n",
       " '__str__',\n",
       " '__subclasshook__',\n",
       " '__weakref__',\n",
       " 'bb']"
      ]
     },
     "execution_count": 51,
     "metadata": {},
     "output_type": "execute_result"
    }
   ],
   "source": [
    "dir(b)"
   ]
  },
  {
   "cell_type": "code",
   "execution_count": 52,
   "id": "4a753656-5044-4053-81f5-36a11c0655d6",
   "metadata": {},
   "outputs": [],
   "source": [
    "b.bb()"
   ]
  },
  {
   "cell_type": "code",
   "execution_count": 53,
   "id": "c6959dd7-a8f0-4c08-b8c8-cbcdd12fcd95",
   "metadata": {},
   "outputs": [
    {
     "data": {
      "text/plain": [
       "['__class__',\n",
       " '__delattr__',\n",
       " '__dict__',\n",
       " '__dir__',\n",
       " '__doc__',\n",
       " '__eq__',\n",
       " '__format__',\n",
       " '__ge__',\n",
       " '__getattribute__',\n",
       " '__gt__',\n",
       " '__hash__',\n",
       " '__init__',\n",
       " '__init_subclass__',\n",
       " '__le__',\n",
       " '__lt__',\n",
       " '__module__',\n",
       " '__ne__',\n",
       " '__new__',\n",
       " '__reduce__',\n",
       " '__reduce_ex__',\n",
       " '__repr__',\n",
       " '__setattr__',\n",
       " '__sizeof__',\n",
       " '__str__',\n",
       " '__subclasshook__',\n",
       " '__weakref__',\n",
       " 'bb',\n",
       " 't']"
      ]
     },
     "execution_count": 53,
     "metadata": {},
     "output_type": "execute_result"
    }
   ],
   "source": [
    "dir(b)\n",
    "# 메소드를 실행 시킨 후에 안에 정의 된 인스턴스 변수가 새로 생성이 되었다"
   ]
  },
  {
   "cell_type": "code",
   "execution_count": 58,
   "id": "c4dfd6c0-a06f-45ef-9652-8a2cc49cc8b8",
   "metadata": {},
   "outputs": [
    {
     "data": {
      "text/plain": [
       "{'t': 1}"
      ]
     },
     "execution_count": 58,
     "metadata": {},
     "output_type": "execute_result"
    }
   ],
   "source": [
    "vars(b)\n",
    "# # 메소드를 실행 시킨 후에 안에 정의 된 인스턴스 변수가 새로 생성이 되었다"
   ]
  },
  {
   "cell_type": "markdown",
   "id": "7efdd8bd-9d1b-4ba8-bc31-0b537ba13ebf",
   "metadata": {},
   "source": [
    "#### 2-2. '__init__'\n",
    "* 다양한 이름으로 불린다 (생성자, functional overloading, operator overloading, constructor, magic method, dundu, ...)\n",
    "* 클래스의 연산자 ()가 실행될 때 함께 실행된다\n",
    "* 그렇기 때문에 해당 함수 안에 값을 미리 다 선언해두어 confusion/값의 혼동을 방지한다\n",
    "* thus, all instance varible where define in __init__ are 실행 when class() is 실행"
   ]
  },
  {
   "cell_type": "code",
   "execution_count": 59,
   "id": "bbdbbec5-1af9-47f6-8309-c51524d29391",
   "metadata": {},
   "outputs": [],
   "source": [
    "# BUT Can we just declare the varibles when the instanve was created ?\n",
    "# so we prevent the confusion of instance variable"
   ]
  },
  {
   "cell_type": "code",
   "execution_count": 62,
   "id": "19aa87f2-c168-49d7-952f-326496cb7498",
   "metadata": {},
   "outputs": [],
   "source": [
    "class C:\n",
    "    # 생성자\n",
    "    def __init__(self):\n",
    "        # instance varible들을 미리 다 선언해둔다 \n",
    "        self.x = 1\n",
    "        \n",
    "    def t(self, a):\n",
    "        self.x += a\n",
    "\n",
    "    def tt(self):\n",
    "        print(self.x)"
   ]
  },
  {
   "cell_type": "code",
   "execution_count": 87,
   "id": "d90f53f0-3a4d-4c9b-926b-c381ecf35c01",
   "metadata": {},
   "outputs": [],
   "source": [
    "# 클래스에 ()를 붙혔기 때문에 instance화 \n",
    "# ()를 붙혔기 때문에 __init__가 실행이 되었다 \n",
    "c = C()"
   ]
  },
  {
   "cell_type": "markdown",
   "id": "6309fb3f-e199-43c1-950f-ff715fc95526",
   "metadata": {},
   "source": [
    "### 2-3. parameter & argument in Class\n",
    "* 클래스 내의 메소드는 무조건 하나 이상의 parameter가 존재해야 한다\n",
    "    * WHY? 인스턴스가 사용할때는 공유가 필요하고, 중복되니까 self = a , io, 자기자신이니까 인자에서 첫번째는 생략한다\n",
    "    * 따라서, 우리는 관례적으로 첫번째 parameter를 공유하는 self로 쓴다\n",
    "        * more note: 클래스 object가 instance로 실행될 때 모든 self들이 실행됨\n",
    "        * 따라서, self는 모든 instance variable들을 가지고 있다고 생각하면 된다\n",
    "* instance는 첫번째 인자를 생략 후 메소드 사용\n",
    "* 클래스 object로 실행할때는 모두 필요하다  (이후 섹션에서 설명, 다른 개념도 필요하기 때문) \n",
    "> \n",
    "* 매우 중요: __인스턴스 변수는 인스턴스 내에서 공유됨. 클래스 변수는 인스턴스 간에 공유됨.__"
   ]
  },
  {
   "cell_type": "code",
   "execution_count": 63,
   "id": "e6186cea-b7c1-4573-8b8c-250188b1ea68",
   "metadata": {},
   "outputs": [],
   "source": [
    "c = C()"
   ]
  },
  {
   "cell_type": "code",
   "execution_count": 64,
   "id": "546f2c18-8e25-4044-b337-2ce754b84b44",
   "metadata": {},
   "outputs": [
    {
     "data": {
      "text/plain": [
       "{'x': 1}"
      ]
     },
     "execution_count": 64,
     "metadata": {},
     "output_type": "execute_result"
    }
   ],
   "source": [
    "vars(c)"
   ]
  },
  {
   "cell_type": "code",
   "execution_count": 65,
   "id": "f1d1cfee-8d57-4d99-9354-1d9848c43625",
   "metadata": {},
   "outputs": [],
   "source": [
    "# 메소드는 두개의 매개변수를 필요로 하지만\n",
    "# 이것은 인스턴스이기 때문에 하나의 인자만 요구 \n",
    "c.t(2)"
   ]
  },
  {
   "cell_type": "code",
   "execution_count": 68,
   "id": "20197657-f782-456a-a597-6541a1872fd4",
   "metadata": {},
   "outputs": [
    {
     "ename": "TypeError",
     "evalue": "C.t() missing 1 required positional argument: 'a'",
     "output_type": "error",
     "traceback": [
      "\u001b[1;31m---------------------------------------------------------------------------\u001b[0m",
      "\u001b[1;31mTypeError\u001b[0m                                 Traceback (most recent call last)",
      "Cell \u001b[1;32mIn[68], line 1\u001b[0m\n\u001b[1;32m----> 1\u001b[0m \u001b[43mc\u001b[49m\u001b[38;5;241;43m.\u001b[39;49m\u001b[43mt\u001b[49m\u001b[43m(\u001b[49m\u001b[43m)\u001b[49m\n\u001b[0;32m      2\u001b[0m \u001b[38;5;66;03m# TypeError: C.t() missing 1 required positional argument: 'a'\u001b[39;00m\n\u001b[0;32m      3\u001b[0m \u001b[38;5;66;03m# parameter = arguement \u001b[39;00m\n",
      "\u001b[1;31mTypeError\u001b[0m: C.t() missing 1 required positional argument: 'a'"
     ]
    }
   ],
   "source": [
    "c.t()\n",
    "# TypeError: C.t() missing 1 required positional argument: 'a'\n",
    "# no. of parameter -1 != no. of arguement "
   ]
  },
  {
   "cell_type": "code",
   "execution_count": 70,
   "id": "d02f9bcd-2650-4c10-a89d-6f3c661bad8b",
   "metadata": {},
   "outputs": [
    {
     "name": "stdout",
     "output_type": "stream",
     "text": [
      "3\n"
     ]
    }
   ],
   "source": [
    "# 메소드는 두개의 매개변수를 필요로 하지만\n",
    "# 이것은 인스턴스이기 때문에 하나의 인자만 요구 \n",
    "c.tt()"
   ]
  },
  {
   "cell_type": "code",
   "execution_count": 76,
   "id": "2bb2a453-50b4-454a-8aad-cdbf7526412e",
   "metadata": {},
   "outputs": [],
   "source": [
    "# 다만, 클래스 Object로 쓸 때는 인자 갯수를 정확히 맞춰주어야 함 \n",
    "C.t(c, 1)\n",
    "# TypeError: C.t() missing 1 required positional argument: 'a'"
   ]
  },
  {
   "cell_type": "code",
   "execution_count": 77,
   "id": "c5d54fc7-cfec-4ebd-b030-bf41dcf9c246",
   "metadata": {},
   "outputs": [
    {
     "ename": "TypeError",
     "evalue": "C.t() missing 1 required positional argument: 'a'",
     "output_type": "error",
     "traceback": [
      "\u001b[1;31m---------------------------------------------------------------------------\u001b[0m",
      "\u001b[1;31mTypeError\u001b[0m                                 Traceback (most recent call last)",
      "Cell \u001b[1;32mIn[77], line 1\u001b[0m\n\u001b[1;32m----> 1\u001b[0m \u001b[43mC\u001b[49m\u001b[38;5;241;43m.\u001b[39;49m\u001b[43mt\u001b[49m\u001b[43m(\u001b[49m\u001b[38;5;241;43m1\u001b[39;49m\u001b[43m)\u001b[49m\n\u001b[0;32m      2\u001b[0m \u001b[38;5;66;03m# TypeError: C.t() missing 1 required positional argument: 'a'\u001b[39;00m\n",
      "\u001b[1;31mTypeError\u001b[0m: C.t() missing 1 required positional argument: 'a'"
     ]
    }
   ],
   "source": [
    "C.t(1)\n",
    "# TypeError: C.t() missing 1 required positional argument: 'a'"
   ]
  },
  {
   "cell_type": "markdown",
   "id": "77d64866-9d42-423d-8cc3-2c1cd8915320",
   "metadata": {},
   "source": [
    "### 2-4. Meta-Class\n",
    "* 클래스의 상위 개념\n",
    "    * that 클래스도 메타클래스로 만들어졌다\n",
    "* instance화 하지 않고 class 자체 사용 가능\n",
    "    * Object Class를 그대로 사용시 메소드를 함수처럼 사용\n",
    "    * instance가 쓰면 method로 사용\n",
    "    > therefore, 상황에 따라 함수가 될수도 메소드가 될수도 => function_or_method    "
   ]
  },
  {
   "cell_type": "code",
   "execution_count": 79,
   "id": "18c75ed6-fb96-4fc0-82b3-c0824858e4f4",
   "metadata": {},
   "outputs": [],
   "source": [
    "class X:\n",
    "\n",
    "    def t(self, x):\n",
    "        self.x = x\n",
    "    \n",
    "    def tt(self):\n",
    "        print(self.x)"
   ]
  },
  {
   "cell_type": "code",
   "execution_count": 81,
   "id": "824df224-831c-4e01-a0c5-1572e68a1dde",
   "metadata": {},
   "outputs": [
    {
     "data": {
      "text/plain": [
       "<function __main__.X.t(self, x)>"
      ]
     },
     "execution_count": 81,
     "metadata": {},
     "output_type": "execute_result"
    }
   ],
   "source": [
    "# Object를 그대로 사용 시: 함수로써 사용 \n",
    "X.t"
   ]
  },
  {
   "cell_type": "code",
   "execution_count": 82,
   "id": "0bcc0a8b-2421-4e3a-87a9-ae5be11a987b",
   "metadata": {},
   "outputs": [],
   "source": [
    "a = X()"
   ]
  },
  {
   "cell_type": "code",
   "execution_count": 83,
   "id": "68154bc0-3b25-47f5-ace2-4552af9b84a0",
   "metadata": {},
   "outputs": [],
   "source": [
    "X.t(a,3)"
   ]
  },
  {
   "cell_type": "code",
   "execution_count": 85,
   "id": "164b1e84-d6ad-46c1-a813-8b2f3628f543",
   "metadata": {},
   "outputs": [
    {
     "ename": "TypeError",
     "evalue": "X.t() missing 2 required positional arguments: 'self' and 'x'",
     "output_type": "error",
     "traceback": [
      "\u001b[1;31m---------------------------------------------------------------------------\u001b[0m",
      "\u001b[1;31mTypeError\u001b[0m                                 Traceback (most recent call last)",
      "Cell \u001b[1;32mIn[85], line 1\u001b[0m\n\u001b[1;32m----> 1\u001b[0m \u001b[43mX\u001b[49m\u001b[38;5;241;43m.\u001b[39;49m\u001b[43mt\u001b[49m\u001b[43m(\u001b[49m\u001b[43m)\u001b[49m\n\u001b[0;32m      2\u001b[0m \u001b[38;5;66;03m# TypeError: X.t() missing 2 required positional arguments: 'self' and 'x'\u001b[39;00m\n\u001b[0;32m      3\u001b[0m \u001b[38;5;66;03m# 위에서 말한 함수로써 사용할때는 매개변수와 인자의 수가 모두 동일해야만 한다\u001b[39;00m\n",
      "\u001b[1;31mTypeError\u001b[0m: X.t() missing 2 required positional arguments: 'self' and 'x'"
     ]
    }
   ],
   "source": [
    "X.t()\n",
    "# TypeError: X.t() missing 2 required positional arguments: 'self' and 'x'\n",
    "# 위에서 말한 함수로써 사용할때는 매개변수와 인자의 수가 모두 동일해야만 한다"
   ]
  },
  {
   "cell_type": "code",
   "execution_count": 86,
   "id": "d7e0b036-1b02-45ef-b870-76d9ccad9616",
   "metadata": {},
   "outputs": [
    {
     "data": {
      "text/plain": [
       "<bound method X.t of <__main__.X object at 0x0000029B91239450>>"
      ]
     },
     "execution_count": 86,
     "metadata": {},
     "output_type": "execute_result"
    }
   ],
   "source": [
    "a.t"
   ]
  },
  {
   "cell_type": "markdown",
   "id": "2a871c3d-95b0-4614-ac39-c1246039e212",
   "metadata": {},
   "source": [
    "### NOTE\n",
    "* 설명을 볼 때, 앞에 self가 뜨면 class\n",
    "    * ex) int\n",
    "* 그렇지 않다면 함수\n",
    "    * ex) len()\n",
    ">\n",
    "* () in function vs class\n",
    "    * function() -> 함수를 콜한다\n",
    "    * 클래스() -> instance화 한다 "
   ]
  },
  {
   "cell_type": "markdown",
   "id": "b843c978-dcfd-4a28-9cde-7bdd2a3b67de",
   "metadata": {},
   "source": [
    "### 2-5. Closoure\n",
    "* __call__ 있다면 인스턴스에도 ()를 붙힐 수 있다\n",
    "* this means that we can also use the instance as a function\n"
   ]
  },
  {
   "cell_type": "code",
   "execution_count": 88,
   "id": "af92777b-e9a5-4690-820c-9da1c6e2afec",
   "metadata": {},
   "outputs": [],
   "source": [
    "class TT:\n",
    "    def __init__(self):\n",
    "        self.a = 1\n",
    "        print('init')\n",
    "    \n",
    "    # duck-typing\n",
    "    def __call__(self):\n",
    "        print('call')\n",
    "   "
   ]
  },
  {
   "cell_type": "code",
   "execution_count": 89,
   "id": "51c66c9e-a87d-4ad6-94ea-ac1349a52db6",
   "metadata": {},
   "outputs": [
    {
     "name": "stdout",
     "output_type": "stream",
     "text": [
      "init\n"
     ]
    }
   ],
   "source": [
    "tt = TT()"
   ]
  },
  {
   "cell_type": "code",
   "execution_count": 90,
   "id": "46e329ca-8c52-445b-9215-2da3931805aa",
   "metadata": {},
   "outputs": [
    {
     "name": "stdout",
     "output_type": "stream",
     "text": [
      "call\n"
     ]
    }
   ],
   "source": [
    "tt()\n",
    "# 인스턴스도 괄호를 붙힐 수 있게 되었다 "
   ]
  },
  {
   "cell_type": "code",
   "execution_count": 95,
   "id": "7d7b36ca-49ed-4e8a-88f0-ce25711f7f7c",
   "metadata": {},
   "outputs": [
    {
     "name": "stdout",
     "output_type": "stream",
     "text": [
      "init\n",
      "call\n"
     ]
    }
   ],
   "source": [
    "TT()()\n",
    "# 따라서 chapter 1에서 배웠던 함수의 closoure의 지원방식은\n",
    "# 객체지향 언어로 구현했다\n",
    "# this means that __call__ makes in possible"
   ]
  },
  {
   "cell_type": "code",
   "execution_count": 93,
   "id": "512e8ea9-319f-4c4d-ae3f-c2040c56fa6a",
   "metadata": {},
   "outputs": [],
   "source": [
    "class S:\n",
    "    def __init__(self, a):\n",
    "        self.a = a\n",
    "        print('init')\n",
    "    \n",
    "    # duck-typing\n",
    "    def __call__(self, b):\n",
    "        return self.a + b\n",
    "        print('call')"
   ]
  },
  {
   "cell_type": "code",
   "execution_count": 96,
   "id": "2342ce30-2fc8-4000-8d8e-5d0364f36cdc",
   "metadata": {},
   "outputs": [
    {
     "name": "stdout",
     "output_type": "stream",
     "text": [
      "init\n"
     ]
    },
    {
     "data": {
      "text/plain": [
       "5"
      ]
     },
     "execution_count": 96,
     "metadata": {},
     "output_type": "execute_result"
    }
   ],
   "source": [
    "S(1)(4)"
   ]
  },
  {
   "cell_type": "code",
   "execution_count": 97,
   "id": "68ae6d1f-926a-47ce-b98b-c816f503008b",
   "metadata": {},
   "outputs": [
    {
     "name": "stdout",
     "output_type": "stream",
     "text": [
      "init\n"
     ]
    }
   ],
   "source": [
    "ss = S(1)"
   ]
  },
  {
   "cell_type": "code",
   "execution_count": 98,
   "id": "1599c3fa-1e1f-43a6-9b8e-e9d5c53bc516",
   "metadata": {},
   "outputs": [
    {
     "data": {
      "text/plain": [
       "5"
      ]
     },
     "execution_count": 98,
     "metadata": {},
     "output_type": "execute_result"
    }
   ],
   "source": [
    "ss(4)"
   ]
  },
  {
   "cell_type": "markdown",
   "id": "2a12b35e-8189-475a-bd3c-bb881b52b47f",
   "metadata": {},
   "source": [
    "* tensorflow에도 __call__을 지원한다"
   ]
  },
  {
   "cell_type": "markdown",
   "id": "edff98e5-c3d5-4a30-a4cc-06d6e5c1566e",
   "metadata": {},
   "source": [
    "### 2-6. callable의 확장 개념 \n",
    "* callable의 뼈대\n",
    "    * 함수, 클래스 call의 정의\n",
    "* 확장의 개념\n",
    "    * accessors and operators: descriptor (만드는 방식이 세가지)\n",
    "        * class에서는 기본 접근 제한이 없기 때문에 descriptor를 쓴다 \n",
    "    * static method of instanves\n",
    "        * name of spaces     "
   ]
  },
  {
   "cell_type": "markdown",
   "id": "0f61933b-83fd-4469-a9fe-0058ac68fa10",
   "metadata": {},
   "source": [
    "#### 2-6-1. Static Method\n",
    "* 함수인데, 클래스의 네임스페이스만 빌려서 쓴다\n",
    "* 따라서, 인스턴스 기능 없이 사용 => self 없이 사용이 가능하다\n",
    "* 인스턴스 기능 없이 쓴다는 말은 self가 없다는 말이고 그렇다는 것은 즉 클래스 변수와 인스턴스 변수들을 공유하지 않아도 쓸 수 있다?\n",
    "* 다만, 인스터스화를 하지 않았을 경우, 메소드로는 사용할 수 없다\n",
    "* 네임스페이스를 빌려서 유지 보수를 한다\n",
    "* name space란?\n",
    "    * 함수가 readable하기 위해서 클래스의 이름을 빌려서 쓰는 것\n"
   ]
  },
  {
   "cell_type": "code",
   "execution_count": 15,
   "id": "7ea23946-57c5-42a7-97fd-8d6ce18a187c",
   "metadata": {},
   "outputs": [],
   "source": [
    "class T:\n",
    "    @staticmethod\n",
    "    def ss():\n",
    "        print('static')"
   ]
  },
  {
   "cell_type": "code",
   "execution_count": 16,
   "id": "86159dd4-4a56-4a44-b01c-842a7c0bb481",
   "metadata": {},
   "outputs": [
    {
     "name": "stdout",
     "output_type": "stream",
     "text": [
      "static\n"
     ]
    }
   ],
   "source": [
    "# instance 없이 사용\n",
    "# T의 클래스와 크게 상관 X\n",
    "# 하지만 이름을 빌려씀으로써 어디에 속한 기능인지 읽기가 쉬워짐 \n",
    "T.ss()"
   ]
  },
  {
   "cell_type": "code",
   "execution_count": 17,
   "id": "9f9e5b49-c1ea-4515-8317-1cb87398542d",
   "metadata": {},
   "outputs": [
    {
     "name": "stdout",
     "output_type": "stream",
     "text": [
      "static\n",
      "<class 'NoneType'>\n"
     ]
    }
   ],
   "source": [
    "print(type(T.ss()))"
   ]
  },
  {
   "cell_type": "code",
   "execution_count": 18,
   "id": "15104563-6893-4c7a-88e4-b6e11e93afba",
   "metadata": {},
   "outputs": [
    {
     "name": "stdout",
     "output_type": "stream",
     "text": [
      "static\n"
     ]
    }
   ],
   "source": [
    "# instance화\n",
    "t = T()\n",
    "t.ss()"
   ]
  },
  {
   "cell_type": "code",
   "execution_count": 19,
   "id": "70f16dde-59c5-48b1-b880-06bdb66f6f90",
   "metadata": {},
   "outputs": [
    {
     "name": "stdout",
     "output_type": "stream",
     "text": [
      "static\n",
      "<class 'NoneType'>\n"
     ]
    }
   ],
   "source": [
    "print(type(t.ss()))"
   ]
  },
  {
   "cell_type": "code",
   "execution_count": 10,
   "id": "7a0601a9-b128-4bba-8344-144bf6562b2c",
   "metadata": {},
   "outputs": [],
   "source": [
    "class T:\n",
    "#    @staticmethod\n",
    "    def ss():\n",
    "        print('static')"
   ]
  },
  {
   "cell_type": "code",
   "execution_count": 11,
   "id": "db156c6f-8542-45ac-aa0d-5c0d9999abff",
   "metadata": {},
   "outputs": [
    {
     "name": "stdout",
     "output_type": "stream",
     "text": [
      "static\n"
     ]
    }
   ],
   "source": [
    "T.ss()"
   ]
  },
  {
   "cell_type": "code",
   "execution_count": 12,
   "id": "550e4bab-b673-49a3-8b19-f554a016a282",
   "metadata": {},
   "outputs": [
    {
     "ename": "TypeError",
     "evalue": "T.ss() takes 0 positional arguments but 1 was given",
     "output_type": "error",
     "traceback": [
      "\u001b[1;31m---------------------------------------------------------------------------\u001b[0m",
      "\u001b[1;31mTypeError\u001b[0m                                 Traceback (most recent call last)",
      "Cell \u001b[1;32mIn[12], line 2\u001b[0m\n\u001b[0;32m      1\u001b[0m t \u001b[38;5;241m=\u001b[39m T()\n\u001b[1;32m----> 2\u001b[0m \u001b[43mt\u001b[49m\u001b[38;5;241;43m.\u001b[39;49m\u001b[43mss\u001b[49m\u001b[43m(\u001b[49m\u001b[43m)\u001b[49m\n\u001b[0;32m      3\u001b[0m \u001b[38;5;66;03m# method로 사용 불가능\u001b[39;00m\n",
      "\u001b[1;31mTypeError\u001b[0m: T.ss() takes 0 positional arguments but 1 was given"
     ]
    }
   ],
   "source": [
    "t = T()\n",
    "t.ss()\n",
    "# method로 사용 불가능"
   ]
  },
  {
   "cell_type": "code",
   "execution_count": 20,
   "id": "9317e503-2672-4488-a16d-5b5af69e393e",
   "metadata": {},
   "outputs": [],
   "source": [
    "class T:\n",
    "    @staticmethod\n",
    "    def ss(a):\n",
    "        print('static')"
   ]
  },
  {
   "cell_type": "code",
   "execution_count": 21,
   "id": "038b35e3-ca75-4a33-8d02-b53f8ff56253",
   "metadata": {},
   "outputs": [
    {
     "name": "stdout",
     "output_type": "stream",
     "text": [
      "static\n"
     ]
    }
   ],
   "source": [
    "T.ss(1)"
   ]
  },
  {
   "cell_type": "code",
   "execution_count": 22,
   "id": "796455f7-fd8b-4f8f-9ac5-a3611ec21a21",
   "metadata": {},
   "outputs": [
    {
     "name": "stdout",
     "output_type": "stream",
     "text": [
      "static\n"
     ]
    }
   ],
   "source": [
    "t = T()\n",
    "t.ss(1)"
   ]
  },
  {
   "cell_type": "code",
   "execution_count": 23,
   "id": "c36cecc3-3965-48ef-8f15-6ff8c774fffd",
   "metadata": {},
   "outputs": [
    {
     "ename": "TypeError",
     "evalue": "T.ss() missing 1 required positional argument: 'a'",
     "output_type": "error",
     "traceback": [
      "\u001b[1;31m---------------------------------------------------------------------------\u001b[0m",
      "\u001b[1;31mTypeError\u001b[0m                                 Traceback (most recent call last)",
      "Cell \u001b[1;32mIn[23], line 1\u001b[0m\n\u001b[1;32m----> 1\u001b[0m \u001b[43mt\u001b[49m\u001b[38;5;241;43m.\u001b[39;49m\u001b[43mss\u001b[49m\u001b[43m(\u001b[49m\u001b[43m)\u001b[49m\n\u001b[0;32m      2\u001b[0m \u001b[38;5;66;03m# TypeError: T.ss() missing 1 required positional argument: 'a'\u001b[39;00m\n\u001b[0;32m      3\u001b[0m \u001b[38;5;66;03m# 이것은 static method이기 때문에 첫번째 인자를 생략할 수 없다 \u001b[39;00m\n",
      "\u001b[1;31mTypeError\u001b[0m: T.ss() missing 1 required positional argument: 'a'"
     ]
    }
   ],
   "source": [
    "t.ss()\n",
    "# TypeError: T.ss() missing 1 required positional argument: 'a'\n",
    "# 이것은 static method이기 때문에 첫번째 인자를 생략할 수 없다 "
   ]
  },
  {
   "cell_type": "markdown",
   "id": "d18a311a-1637-418b-af66-39ec1283a7b4",
   "metadata": {},
   "source": [
    "#### 2-6-2. classmethod\n",
    "* class가 쓰는 method\n",
    "* 관례상 self 대신 cls를 쓴다\n",
    "* 클래스도 메타클래스의 관점에서 보면 인스턴스이기 때문에 메소드 사용 가능"
   ]
  },
  {
   "cell_type": "code",
   "execution_count": 115,
   "id": "a3b21908-5330-45e3-9cfa-dd850bd52957",
   "metadata": {},
   "outputs": [],
   "source": [
    "class T:\n",
    "    # class 변수\n",
    "    x = 1"
   ]
  },
  {
   "cell_type": "code",
   "execution_count": 116,
   "id": "6cc0cfc7-0c3a-480c-aeee-74eafe90cb88",
   "metadata": {},
   "outputs": [],
   "source": [
    "t = T()"
   ]
  },
  {
   "cell_type": "code",
   "execution_count": 118,
   "id": "dbf91d4b-bf90-4ac4-89fd-d1007a963c3b",
   "metadata": {},
   "outputs": [
    {
     "data": {
      "text/plain": [
       "1"
      ]
     },
     "execution_count": 118,
     "metadata": {},
     "output_type": "execute_result"
    }
   ],
   "source": [
    "t.x\n",
    "# LEGB의 개념에 의해\n",
    "# 인스턴스 변수에 없으면 (local에 없으면)\n",
    "# class 변수를 참조 (global을 찾)"
   ]
  },
  {
   "cell_type": "code",
   "execution_count": 120,
   "id": "a67c51b2-e855-4f0a-99a1-b0a79004079e",
   "metadata": {},
   "outputs": [
    {
     "data": {
      "text/plain": [
       "{}"
      ]
     },
     "execution_count": 120,
     "metadata": {},
     "output_type": "execute_result"
    }
   ],
   "source": [
    "vars(t)\n",
    "# 따라서 instave variable를 체크하는 vars는 empty"
   ]
  },
  {
   "cell_type": "code",
   "execution_count": 122,
   "id": "d51db91a-e209-493d-b854-3b52fdba488b",
   "metadata": {},
   "outputs": [],
   "source": [
    "t.x = 2\n",
    "# class variable을 instanve variable로 변환"
   ]
  },
  {
   "cell_type": "code",
   "execution_count": 123,
   "id": "2eb72f60-88e0-4d0f-82e5-7db4f3164ea0",
   "metadata": {},
   "outputs": [
    {
     "data": {
      "text/plain": [
       "{'x': 2}"
      ]
     },
     "execution_count": 123,
     "metadata": {},
     "output_type": "execute_result"
    }
   ],
   "source": [
    "vars(t)"
   ]
  },
  {
   "cell_type": "code",
   "execution_count": 125,
   "id": "32a4e016-a4ad-4ff6-a0af-f468f96f4b5c",
   "metadata": {},
   "outputs": [
    {
     "data": {
      "text/plain": [
       "2"
      ]
     },
     "execution_count": 125,
     "metadata": {},
     "output_type": "execute_result"
    }
   ],
   "source": [
    "t.x\n",
    "# 인스턴스에 변수가 생성 됨 \n",
    "# => 따라서 class 변수가 아닌 instance 변수를 반환"
   ]
  },
  {
   "cell_type": "code",
   "execution_count": 126,
   "id": "00b0ef9c-4401-4d56-88e6-6ee09871edf5",
   "metadata": {},
   "outputs": [],
   "source": [
    "tt = T()"
   ]
  },
  {
   "cell_type": "code",
   "execution_count": 128,
   "id": "aa333738-54e4-41c4-8107-7226798119a0",
   "metadata": {},
   "outputs": [
    {
     "data": {
      "text/plain": [
       "1"
      ]
     },
     "execution_count": 128,
     "metadata": {},
     "output_type": "execute_result"
    }
   ],
   "source": [
    "tt.x\n",
    "# 새로운 인스턴스를 만듦에 따라 클래스 variable을 찾음"
   ]
  },
  {
   "cell_type": "code",
   "execution_count": 135,
   "id": "b2d3c783-fb26-4e25-b4c5-7a564227f6db",
   "metadata": {},
   "outputs": [],
   "source": [
    "class Y:\n",
    "    # 클래스 메소드\n",
    "    @classmethod \n",
    "    def z(cls):\n",
    "        cls.x = 1\n",
    "        print('cls')"
   ]
  },
  {
   "cell_type": "code",
   "execution_count": 130,
   "id": "37bae402-305e-41aa-85f7-88605e47c7c3",
   "metadata": {},
   "outputs": [
    {
     "name": "stdout",
     "output_type": "stream",
     "text": [
      "cls\n"
     ]
    }
   ],
   "source": [
    "# 클래스 자기 자신을 부르는 것이기 때문에 인자를 쓰지 않는다\n",
    "# 메소드를 쓸 때 self를 쓰지 않는 것과 비슷함 \n",
    "Y.z()"
   ]
  },
  {
   "cell_type": "code",
   "execution_count": 131,
   "id": "cf25615d-be0b-4f22-a10a-85a4d24de562",
   "metadata": {},
   "outputs": [],
   "source": [
    "yy = Y()"
   ]
  },
  {
   "cell_type": "code",
   "execution_count": 132,
   "id": "e060ed8a-81f4-4b2d-8293-d9b3acb5b212",
   "metadata": {},
   "outputs": [
    {
     "name": "stdout",
     "output_type": "stream",
     "text": [
      "cls\n"
     ]
    }
   ],
   "source": [
    "yy.z()\n",
    "# LEGB 관점 - 인스턴스에 없으면 class에 있는 걸 가져다 쓴다"
   ]
  },
  {
   "cell_type": "code",
   "execution_count": 133,
   "id": "382ef030-22f9-427c-98e0-b908c6576d51",
   "metadata": {},
   "outputs": [
    {
     "data": {
      "text/plain": [
       "1"
      ]
     },
     "execution_count": 133,
     "metadata": {},
     "output_type": "execute_result"
    }
   ],
   "source": [
    "yy.x"
   ]
  },
  {
   "cell_type": "code",
   "execution_count": 134,
   "id": "e72962ed-a78d-45a7-84c3-23bb7b564c6a",
   "metadata": {},
   "outputs": [
    {
     "data": {
      "text/plain": [
       "{}"
      ]
     },
     "execution_count": 134,
     "metadata": {},
     "output_type": "execute_result"
    }
   ],
   "source": [
    "vars(yy)\n",
    "# x는 클래스 변수, 인스턴스에 없어서 위에선 클래스에 있는걸 찾았다"
   ]
  },
  {
   "cell_type": "code",
   "execution_count": 26,
   "id": "a4dc49ee-f30b-447a-aa56-fd67feedab3e",
   "metadata": {},
   "outputs": [],
   "source": [
    "class Y:\n",
    "    # 클래스 메소드\n",
    "    @classmethod \n",
    "    def z(cls):\n",
    "        cls.x = 1\n",
    "        print('cls')\n",
    "\n",
    "    def z():\n",
    "        x = 1\n",
    "        print('self')"
   ]
  },
  {
   "cell_type": "code",
   "execution_count": 28,
   "id": "275fd282-fd8c-46a8-8d90-915a33523983",
   "metadata": {},
   "outputs": [
    {
     "name": "stdout",
     "output_type": "stream",
     "text": [
      "self\n"
     ]
    }
   ],
   "source": [
    "Y.z()\n",
    "# LEGB 관점에서 z()가 local, method로 존재하기 때문에 \n",
    "# class 보다 method에 먼저 접근한다 "
   ]
  },
  {
   "cell_type": "code",
   "execution_count": 30,
   "id": "3e73a337-3688-4531-b5b6-425ad0e58828",
   "metadata": {},
   "outputs": [
    {
     "ename": "AttributeError",
     "evalue": "type object 'Y' has no attribute 'x'",
     "output_type": "error",
     "traceback": [
      "\u001b[1;31m---------------------------------------------------------------------------\u001b[0m",
      "\u001b[1;31mAttributeError\u001b[0m                            Traceback (most recent call last)",
      "Cell \u001b[1;32mIn[30], line 1\u001b[0m\n\u001b[1;32m----> 1\u001b[0m \u001b[43mY\u001b[49m\u001b[38;5;241;43m.\u001b[39;49m\u001b[43mx\u001b[49m\n\u001b[0;32m      2\u001b[0m \u001b[38;5;66;03m# LEGB 관점에서 z()는 메소드고 self. 과 같이 instance varible로 선언되지 않아서\u001b[39;00m\n\u001b[0;32m      3\u001b[0m \u001b[38;5;66;03m# 접근이 제한된다 \u001b[39;00m\n",
      "\u001b[1;31mAttributeError\u001b[0m: type object 'Y' has no attribute 'x'"
     ]
    }
   ],
   "source": [
    "Y.x\n",
    "# LEGB 관점에서 z()는 메소드고 self. 과 같이 instance varible로 선언되지 않아서\n",
    "# 접근이 제한된다 "
   ]
  },
  {
   "cell_type": "code",
   "execution_count": 44,
   "id": "5bcdaa7a-5196-4109-87a8-a1ac91a0c217",
   "metadata": {},
   "outputs": [],
   "source": [
    "class Y:\n",
    "    def __init__(self):\n",
    "        self.x = 1\n",
    "        \n",
    "    # 클래스 메소드\n",
    "    @classmethod \n",
    "    def z(cls):\n",
    "        cls.x = 1\n",
    "        print('cls')\n",
    "\n",
    "    def z(self):\n",
    "        self.x = 2\n",
    "        print('self')"
   ]
  },
  {
   "cell_type": "code",
   "execution_count": 39,
   "id": "bab3e76c-128a-4f61-a34a-25ba33aaddf8",
   "metadata": {},
   "outputs": [
    {
     "ename": "TypeError",
     "evalue": "Y.z() missing 1 required positional argument: 'self'",
     "output_type": "error",
     "traceback": [
      "\u001b[1;31m---------------------------------------------------------------------------\u001b[0m",
      "\u001b[1;31mTypeError\u001b[0m                                 Traceback (most recent call last)",
      "Cell \u001b[1;32mIn[39], line 1\u001b[0m\n\u001b[1;32m----> 1\u001b[0m \u001b[43mY\u001b[49m\u001b[38;5;241;43m.\u001b[39;49m\u001b[43mz\u001b[49m\u001b[43m(\u001b[49m\u001b[43m)\u001b[49m\n\u001b[0;32m      2\u001b[0m \u001b[38;5;66;03m# TypeError: Y.z() missing 1 required positional argument: 'self'\u001b[39;00m\n\u001b[0;32m      3\u001b[0m \u001b[38;5;66;03m# 현재는 함수로 쓰고 있기 때문에 인자를 넣어야한다\u001b[39;00m\n",
      "\u001b[1;31mTypeError\u001b[0m: Y.z() missing 1 required positional argument: 'self'"
     ]
    }
   ],
   "source": [
    "Y.z()\n",
    "# TypeError: Y.z() missing 1 required positional argument: 'self'\n",
    "# 현재는 함수로 쓰고 있기 때문에 인자를 넣어야한다"
   ]
  },
  {
   "cell_type": "code",
   "execution_count": 45,
   "id": "71619935-038c-4a34-b7cf-05ab4e3cca5d",
   "metadata": {},
   "outputs": [],
   "source": [
    "y = Y()"
   ]
  },
  {
   "cell_type": "code",
   "execution_count": 46,
   "id": "b6f38af2-81de-406e-8ced-5227e810b6c3",
   "metadata": {},
   "outputs": [
    {
     "data": {
      "text/plain": [
       "{'x': 1}"
      ]
     },
     "execution_count": 46,
     "metadata": {},
     "output_type": "execute_result"
    }
   ],
   "source": [
    "vars(y)"
   ]
  },
  {
   "cell_type": "code",
   "execution_count": 48,
   "id": "fed0a3b2-985a-4493-b807-268c62fdff50",
   "metadata": {},
   "outputs": [
    {
     "name": "stdout",
     "output_type": "stream",
     "text": [
      "self\n"
     ]
    }
   ],
   "source": [
    "y.z()\n",
    "# local 접근"
   ]
  },
  {
   "cell_type": "code",
   "execution_count": 49,
   "id": "be1739ee-8fb5-4ef1-a9c5-dd422d424240",
   "metadata": {},
   "outputs": [
    {
     "data": {
      "text/plain": [
       "2"
      ]
     },
     "execution_count": 49,
     "metadata": {},
     "output_type": "execute_result"
    }
   ],
   "source": [
    "y.x\n",
    "# local 접근 "
   ]
  },
  {
   "cell_type": "code",
   "execution_count": 50,
   "id": "bc87c952-00c3-4d52-97e1-ab3aec50e130",
   "metadata": {},
   "outputs": [
    {
     "data": {
      "text/plain": [
       "{'x': 2}"
      ]
     },
     "execution_count": 50,
     "metadata": {},
     "output_type": "execute_result"
    }
   ],
   "source": [
    "vars(y)"
   ]
  },
  {
   "cell_type": "markdown",
   "id": "ac132d3c-fd23-4221-8af0-dbf380cfd1fb",
   "metadata": {},
   "source": [
    "#### 2-6-3. generator\n",
    "* yield가 있으면 generator\n",
    "* therefore, it should have ()\n",
    "* note: 우아하고 효율적인 방법으로 찍힌다 "
   ]
  },
  {
   "cell_type": "markdown",
   "id": "f1ecc0f0-2073-44b1-8977-b7aa5b10bb82",
   "metadata": {},
   "source": [
    "#### 2-6-4. dispatch\n",
    "* __single dispatch__\n",
    "    * generic function 이라고도 부른다\n",
    "    * has a same name but behave in different way based on its data type\n",
    "    * ex) len()\n",
    "    * python only offers single dispatch\n",
    "    * this allows the flexibility \n",
    "* multiple dispatch\n",
    "    * aka generic function in programming perspective   "
   ]
  },
  {
   "cell_type": "code",
   "execution_count": 54,
   "id": "855665d0-f529-4d48-ab6e-34c4b5ba158c",
   "metadata": {},
   "outputs": [
    {
     "data": {
      "text/plain": [
       "(4, 2)"
      ]
     },
     "execution_count": 54,
     "metadata": {},
     "output_type": "execute_result"
    }
   ],
   "source": [
    "# what is generic function?\n",
    "len([1,2,3,4]), len({'a':1, 'b':2})\n",
    "# you can see that the len behaves differently on list and dict "
   ]
  },
  {
   "cell_type": "code",
   "execution_count": 55,
   "id": "6f45e42f-b6e7-436c-849c-0d89f39a6f74",
   "metadata": {},
   "outputs": [],
   "source": [
    "from functools import singledispatch"
   ]
  },
  {
   "cell_type": "code",
   "execution_count": 60,
   "id": "1283eff1-18e0-456e-8e72-861e42cbc65b",
   "metadata": {},
   "outputs": [],
   "source": [
    "@singledispatch\n",
    "def x(a):\n",
    "    print(a)\n",
    "\n",
    "# int 타입이 들어오면 밑의 함수로 dispatch -> 실행\n",
    "@x.register(int)\n",
    "def _(a):\n",
    "    print('int')\n",
    "\n",
    "# str 타입이 들어오면 밑의 함수로 dispatch -> 실행\n",
    "@x.register(str)\n",
    "def _(a):\n",
    "    print('str')\n",
    "\n",
    "\n",
    "# function이 아닌 class 안에서도 쓸 수 있다"
   ]
  },
  {
   "cell_type": "code",
   "execution_count": 57,
   "id": "b3aaff68-563b-4ce1-80b7-3c640ba2da73",
   "metadata": {},
   "outputs": [
    {
     "name": "stdout",
     "output_type": "stream",
     "text": [
      "3.0\n"
     ]
    }
   ],
   "source": [
    "x(3.)"
   ]
  },
  {
   "cell_type": "code",
   "execution_count": 58,
   "id": "7e9c967a-1a46-46d9-be24-8782b27d95a0",
   "metadata": {},
   "outputs": [
    {
     "name": "stdout",
     "output_type": "stream",
     "text": [
      "int\n"
     ]
    }
   ],
   "source": [
    "x(3)"
   ]
  },
  {
   "cell_type": "code",
   "execution_count": 59,
   "id": "8a6932d4-d67e-48b7-97dd-93d9ba5eb095",
   "metadata": {},
   "outputs": [
    {
     "name": "stdout",
     "output_type": "stream",
     "text": [
      "str\n"
     ]
    }
   ],
   "source": [
    "x('3')"
   ]
  },
  {
   "cell_type": "code",
   "execution_count": null,
   "id": "906408ec-4cc9-4f19-949b-82adbcaf25a1",
   "metadata": {},
   "outputs": [],
   "source": []
  }
 ],
 "metadata": {
  "kernelspec": {
   "display_name": "Python 3 (ipykernel)",
   "language": "python",
   "name": "python3"
  },
  "language_info": {
   "codemirror_mode": {
    "name": "ipython",
    "version": 3
   },
   "file_extension": ".py",
   "mimetype": "text/x-python",
   "name": "python",
   "nbconvert_exporter": "python",
   "pygments_lexer": "ipython3",
   "version": "3.10.11"
  }
 },
 "nbformat": 4,
 "nbformat_minor": 5
}
