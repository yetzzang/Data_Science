{
 "cells": [
  {
   "cell_type": "code",
   "execution_count": 2,
   "id": "e7f41427-98c8-4f4f-8aef-f0d7a5bd87a5",
   "metadata": {},
   "outputs": [],
   "source": [
    "import sqlite3"
   ]
  },
  {
   "cell_type": "markdown",
   "id": "c2bdceda-dee8-4f15-a6ca-91bf299ef659",
   "metadata": {},
   "source": [
    "- DB: 데이터 베이스; 데이터 저장소\r\n",
    "- DBMS: system software for creating and managing database\r\n",
    "    - SQL은 DBMS의 한 종류이다\r\n",
    "    - DBMS는 server이지만 SQLite는 serverless로 managing이 가능한 pacakge이다"
   ]
  },
  {
   "cell_type": "markdown",
   "id": "3fb26bf0-2852-4f01-90d5-48e9af017abe",
   "metadata": {},
   "source": [
    "1. python ----> 2. DBMS ----> 3. DB\n",
    "                  SQLite"
   ]
  },
  {
   "cell_type": "markdown",
   "id": "84c16d94-8bc1-46c4-932e-13961e62917e",
   "metadata": {},
   "source": [
    "1. connection -> client -> server\n",
    "    * DBMS server와 연결시키는 작업 \n",
    "2. cursor\n",
    "   * DBMS에서 실제 작업\n",
    "3. fetch\n",
    "   * cursor에서 한 작업을 python을 패치/불러드린다\n",
    "   * Fetches one/more rows from the resultset\n",
    "4. commit\n",
    "   * 실제 DB에 적용  "
   ]
  },
  {
   "cell_type": "markdown",
   "id": "6276202e-f438-44c0-b847-f2f60323ab6a",
   "metadata": {},
   "source": [
    "```\n",
    "CREATE TABLE tableName(\n",
    "    COL1 DATATYPE 조건,\n",
    "    COL2 DATATYPE 조건,\n",
    "    ...\n",
    "    );\n",
    "```\n",
    "\n",
    "```\n",
    "# 전체 추가 -> VALUES 뒤에 all columns에 들어갈 데이터\n",
    "INSERT INTO tablename VALUES (val1, val2, ...)\n",
    "# 부분 추가 -> 해당 columns에 해당하는 추가할 데이터 \n",
    "INSERT INTO tablename (COL1, COL2, ...) VALUES (val1, val2, ...)\n",
    "```\n",
    "\n",
    "```\n",
    "cur.execute\n",
    "Qmark Style:\n",
    "INSERT INTO ALBUM VALUES (NULL, ?, ?)', (val1, val2)\n",
    "\n",
    "Named Style:\n",
    "INSERT INTO ALBUM VALUES (NULL, :name, :no)', {'name':val1, 'no':val2}\n",
    "```"
   ]
  },
  {
   "cell_type": "markdown",
   "id": "b9122b31-cae3-4d05-bc32-2582c4ad945d",
   "metadata": {},
   "source": [
    "* PK & FK 정리\n",
    "    * PK란? 해당 테이블의 row들을 uniquely identify 할 수 있는 숫자/요소\n",
    "        * 따라서 최소한의 중복만 허용이 가능하다 \n",
    "    * FK란? 다른 특정 테이블의 row들을 uniquely identify 할 수 있는 숫자/요소\n",
    "        * 중복 허용이 가능하다 why? 현 테이블의 PK에 따라 FK가 중복이 될 수 있기 때문 "
   ]
  },
  {
   "cell_type": "code",
   "execution_count": 3,
   "id": "24aa3690-6bc4-4022-98d8-1a23ebb9d68a",
   "metadata": {},
   "outputs": [],
   "source": [
    "# playlist라는 db를 sqlite3 server를 통해 파이썬과 커넥트 시키는 작업 \n",
    "conn = sqlite3.connect('playlist.db')"
   ]
  },
  {
   "cell_type": "code",
   "execution_count": 4,
   "id": "79d44a33-ca2c-46f8-aa5c-8f54e74705e5",
   "metadata": {},
   "outputs": [],
   "source": [
    "# 연결된 db에서 작업을 하기 위한 마우스포인터라고 생각하자 \n",
    "cur = conn.cursor()"
   ]
  },
  {
   "cell_type": "code",
   "execution_count": 5,
   "id": "74abba80-b9db-44fa-ad11-2b0df9b37edb",
   "metadata": {},
   "outputs": [
    {
     "data": {
      "text/plain": [
       "<sqlite3.Cursor at 0x112fe190cc0>"
      ]
     },
     "execution_count": 5,
     "metadata": {},
     "output_type": "execute_result"
    }
   ],
   "source": [
    "cur.executescript('''\n",
    "    DROP TABLE IF EXISTS ARTIST;\n",
    "    CREATE TABLE ARTIST(\n",
    "        PK INTEGER PRIMARY KEY,\n",
    "        NAME TEXT NOT NULL DEFAULT '가수'\n",
    "    );\n",
    "''')"
   ]
  },
  {
   "cell_type": "code",
   "execution_count": 6,
   "id": "550ff294-5074-4a49-9b49-78fedb816b20",
   "metadata": {},
   "outputs": [],
   "source": [
    "cur.executescript('''\n",
    "    DROP TABLE IF EXISTS ALBUM;\n",
    "    CREATE TABLE ALBUM(\n",
    "        PK INTEGER PRIMARY KEY,\n",
    "        NAME TEXT, \n",
    "        FK INTEGER NOT NULL\n",
    "    );\n",
    "    \n",
    "    DROP TABLE IF EXISTS GENRE;\n",
    "    CREATE TABLE GENRE(\n",
    "        PK INTEGER PRIMARY KEY,\n",
    "        NAME TEXT NOT NULL\n",
    "    );\n",
    "\n",
    "    DROP TABLE IF EXISTS TRACK;\n",
    "    CREATE TABLE TRACK(\n",
    "        PK INTEGER PRIMARY KEY,\n",
    "        NAME TEXT NOT NULL,\n",
    "        LENGTH INTEGER DEFAULT 0,\n",
    "        RATING INTEGER DEFAULT 0,\n",
    "        COUNT INTEGER DEFAULT 0,\n",
    "        AFK INTEGER NOT NULL,\n",
    "        GFK INTEGER NOT NULL\n",
    "    );\n",
    "''')\n",
    "conn.commit()"
   ]
  },
  {
   "cell_type": "code",
   "execution_count": 7,
   "id": "e8be5b00-5b63-4e40-b9b3-876e9f91eabd",
   "metadata": {},
   "outputs": [
    {
     "data": {
      "text/plain": [
       "<sqlite3.Cursor at 0x112fe190cc0>"
      ]
     },
     "execution_count": 7,
     "metadata": {},
     "output_type": "execute_result"
    }
   ],
   "source": [
    "cur.executemany('''\n",
    "    INSERT INTO ARTIST VALUES (NULL, ?);\n",
    "''', [['수지'], ['박효신'], ['아이유']])"
   ]
  },
  {
   "cell_type": "code",
   "execution_count": 8,
   "id": "b1563b7f-f245-4896-9515-ab11ac002c86",
   "metadata": {},
   "outputs": [
    {
     "data": {
      "text/plain": [
       "<sqlite3.Cursor at 0x112fe190cc0>"
      ]
     },
     "execution_count": 8,
     "metadata": {},
     "output_type": "execute_result"
    }
   ],
   "source": [
    "cur.executemany('''\n",
    "    INSERT INTO GENRE VALUES (NULL, ?);\n",
    "''', [['발라드'], ['R&B'], ['락']])"
   ]
  },
  {
   "cell_type": "code",
   "execution_count": 9,
   "id": "2465faad-deab-4ec2-ba0e-9c2a28c19e64",
   "metadata": {},
   "outputs": [],
   "source": [
    "# ALBUM TABLE을 채우는 함수\n",
    "\n",
    "# 순서 \n",
    "# 아티스트 이름에 해당하는 PK를 뽑는다\n",
    "# 앨범 테이블에 해당 PK와 앨범을 추가시킨다 \n",
    "# 이때 뽑은 PK는 앨범의 FK가 된다 artist pk = album fk \n",
    "\n",
    "def addAlbum(artist, album):\n",
    "    # 해당 아티스트의 PK 추출 \n",
    "    cur.execute('SELECT PK FROM ARTIST WHERE NAME LIKE ?', ['%'+artist+'%'])\n",
    "    # 파이썬에 패치 \n",
    "    # 바로 cur.fetchone()[0] 하지 않는 이유는:\n",
    "    # TypeError: 'NoneType' object is not subscriptable\n",
    "    # 아무것도 없을 경우 NoneType을 읽어들일 수가 없기 때문 \n",
    "    PK = cur.fetchone()\n",
    "    \n",
    "    # PK가 존재한다면 FK로 할당하고 데이터 추가 \n",
    "    if PK:\n",
    "        # 왜 인덱싱을 써서 해주냐?\n",
    "        # 패치는 튜플로 반환하기 때문에 순서대로 반환하다. \n",
    "        # 따라서 하나의 column만 반환하더라도 튜플의 형태로 반환하기 때문에 한개의 숫자로 변환 \n",
    "        FK = PK[0]\n",
    "        # 데이터 추가 \n",
    "        # 왜 NULL? bc 첫번째는 pk이니까 \n",
    "        cur.execute('INSERT INTO ALBUM VALUES (NULL, ?, ?)', (album, FK))\n",
    "        conn.commit()\n",
    "    # what's the purpose of the return?\n",
    "    return PK, artist, album, cur.lastrowid"
   ]
  },
  {
   "cell_type": "code",
   "execution_count": 10,
   "id": "5d4949ed-1e3c-4658-9e3f-bf8c17b42f3a",
   "metadata": {},
   "outputs": [
    {
     "data": {
      "text/plain": [
       "((3,), '아이유', '아이유앨범', 3)"
      ]
     },
     "execution_count": 10,
     "metadata": {},
     "output_type": "execute_result"
    }
   ],
   "source": [
    "addAlbum('수지','수지앨범')\n",
    "addAlbum('박효신','박효신앨범')\n",
    "addAlbum('아이유','아이유앨범')"
   ]
  },
  {
   "cell_type": "code",
   "execution_count": 11,
   "id": "9f409883-65af-4322-929d-ab50a820e0d4",
   "metadata": {},
   "outputs": [],
   "source": [
    "# TRACK 테이블을 채우는 함수 \n",
    "\n",
    "# 순서 \n",
    "# album 인자에 해당하는 PK 추출 \n",
    "# album pk = track AFK\n",
    "# 장르 인자에 해당하는 PK 추출\n",
    "# genre pk = track GFK\n",
    "# AFK와 GFK가 동시에 있는 경우 TRACK에 데이터 추가 \n",
    "\n",
    "def addTrack(album, genre, track, length=0, rating=0, count=0):\n",
    "    cur.execute('SELECT PK FROM ALBUM WHERE NAME LIKE ?', ['%'+album+'%'])\n",
    "    # 튜플로 반환 \n",
    "    PK1 = cur.fetchone()\n",
    "\n",
    "    cur.execute('SELECT PK FROM GENRE WHERE NAME LIKE ?', ['%'+genre+'%'])\n",
    "    # 튜플로 반환 \n",
    "    PK2 = cur.fetchone()\n",
    "\n",
    "    if PK1 and PK2:\n",
    "        AFK = PK1[0] \n",
    "        GFK = PK2[0]\n",
    "        cur.execute('''\n",
    "            INSERT INTO TRACK \n",
    "            VALUES (NULL, :name, :length, :rating, :count, :afk, :gfk)\n",
    "            ''', {'name':track, 'length':length, 'rating':rating, 'count':count, 'afk':AFK, 'gfk':GFK})\n",
    "        conn.commit()\n",
    "    return PK1, PK2\n"
   ]
  },
  {
   "cell_type": "code",
   "execution_count": null,
   "id": "daae09be-6612-4ee1-9dec-2b955a1935b6",
   "metadata": {},
   "outputs": [],
   "source": []
  },
  {
   "cell_type": "code",
   "execution_count": 12,
   "id": "95f896d4-380c-4009-b438-e3a1abfad275",
   "metadata": {},
   "outputs": [
    {
     "data": {
      "text/plain": [
       "((3,), (1,))"
      ]
     },
     "execution_count": 12,
     "metadata": {},
     "output_type": "execute_result"
    }
   ],
   "source": [
    "addTrack('박효신','R&B', '박효신노래1')\n",
    "addTrack('박효신','락', '박효신노래2')\n",
    "addTrack('박효신','락', '박효신노래3')\n",
    "addTrack('아이유','발라드', '아이유노래1')\n",
    "addTrack('아이유','락', '아이유노래2')\n",
    "addTrack('아이유','발라드', '아이유노래3')"
   ]
  },
  {
   "cell_type": "code",
   "execution_count": 13,
   "id": "ee62a36b-eadf-4584-867d-f9a7081f1be3",
   "metadata": {},
   "outputs": [
    {
     "data": {
      "text/plain": [
       "(1,)"
      ]
     },
     "execution_count": 13,
     "metadata": {},
     "output_type": "execute_result"
    }
   ],
   "source": [
    "# NOTE\n",
    "#cur.execute('SELECT PK FROM ALBUM WHERE NAME LIKE ?', ('%수지%'))\n",
    "#cur.fetchone()\n",
    "# 왜 하나뿐인데도 ,를 쓰냐?\n",
    "# ,를 쓰지 않으면 튜플이 되지 않기 때문\n",
    "# 그렇게 되면 문자를 하나씩 iter하게 되는데 이때 ?와 갯숫가 맞지 않기 때문에 에러가 뜬다 \n",
    "\n",
    "# cur.executemany('SELECT PK FROM ALBUM WHERE NAME LIKE ?', [['%수지%']])\n",
    "# cur.fetchone()\n",
    "# ProgrammingError: executemany() can only execute DML statements.\n",
    "# SELECT DML이 아님.\n",
    "\n",
    "# iterable 하기만 하면 튜플 리스트 상관이 없다 \n",
    "# 튜플이랑 리스트를 쓰는 iterable 하게 하기 위해서 \n",
    "\n",
    "cur.execute('SELECT PK FROM ALBUM WHERE NAME LIKE ?', ('%수지%',))\n",
    "cur.fetchone()"
   ]
  },
  {
   "cell_type": "code",
   "execution_count": 14,
   "id": "eac48bc8-1964-4479-a48a-4ab756e13e5a",
   "metadata": {},
   "outputs": [
    {
     "data": {
      "text/plain": [
       "(1,)"
      ]
     },
     "execution_count": 14,
     "metadata": {},
     "output_type": "execute_result"
    }
   ],
   "source": [
    "cur.execute('SELECT PK FROM ALBUM WHERE NAME LIKE ?', ['%수지%'])\n",
    "cur.fetchone()"
   ]
  },
  {
   "cell_type": "code",
   "execution_count": 15,
   "id": "cf5d34ee-e6bc-4660-9bac-743ac837bfdf",
   "metadata": {},
   "outputs": [],
   "source": [
    "# TRACK NAME을 PK로 바꾼다\n",
    "# TRACK NAME의 PK를 바꿔줄거야 \n",
    "cur.execute('''\n",
    "    UPDATE TRACK\n",
    "    SET NAME=?\n",
    "    WHERE PK=?\n",
    "''', ('아이유노래2', 2))\n",
    "conn.commit()"
   ]
  },
  {
   "cell_type": "code",
   "execution_count": 16,
   "id": "0d0c828b-2ff0-48f1-b646-f3358e9f086b",
   "metadata": {},
   "outputs": [
    {
     "data": {
      "text/plain": [
       "[('수지',), ('박효신',), ('아이유',)]"
      ]
     },
     "execution_count": 16,
     "metadata": {},
     "output_type": "execute_result"
    }
   ],
   "source": [
    "# CHECK\n",
    "cur.execute('SELECT DISTINCT(NAME) FROM ARTIST')\n",
    "cur.fetchall()"
   ]
  },
  {
   "cell_type": "code",
   "execution_count": 17,
   "id": "474569c7-28d1-4c06-887e-bbe0f560d9e9",
   "metadata": {},
   "outputs": [
    {
     "data": {
      "text/plain": [
       "[(1, '수지앨범', 1), (2, '박효신앨범', 2), (3, '아이유앨범', 3)]"
      ]
     },
     "execution_count": 17,
     "metadata": {},
     "output_type": "execute_result"
    }
   ],
   "source": [
    "# CHECK\n",
    "cur.execute('SELECT * FROM ALBUM')\n",
    "cur.fetchall()"
   ]
  },
  {
   "cell_type": "markdown",
   "id": "3ed1c94a-98ff-469e-92d3-f75ee4c6f7e1",
   "metadata": {},
   "source": [
    "### join\n",
    "\n",
    "(1)\n",
    "SELECT ____\n",
    "FROM ARTIST\n",
    "\n",
    "(2)\n",
    "SELECT ___\n",
    "FROM ARTIST\n",
    "INNER JOIN ALBUM\n",
    "ON ALBUM.FK = ARTIST.PK\n",
    "\n",
    "(3)\n",
    "SELECT ARTIST>NAME, ALBUM.NAME"
   ]
  },
  {
   "cell_type": "code",
   "execution_count": 18,
   "id": "8183b784-2f5e-4edb-a05a-263247a3f5f6",
   "metadata": {},
   "outputs": [
    {
     "data": {
      "text/plain": [
       "[('수지', '수지앨범'), ('박효신', '박효신앨범'), ('아이유', '아이유앨범')]"
      ]
     },
     "execution_count": 18,
     "metadata": {},
     "output_type": "execute_result"
    }
   ],
   "source": [
    "# ARTIST - ALBUM\n",
    "# FROM 기본이 될 것 \n",
    "# LEFT JOIN 합칠 테이블 \n",
    "# ON 기본일 될 PK = 합치는 FK\n",
    "cur.execute('''\n",
    "    SELECT A.NAME, B.NAME\n",
    "    FROM ARTIST AS A\n",
    "    LEFT JOIN ALBUM AS B\n",
    "    ON A.PK = B.FK\n",
    "''')\n",
    "cur.fetchall()"
   ]
  },
  {
   "cell_type": "code",
   "execution_count": 19,
   "id": "ca416696-45d0-4796-94cf-c1d8e6bba7c0",
   "metadata": {},
   "outputs": [
    {
     "data": {
      "text/plain": [
       "[(1, '수지앨범', 1, None, None, None, None, None, None, None),\n",
       " (2, '박효신앨범', 2, 1, '박효신노래1', 0, 0, 0, 2, 2),\n",
       " (2, '박효신앨범', 2, 3, '박효신노래3', 0, 0, 0, 2, 3),\n",
       " (2, '박효신앨범', 2, 2, '아이유노래2', 0, 0, 0, 2, 3),\n",
       " (3, '아이유앨범', 3, 4, '아이유노래1', 0, 0, 0, 3, 1),\n",
       " (3, '아이유앨범', 3, 5, '아이유노래2', 0, 0, 0, 3, 3),\n",
       " (3, '아이유앨범', 3, 6, '아이유노래3', 0, 0, 0, 3, 1)]"
      ]
     },
     "execution_count": 19,
     "metadata": {},
     "output_type": "execute_result"
    }
   ],
   "source": [
    "# ALBUM - TRACK\n",
    "cur.execute('''\n",
    "    SELECT *\n",
    "    FROM ALBUM AS B\n",
    "    LEFT JOIN TRACK AS C\n",
    "    ON B.PK = C.AFK\n",
    "''')\n",
    "\n",
    "# 기본이 되는 것은 ALBUM TABLE -> 따라서 album의 요소들은 모두 들어가야 함\n",
    "# 여기에 track을 가져다 붙힘 by album pk로 \n",
    "# 그렇게 되면 중복되는 album name이 많아질 수 있음 \n",
    "cur.fetchall()"
   ]
  },
  {
   "cell_type": "code",
   "execution_count": 20,
   "id": "ef202eae-004a-47ca-ad22-387baa539e40",
   "metadata": {},
   "outputs": [
    {
     "data": {
      "text/plain": [
       "[('박효신앨범', '박효신노래1'),\n",
       " ('박효신앨범', '아이유노래2'),\n",
       " ('박효신앨범', '박효신노래3'),\n",
       " ('아이유앨범', '아이유노래1'),\n",
       " ('아이유앨범', '아이유노래2'),\n",
       " ('아이유앨범', '아이유노래3')]"
      ]
     },
     "execution_count": 20,
     "metadata": {},
     "output_type": "execute_result"
    }
   ],
   "source": [
    "cur.execute('''\n",
    "    SELECT B.NAME, C.NAME\n",
    "    FROM TRACK AS C\n",
    "    LEFT JOIN ALBUM AS B\n",
    "    ON B.PK = C.AFK\n",
    "''')\n",
    "\n",
    "# 반대로 기준점이 track이 되어버리면 track의 값들만 모두 있으면 되므로\n",
    "# track이 없는 수지앨범은 없어짐 \n",
    "cur.fetchall()"
   ]
  },
  {
   "cell_type": "code",
   "execution_count": 21,
   "id": "41d9163c-01c1-41a1-837d-15ef633335ab",
   "metadata": {},
   "outputs": [
    {
     "data": {
      "text/plain": [
       "[('박효신앨범', 3), ('수지앨범', 0), ('아이유앨범', 3)]"
      ]
     },
     "execution_count": 21,
     "metadata": {},
     "output_type": "execute_result"
    }
   ],
   "source": [
    "# 앨범별 트랙의 갯수 \n",
    "# album과 track left join\n",
    "# group by -> 앨범별 트랙의 갯수이기 때문에 앨범을 grouping\n",
    "# 그 뒤 트랙의 갯수를 세어야하기 때문에 각 앨범마다 몇개의 Name이 있는지 count \n",
    "\n",
    "cur.execute('''\n",
    "    SELECT B.NAME, COUNT(C.NAME)\n",
    "    FROM ALBUM AS B\n",
    "    LEFT JOIN TRACK AS C\n",
    "    ON B.PK = C.AFK\n",
    "    GROUP BY B.NAME\n",
    "''')\n",
    "\n",
    "cur.fetchall()"
   ]
  },
  {
   "cell_type": "code",
   "execution_count": 22,
   "id": "f3802b70-4ad2-454a-98e1-dcc145cc9c5c",
   "metadata": {},
   "outputs": [
    {
     "data": {
      "text/plain": [
       "[('박효신', 1), ('수지', 1), ('아이유', 1)]"
      ]
     },
     "execution_count": 22,
     "metadata": {},
     "output_type": "execute_result"
    }
   ],
   "source": [
    "# 가수별 앨범 갯수 \n",
    "cur.execute(''' \n",
    "    SELECT A.NAME, COUNT(B.NAME)\n",
    "    FROM ARTIST AS A\n",
    "    LEFT JOIN ALBUM AS B\n",
    "    ON A.PK = B.FK\n",
    "    GROUP BY A.NAME\n",
    "''')\n",
    "cur.fetchall()"
   ]
  },
  {
   "cell_type": "code",
   "execution_count": 23,
   "id": "03b9a80a-3956-4828-9d5f-1b746e5aaae5",
   "metadata": {},
   "outputs": [
    {
     "data": {
      "text/plain": [
       "[('수지', '수지앨범', None),\n",
       " ('박효신', '박효신앨범', '박효신노래1'),\n",
       " ('박효신', '박효신앨범', '박효신노래3'),\n",
       " ('박효신', '박효신앨범', '아이유노래2'),\n",
       " ('아이유', '아이유앨범', '아이유노래1'),\n",
       " ('아이유', '아이유앨범', '아이유노래2'),\n",
       " ('아이유', '아이유앨범', '아이유노래3')]"
      ]
     },
     "execution_count": 23,
     "metadata": {},
     "output_type": "execute_result"
    }
   ],
   "source": [
    "# ARTIST - ALBUM - TRACK\n",
    "# 하나씩 차근히 조인하는 방법\n",
    "cur.execute('''\n",
    "    SELECT A.NAME, B.NAME, C.NAME\n",
    "    FROM ARTIST AS A\n",
    "    LEFT JOIN ALBUM AS B\n",
    "    ON A.PK = B.FK\n",
    "    LEFT JOIN TRACK AS C\n",
    "    ON B.PK = C.AFK\n",
    "''')\n",
    "cur.fetchall()"
   ]
  },
  {
   "cell_type": "code",
   "execution_count": 24,
   "id": "7ff7e6f9-04ef-46e3-9729-2ab796341a8b",
   "metadata": {},
   "outputs": [
    {
     "data": {
      "text/plain": [
       "[(1, '수지', '수지앨범', None),\n",
       " (2, '박효신', '박효신앨범', '박효신노래1'),\n",
       " (2, '박효신', '박효신앨범', '박효신노래3'),\n",
       " (2, '박효신', '박효신앨범', '아이유노래2'),\n",
       " (3, '아이유', '아이유앨범', '아이유노래1'),\n",
       " (3, '아이유', '아이유앨범', '아이유노래2'),\n",
       " (3, '아이유', '아이유앨범', '아이유노래3')]"
      ]
     },
     "execution_count": 24,
     "metadata": {},
     "output_type": "execute_result"
    }
   ],
   "source": [
    "# 중첩 \n",
    "cur.execute('''\n",
    "    SELECT A.*, B.NAME, B.TNAME\n",
    "    FROM ARTIST AS A\n",
    "    LEFT JOIN (\n",
    "        SELECT ALBUM.FK, ALBUM.NAME AS NAME, TRACK.NAME AS TNAME\n",
    "        FROM ALBUM \n",
    "        LEFT JOIN TRACK\n",
    "        ON ALBUM.PK = TRACK.AFK\n",
    "    ) AS B\n",
    "    ON A.PK = B.FK\n",
    "''')\n",
    "\n",
    "# 아래는 album-track을 조인\n",
    "'''\n",
    "[(1, '수지앨범', 1, None, None, None, None, None, None, None),\n",
    " (2, '박효신앨범', 2, 1, '박효신노래1', 0, 0, 0, 2, 2),\n",
    " (2, '박효신앨범', 2, 2, '박효신노래2', 0, 0, 0, 2, 3),\n",
    " (2, '박효신앨범', 2, 3, '박효신노래3', 0, 0, 0, 2, 3),\n",
    " (3, '아이유앨범', 3, 4, '아이유노래1', 0, 0, 0, 3, 1),\n",
    " (3, '아이유앨범', 3, 5, '아이유노래2', 0, 0, 0, 3, 3),\n",
    " (3, '아이유앨범', 3, 6, '아이유노래3', 0, 0, 0, 3, 1)]\n",
    "'''\n",
    "\n",
    "# album 테이블의 pk와 track의 AFK 맞는 것들끼리 조인 \n",
    "# 이떄 joined 테이블의 row 갯수가 album 테이블의 갯수보다 작거나 많음\n",
    "# why? track에서 중복되는 AFK 값을 가지고 있으면 그만큼 row가 더 생생되기 때문\n",
    "# 위의 해당 테이블의 fk [3번째]와 artist의 pk를 맞춤\n",
    "# 헷갈리는 부분 예시) 앨범: 김예지, 노래: 김예지1, 김예지2\n",
    "# 앨범 + 노래: [[김예지, 김예지1], [김예지, 김예지2]]\n",
    "\n",
    "cur.fetchall()"
   ]
  },
  {
   "cell_type": "code",
   "execution_count": 25,
   "id": "8de34b4a-1d87-4f5a-9635-0441f727b088",
   "metadata": {},
   "outputs": [
    {
     "data": {
      "text/plain": [
       "[('박효신', '박효신앨범', '박효신노래1'),\n",
       " ('박효신', '박효신앨범', '아이유노래2'),\n",
       " ('박효신', '박효신앨범', '박효신노래3'),\n",
       " ('아이유', '아이유앨범', '아이유노래1'),\n",
       " ('아이유', '아이유앨범', '아이유노래2'),\n",
       " ('아이유', '아이유앨범', '아이유노래3')]"
      ]
     },
     "execution_count": 25,
     "metadata": {},
     "output_type": "execute_result"
    }
   ],
   "source": [
    "# where 활용\n",
    "# 결국 A.PK = B.FK AND B.PK=C.AFK 되는 것들만 조인이 되므로 \n",
    "# 조인과 같다\n",
    "# 하지만 None이 있을경우 봔환하지 못함 \n",
    "cur.execute('''\n",
    "    SELECT A.NAME, B.NAME, C.NAME\n",
    "    FROM ARTIST AS A, ALBUM AS B, TRACK AS C\n",
    "    WHERE A.PK = B.FK AND B.PK=C.AFK   \n",
    "''')\n",
    "cur.fetchall()"
   ]
  },
  {
   "cell_type": "code",
   "execution_count": 26,
   "id": "505e546e-5fac-4ea4-a908-ddffed91b355",
   "metadata": {},
   "outputs": [
    {
     "data": {
      "text/plain": [
       "[('박효신', '박효신앨범', 3), ('아이유', '아이유앨범', 3)]"
      ]
     },
     "execution_count": 26,
     "metadata": {},
     "output_type": "execute_result"
    }
   ],
   "source": [
    "# 앨범별 트랙수\n",
    "cur.execute('''\n",
    "    SELECT A.NAME, B.NAME, COUNT(C.NAME)\n",
    "    FROM ARTIST AS A, ALBUM AS B, TRACK AS C\n",
    "    WHERE A.PK = B.FK AND B.PK=C.AFK  \n",
    "    GROUP BY B.NAME\n",
    "''')\n",
    "cur.fetchall()"
   ]
  },
  {
   "cell_type": "code",
   "execution_count": 27,
   "id": "b9b486f8-c963-4df7-be71-011ef738e453",
   "metadata": {},
   "outputs": [
    {
     "data": {
      "text/plain": [
       "[('박효신', '박효신앨범', 'R&B', '박효신노래1'),\n",
       " ('박효신', '박효신앨범', '락', '아이유노래2'),\n",
       " ('아이유', '아이유앨범', '발라드', '아이유노래1'),\n",
       " ('아이유', '아이유앨범', '락', '아이유노래2')]"
      ]
     },
     "execution_count": 27,
     "metadata": {},
     "output_type": "execute_result"
    }
   ],
   "source": [
    "# 가수 - 앨범 - 장르 - 노래\n",
    "cur.execute('''\n",
    "    SELECT A.NAME, B.NAME, C.NAME, D.NAME\n",
    "    FROM ARTIST AS A, ALBUM AS B, GENRE AS C, TRACK AS D\n",
    "    WHERE A.PK =B.FK AND B.PK = D.AFK AND C.PK=D.GFK\n",
    "    GROUP BY A.PK, B.PK, C.PK\n",
    "''')\n",
    "cur.fetchall()\n",
    "# 가수를 먼저 묶고, 그 후에 앨범 별로 묶고, 그 후에 장르 별로 묶고, 카운트를 센다 "
   ]
  },
  {
   "cell_type": "code",
   "execution_count": 28,
   "id": "e0e8dd01-cf01-435b-b997-89ec7c071ed3",
   "metadata": {},
   "outputs": [
    {
     "data": {
      "text/plain": [
       "[('박효신', '박효신앨범', 'R&B', '박효신노래1', 1),\n",
       " ('박효신', '박효신앨범', '락', '아이유노래2', 2),\n",
       " ('아이유', '아이유앨범', '발라드', '아이유노래1', 2),\n",
       " ('아이유', '아이유앨범', '락', '아이유노래2', 1)]"
      ]
     },
     "execution_count": 28,
     "metadata": {},
     "output_type": "execute_result"
    }
   ],
   "source": [
    "# 가수 > 앨범 > 장르 >  \n",
    "cur.execute('''\n",
    "    SELECT A.NAME, B.NAME, C.NAME, D.NAME, COUNT(D.NAME)\n",
    "    FROM ARTIST AS A, ALBUM AS B, GENRE AS C, TRACK AS D\n",
    "    WHERE A.PK =B.FK AND B.PK = D.AFK AND C.PK=D.GFK\n",
    "    GROUP BY A.PK, B.PK, C.PK\n",
    "''')\n",
    "# D.NAME에서 박효신노래2만 나오는 이유는 대표되는 것, 그러니까 제일 처음 들어갔던 데이터만 표시가 됨 \n",
    "cur.fetchall()"
   ]
  },
  {
   "cell_type": "code",
   "execution_count": 33,
   "id": "7ff65d1d-d066-4544-a648-e4251f6c09c8",
   "metadata": {},
   "outputs": [
    {
     "data": {
      "text/plain": [
       "<sqlite3.Cursor at 0x112fe190cc0>"
      ]
     },
     "execution_count": 33,
     "metadata": {},
     "output_type": "execute_result"
    }
   ],
   "source": [
    "# view table\n",
    "# when you want to join the tables by 중첩\n",
    "# you can make the subset of the table as view table \n",
    "cur.executescript('''\n",
    "    DROP VIEW IF EXISTS ALBUM_TRACK;\n",
    "    CREATE VIEW ALBUM_TRACK AS\n",
    "    SELECT TRACK.NAME AS TNAME, ALBUM.NAME AS NAME, ALBUM.FK\n",
    "    FROM ALBUM \n",
    "    LEFT JOIN TRACK\n",
    "    ON TRACK.AFK = ALBUM.PK \n",
    "''')"
   ]
  },
  {
   "cell_type": "code",
   "execution_count": 38,
   "id": "da0685d8-9167-414e-8995-a939f3bd80dd",
   "metadata": {},
   "outputs": [
    {
     "data": {
      "text/plain": [
       "[('수지', '수지앨범', None, 0),\n",
       " ('박효신', '박효신앨범', '박효신노래1', 3),\n",
       " ('아이유', '아이유앨범', '아이유노래1', 3)]"
      ]
     },
     "execution_count": 38,
     "metadata": {},
     "output_type": "execute_result"
    }
   ],
   "source": [
    "# 중첩 (ARTIST - VIEW)\n",
    "cur.execute('''\n",
    "    SELECT A.NAME, B.NAME, B.TNAME, COUNT(B.TNAME)\n",
    "    FROM ARTIST AS A\n",
    "    LEFT JOIN ALBUM_TRACK AS B\n",
    "    ON A.PK = B.FK\n",
    "    GROUP BY A.PK\n",
    "''')\n",
    "cur.fetchall()"
   ]
  },
  {
   "cell_type": "code",
   "execution_count": null,
   "id": "0221bd82-b573-4daa-9616-ab626b0ef9e6",
   "metadata": {},
   "outputs": [],
   "source": []
  }
 ],
 "metadata": {
  "kernelspec": {
   "display_name": "Python 3 (ipykernel)",
   "language": "python",
   "name": "python3"
  },
  "language_info": {
   "codemirror_mode": {
    "name": "ipython",
    "version": 3
   },
   "file_extension": ".py",
   "mimetype": "text/x-python",
   "name": "python",
   "nbconvert_exporter": "python",
   "pygments_lexer": "ipython3",
   "version": "3.10.11"
  }
 },
 "nbformat": 4,
 "nbformat_minor": 5
}
