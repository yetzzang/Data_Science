{
 "cells": [
  {
   "cell_type": "markdown",
   "id": "ad09db5f-7dc0-4b43-bdfb-3fa0a672cec4",
   "metadata": {},
   "source": [
    "# Lazy Evaluation"
   ]
  },
  {
   "cell_type": "markdown",
   "id": "dc6822fc-1417-458a-9a88-ce00902bf8b8",
   "metadata": {},
   "source": [
    "* Python does NOT offer lazy data structures, but offers Iterator protocol that accomplish much the same effect  "
   ]
  },
  {
   "cell_type": "markdown",
   "id": "37dd9ac4-ef6a-45e9-85f5-8879ce66fbe1",
   "metadata": {
    "jp-MarkdownHeadingCollapsed": true
   },
   "source": [
    "## 1. Iterator & Generator"
   ]
  },
  {
   "cell_type": "markdown",
   "id": "826f6223-8b5d-4140-b790-5d9af8cc3fd9",
   "metadata": {},
   "source": [
    "* the most common and popular way of lazy\n",
    "* 메모리를 가장 효율적으로 사용하는 방법\n",
    "* why important?\n",
    "    * 데이터를 올리면 가장 빠른 메모리에서 처리를 한다\n",
    "    * --> 메모리의 한도를 넘으면 가상 메모리를 사용\n",
    "    * --> 가상 메모리 마저 한도를 넘으면 문제가 발생\n",
    "    * BUT iterator & generator can SOLVE\n",
    "    * 데이터를 메모리에 하나씩 올릴 수 있다\n",
    "* NEED TO KNOW:\n",
    "    * if there is `__iter__` in `dir(varible)`\n",
    "    * we can use iterator by assigning `iter(variable)` that creates `__next__`\n",
    "    * then, we can use `next(variable)` -> __Iterator__ \n",
    "    * what if we do NOT have `__iter__` in dir(variable) but WANT to have iter?\n",
    "    * create __Generator__!    \n",
    "      "
   ]
  },
  {
   "cell_type": "code",
   "execution_count": 25,
   "id": "7acdb54c-98a9-4f52-b415-e4c031b4ed13",
   "metadata": {},
   "outputs": [],
   "source": [
    "# 메모리에 공간을 확보\n",
    "a = [1,2,3,4]"
   ]
  },
  {
   "cell_type": "code",
   "execution_count": 4,
   "id": "7259260e-5248-4a2d-b85f-217cf653de98",
   "metadata": {},
   "outputs": [
    {
     "data": {
      "text/plain": [
       "True"
      ]
     },
     "execution_count": 4,
     "metadata": {},
     "output_type": "execute_result"
    }
   ],
   "source": [
    "# this means that it has a function of __iter__\n",
    "# that shows 'a' is  iterable\n",
    "'__iter__' in dir(a)"
   ]
  },
  {
   "cell_type": "code",
   "execution_count": 6,
   "id": "6ea61757-3f94-4616-a8e7-ef5bdab3518d",
   "metadata": {},
   "outputs": [
    {
     "data": {
      "text/plain": [
       "(1, 2, [3, 4])"
      ]
     },
     "execution_count": 6,
     "metadata": {},
     "output_type": "execute_result"
    }
   ],
   "source": [
    "# therefore we can do these kind of things\n",
    "a[0], a[1], a[2:]"
   ]
  },
  {
   "cell_type": "code",
   "execution_count": 10,
   "id": "633c73b9-68c7-4c8c-90fe-bead20200636",
   "metadata": {},
   "outputs": [
    {
     "data": {
      "text/plain": [
       "False"
      ]
     },
     "execution_count": 10,
     "metadata": {},
     "output_type": "execute_result"
    }
   ],
   "source": [
    "# but 'a' has NO iterator yet\n",
    "'__next__' in dir(a)"
   ]
  },
  {
   "cell_type": "code",
   "execution_count": 28,
   "id": "7466d61b-70db-46a9-9757-5529231c35a0",
   "metadata": {},
   "outputs": [],
   "source": [
    "# create iterator in a\n",
    "a = iter(a)"
   ]
  },
  {
   "cell_type": "code",
   "execution_count": 16,
   "id": "e7ff3ac5-6afc-42ed-9c9d-d214c143d2e4",
   "metadata": {},
   "outputs": [
    {
     "data": {
      "text/plain": [
       "True"
      ]
     },
     "execution_count": 16,
     "metadata": {},
     "output_type": "execute_result"
    }
   ],
   "source": [
    "# we now have iterator \n",
    "'__next__' in dir(a)"
   ]
  },
  {
   "cell_type": "code",
   "execution_count": 18,
   "id": "03abaf65-81c5-4df4-90f8-c1775c38afc0",
   "metadata": {},
   "outputs": [
    {
     "ename": "TypeError",
     "evalue": "'list_iterator' object is not subscriptable",
     "output_type": "error",
     "traceback": [
      "\u001b[1;31m---------------------------------------------------------------------------\u001b[0m",
      "\u001b[1;31mTypeError\u001b[0m                                 Traceback (most recent call last)",
      "Cell \u001b[1;32mIn[18], line 3\u001b[0m\n\u001b[0;32m      1\u001b[0m \u001b[38;5;66;03m# if there is __next__\u001b[39;00m\n\u001b[0;32m      2\u001b[0m \u001b[38;5;66;03m# we no more allowed for indexing\u001b[39;00m\n\u001b[1;32m----> 3\u001b[0m \u001b[43ma\u001b[49m\u001b[43m[\u001b[49m\u001b[38;5;241;43m0\u001b[39;49m\u001b[43m]\u001b[49m\n",
      "\u001b[1;31mTypeError\u001b[0m: 'list_iterator' object is not subscriptable"
     ]
    }
   ],
   "source": [
    "# if there is __next__\n",
    "# we no more allowed for indexing\n",
    "a[0]"
   ]
  },
  {
   "cell_type": "code",
   "execution_count": 29,
   "id": "78175eee-7132-4998-9700-69a93b6e6206",
   "metadata": {},
   "outputs": [
    {
     "data": {
      "text/plain": [
       "1"
      ]
     },
     "execution_count": 29,
     "metadata": {},
     "output_type": "execute_result"
    }
   ],
   "source": [
    "# but we can call next()\n",
    "# iterator\n",
    "next(a)"
   ]
  },
  {
   "cell_type": "code",
   "execution_count": 30,
   "id": "e6c49f96-bbfa-437a-a265-bdcd2f3f7e4a",
   "metadata": {},
   "outputs": [
    {
     "data": {
      "text/plain": [
       "2"
      ]
     },
     "execution_count": 30,
     "metadata": {},
     "output_type": "execute_result"
    }
   ],
   "source": [
    "next(a)"
   ]
  },
  {
   "cell_type": "code",
   "execution_count": 31,
   "id": "25bd4a5a-4303-4015-98ea-eac7e0336c03",
   "metadata": {},
   "outputs": [
    {
     "data": {
      "text/plain": [
       "<list_iterator at 0x2147f013100>"
      ]
     },
     "execution_count": 31,
     "metadata": {},
     "output_type": "execute_result"
    }
   ],
   "source": [
    "# as we call next() each time, we extract the element in index 0\n",
    "# them the there is a list left of rest elements \n",
    "# in this case [3,4] are left \n",
    "a"
   ]
  },
  {
   "cell_type": "code",
   "execution_count": 32,
   "id": "159efa55-4fa3-4817-9689-3ff1ce681819",
   "metadata": {},
   "outputs": [
    {
     "data": {
      "text/plain": [
       "3"
      ]
     },
     "execution_count": 32,
     "metadata": {},
     "output_type": "execute_result"
    }
   ],
   "source": [
    "next(a)"
   ]
  },
  {
   "cell_type": "code",
   "execution_count": 33,
   "id": "95ebbe91-9c65-409f-b09b-9c912b25f7cb",
   "metadata": {},
   "outputs": [
    {
     "data": {
      "text/plain": [
       "4"
      ]
     },
     "execution_count": 33,
     "metadata": {},
     "output_type": "execute_result"
    }
   ],
   "source": [
    "next(a)"
   ]
  },
  {
   "cell_type": "code",
   "execution_count": 34,
   "id": "a747e619-5bd8-405b-9e92-16afd20eb169",
   "metadata": {},
   "outputs": [
    {
     "ename": "StopIteration",
     "evalue": "",
     "output_type": "error",
     "traceback": [
      "\u001b[1;31m---------------------------------------------------------------------------\u001b[0m",
      "\u001b[1;31mStopIteration\u001b[0m                             Traceback (most recent call last)",
      "Cell \u001b[1;32mIn[34], line 1\u001b[0m\n\u001b[1;32m----> 1\u001b[0m \u001b[38;5;28;43mnext\u001b[39;49m\u001b[43m(\u001b[49m\u001b[43ma\u001b[49m\u001b[43m)\u001b[49m\n",
      "\u001b[1;31mStopIteration\u001b[0m: "
     ]
    }
   ],
   "source": [
    "next(a)\n",
    "# StopIteration: \n",
    "# we no more have elements to extract in a"
   ]
  },
  {
   "cell_type": "code",
   "execution_count": 36,
   "id": "c2a6607a-0940-44d7-8ecc-cdec77187586",
   "metadata": {},
   "outputs": [
    {
     "data": {
      "text/plain": [
       "[]"
      ]
     },
     "execution_count": 36,
     "metadata": {},
     "output_type": "execute_result"
    }
   ],
   "source": [
    "list(a) # double-check"
   ]
  },
  {
   "cell_type": "markdown",
   "id": "171014c2-159f-41b7-9a13-0bad8f929e69",
   "metadata": {},
   "source": [
    "* Advantage\n",
    "  \n",
    "> this showshow we upload the data to memory by one for each time\n",
    "\n",
    "> then, we are no longer lack of memory storage\n",
    "\n",
    "> how effective!\n",
    "\n",
    "* Disadvantage\n",
    "  \n",
    "> we can only extract the element by sequence, inferring that we cannot see the elements left or inside\n",
    "\n",
    "> once we extract the element, we are no longer available to access the data "
   ]
  },
  {
   "cell_type": "markdown",
   "id": "8b34a6ae-2784-4d8e-8d30-438acd07fca9",
   "metadata": {},
   "source": [
    "## 2. OOP (Object-Oriented Programming) 객체지향"
   ]
  },
  {
   "cell_type": "markdown",
   "id": "43fc866e-5b1d-48cf-9189-19a806699d9f",
   "metadata": {},
   "source": [
    "* features of python\n",
    "    * programming language that uses multiple paradigm\n",
    "    * therefore, we are available to CHOOSE efficient paradigms for the best program\n",
    "* FP\n",
    "    * we learned that we are using FP for pureness that the function barely affect the state variable\n",
    "* why are using OOP?\n",
    "    * for __sustainability__\n",
    "    * FP requires complicated structure to implement\n",
    "    * HOWEVER, OOP can easily implement that we can easily add / edit its function\n",
    "    * this is the reason why many programming language supports OOP style "
   ]
  },
  {
   "cell_type": "markdown",
   "id": "a40147c3-0d47-4565-9377-a49ef1f0e1bb",
   "metadata": {},
   "source": [
    "* one important thing to know in PYTHON perspective\n",
    "    * object - instance\n",
    "    * type - class "
   ]
  },
  {
   "cell_type": "markdown",
   "id": "21367022-14ce-4221-869c-50891713addd",
   "metadata": {
    "jp-MarkdownHeadingCollapsed": true
   },
   "source": [
    "### 2-1. type()"
   ]
  },
  {
   "cell_type": "code",
   "execution_count": 38,
   "id": "6b1528a2-80ac-4c9b-b30a-9314a831fcdf",
   "metadata": {},
   "outputs": [
    {
     "data": {
      "text/plain": [
       "int"
      ]
     },
     "execution_count": 38,
     "metadata": {},
     "output_type": "execute_result"
    }
   ],
   "source": [
    "# 자주 사용되는 표현들은 literal을 지원\n",
    "a = 1\n",
    "type(a)"
   ]
  },
  {
   "cell_type": "code",
   "execution_count": 41,
   "id": "3da7025e-831d-4cda-9050-8066aefa3b11",
   "metadata": {},
   "outputs": [
    {
     "data": {
      "text/plain": [
       "int"
      ]
     },
     "execution_count": 41,
     "metadata": {},
     "output_type": "execute_result"
    }
   ],
   "source": [
    "# instance 방법\n",
    "a = int(1)\n",
    "type(a)"
   ]
  },
  {
   "cell_type": "code",
   "execution_count": 43,
   "id": "e6bb5fd2-493a-4d28-93b2-821727f09dcb",
   "metadata": {},
   "outputs": [
    {
     "data": {
      "text/plain": [
       "type"
      ]
     },
     "execution_count": 43,
     "metadata": {},
     "output_type": "execute_result"
    }
   ],
   "source": [
    "# what is the type of int?\n",
    "# the answer is type\n",
    "type(int)"
   ]
  },
  {
   "cell_type": "markdown",
   "id": "be3ceef9-b9aa-43f8-a0e0-7f1d087aa6c0",
   "metadata": {},
   "source": [
    "* Let's think in python perspective\n",
    "    * the type of int is type\n",
    "    * this means that type is a __metaclass__!!!\n",
    "        * metaclass is the class of the class\n",
    "        * ex) a is inherited the attributes of the class int; io. a is instance of int\n",
    "        * --> int is inherited the attributes of the class type; io. int is instance of type \n",
    "        * --> this means that type is a metaclass  \n",
    "> we can now classify the state of variable between instance and object by the type"
   ]
  },
  {
   "cell_type": "markdown",
   "id": "e044c4be-b7cf-42ac-b88b-b394f2622c2e",
   "metadata": {
    "jp-MarkdownHeadingCollapsed": true
   },
   "source": [
    "### 2-2. 함수에 대응하는 메소드 \n",
    "\n",
    "* we call magic/special method or dundu  \n",
    "* the features are double underbar --> this style is called 'pythonic'\n",
    "    * ex) `__init__`\n",
    "* __when method exists, function exist__\n",
    "* in __vice versa, __NEVER__ exist__ !"
   ]
  },
  {
   "cell_type": "code",
   "execution_count": 44,
   "id": "cc946be1-df04-45df-b755-e9f0a14aaf51",
   "metadata": {},
   "outputs": [],
   "source": [
    "a = [1,2,3,4]"
   ]
  },
  {
   "cell_type": "code",
   "execution_count": 45,
   "id": "86e4aa7f-c5a9-47d6-a5f4-807e0b3d8b0a",
   "metadata": {},
   "outputs": [
    {
     "data": {
      "text/plain": [
       "(4, 4)"
      ]
     },
     "execution_count": 45,
     "metadata": {},
     "output_type": "execute_result"
    }
   ],
   "source": [
    "# len() == __len__()\n",
    "len(a), a.__len__()"
   ]
  },
  {
   "cell_type": "code",
   "execution_count": 47,
   "id": "4bec2e63-41d4-4a1f-bca7-289f70b7f332",
   "metadata": {},
   "outputs": [
    {
     "data": {
      "text/plain": [
       "(list, list)"
      ]
     },
     "execution_count": 47,
     "metadata": {},
     "output_type": "execute_result"
    }
   ],
   "source": [
    "# type() == __class__\n",
    "type(a), a.__class__"
   ]
  },
  {
   "cell_type": "code",
   "execution_count": 48,
   "id": "5f466fa8-7d75-48b0-aee8-a3bd6ed3e489",
   "metadata": {},
   "outputs": [],
   "source": [
    "class Door:\n",
    "    def __init__(self, number, status):\n",
    "        self.number = number\n",
    "        self.status = status\n",
    "        \n",
    "    def open(self):\n",
    "        self.status = 'open'\n",
    "        \n",
    "    def close(self):\n",
    "        self.status = 'closed'"
   ]
  },
  {
   "cell_type": "code",
   "execution_count": 50,
   "id": "d8012177-7925-450b-a566-bad8a13639b5",
   "metadata": {},
   "outputs": [
    {
     "data": {
      "text/plain": [
       "type"
      ]
     },
     "execution_count": 50,
     "metadata": {},
     "output_type": "execute_result"
    }
   ],
   "source": [
    "# the type of Door is type \n",
    "# this means that Door is the insance of type\n",
    "# io. Door is inherited from type\n",
    "type(Door)"
   ]
  },
  {
   "cell_type": "code",
   "execution_count": 51,
   "id": "07b21b86-f546-4880-8aae-e0707d65ce31",
   "metadata": {},
   "outputs": [],
   "source": [
    "d = Door(1, 'opn')"
   ]
  },
  {
   "cell_type": "code",
   "execution_count": 54,
   "id": "3ced3b93-8104-4254-8b57-74e6341b0694",
   "metadata": {},
   "outputs": [
    {
     "name": "stdout",
     "output_type": "stream",
     "text": [
      "<class '__main__.Door'>\n"
     ]
    }
   ],
   "source": [
    "# this indicates that the class of d is door\n",
    "# io. d is inherited from class Door \n",
    "print(type(d))"
   ]
  },
  {
   "cell_type": "code",
   "execution_count": 57,
   "id": "6a8b3553-1787-48a9-892b-c4faca92df4d",
   "metadata": {},
   "outputs": [
    {
     "data": {
      "text/plain": [
       "({'number': 1, 'status': 'opn'}, {'number': 1, 'status': 'opn'})"
      ]
     },
     "execution_count": 57,
     "metadata": {},
     "output_type": "execute_result"
    }
   ],
   "source": [
    "# vars() == __dict__\n",
    "vars(d), d.__dict__"
   ]
  },
  {
   "cell_type": "code",
   "execution_count": 59,
   "id": "010a9c64-23c2-4ac5-8d9b-8866bb4c5bbb",
   "metadata": {},
   "outputs": [
    {
     "data": {
      "text/plain": [
       "mappingproxy({'__module__': '__main__',\n",
       "              '__init__': <function __main__.Door.__init__(self, number, status)>,\n",
       "              'open': <function __main__.Door.open(self)>,\n",
       "              'close': <function __main__.Door.close(self)>,\n",
       "              '__dict__': <attribute '__dict__' of 'Door' objects>,\n",
       "              '__weakref__': <attribute '__weakref__' of 'Door' objects>,\n",
       "              '__doc__': None})"
      ]
     },
     "execution_count": 59,
     "metadata": {},
     "output_type": "execute_result"
    }
   ],
   "source": [
    "# class is an instance of metaclass\n",
    "# therefore we can also use the vars for the class\n",
    "vars(Door)"
   ]
  },
  {
   "cell_type": "markdown",
   "id": "550dd202-33f4-4ad6-99d5-addebfe8fd6d",
   "metadata": {},
   "source": [
    "###  2-3. Inheritance 상속\n",
    "* the way to make the program elegant\n",
    "* general concept: 남이 만든거 가져다가 나한테 맞춤형으로 바꾼다\n",
    "* __enables to add/edit its functions__\n",
    "* we don't usually delete the functions\n",
    ">\n",
    "* Two types of inheritance\n",
    "    * 단일 상속\n",
    "        * 부모가 하나\n",
    "    * 다중 상속\n",
    "        * 부모가 두개 이상\n",
    "        * 강력하다 but 복잡하다\n",
    ">\n",
    "* MUST know about inheritance in python\n",
    "    * ___DELEGATE___ 위임\n",
    "    * in python, it is not actually inheritance; more likely delegate\n",
    "    * what this exactly means?\n",
    "        * in LEGB perspective, instace DO delegated the functions of parent object\n",
    "        * HOWEVER, when the instance variable do not exist (treated like a local),\n",
    "        * they find in the class variable (treated as global of instance),\n",
    "        * if not exist in class (treated as local),\n",
    "        * go to find the parent class (trated as a global of the class)\n",
    "        * in short, instance --> class --> parent class"
   ]
  },
  {
   "cell_type": "markdown",
   "id": "d930bd14-034a-45f6-9003-4452a19e93fb",
   "metadata": {
    "jp-MarkdownHeadingCollapsed": true
   },
   "source": [
    "#### 2-3-1. 단일 상속"
   ]
  },
  {
   "cell_type": "code",
   "execution_count": 60,
   "id": "9cfe8ea2-33c3-4474-9fa5-78b0c23cd03a",
   "metadata": {},
   "outputs": [],
   "source": [
    "# object: 상속을 받을 클래스 \n",
    "class D(object): \n",
    "    pass"
   ]
  },
  {
   "cell_type": "code",
   "execution_count": 63,
   "id": "947b85bd-db17-4a61-bf07-63c8d5fab901",
   "metadata": {},
   "outputs": [
    {
     "data": {
      "text/plain": [
       "['__class__',\n",
       " '__delattr__',\n",
       " '__dict__',\n",
       " '__dir__',\n",
       " '__doc__',\n",
       " '__eq__',\n",
       " '__format__',\n",
       " '__ge__',\n",
       " '__getattribute__',\n",
       " '__gt__',\n",
       " '__hash__',\n",
       " '__init__',\n",
       " '__init_subclass__',\n",
       " '__le__',\n",
       " '__lt__',\n",
       " '__module__',\n",
       " '__ne__',\n",
       " '__new__',\n",
       " '__reduce__',\n",
       " '__reduce_ex__',\n",
       " '__repr__',\n",
       " '__setattr__',\n",
       " '__sizeof__',\n",
       " '__str__',\n",
       " '__subclasshook__',\n",
       " '__weakref__']"
      ]
     },
     "execution_count": 63,
     "metadata": {},
     "output_type": "execute_result"
    }
   ],
   "source": [
    "# 클래스 D는 object라는 클래스에서 상속을 받았기 때문에 \n",
    "# object class가 가지는 기능들이 존재한다 \n",
    "dir(D)"
   ]
  },
  {
   "cell_type": "code",
   "execution_count": 66,
   "id": "dcdf41a9-3e81-421f-9768-19bedb7a53c7",
   "metadata": {},
   "outputs": [],
   "source": [
    "class A:\n",
    "    x = 1\n",
    "    y = 2"
   ]
  },
  {
   "cell_type": "code",
   "execution_count": 67,
   "id": "834795dc-5f8d-44c3-a6ac-8e17fa7bdb2a",
   "metadata": {},
   "outputs": [],
   "source": [
    "class B(A):\n",
    "    pass"
   ]
  },
  {
   "cell_type": "code",
   "execution_count": 68,
   "id": "7a91944b-e638-4aec-9545-106f50253843",
   "metadata": {},
   "outputs": [],
   "source": [
    "b = B()"
   ]
  },
  {
   "cell_type": "code",
   "execution_count": 69,
   "id": "91e6f081-573b-480c-8794-506f051c953f",
   "metadata": {},
   "outputs": [
    {
     "data": {
      "text/plain": [
       "(1, 2)"
      ]
     },
     "execution_count": 69,
     "metadata": {},
     "output_type": "execute_result"
    }
   ],
   "source": [
    "b.x, b.y"
   ]
  },
  {
   "cell_type": "code",
   "execution_count": 71,
   "id": "64b230a4-9c97-4fc8-9b76-d71c9b247b2b",
   "metadata": {},
   "outputs": [
    {
     "data": {
      "text/plain": [
       "True"
      ]
     },
     "execution_count": 71,
     "metadata": {},
     "output_type": "execute_result"
    }
   ],
   "source": [
    "# 현재 b instance에 x variable 없음\n",
    "# class B 방문 \n",
    "# B에도 x는 없음\n",
    "# A 방문 --> 존재 --> A에 있는걸 가져다 씀 \n",
    "b.x is A.x"
   ]
  },
  {
   "cell_type": "code",
   "execution_count": 74,
   "id": "6287e6cc-e88e-4020-b909-fe7bf6f9161b",
   "metadata": {},
   "outputs": [
    {
     "data": {
      "text/plain": [
       "False"
      ]
     },
     "execution_count": 74,
     "metadata": {},
     "output_type": "execute_result"
    }
   ],
   "source": [
    "# b instance에 instance variable 만들어줌\n",
    "# local에 있기 때문에 A까지 접근 필요 X\n",
    "b.x = 2\n",
    "b.x is A.x"
   ]
  },
  {
   "cell_type": "markdown",
   "id": "e4be9b12-2d21-4e0e-a6d0-8e4335298446",
   "metadata": {
    "jp-MarkdownHeadingCollapsed": true
   },
   "source": [
    "#### 2-3-2. 다중 상속\n",
    "* MUST know about `__mro__`\n",
    "    * can see the resolution\n",
    "* MUST know about `super()` \n",
    "* override란?\n",
    "    * 상속을 한 후 수정을 하는 것\n",
    "* 장점: 강력하다\n",
    "* 단점: 너무 많은 상속은 복잡해지고 위험성이 있다      "
   ]
  },
  {
   "cell_type": "markdown",
   "id": "59701214-c625-4e64-8d98-b4e5af574f78",
   "metadata": {},
   "source": [
    "* __`__mro__`__"
   ]
  },
  {
   "cell_type": "code",
   "execution_count": 77,
   "id": "1989225d-bc92-4cc1-bfb2-80ce7f01e10a",
   "metadata": {},
   "outputs": [
    {
     "ename": "TypeError",
     "evalue": "Cannot create a consistent method resolution\norder (MRO) for bases B, C",
     "output_type": "error",
     "traceback": [
      "\u001b[1;31m---------------------------------------------------------------------------\u001b[0m",
      "\u001b[1;31mTypeError\u001b[0m                                 Traceback (most recent call last)",
      "Cell \u001b[1;32mIn[77], line 10\u001b[0m\n\u001b[0;32m      7\u001b[0m \u001b[38;5;28;01mclass\u001b[39;00m \u001b[38;5;21;01mC\u001b[39;00m(B):\n\u001b[0;32m      8\u001b[0m     \u001b[38;5;28;01mpass\u001b[39;00m\n\u001b[1;32m---> 10\u001b[0m \u001b[38;5;28;01mclass\u001b[39;00m \u001b[38;5;21;01mD\u001b[39;00m(B,C):\n\u001b[0;32m     11\u001b[0m     \u001b[38;5;28;01mpass\u001b[39;00m\n\u001b[0;32m     12\u001b[0m \u001b[38;5;66;03m# TypeError: Cannot create a consistent method resolution order (MRO) for bases B, C\u001b[39;00m\n\u001b[0;32m     13\u001b[0m \u001b[38;5;66;03m# resolution: 순서\u001b[39;00m\n\u001b[0;32m     14\u001b[0m \u001b[38;5;66;03m# 순서에 맞게 상속을 해야한다\u001b[39;00m\n",
      "\u001b[1;31mTypeError\u001b[0m: Cannot create a consistent method resolution\norder (MRO) for bases B, C"
     ]
    }
   ],
   "source": [
    "class A:\n",
    "    pass\n",
    "\n",
    "class B(A):\n",
    "    pass\n",
    "\n",
    "class C(B):\n",
    "    pass\n",
    "\n",
    "class D(B,C):\n",
    "    pass\n",
    "# TypeError: Cannot create a consistent method resolution order (MRO) for bases B, C\n",
    "# resolution: 순서\n",
    "# 순서에 맞게 상속을 해야한다"
   ]
  },
  {
   "cell_type": "code",
   "execution_count": 80,
   "id": "2892eb96-4dc9-498a-ba2b-7d0ca1738bde",
   "metadata": {},
   "outputs": [],
   "source": [
    "class A:\n",
    "    pass\n",
    "\n",
    "class B(A):\n",
    "    pass\n",
    "\n",
    "class C(B):\n",
    "    pass\n",
    "\n",
    "class D(C,B):\n",
    "    pass"
   ]
  },
  {
   "cell_type": "markdown",
   "id": "780e4b7d-5a2f-4475-b344-5ccc778b3855",
   "metadata": {},
   "source": [
    "* then, how do we find the resolution before declaration?"
   ]
  },
  {
   "cell_type": "code",
   "execution_count": 82,
   "id": "5c7f0b84-e35e-41d4-8000-fda294c00fb9",
   "metadata": {},
   "outputs": [
    {
     "data": {
      "text/plain": [
       "[__main__.D, __main__.C, __main__.B, __main__.A, object]"
      ]
     },
     "execution_count": 82,
     "metadata": {},
     "output_type": "execute_result"
    }
   ],
   "source": [
    "# # 나에게 없으면 C -> B -> A\n",
    "D.mro()"
   ]
  },
  {
   "cell_type": "code",
   "execution_count": 83,
   "id": "40fe2aaa-8784-4db3-9121-0e96da6edd1e",
   "metadata": {},
   "outputs": [
    {
     "data": {
      "text/plain": [
       "False"
      ]
     },
     "execution_count": 83,
     "metadata": {},
     "output_type": "execute_result"
    }
   ],
   "source": [
    "# then, why does mro NOT exist in D?\n",
    "'__mro__' in dir(D)"
   ]
  },
  {
   "cell_type": "code",
   "execution_count": 85,
   "id": "154dec8a-9eff-470b-a3aa-78a7a66f55ba",
   "metadata": {},
   "outputs": [
    {
     "data": {
      "text/plain": [
       "True"
      ]
     },
     "execution_count": 85,
     "metadata": {},
     "output_type": "execute_result"
    }
   ],
   "source": [
    "# we can find the metaclass of D\n",
    "'__mro__' in dir(type)"
   ]
  },
  {
   "cell_type": "markdown",
   "id": "1c810524-2014-4f25-a825-b7050b2c53e8",
   "metadata": {},
   "source": [
    "* __override__"
   ]
  },
  {
   "cell_type": "code",
   "execution_count": 86,
   "id": "faa0c3fa-b1d5-46fd-9396-2c519e031647",
   "metadata": {},
   "outputs": [],
   "source": [
    "class A:\n",
    "    t = 1\n",
    "    def x(self):\n",
    "        print('x')"
   ]
  },
  {
   "cell_type": "code",
   "execution_count": 91,
   "id": "68f1b4f8-819a-44ae-9dd7-2cdc4e95c560",
   "metadata": {},
   "outputs": [],
   "source": [
    "# override\n",
    "# A의 x와 같은 이름의 메소드\n",
    "# B의 local에 수정을 함으로써 기능을 뒤엎음 \n",
    "class B:\n",
    "    def x(self):\n",
    "        print('xx')"
   ]
  },
  {
   "cell_type": "code",
   "execution_count": 88,
   "id": "5ddbd98f-1b19-4118-bdbb-cebb1d186c76",
   "metadata": {},
   "outputs": [],
   "source": [
    "b = B()"
   ]
  },
  {
   "cell_type": "code",
   "execution_count": 90,
   "id": "15e080e3-2a6a-47dd-a152-7edd5dae27ac",
   "metadata": {},
   "outputs": [
    {
     "name": "stdout",
     "output_type": "stream",
     "text": [
      "xx\n"
     ]
    }
   ],
   "source": [
    "b.x()"
   ]
  },
  {
   "cell_type": "markdown",
   "id": "3e45a457-21af-4b02-8dfc-f9182052e566",
   "metadata": {},
   "source": [
    "* __`super()`__\n",
    "    * super()를 쓰는 두가지 방식\n",
    "        1. super().`__init__`()\n",
    "        2. super(본인 이름, self).`__init__`()\n",
    "            * 주의: 텐서플로우에선 쓰지 않는다\n",
    "* why using super() ?\n",
    "    * 중복 코드를 막기 위해: 코드가 같다면 override 될 위험이 있기 때문\n",
    "        * ex) B가 A를 뒤엎었거나 수정할 경우, 다시 A가 리턴 될 때 문제가 발생  \n",
    "    * 메소드가 실행될 때 마다 인스턴스 변수가 생성\n",
    "    * --> 그것을 막기 위해 `__init__`에 변수들을 선언시켜둠\n",
    "    * --> 그래서 부모들의 `__init__`에 생성된 변수들을 현 클래스에 미리 선언 시켜둔다\n",
    "* process:\n",
    "    * mro()순으로 전체를 훓는다\n",
    "    * 훓어가는 과정을 stack에 쌓아둔다"
   ]
  },
  {
   "cell_type": "code",
   "execution_count": 101,
   "id": "432bb0b5-2c3e-4aec-bd2c-3e5e5bf1f388",
   "metadata": {},
   "outputs": [],
   "source": [
    "class A:\n",
    "    def __init__(self):\n",
    "        print('A')\n",
    "\n",
    "class B(A):\n",
    "    def __init__(self):\n",
    "        A.__init__(self)\n",
    "        print('B')\n",
    "\n",
    "class C(A):\n",
    "    def __init__(self):\n",
    "        A.__init__(self)\n",
    "        print('C')\n",
    "\n",
    "class D(B,C):\n",
    "    def __init__(self):\n",
    "        B.__init__(self)\n",
    "        C.__init__(self)\n",
    "        print('D')"
   ]
  },
  {
   "cell_type": "code",
   "execution_count": 102,
   "id": "b207037f-f932-4c9e-8268-892e69396f09",
   "metadata": {},
   "outputs": [
    {
     "data": {
      "text/plain": [
       "[__main__.D, __main__.B, __main__.C, __main__.A, object]"
      ]
     },
     "execution_count": 102,
     "metadata": {},
     "output_type": "execute_result"
    }
   ],
   "source": [
    "D.mro()"
   ]
  },
  {
   "cell_type": "code",
   "execution_count": 104,
   "id": "69f58f95-60ff-423c-8559-4c2fba3720b3",
   "metadata": {},
   "outputs": [
    {
     "name": "stdout",
     "output_type": "stream",
     "text": [
      "A\n",
      "B\n",
      "A\n",
      "C\n",
      "D\n"
     ]
    }
   ],
   "source": [
    "# 스택처럼 불러들이고, 불러들이고 ...\n",
    "d = D()"
   ]
  },
  {
   "cell_type": "markdown",
   "id": "31ddf82f-c302-4d1c-af58-6059dc8a0f72",
   "metadata": {},
   "source": [
    "> 단점:\n",
    ">\n",
    "> 중복 코드\n",
    ">\n",
    "> 이로 인해 코드가 같다면 뒤엎을 위험이 있다"
   ]
  },
  {
   "cell_type": "code",
   "execution_count": 109,
   "id": "df361b90-d3d4-4a11-9a73-cbbb4a542000",
   "metadata": {},
   "outputs": [],
   "source": [
    "class A:\n",
    "    def __init__(self):\n",
    "        print('A')\n",
    "\n",
    "class B(A):\n",
    "    def __init__(self): \n",
    "        # 첫번째 방식\n",
    "        super().__init__()\n",
    "        print('B')\n",
    "\n",
    "class C(A):\n",
    "    def __init__(self):\n",
    "        # 두번째 방식\n",
    "        super(C, self).__init__()\n",
    "        print('C')\n",
    "\n",
    "class D(B,C):\n",
    "    def __init__(self):\n",
    "        super().__init__()\n",
    "        \n",
    "        print('D')\n"
   ]
  },
  {
   "cell_type": "code",
   "execution_count": 107,
   "id": "a336561e-7faf-43e2-bd26-c233e6b7dc65",
   "metadata": {},
   "outputs": [
    {
     "data": {
      "text/plain": [
       "[__main__.D, __main__.B, __main__.C, __main__.A, object]"
      ]
     },
     "execution_count": 107,
     "metadata": {},
     "output_type": "execute_result"
    }
   ],
   "source": [
    "D.mro()"
   ]
  },
  {
   "cell_type": "code",
   "execution_count": 111,
   "id": "e2e0e8a4-0c83-4eb6-aa74-a8debdc1889b",
   "metadata": {},
   "outputs": [
    {
     "name": "stdout",
     "output_type": "stream",
     "text": [
      "A\n",
      "C\n",
      "B\n",
      "D\n"
     ]
    }
   ],
   "source": [
    "d = D()\n",
    "# Question?\n",
    "# super()의 동작 과정\n",
    "# 결과물은 알겠으나 이 것의 동작 과정을 이해하지 못함"
   ]
  },
  {
   "cell_type": "markdown",
   "id": "14129ec9-5a64-458a-8ba4-687ff19b114e",
   "metadata": {
    "jp-MarkdownHeadingCollapsed": true
   },
   "source": [
    "### 2-4. Composition 합성\n",
    "* 상속의 방법 or 대체 중 하나라고 생각할 수도 있다\n",
    "* __다른 클래스를 인스턴스로 쓴다__\n",
    "* 단점:\n",
    "    * 코드가 길어진다\n",
    "    * --> 따라서 복잡해진다"
   ]
  },
  {
   "cell_type": "code",
   "execution_count": 112,
   "id": "c72b7c85-071c-46bc-bafb-182bc28b378f",
   "metadata": {},
   "outputs": [],
   "source": [
    "class A:\n",
    "    def x(self):\n",
    "        self.x = 1\n",
    "        print('x')\n",
    "\n",
    "class B:\n",
    "    def y(self):\n",
    "        self.y = 2\n",
    "        print('y')"
   ]
  },
  {
   "cell_type": "code",
   "execution_count": 147,
   "id": "bd5b9976-3d5e-4645-ad67-74bda91f66b2",
   "metadata": {},
   "outputs": [],
   "source": [
    "# 클래스 내에서 다른 클래스를 인스턴스로 쓴다 \n",
    "class C:\n",
    "    def __init__(self):\n",
    "        self.a = A()\n",
    "        self.b = B()\n",
    "    def cc(self):\n",
    "        # self.a는 A() 클래스\n",
    "        # A()에서 x() 메소드를 들고옴 \n",
    "        self.a.x()\n",
    "        self.b.y()"
   ]
  },
  {
   "cell_type": "code",
   "execution_count": 128,
   "id": "3f85c833-d38e-4935-b5c5-362ffdb27072",
   "metadata": {},
   "outputs": [],
   "source": [
    "c = C()"
   ]
  },
  {
   "cell_type": "code",
   "execution_count": 129,
   "id": "3cbe6259-a8b5-4000-9e76-e6390d653261",
   "metadata": {},
   "outputs": [
    {
     "name": "stdout",
     "output_type": "stream",
     "text": [
      "<__main__.A object at 0x000002147EFA7760> <__main__.B object at 0x000002147EF71000>\n"
     ]
    }
   ],
   "source": [
    "# 인스턴스 c의 a변수를 확인해보면\n",
    "# class A라는 것을 확인할 수 있다\n",
    "print(c.a, c.b)"
   ]
  },
  {
   "cell_type": "code",
   "execution_count": 130,
   "id": "015e7c3e-c840-4ee0-ac16-f0caa4b00cd8",
   "metadata": {},
   "outputs": [
    {
     "name": "stdout",
     "output_type": "stream",
     "text": [
      "x\n",
      "y\n"
     ]
    }
   ],
   "source": [
    "c.cc()"
   ]
  },
  {
   "cell_type": "code",
   "execution_count": 133,
   "id": "96b8926e-ed6c-4389-ab61-51032674f5ea",
   "metadata": {},
   "outputs": [
    {
     "data": {
      "text/plain": [
       "1"
      ]
     },
     "execution_count": 133,
     "metadata": {},
     "output_type": "execute_result"
    }
   ],
   "source": [
    "# local에 없기 때문에 A 클래스에게 가서\n",
    "# x 변수를 받아온다\n",
    "c.a.x"
   ]
  },
  {
   "cell_type": "code",
   "execution_count": 140,
   "id": "f78d0068-58b7-48a2-bcda-cc84b77e6c37",
   "metadata": {},
   "outputs": [],
   "source": [
    "class A:\n",
    "    x = 1\n",
    "    def y(self):\n",
    "        print('y')\n",
    "\n",
    "# 상속 \n",
    "class B(A):\n",
    "    pass\n",
    "\n",
    "# 합성\n",
    "class C:\n",
    "    def __init__(self):\n",
    "        self.a = A()"
   ]
  },
  {
   "cell_type": "code",
   "execution_count": 138,
   "id": "c5656f53-b2b7-492e-92dd-1cf1fd4e6a15",
   "metadata": {},
   "outputs": [],
   "source": [
    "b = B()"
   ]
  },
  {
   "cell_type": "code",
   "execution_count": 144,
   "id": "78946bc8-6594-495b-b6c3-7586433ef58b",
   "metadata": {},
   "outputs": [
    {
     "data": {
      "text/plain": [
       "1"
      ]
     },
     "execution_count": 144,
     "metadata": {},
     "output_type": "execute_result"
    }
   ],
   "source": [
    "# 나에겐 없지만 부모의 클래스에 접근해서 가져온다\n",
    "b.x"
   ]
  },
  {
   "cell_type": "code",
   "execution_count": 141,
   "id": "ea06d75c-8d0e-4cda-8856-cf019978d01f",
   "metadata": {},
   "outputs": [],
   "source": [
    "c = C()"
   ]
  },
  {
   "cell_type": "code",
   "execution_count": 146,
   "id": "089f7352-4b05-4414-b7f3-4fbaf742ec6a",
   "metadata": {},
   "outputs": [
    {
     "ename": "AttributeError",
     "evalue": "'C' object has no attribute 'x'",
     "output_type": "error",
     "traceback": [
      "\u001b[1;31m---------------------------------------------------------------------------\u001b[0m",
      "\u001b[1;31mAttributeError\u001b[0m                            Traceback (most recent call last)",
      "Cell \u001b[1;32mIn[146], line 1\u001b[0m\n\u001b[1;32m----> 1\u001b[0m \u001b[43mc\u001b[49m\u001b[38;5;241;43m.\u001b[39;49m\u001b[43mx\u001b[49m\n\u001b[0;32m      2\u001b[0m \u001b[38;5;66;03m# AttributeError: 'C' object has no attribute 'x'\u001b[39;00m\n\u001b[0;32m      3\u001b[0m \u001b[38;5;66;03m# why? Question \u001b[39;00m\n\u001b[0;32m      4\u001b[0m \u001b[38;5;66;03m# 클래스 내에 정의된 x는 없다\u001b[39;00m\n",
      "\u001b[1;31mAttributeError\u001b[0m: 'C' object has no attribute 'x'"
     ]
    }
   ],
   "source": [
    "c.x\n",
    "# AttributeError: 'C' object has no attribute 'x'\n",
    "# why? Question \n",
    "# 클래스 내에 정의된 x는 없다"
   ]
  },
  {
   "cell_type": "markdown",
   "id": "fb039a18-5e17-4815-8260-cb62dd58941f",
   "metadata": {},
   "source": [
    "* __`__getattr__`__ == `__getattribute__` \n",
    "    * AttributeError가 나면 실행할 메소드\n",
    "    * try except와 동일\n",
    "    * NEED TO KNOW\n",
    "        * `getattr'와는 다른 기능\n",
    "        * 위의 함수는 문자열을 받아서 함수를 실행"
   ]
  },
  {
   "cell_type": "code",
   "execution_count": 151,
   "id": "c7aaa81d-58ec-4387-b997-a48d295ad966",
   "metadata": {},
   "outputs": [],
   "source": [
    "class C:\n",
    "    def __init__(self):\n",
    "        self.a = A()\n",
    "\n",
    "    def __getattr__(self, x):\n",
    "        print('Error Message')"
   ]
  },
  {
   "cell_type": "code",
   "execution_count": 152,
   "id": "419798ac-09a6-4185-87dd-46ac8d62851f",
   "metadata": {},
   "outputs": [],
   "source": [
    "c = C()"
   ]
  },
  {
   "cell_type": "code",
   "execution_count": 153,
   "id": "c735538d-77d4-4cd9-ba6b-ceaafadf8c23",
   "metadata": {},
   "outputs": [
    {
     "name": "stdout",
     "output_type": "stream",
     "text": [
      "Error Message\n"
     ]
    }
   ],
   "source": [
    "c.x"
   ]
  },
  {
   "cell_type": "code",
   "execution_count": 158,
   "id": "32db3f22-388e-42a6-b3f8-06e54330013f",
   "metadata": {},
   "outputs": [
    {
     "data": {
      "text/plain": [
       "<method-wrapper '__abs__' of int object at 0x000002147AB000F0>"
      ]
     },
     "execution_count": 158,
     "metadata": {},
     "output_type": "execute_result"
    }
   ],
   "source": [
    "# Question\n",
    "# don't exactly understand the 기능\n",
    "# getattr\n",
    "getattr(1,'__abs__')"
   ]
  },
  {
   "cell_type": "code",
   "execution_count": 155,
   "id": "adc51341-64fb-4729-b81f-0e4857085e57",
   "metadata": {},
   "outputs": [
    {
     "data": {
      "text/plain": [
       "1"
      ]
     },
     "execution_count": 155,
     "metadata": {},
     "output_type": "execute_result"
    }
   ],
   "source": [
    "getattr(1, '__abs__')()"
   ]
  },
  {
   "cell_type": "code",
   "execution_count": 156,
   "id": "3a2b98c0-b217-4191-b312-9f6fe0851551",
   "metadata": {},
   "outputs": [
    {
     "name": "stdin",
     "output_type": "stream",
     "text": [
      " __abs__\n"
     ]
    }
   ],
   "source": [
    "a = input()"
   ]
  },
  {
   "cell_type": "code",
   "execution_count": 157,
   "id": "95fbe1fc-2490-4269-9315-c982d08062d7",
   "metadata": {},
   "outputs": [
    {
     "data": {
      "text/plain": [
       "1"
      ]
     },
     "execution_count": 157,
     "metadata": {},
     "output_type": "execute_result"
    }
   ],
   "source": [
    "getattr(-1, a)()"
   ]
  },
  {
   "cell_type": "code",
   "execution_count": null,
   "id": "c642a926-2a47-41a3-9f5c-db291852c5c4",
   "metadata": {},
   "outputs": [],
   "source": []
  }
 ],
 "metadata": {
  "kernelspec": {
   "display_name": "Python 3 (ipykernel)",
   "language": "python",
   "name": "python3"
  },
  "language_info": {
   "codemirror_mode": {
    "name": "ipython",
    "version": 3
   },
   "file_extension": ".py",
   "mimetype": "text/x-python",
   "name": "python",
   "nbconvert_exporter": "python",
   "pygments_lexer": "ipython3",
   "version": "3.10.11"
  }
 },
 "nbformat": 4,
 "nbformat_minor": 5
}
