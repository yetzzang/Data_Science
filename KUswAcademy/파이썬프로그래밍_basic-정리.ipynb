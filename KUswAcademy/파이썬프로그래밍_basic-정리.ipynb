{
 "cells": [
  {
   "cell_type": "code",
   "execution_count": 12,
   "id": "e9c1f616-ba71-4f6d-b89e-38abcccc977b",
   "metadata": {},
   "outputs": [
    {
     "data": {
      "text/plain": [
       "(1, 2)"
      ]
     },
     "execution_count": 12,
     "metadata": {},
     "output_type": "execute_result"
    }
   ],
   "source": [
    "(lambda x,y : (1,2))(3,4)"
   ]
  },
  {
   "cell_type": "code",
   "execution_count": 15,
   "id": "d8ac5264-fa3c-415e-8f2a-cdd4ea8d1c5f",
   "metadata": {},
   "outputs": [
    {
     "name": "stderr",
     "output_type": "stream",
     "text": [
      "<>:1: SyntaxWarning: 'tuple' object is not callable; perhaps you missed a comma?\n",
      "<>:1: SyntaxWarning: 'tuple' object is not callable; perhaps you missed a comma?\n",
      "C:\\Users\\yejik\\AppData\\Local\\Temp\\ipykernel_12360\\440575379.py:1: SyntaxWarning: 'tuple' object is not callable; perhaps you missed a comma?\n",
      "  (lambda x,y : 1,2)(3,4)\n",
      "C:\\Users\\yejik\\AppData\\Local\\Temp\\ipykernel_12360\\440575379.py:1: SyntaxWarning: 'tuple' object is not callable; perhaps you missed a comma?\n",
      "  (lambda x,y : 1,2)(3,4)\n",
      "C:\\Users\\yejik\\AppData\\Local\\Temp\\ipykernel_12360\\440575379.py:1: SyntaxWarning: 'tuple' object is not callable; perhaps you missed a comma?\n",
      "  (lambda x,y : 1,2)(3,4)\n"
     ]
    },
    {
     "ename": "TypeError",
     "evalue": "'tuple' object is not callable",
     "output_type": "error",
     "traceback": [
      "\u001b[1;31m---------------------------------------------------------------------------\u001b[0m",
      "\u001b[1;31mTypeError\u001b[0m                                 Traceback (most recent call last)",
      "Cell \u001b[1;32mIn[15], line 1\u001b[0m\n\u001b[1;32m----> 1\u001b[0m \u001b[43m(\u001b[49m\u001b[38;5;28;43;01mlambda\u001b[39;49;00m\u001b[43m \u001b[49m\u001b[43mx\u001b[49m\u001b[43m,\u001b[49m\u001b[43my\u001b[49m\u001b[43m \u001b[49m\u001b[43m:\u001b[49m\u001b[43m \u001b[49m\u001b[38;5;241;43m1\u001b[39;49m\u001b[43m,\u001b[49m\u001b[38;5;241;43m2\u001b[39;49m\u001b[43m)\u001b[49m\u001b[43m(\u001b[49m\u001b[38;5;241;43m3\u001b[39;49m\u001b[43m,\u001b[49m\u001b[38;5;241;43m4\u001b[39;49m\u001b[43m)\u001b[49m\n",
      "\u001b[1;31mTypeError\u001b[0m: 'tuple' object is not callable"
     ]
    }
   ],
   "source": [
    "(lambda x,y : 1,2)(3,4)"
   ]
  },
  {
   "cell_type": "markdown",
   "id": "0a38d922-9ac6-4ac0-8d63-53f20c92c2d1",
   "metadata": {},
   "source": [
    "# 파이썬 프로그래밍 심화"
   ]
  },
  {
   "cell_type": "markdown",
   "id": "1e2d5b10-7a72-49cf-842d-e0368a7ef086",
   "metadata": {},
   "source": [
    "## Basic Concepts of Python: Simple Statement"
   ]
  },
  {
   "cell_type": "markdown",
   "id": "72465a08-9484-46a9-be91-60ee7e60db9a",
   "metadata": {},
   "source": [
    "* simple statement: 문장 뒤에 ':'가 없음\n",
    "* compound statement: 문장 뒤에 ':'가 있음 "
   ]
  },
  {
   "cell_type": "code",
   "execution_count": 18,
   "id": "d9a8e8f4-4f2b-4548-8af1-414ed6fd3285",
   "metadata": {},
   "outputs": [],
   "source": [
    "a = 1"
   ]
  },
  {
   "cell_type": "markdown",
   "id": "2544fa87-f1f7-4946-ab69-a2e7bc5c3a67",
   "metadata": {},
   "source": [
    "- we learned that the left 'a' is variable, however we call 이름/식별자 in python \n",
    "- why? "
   ]
  },
  {
   "cell_type": "markdown",
   "id": "d6ac0e95-e7b2-405b-b259-542650d991fb",
   "metadata": {},
   "source": [
    "- the right '1' is called expression\n",
    "- expression: 하나의 결과값으로 축약할 수 있는 것\n",
    "- therefore, it can be single variable, iterable, or even functions\n",
    "- the more detailed description is in later section"
   ]
  },
  {
   "cell_type": "code",
   "execution_count": 43,
   "id": "bc1560d8-402a-49ab-9b65-3955cca3dd05",
   "metadata": {},
   "outputs": [
    {
     "data": {
      "text/plain": [
       "1"
      ]
     },
     "execution_count": 43,
     "metadata": {},
     "output_type": "execute_result"
    }
   ],
   "source": [
    "a = 1\n",
    "a"
   ]
  },
  {
   "cell_type": "code",
   "execution_count": 44,
   "id": "424cc2a6-195e-4a54-8260-dad83562016c",
   "metadata": {},
   "outputs": [
    {
     "data": {
      "text/plain": [
       "<function __main__.<lambda>(x)>"
      ]
     },
     "execution_count": 44,
     "metadata": {},
     "output_type": "execute_result"
    }
   ],
   "source": [
    "a = lambda x:2\n",
    "a"
   ]
  },
  {
   "cell_type": "code",
   "execution_count": 45,
   "id": "e35b6e10-28fa-4e0d-b8a7-a085c7aeabea",
   "metadata": {},
   "outputs": [
    {
     "data": {
      "text/plain": [
       "3"
      ]
     },
     "execution_count": 45,
     "metadata": {},
     "output_type": "execute_result"
    }
   ],
   "source": [
    "a = 3 if 1 else 4\n",
    "a"
   ]
  },
  {
   "cell_type": "code",
   "execution_count": 46,
   "id": "5ce98bca-84e8-4d61-af7f-c8ad914cde73",
   "metadata": {},
   "outputs": [
    {
     "data": {
      "text/plain": [
       "2"
      ]
     },
     "execution_count": 46,
     "metadata": {},
     "output_type": "execute_result"
    }
   ],
   "source": [
    "a = 3 and 2\n",
    "a"
   ]
  },
  {
   "cell_type": "code",
   "execution_count": 47,
   "id": "50598cd6-fa44-411f-8153-b6fac7e5f932",
   "metadata": {},
   "outputs": [
    {
     "data": {
      "text/plain": [
       "3"
      ]
     },
     "execution_count": 47,
     "metadata": {},
     "output_type": "execute_result"
    }
   ],
   "source": [
    "a = 3 or 2\n",
    "a"
   ]
  },
  {
   "cell_type": "markdown",
   "id": "d89c1096-af76-4e2a-81e1-cbebbc8569f6",
   "metadata": {},
   "source": [
    "* Rules of Naming the 식별자\n",
    "  * 숫자로 시작할 수 없다  -> SyntaxError\n",
    "  * keyword로 시작 할 수 없다\n",
    "      * keyword란? True/False, 내장 함수 등\n",
    "      * Note: keyword로 시작할 수 있다. 하지만 글로벌에서 내장함수의 역할을 더 이상 수행하지 못 한다. "
   ]
  },
  {
   "cell_type": "code",
   "execution_count": 22,
   "id": "35fa8d92-df09-438b-9040-afea9d18123b",
   "metadata": {},
   "outputs": [],
   "source": [
    "# b\n",
    "# SyntaxError: invalid decimal literal"
   ]
  },
  {
   "cell_type": "code",
   "execution_count": 23,
   "id": "f23d3c92-0e15-46ca-8be9-11be35cfcc74",
   "metadata": {},
   "outputs": [],
   "source": [
    "import keyword"
   ]
  },
  {
   "cell_type": "code",
   "execution_count": 24,
   "id": "1a88002f-8cd3-4510-ae52-4db766aa703f",
   "metadata": {},
   "outputs": [
    {
     "data": {
      "text/plain": [
       "['False',\n",
       " 'None',\n",
       " 'True',\n",
       " 'and',\n",
       " 'as',\n",
       " 'assert',\n",
       " 'async',\n",
       " 'await',\n",
       " 'break',\n",
       " 'class',\n",
       " 'continue',\n",
       " 'def',\n",
       " 'del',\n",
       " 'elif',\n",
       " 'else',\n",
       " 'except',\n",
       " 'finally',\n",
       " 'for',\n",
       " 'from',\n",
       " 'global',\n",
       " 'if',\n",
       " 'import',\n",
       " 'in',\n",
       " 'is',\n",
       " 'lambda',\n",
       " 'nonlocal',\n",
       " 'not',\n",
       " 'or',\n",
       " 'pass',\n",
       " 'raise',\n",
       " 'return',\n",
       " 'try',\n",
       " 'while',\n",
       " 'with',\n",
       " 'yield']"
      ]
     },
     "execution_count": 24,
     "metadata": {},
     "output_type": "execute_result"
    }
   ],
   "source": [
    "keyword.kwlist"
   ]
  },
  {
   "cell_type": "code",
   "execution_count": 29,
   "id": "c7588c30-78fe-4997-99e5-9d9e4b143f4d",
   "metadata": {},
   "outputs": [
    {
     "data": {
      "text/plain": [
       "6"
      ]
     },
     "execution_count": 29,
     "metadata": {},
     "output_type": "execute_result"
    }
   ],
   "source": [
    "# before naming the keyword\n",
    "sum((1,2,3))"
   ]
  },
  {
   "cell_type": "code",
   "execution_count": 36,
   "id": "21803977-981a-42ee-ac1f-7719634abd27",
   "metadata": {},
   "outputs": [
    {
     "data": {
      "text/plain": [
       "0"
      ]
     },
     "execution_count": 36,
     "metadata": {},
     "output_type": "execute_result"
    }
   ],
   "source": [
    "# after assigning the name to keyword\n",
    "sum = 0\n",
    "sum \n",
    "# sum의 기능을 잃어버림 "
   ]
  },
  {
   "cell_type": "code",
   "execution_count": 34,
   "id": "c0c54dba-32a8-4914-803f-4485f2e5003e",
   "metadata": {},
   "outputs": [],
   "source": [
    "# sum((1,2,3))\n",
    "# TypeError: 'int' object is not callable"
   ]
  },
  {
   "cell_type": "code",
   "execution_count": 35,
   "id": "e86228e1-535d-4dc6-97a6-094847ee885a",
   "metadata": {},
   "outputs": [],
   "source": [
    "del sum"
   ]
  },
  {
   "cell_type": "markdown",
   "id": "e9cf2fff-fb34-4a4a-8ef2-2b8c0648d309",
   "metadata": {},
   "source": [
    "### pep (네이버 입사 문제)"
   ]
  },
  {
   "cell_type": "markdown",
   "id": "23c2d251-27f8-4413-93cb-bdbc3fc7bfa5",
   "metadata": {},
   "source": [
    "* function의 이름을 지을 때 사용\n",
    "    * moon_beauty : snake\n",
    "* class 이름:\n",
    "    * moonBeauty: camel\n",
    "    * MoonBeauty : pascal / caps workd (=camel)\n",
    "    * Note: 다른 언어에선 엄격하게 구분하지만 파이썬에서 동일하게 취급한다    "
   ]
  },
  {
   "cell_type": "markdown",
   "id": "1313557f-b7d6-4feb-a812-19801b953b8f",
   "metadata": {},
   "source": [
    "## Numbers "
   ]
  },
  {
   "cell_type": "markdown",
   "id": "6d4d09f2-76af-4b74-a478-aa54628ba611",
   "metadata": {},
   "source": [
    "* 파이썬엔 총 4가지의 숫자가 존재\n",
    "    1. 정수형 숫자 int\n",
    "    2. 소수형 숫자 float\n",
    "    3. 복소수 i; complex number\n",
    "    4. Boolean: True/False\n",
    "\n",
    "* atomic vs container\n",
    "    * atomic: 쪼개질 수 없는 그 하나 자체가 의미인 것\n",
    "    * container: 합쳐져 있는 것; 그래서 쪼갤 수 있는 것\n",
    "\n",
    " > 숫자는 atomic이다\n",
    "\n",
    "* Note: 숫자를 인간이 임의적으로 읽기 편하게 하기 위해선 _를 쓴다\n",
    "    * ex) 1000000 -> 1_000_000 (same meaning) "
   ]
  },
  {
   "cell_type": "markdown",
   "id": "03a843c7-a4ff-472c-80e9-b8ac8071253f",
   "metadata": {},
   "source": [
    "#### 1. 정수형 숫자 int"
   ]
  },
  {
   "cell_type": "markdown",
   "id": "9af04d98-2e86-4586-85ff-b4344ee51ffe",
   "metadata": {},
   "source": [
    "* 문제점: 숫자의 크기가 하나만 존재\n",
    "* 다른 언어는 다양한 비트로 존재한다\n",
    "* therefore 편리함을 얻었지만 성능을 잃었다\n",
    "* 종류는 총 4가지 (진법으로 나눈다)\n",
    "    * 이진수 0b__\n",
    "    * 8진수 0o__\n",
    "    * 16진수 0x__\n",
    "    * literal(특수문자)가 아닌 정수는 10진수"
   ]
  },
  {
   "cell_type": "code",
   "execution_count": 66,
   "id": "fea83952-a54f-4b30-b475-7818c04dd7c0",
   "metadata": {},
   "outputs": [
    {
     "data": {
      "text/plain": [
       "(2, 8, 16, 10)"
      ]
     },
     "execution_count": 66,
     "metadata": {},
     "output_type": "execute_result"
    }
   ],
   "source": [
    "0b10, 0o10, 0x10, 10"
   ]
  },
  {
   "cell_type": "code",
   "execution_count": 48,
   "id": "f8036430-8f02-4e61-ad90-b9c87d0b4284",
   "metadata": {},
   "outputs": [],
   "source": [
    "import sys"
   ]
  },
  {
   "cell_type": "code",
   "execution_count": 50,
   "id": "5daa0c2d-56b7-49bd-85dc-73b40a962c20",
   "metadata": {},
   "outputs": [
    {
     "data": {
      "text/plain": [
       "9223372036854775807"
      ]
     },
     "execution_count": 50,
     "metadata": {},
     "output_type": "execute_result"
    }
   ],
   "source": [
    "# the largest int number\n",
    "sys.maxsize "
   ]
  },
  {
   "cell_type": "markdown",
   "id": "b6f96f08-2fa6-400e-a4e7-06ba76195ee6",
   "metadata": {},
   "source": [
    "* Need to KNOW: 위의 숫자보다 커지는 경우 내부적으로 새로운 가상 메모리 공간을 만들어 숫자를 늘려간다\n",
    "* therefore, 연산량이 많아질수록 속도가 느려진다 "
   ]
  },
  {
   "cell_type": "markdown",
   "id": "c0bb9336-f7e6-41dc-9188-3a010f26a573",
   "metadata": {},
   "source": [
    "#### 2. decimal number: float"
   ]
  },
  {
   "cell_type": "markdown",
   "id": "b00ad3b6-7931-48fe-91dc-c6a85a53f087",
   "metadata": {},
   "source": [
    "* 장점: 속도가 빠르다\n",
    "* 단점: 정확도가 떨어진다\n",
    "    * why? 근사적으로 빠르게 계산하기 때문 "
   ]
  },
  {
   "cell_type": "code",
   "execution_count": 51,
   "id": "be05836a-927b-4066-b3b4-2f2ef02b03f4",
   "metadata": {},
   "outputs": [
    {
     "data": {
      "text/plain": [
       "0.2"
      ]
     },
     "execution_count": 51,
     "metadata": {},
     "output_type": "execute_result"
    }
   ],
   "source": [
    "0.1 + 0.1"
   ]
  },
  {
   "cell_type": "code",
   "execution_count": 52,
   "id": "4a63eb02-86b3-4da5-8e48-cf151833e4cf",
   "metadata": {},
   "outputs": [
    {
     "data": {
      "text/plain": [
       "0.30000000000000004"
      ]
     },
     "execution_count": 52,
     "metadata": {},
     "output_type": "execute_result"
    }
   ],
   "source": [
    "0.1 + 0.1 + 0.1"
   ]
  },
  {
   "cell_type": "code",
   "execution_count": 53,
   "id": "0a5f7173-ebad-411a-a736-1751405c6640",
   "metadata": {},
   "outputs": [
    {
     "data": {
      "text/plain": [
       "sys.float_info(max=1.7976931348623157e+308, max_exp=1024, max_10_exp=308, min=2.2250738585072014e-308, min_exp=-1021, min_10_exp=-307, dig=15, mant_dig=53, epsilon=2.220446049250313e-16, radix=2, rounds=1)"
      ]
     },
     "execution_count": 53,
     "metadata": {},
     "output_type": "execute_result"
    }
   ],
   "source": [
    "# float의 범위\n",
    "sys.float_info"
   ]
  },
  {
   "cell_type": "code",
   "execution_count": 59,
   "id": "1386a1b2-35ea-47c2-aeda-b48e6b8c0f15",
   "metadata": {},
   "outputs": [
    {
     "data": {
      "text/plain": [
       "True"
      ]
     },
     "execution_count": 59,
     "metadata": {},
     "output_type": "execute_result"
    }
   ],
   "source": [
    "# 한가지의 경우로 존재 \n",
    "# when a is infinity\n",
    "a == a + 1"
   ]
  },
  {
   "cell_type": "code",
   "execution_count": 57,
   "id": "c5071228-aa91-4524-b700-d7d073b49c9e",
   "metadata": {},
   "outputs": [
    {
     "data": {
      "text/plain": [
       "inf"
      ]
     },
     "execution_count": 57,
     "metadata": {},
     "output_type": "execute_result"
    }
   ],
   "source": [
    "a = float('inf')\n",
    "a"
   ]
  },
  {
   "cell_type": "code",
   "execution_count": 60,
   "id": "d288d8a5-a970-4541-a445-ee03c022aafe",
   "metadata": {},
   "outputs": [
    {
     "data": {
      "text/plain": [
       "True"
      ]
     },
     "execution_count": 60,
     "metadata": {},
     "output_type": "execute_result"
    }
   ],
   "source": [
    "a == a + 1"
   ]
  },
  {
   "cell_type": "code",
   "execution_count": 58,
   "id": "ed0e1929-4d35-4ac1-b0fa-a323bb614058",
   "metadata": {},
   "outputs": [
    {
     "data": {
      "text/plain": [
       "1.7976931348623157e+308"
      ]
     },
     "execution_count": 58,
     "metadata": {},
     "output_type": "execute_result"
    }
   ],
   "source": [
    "a = 1.7976931348623157e+308\n",
    "a"
   ]
  },
  {
   "cell_type": "code",
   "execution_count": 56,
   "id": "eb485977-44d8-4cec-a1c0-0eb480a49915",
   "metadata": {},
   "outputs": [
    {
     "data": {
      "text/plain": [
       "1.7976931348623157e+308"
      ]
     },
     "execution_count": 56,
     "metadata": {},
     "output_type": "execute_result"
    }
   ],
   "source": [
    "a = 1.7976931348623157e+308 + 1\n",
    "a"
   ]
  },
  {
   "cell_type": "markdown",
   "id": "96488520-c678-4b6b-a8a7-56f1e9f0537e",
   "metadata": {},
   "source": [
    "> 근사화해서 계산하기 때문에 아주 큰 숫자에선 정확도가 더 떨어진다\n",
    "> 그렇게 때문에 인공지능 및 데이터 분석에선 내장 숫자보단 numpy를 활용한다"
   ]
  },
  {
   "cell_type": "markdown",
   "id": "c1f2f692-8824-4079-821a-ba716f047578",
   "metadata": {},
   "source": [
    "#### 3. complex number i"
   ]
  },
  {
   "cell_type": "code",
   "execution_count": 68,
   "id": "c45d8045-3692-428d-9e18-b810293f1a00",
   "metadata": {},
   "outputs": [
    {
     "data": {
      "text/plain": [
       "(3+4j)"
      ]
     },
     "execution_count": 68,
     "metadata": {},
     "output_type": "execute_result"
    }
   ],
   "source": [
    "3 + 4j"
   ]
  },
  {
   "cell_type": "markdown",
   "id": "2dde8679-aac2-4e01-aefc-1378acaba350",
   "metadata": {},
   "source": [
    "#### 4. Boolean: True/False"
   ]
  },
  {
   "cell_type": "markdown",
   "id": "6b8669ae-64af-4fb3-9887-f2f5a1cde34e",
   "metadata": {},
   "source": [
    "* True = 1\n",
    "* False = 0\n",
    "\n",
    "> why? True,False를 숫자로 만들었기 때문에 print를 할때를 제외하고는 모두 0 또는 1로 취급한다"
   ]
  },
  {
   "cell_type": "markdown",
   "id": "66db31a8-8431-40a4-b9e4-5975d7e5b141",
   "metadata": {},
   "source": [
    "#### 그외"
   ]
  },
  {
   "cell_type": "code",
   "execution_count": 69,
   "id": "0405f314-2dfe-49c4-bf63-df79c00bab96",
   "metadata": {},
   "outputs": [
    {
     "data": {
      "text/plain": [
       "nan"
      ]
     },
     "execution_count": 69,
     "metadata": {},
     "output_type": "execute_result"
    }
   ],
   "source": [
    "float('nan')"
   ]
  },
  {
   "cell_type": "code",
   "execution_count": 70,
   "id": "4ebd3682-3616-47a9-90f7-b11cafdbf940",
   "metadata": {},
   "outputs": [
    {
     "data": {
      "text/plain": [
       "3"
      ]
     },
     "execution_count": 70,
     "metadata": {},
     "output_type": "execute_result"
    }
   ],
   "source": [
    "3 / 7 # 나누기\n",
    "3 // 7 # 몫\n",
    "3 % 7 # 나머지"
   ]
  },
  {
   "cell_type": "code",
   "execution_count": 72,
   "id": "9e70b590-9123-4ffb-9b00-974b6c384d99",
   "metadata": {},
   "outputs": [
    {
     "data": {
      "text/plain": [
       "(-0.42857142857142855, -1, 4)"
      ]
     },
     "execution_count": 72,
     "metadata": {},
     "output_type": "execute_result"
    }
   ],
   "source": [
    "-3/7, -3//7, -3%7"
   ]
  },
  {
   "cell_type": "code",
   "execution_count": 73,
   "id": "cf16490a-02a4-467b-bcbb-169594bba629",
   "metadata": {},
   "outputs": [
    {
     "data": {
      "text/plain": [
       "(-0.42857142857142855, -1, -4)"
      ]
     },
     "execution_count": 73,
     "metadata": {},
     "output_type": "execute_result"
    }
   ],
   "source": [
    "3/-7, 3//-7, 3%-7"
   ]
  },
  {
   "cell_type": "markdown",
   "id": "315d341d-3357-4137-adb2-25f1396b1f6d",
   "metadata": {},
   "source": [
    "* 연산은 같은 데이터 타입 끼리만 가능하다\n",
    "* BUT 정수 & 소수 연산은 가능하다\n",
    "* HOW? 파이썬에서 내부적으로 정수를 소수라 변환시키기 때문\n",
    "\n",
    "> 이것을 coercion '코어션'이라 칭한다"
   ]
  },
  {
   "cell_type": "markdown",
   "id": "49b645f4-b1d3-431c-bdb9-99c99ec72898",
   "metadata": {},
   "source": [
    "## 문자열"
   ]
  },
  {
   "cell_type": "markdown",
   "id": "23872406-6820-43d2-8c6e-b901e435f41b",
   "metadata": {},
   "source": [
    "* 비트형: 대부분은 바이트 형태로 저장한다. 전세계적 호환성을 위해\n",
    "    * 하지만 한글의 경우 ASCII character에 포함되지 않으므로 주로 유니코드로 형태로 저장된다 \n",
    "* 유니코드"
   ]
  },
  {
   "cell_type": "code",
   "execution_count": 75,
   "id": "98d80bb0-92d3-4cd0-805c-651bd4de14ce",
   "metadata": {},
   "outputs": [
    {
     "data": {
      "text/plain": [
       "b'asb'"
      ]
     },
     "execution_count": 75,
     "metadata": {},
     "output_type": "execute_result"
    }
   ],
   "source": [
    "b'asb'  # 비트형 "
   ]
  },
  {
   "cell_type": "code",
   "execution_count": 78,
   "id": "7e6b3db8-4000-4327-a911-a58aa7ab8f9f",
   "metadata": {},
   "outputs": [],
   "source": [
    "# b'윤정한'\n",
    "# SyntaxError: bytes can only contain ASCII literal characters"
   ]
  },
  {
   "cell_type": "code",
   "execution_count": 79,
   "id": "58e8fcdd-00f1-490d-a0e6-1b233a120f2c",
   "metadata": {},
   "outputs": [
    {
     "data": {
      "text/plain": [
       "'윤정한'"
      ]
     },
     "execution_count": 79,
     "metadata": {},
     "output_type": "execute_result"
    }
   ],
   "source": [
    "'윤정한'"
   ]
  },
  {
   "cell_type": "code",
   "execution_count": 80,
   "id": "9dad1886-d912-4da9-930a-5ab826a312fe",
   "metadata": {},
   "outputs": [
    {
     "data": {
      "text/plain": [
       "'윤정한'"
      ]
     },
     "execution_count": 80,
     "metadata": {},
     "output_type": "execute_result"
    }
   ],
   "source": [
    "u'윤정한'"
   ]
  },
  {
   "cell_type": "markdown",
   "id": "09615341-d5a0-465f-a4dc-843ae335f448",
   "metadata": {},
   "source": [
    "* string은 합쳤을 때 의미가 있지만, 쪼개져도 의미가 있을 수 있다\n",
    "> therefore, string is container\n",
    "\n",
    "* container의 4가지 종류\n",
    "    * sequence 순서가 있는 container\n",
    "        * iterable: (매우 중요!) 차례대로 뽑아낼 수 있다\n",
    "        * therefore, we can do indexing and slicing, which is only available in container, not atomic\n",
    "        * often used in tensorflow, numpy where all the elements are homogenous (description in next section) "
   ]
  },
  {
   "cell_type": "code",
   "execution_count": 85,
   "id": "1cf4ce30-3c8e-4007-94a2-d26b51d43933",
   "metadata": {},
   "outputs": [],
   "source": [
    "# 'abc' + 2\n",
    "# TypeError: can only concatenate str (not \"int\") to str"
   ]
  },
  {
   "cell_type": "code",
   "execution_count": 88,
   "id": "7f5e0123-4b63-4fd0-9b32-ef5c858a77a6",
   "metadata": {},
   "outputs": [
    {
     "data": {
      "text/plain": [
       "'abcbc'"
      ]
     },
     "execution_count": 88,
     "metadata": {},
     "output_type": "execute_result"
    }
   ],
   "source": [
    "'abc' + 'bc'"
   ]
  },
  {
   "cell_type": "code",
   "execution_count": 90,
   "id": "ca0479c4-ac4a-4833-90c6-9048ad5e3a71",
   "metadata": {},
   "outputs": [
    {
     "data": {
      "text/plain": [
       "4"
      ]
     },
     "execution_count": 90,
     "metadata": {},
     "output_type": "execute_result"
    }
   ],
   "source": [
    "len('abcd') #순서가 있고 하나씩 뽑아낼 수 있으므로 길이도 존재"
   ]
  },
  {
   "cell_type": "markdown",
   "id": "80858a14-727f-442f-a46f-03960d7dc5c2",
   "metadata": {},
   "source": [
    "### homogenous vs heterogenous"
   ]
  },
  {
   "cell_type": "markdown",
   "id": "525bbbdd-e38f-402c-b114-53b5acf1f712",
   "metadata": {},
   "source": [
    "* homogenous = same data type\n",
    "    * ex) range\n",
    "    * ex) np.array([1,2,3,4])\n",
    "    * ex) tensorflow.constant([1,2,3])\n",
    "* heterogenous = different data type\n",
    "    * ex) [1,2,'3']\n",
    "\n",
    "> the speed of homoe is faster than hetero, thus we should use homo when we process with big data"
   ]
  },
  {
   "cell_type": "markdown",
   "id": "9b968c95-8c5b-48ce-8552-8d2cf61bfd59",
   "metadata": {},
   "source": [
    "## 파이썬 자료구조 "
   ]
  },
  {
   "cell_type": "markdown",
   "id": "ed8e92de-475d-49e2-91e8-ee23f269dc02",
   "metadata": {},
   "source": [
    "### List"
   ]
  },
  {
   "cell_type": "markdown",
   "id": "4ba325d9-b7bb-4c7d-bd71-951e1399a7f5",
   "metadata": {},
   "source": [
    "* mutable data type\n",
    "* iterable\n",
    "* can be homo & hetero "
   ]
  },
  {
   "cell_type": "code",
   "execution_count": 97,
   "id": "cd682a9e-5677-4516-9973-ccf379e0bca1",
   "metadata": {},
   "outputs": [
    {
     "data": {
      "text/plain": [
       "([1, 2, 3, 4, 5], [1, 2, 3, '4'])"
      ]
     },
     "execution_count": 97,
     "metadata": {},
     "output_type": "execute_result"
    }
   ],
   "source": [
    "a = [1,2,3,4]   # homo\n",
    "b = [1,2,3,'4'] # hetero\n",
    "a.append(5)     # mutable\n",
    "a, b"
   ]
  },
  {
   "cell_type": "markdown",
   "id": "553c0446-8a10-478c-b693-6f53faff49ad",
   "metadata": {},
   "source": [
    "### Tuple"
   ]
  },
  {
   "cell_type": "markdown",
   "id": "8d2c33cb-362d-4c40-ba79-632f84209988",
   "metadata": {},
   "source": [
    "* unmutable data type\n",
    "* iterable\n",
    "* can be homo * hetero"
   ]
  },
  {
   "cell_type": "code",
   "execution_count": 100,
   "id": "da4d7925-f2c3-4091-b559-b87884f2bf0c",
   "metadata": {},
   "outputs": [],
   "source": [
    "a = (1, '2')\n",
    "b = (1,)"
   ]
  },
  {
   "cell_type": "markdown",
   "id": "431ede2e-de10-4518-b830-9fea042f18c3",
   "metadata": {},
   "source": [
    "### Set"
   ]
  },
  {
   "cell_type": "markdown",
   "id": "d128ae46-d2ab-4994-af55-4875826b94ff",
   "metadata": {},
   "source": [
    "* non-sequential -> NOT iterable\n",
    "    * in specific, there is sequence in python of set, but user CANNOT define the sequence of the set. Therefore, we treat the set as non-squential  \n",
    "* element repetition is not allowed"
   ]
  },
  {
   "cell_type": "code",
   "execution_count": 102,
   "id": "4bd3f968-8b67-44da-8d50-39f2b6b17bef",
   "metadata": {},
   "outputs": [
    {
     "data": {
      "text/plain": [
       "{1, 2, 3, 5, 6, 7}"
      ]
     },
     "execution_count": 102,
     "metadata": {},
     "output_type": "execute_result"
    }
   ],
   "source": [
    "a = {3,3,1,2,3,5,7,6,5,5,5,5}\n",
    "a"
   ]
  },
  {
   "cell_type": "code",
   "execution_count": 103,
   "id": "5fcf0697-1106-46a3-bdf6-45e4bc46320a",
   "metadata": {},
   "outputs": [],
   "source": [
    "# a[0]\n",
    "# TypeError: 'set' object is not subscriptable\n",
    "# bc not iterable "
   ]
  },
  {
   "cell_type": "code",
   "execution_count": 104,
   "id": "3936e3d4-e85f-4a09-b216-ff379e1f2725",
   "metadata": {},
   "outputs": [
    {
     "data": {
      "text/plain": [
       "set"
      ]
     },
     "execution_count": 104,
     "metadata": {},
     "output_type": "execute_result"
    }
   ],
   "source": [
    "type(a)"
   ]
  },
  {
   "cell_type": "code",
   "execution_count": 107,
   "id": "b680d868-5b00-4efd-83b4-8f42c5262c57",
   "metadata": {},
   "outputs": [
    {
     "data": {
      "text/plain": [
       "dict"
      ]
     },
     "execution_count": 107,
     "metadata": {},
     "output_type": "execute_result"
    }
   ],
   "source": [
    "b= {}\n",
    "type(b)\n",
    "# why type of empty {} is dict?\n",
    "# bc when python is first created, there was no data type of set. \n",
    "# thus, set was created by the dict data type \n",
    "# therefore, we should use set by 'instance' method"
   ]
  },
  {
   "cell_type": "markdown",
   "id": "8e680a27-4f3c-4fec-9c02-86b22903fbe8",
   "metadata": {},
   "source": [
    "* NOTE:\n",
    "    * instance method:\n",
    "        * 기본 베이스로 채워지는 default 값은 False\n",
    "        * 따라서 0 또는 '' 또는 empty \n",
    "        * a = set() \n",
    "    * literal method:\n",
    "        * 특수문자를 사용해서 value를 declare  \n",
    "        * a = [] "
   ]
  },
  {
   "cell_type": "code",
   "execution_count": 124,
   "id": "ac37f7c9-963d-441b-a2fe-b4820bb96f6a",
   "metadata": {},
   "outputs": [
    {
     "data": {
      "text/plain": [
       "(3, int)"
      ]
     },
     "execution_count": 124,
     "metadata": {},
     "output_type": "execute_result"
    }
   ],
   "source": [
    "a = int(3)\n",
    "a, type(a)"
   ]
  },
  {
   "cell_type": "code",
   "execution_count": 125,
   "id": "e97f8ab1-ac07-4b7f-9f9f-fb64a92fa31f",
   "metadata": {},
   "outputs": [
    {
     "data": {
      "text/plain": [
       "(0, int)"
      ]
     },
     "execution_count": 125,
     "metadata": {},
     "output_type": "execute_result"
    }
   ],
   "source": [
    "a = int()\n",
    "a, type(a)"
   ]
  },
  {
   "cell_type": "code",
   "execution_count": 127,
   "id": "0ea0566e-cdb1-4013-9246-09f437c72b6c",
   "metadata": {},
   "outputs": [
    {
     "data": {
      "text/plain": [
       "('abc', str)"
      ]
     },
     "execution_count": 127,
     "metadata": {},
     "output_type": "execute_result"
    }
   ],
   "source": [
    "a = str('abc')\n",
    "a, type(a)"
   ]
  },
  {
   "cell_type": "code",
   "execution_count": 128,
   "id": "63858536-112a-4182-a3cc-4404f1dd35db",
   "metadata": {},
   "outputs": [
    {
     "data": {
      "text/plain": [
       "('', str)"
      ]
     },
     "execution_count": 128,
     "metadata": {},
     "output_type": "execute_result"
    }
   ],
   "source": [
    "a = str()\n",
    "a, type(a)"
   ]
  },
  {
   "cell_type": "code",
   "execution_count": 111,
   "id": "9bf0a718-bcd6-4d5e-879f-a71ca9a7bab1",
   "metadata": {},
   "outputs": [],
   "source": [
    "# a = {[1,2,3], 4, 5}\n",
    "# a\n",
    "# TypeError: unhashable type: 'list'\n",
    "# description in dict section"
   ]
  },
  {
   "cell_type": "markdown",
   "id": "f0482f61-e796-46f1-9773-a207c832e22f",
   "metadata": {},
   "source": [
    "### Dict(ionary)"
   ]
  },
  {
   "cell_type": "markdown",
   "id": "81fca508-96bd-4a10-96af-d85fb5b7583b",
   "metadata": {},
   "source": [
    "* {key:value}\n",
    "    * value = data + data type\n",
    "    * and therefore data type should be important when you declare the name\n",
    "    * tensor and pytorch are also the value  \n",
    "* key는 hashable가능한 아이들만 가능하다\n",
    "    * hashable이란? 불변하고 고유한 값을 가지며, 동일한 입력에 대해 항상 동일한 해시 값을 생성합니다.\n",
    "    * 예를 들어, 숫자(int, float), 문자열(str), 튜플(tuple)은 해시 가능한 유형입니다. 그러나 리스트(list)나 딕셔너리(dictionary)와 같은 변경 가능한 데이터 유형은 해시 가능하지 않습니다. \n",
    "* set은 dict의 key를 기반으로 만들어짐. key의 특성 때문에 hetero는 가능하지만 hashable하지 않은 리스트, 딕셔너리, set과 같은 것은 올 수 없음.\n",
    "    * 그래서 위의 cell에서 TypeError가 나타남.   "
   ]
  },
  {
   "cell_type": "markdown",
   "id": "83c6a656-9ec6-4a7a-9fc9-a0147244c78c",
   "metadata": {},
   "source": [
    "# Compound Statement"
   ]
  },
  {
   "cell_type": "markdown",
   "id": "b7ddc072-7fd8-497d-a113-07c342385ec3",
   "metadata": {},
   "source": [
    "* 조건 conditon\n",
    "* 반복 repetition\n",
    "* 예외 exception\n",
    "* 정의 definition"
   ]
  },
  {
   "cell_type": "markdown",
   "id": "74439d31-3c41-46ed-aa16-d68fa587049c",
   "metadata": {},
   "source": [
    "## 1. 조건문"
   ]
  },
  {
   "cell_type": "markdown",
   "id": "e356303b-565f-4460-8f08-af60b2467571",
   "metadata": {},
   "source": [
    "* 조건문은 존재론적인 관점에서 따진다"
   ]
  },
  {
   "cell_type": "markdown",
   "id": "80ca3b14-2cb5-4c93-ab41-ff2867003ce5",
   "metadata": {},
   "source": [
    "#### 1-1. if-else"
   ]
  },
  {
   "cell_type": "code",
   "execution_count": 129,
   "id": "e2d071b1-81cb-4eb8-8041-c522d61039da",
   "metadata": {},
   "outputs": [
    {
     "name": "stdout",
     "output_type": "stream",
     "text": [
      "b\n"
     ]
    }
   ],
   "source": [
    "# 0은 존재론적인 관점에서 instance 방법론에 의해 존재하지 않는다 \n",
    "# 조건문은 존재론적인 관점에서 True/False를 여긴다 \n",
    "a = 0\n",
    "if a: # does a exist?\n",
    "    print('a')\n",
    "else:  # if a not exist\n",
    "    print('b')"
   ]
  },
  {
   "cell_type": "code",
   "execution_count": 121,
   "id": "45046f0c-7335-47fa-ac99-fac6a5cf2e88",
   "metadata": {},
   "outputs": [
    {
     "name": "stdout",
     "output_type": "stream",
     "text": [
      "a\n"
     ]
    }
   ],
   "source": [
    "a = 1\n",
    "if a : # if a is True\n",
    "    print('a')\n",
    "else: \n",
    "    print('b')\n",
    "# since a = 1 = True = exist "
   ]
  },
  {
   "cell_type": "code",
   "execution_count": 122,
   "id": "18e25d71-1b18-4d5f-8ca2-464655cb812a",
   "metadata": {},
   "outputs": [
    {
     "name": "stdout",
     "output_type": "stream",
     "text": [
      "a\n"
     ]
    }
   ],
   "source": [
    "a = 2\n",
    "if a :\n",
    "    print('a')\n",
    "else: \n",
    "    print('b')\n",
    "# since a = 2 = not None = exist "
   ]
  },
  {
   "cell_type": "code",
   "execution_count": 119,
   "id": "76bd422f-bc69-47b7-be92-e77477d8f542",
   "metadata": {},
   "outputs": [
    {
     "name": "stdout",
     "output_type": "stream",
     "text": [
      "b\n"
     ]
    }
   ],
   "source": [
    "a = ''\n",
    "if a :\n",
    "    print('a')\n",
    "else: \n",
    "    print('b')\n",
    "\n",
    "# since a = '' = False = NOT exist "
   ]
  },
  {
   "cell_type": "code",
   "execution_count": 3,
   "id": "c0c9c452-1d18-4dee-998d-f3cc96cab3d0",
   "metadata": {},
   "outputs": [
    {
     "name": "stdout",
     "output_type": "stream",
     "text": [
      "b\n"
     ]
    }
   ],
   "source": [
    "a = None\n",
    "if a :\n",
    "    print('a')\n",
    "else: \n",
    "    print('b')"
   ]
  },
  {
   "cell_type": "code",
   "execution_count": 120,
   "id": "80624d3d-89ea-48c9-90cc-268646e71f99",
   "metadata": {},
   "outputs": [
    {
     "data": {
      "text/plain": [
       "False"
      ]
     },
     "execution_count": 120,
     "metadata": {},
     "output_type": "execute_result"
    }
   ],
   "source": [
    "False == None"
   ]
  },
  {
   "cell_type": "markdown",
   "id": "a9c7b33c-2464-44b0-9d2e-02586f6ec627",
   "metadata": {},
   "source": [
    "#### 1-2. 비교 연산자"
   ]
  },
  {
   "cell_type": "markdown",
   "id": "cbd48e00-9be9-4d57-b635-e44185c7062d",
   "metadata": {},
   "source": [
    "* 비교를 할 때는 아스키코드로 변환을 하여 비교를 한다"
   ]
  },
  {
   "cell_type": "code",
   "execution_count": 130,
   "id": "322e13e2-2b2e-4770-a7a3-3b9c53046dac",
   "metadata": {},
   "outputs": [
    {
     "data": {
      "text/plain": [
       "True"
      ]
     },
     "execution_count": 130,
     "metadata": {},
     "output_type": "execute_result"
    }
   ],
   "source": [
    "'a' > 'A'"
   ]
  },
  {
   "cell_type": "code",
   "execution_count": 132,
   "id": "af214fcc-81d7-4037-a858-7bfc01011b65",
   "metadata": {},
   "outputs": [
    {
     "data": {
      "text/plain": [
       "True"
      ]
     },
     "execution_count": 132,
     "metadata": {},
     "output_type": "execute_result"
    }
   ],
   "source": [
    "# short circuit (앞에 있는 것에만 비교를 해서 결정이 난다)\n",
    "'a' > 'Aa'"
   ]
  },
  {
   "cell_type": "code",
   "execution_count": 138,
   "id": "4c9bc180-f619-4906-bb9a-a46d1f4b57c9",
   "metadata": {},
   "outputs": [
    {
     "data": {
      "text/plain": [
       "(1, 2, False)"
      ]
     },
     "execution_count": 138,
     "metadata": {},
     "output_type": "execute_result"
    }
   ],
   "source": [
    "# 연산자 우선순위 \n",
    "1,2,3 > 3  # 1,2,3 : 튜플"
   ]
  },
  {
   "cell_type": "code",
   "execution_count": 137,
   "id": "e859b00b-604e-42a8-871e-2b23a961023d",
   "metadata": {},
   "outputs": [
    {
     "data": {
      "text/plain": [
       "(1, 2, True)"
      ]
     },
     "execution_count": 137,
     "metadata": {},
     "output_type": "execute_result"
    }
   ],
   "source": [
    "1,2,3 > 2"
   ]
  },
  {
   "cell_type": "code",
   "execution_count": 135,
   "id": "0e2a7e4d-3699-43bb-a883-f022e9991baa",
   "metadata": {},
   "outputs": [
    {
     "data": {
      "text/plain": [
       "False"
      ]
     },
     "execution_count": 135,
     "metadata": {},
     "output_type": "execute_result"
    }
   ],
   "source": [
    "(1,2,3) > (3,)"
   ]
  },
  {
   "cell_type": "code",
   "execution_count": 139,
   "id": "c8234b64-0733-416c-b9da-d22c1f09c388",
   "metadata": {},
   "outputs": [
    {
     "data": {
      "text/plain": [
       "True"
      ]
     },
     "execution_count": 139,
     "metadata": {},
     "output_type": "execute_result"
    }
   ],
   "source": [
    "{1,2,3} > {3}"
   ]
  },
  {
   "cell_type": "code",
   "execution_count": 140,
   "id": "71340bd7-a660-4cdf-8821-a1c0e1ebd89b",
   "metadata": {},
   "outputs": [
    {
     "data": {
      "text/plain": [
       "False"
      ]
     },
     "execution_count": 140,
     "metadata": {},
     "output_type": "execute_result"
    }
   ],
   "source": [
    "{1,2,3} < {3}"
   ]
  },
  {
   "cell_type": "code",
   "execution_count": 141,
   "id": "337ae513-1738-411b-a27c-628d98f63c64",
   "metadata": {},
   "outputs": [
    {
     "data": {
      "text/plain": [
       "False"
      ]
     },
     "execution_count": 141,
     "metadata": {},
     "output_type": "execute_result"
    }
   ],
   "source": [
    "{1,2,3} < {3,1,2}"
   ]
  },
  {
   "cell_type": "code",
   "execution_count": 142,
   "id": "7bfcbef7-e715-4145-9b6a-f9119600f0dc",
   "metadata": {},
   "outputs": [
    {
     "data": {
      "text/plain": [
       "True"
      ]
     },
     "execution_count": 142,
     "metadata": {},
     "output_type": "execute_result"
    }
   ],
   "source": [
    "{1} < {3,1,2}"
   ]
  },
  {
   "cell_type": "code",
   "execution_count": 143,
   "id": "7f199357-bc39-4dd7-bea6-ab1d31a3242d",
   "metadata": {},
   "outputs": [
    {
     "data": {
      "text/plain": [
       "False"
      ]
     },
     "execution_count": 143,
     "metadata": {},
     "output_type": "execute_result"
    }
   ],
   "source": [
    "{3,1,2} < {1}"
   ]
  },
  {
   "cell_type": "code",
   "execution_count": 144,
   "id": "de44057b-7b7f-488e-bdd5-6a400bb80049",
   "metadata": {},
   "outputs": [
    {
     "data": {
      "text/plain": [
       "(True, False)"
      ]
     },
     "execution_count": 144,
     "metadata": {},
     "output_type": "execute_result"
    }
   ],
   "source": [
    "{1,2} < {3,1,2} , {3,1,2} < {1,2}"
   ]
  },
  {
   "cell_type": "markdown",
   "id": "cb3c030e-3c23-4769-a996-a9e182752074",
   "metadata": {},
   "source": [
    "#### 1-3. 데이터 타입별"
   ]
  },
  {
   "cell_type": "markdown",
   "id": "ed439da4-66d4-4601-8058-e0aa4bc888c1",
   "metadata": {},
   "source": [
    "* !!참과 거짓은 존재론적인 관점이다\n",
    "* 'and'\n",
    "    * 앞이 참일 경우 뒤를 반환\n",
    "    * 뒤가 참일 경우, 앞을 반환\n",
    "* 'or' ('and'의 반대)\n",
    "    * 앞이 참일 경우, 앞을 반환\n",
    "    * 뒤가 참일 경우, 뒤를 반\n",
    "\n",
    "> this means that they can be 축약, thus, can be expression"
   ]
  },
  {
   "cell_type": "code",
   "execution_count": 145,
   "id": "9eac6d99-7b9b-4a71-86bc-f34848d7516d",
   "metadata": {},
   "outputs": [
    {
     "data": {
      "text/plain": [
       "4"
      ]
     },
     "execution_count": 145,
     "metadata": {},
     "output_type": "execute_result"
    }
   ],
   "source": [
    "3 and 4"
   ]
  },
  {
   "cell_type": "code",
   "execution_count": 146,
   "id": "dcfd3c6b-9ef6-4263-b9ef-2b8b0e546d83",
   "metadata": {},
   "outputs": [
    {
     "data": {
      "text/plain": [
       "''"
      ]
     },
     "execution_count": 146,
     "metadata": {},
     "output_type": "execute_result"
    }
   ],
   "source": [
    "'' and 4"
   ]
  },
  {
   "cell_type": "code",
   "execution_count": 147,
   "id": "c4f2a6cc-c7b7-4bfe-bb6e-96ba482d6226",
   "metadata": {},
   "outputs": [
    {
     "data": {
      "text/plain": [
       "3"
      ]
     },
     "execution_count": 147,
     "metadata": {},
     "output_type": "execute_result"
    }
   ],
   "source": [
    "3 or 4"
   ]
  },
  {
   "cell_type": "code",
   "execution_count": 148,
   "id": "c96e1815-767a-4753-be44-892b9cadbd36",
   "metadata": {},
   "outputs": [
    {
     "data": {
      "text/plain": [
       "4"
      ]
     },
     "execution_count": 148,
     "metadata": {},
     "output_type": "execute_result"
    }
   ],
   "source": [
    "'' or 4"
   ]
  },
  {
   "cell_type": "code",
   "execution_count": 149,
   "id": "32f91c81-2de9-4491-bcf1-782ee60859ae",
   "metadata": {},
   "outputs": [
    {
     "data": {
      "text/plain": [
       "''"
      ]
     },
     "execution_count": 149,
     "metadata": {},
     "output_type": "execute_result"
    }
   ],
   "source": [
    "'' and 4/0\n",
    "# "
   ]
  },
  {
   "cell_type": "code",
   "execution_count": 150,
   "id": "f106d2d6-b471-440d-aecf-348c13bc7ee3",
   "metadata": {},
   "outputs": [],
   "source": [
    "# '' or 4/0\n",
    "# ZeroDivisionError: division by zero"
   ]
  },
  {
   "cell_type": "markdown",
   "id": "5adf63d0-7355-4afd-89e1-dcb33acb8af5",
   "metadata": {},
   "source": [
    "## 2. 반복문"
   ]
  },
  {
   "cell_type": "markdown",
   "id": "ee2cfa7e-dbe7-40c7-a0e5-fd5b37900e96",
   "metadata": {},
   "source": [
    "* 두가지 종류\n",
    "    * for\n",
    "    * while\n",
    "    * Note: for가 while보다 효율적이다 except 무한루프. why? iterable한 특성 때문에\n",
    " * duck-typing\n",
    "     * 오리처럼 생기고 오리처럼 꽥꽥거리면, 그것은 오리다\n",
    "     * 타입이 중요하지만 해당 타입이 아니더라도 타입처럼 behavior한다면 그것을 그러한 타입이라고 간주한다 "
   ]
  },
  {
   "cell_type": "code",
   "execution_count": 4,
   "id": "62a83006-c5bb-48eb-8a0b-cfda46ebf725",
   "metadata": {},
   "outputs": [
    {
     "data": {
      "text/plain": [
       "(True, False)"
      ]
     },
     "execution_count": 4,
     "metadata": {},
     "output_type": "execute_result"
    }
   ],
   "source": [
    "a = 1\n",
    "a in [1,2,3], a not in [1,2,3]\n",
    "# in 다음은 container & homogenous 가 와야한다 "
   ]
  },
  {
   "cell_type": "code",
   "execution_count": 6,
   "id": "a68d395a-68b8-4e4b-b986-4f1545d41226",
   "metadata": {},
   "outputs": [],
   "source": [
    "# a = 1\n",
    "# a in 'abcd'\n",
    "# TypeError: 'in <string>' requires string as left operand, not int"
   ]
  },
  {
   "cell_type": "code",
   "execution_count": 7,
   "id": "dddb5ddf-2b2c-427d-bac1-b1520d7585a6",
   "metadata": {},
   "outputs": [
    {
     "data": {
      "text/plain": [
       "False"
      ]
     },
     "execution_count": 7,
     "metadata": {},
     "output_type": "execute_result"
    }
   ],
   "source": [
    "a = 1\n",
    "'2' in 'abcd'"
   ]
  },
  {
   "cell_type": "code",
   "execution_count": 10,
   "id": "39c688cc-f87e-4f8d-b242-a647b6d85411",
   "metadata": {},
   "outputs": [
    {
     "data": {
      "text/plain": [
       "['__abs__',\n",
       " '__add__',\n",
       " '__and__',\n",
       " '__bool__',\n",
       " '__ceil__',\n",
       " '__class__',\n",
       " '__delattr__',\n",
       " '__dir__',\n",
       " '__divmod__',\n",
       " '__doc__',\n",
       " '__eq__',\n",
       " '__float__',\n",
       " '__floor__',\n",
       " '__floordiv__',\n",
       " '__format__',\n",
       " '__ge__',\n",
       " '__getattribute__',\n",
       " '__getnewargs__',\n",
       " '__gt__',\n",
       " '__hash__',\n",
       " '__index__',\n",
       " '__init__',\n",
       " '__init_subclass__',\n",
       " '__int__',\n",
       " '__invert__',\n",
       " '__le__',\n",
       " '__lshift__',\n",
       " '__lt__',\n",
       " '__mod__',\n",
       " '__mul__',\n",
       " '__ne__',\n",
       " '__neg__',\n",
       " '__new__',\n",
       " '__or__',\n",
       " '__pos__',\n",
       " '__pow__',\n",
       " '__radd__',\n",
       " '__rand__',\n",
       " '__rdivmod__',\n",
       " '__reduce__',\n",
       " '__reduce_ex__',\n",
       " '__repr__',\n",
       " '__rfloordiv__',\n",
       " '__rlshift__',\n",
       " '__rmod__',\n",
       " '__rmul__',\n",
       " '__ror__',\n",
       " '__round__',\n",
       " '__rpow__',\n",
       " '__rrshift__',\n",
       " '__rshift__',\n",
       " '__rsub__',\n",
       " '__rtruediv__',\n",
       " '__rxor__',\n",
       " '__setattr__',\n",
       " '__sizeof__',\n",
       " '__str__',\n",
       " '__sub__',\n",
       " '__subclasshook__',\n",
       " '__truediv__',\n",
       " '__trunc__',\n",
       " '__xor__',\n",
       " 'as_integer_ratio',\n",
       " 'bit_count',\n",
       " 'bit_length',\n",
       " 'conjugate',\n",
       " 'denominator',\n",
       " 'from_bytes',\n",
       " 'imag',\n",
       " 'numerator',\n",
       " 'real',\n",
       " 'to_bytes']"
      ]
     },
     "execution_count": 10,
     "metadata": {},
     "output_type": "execute_result"
    }
   ],
   "source": [
    "a = 1\n",
    "dir(a)\n",
    "# 해당 atomic엔 __iter__가 없다\n",
    "# 따라서 non-iterable이다"
   ]
  },
  {
   "cell_type": "code",
   "execution_count": 12,
   "id": "542d0258-45ea-4f78-a987-2958ba01abe7",
   "metadata": {},
   "outputs": [
    {
     "data": {
      "text/plain": [
       "['__add__',\n",
       " '__class__',\n",
       " '__class_getitem__',\n",
       " '__contains__',\n",
       " '__delattr__',\n",
       " '__delitem__',\n",
       " '__dir__',\n",
       " '__doc__',\n",
       " '__eq__',\n",
       " '__format__',\n",
       " '__ge__',\n",
       " '__getattribute__',\n",
       " '__getitem__',\n",
       " '__gt__',\n",
       " '__hash__',\n",
       " '__iadd__',\n",
       " '__imul__',\n",
       " '__init__',\n",
       " '__init_subclass__',\n",
       " '__iter__',\n",
       " '__le__',\n",
       " '__len__',\n",
       " '__lt__',\n",
       " '__mul__',\n",
       " '__ne__',\n",
       " '__new__',\n",
       " '__reduce__',\n",
       " '__reduce_ex__',\n",
       " '__repr__',\n",
       " '__reversed__',\n",
       " '__rmul__',\n",
       " '__setattr__',\n",
       " '__setitem__',\n",
       " '__sizeof__',\n",
       " '__str__',\n",
       " '__subclasshook__',\n",
       " 'append',\n",
       " 'clear',\n",
       " 'copy',\n",
       " 'count',\n",
       " 'extend',\n",
       " 'index',\n",
       " 'insert',\n",
       " 'pop',\n",
       " 'remove',\n",
       " 'reverse',\n",
       " 'sort']"
      ]
     },
     "execution_count": 12,
     "metadata": {},
     "output_type": "execute_result"
    }
   ],
   "source": [
    "a = [1,2,3]\n",
    "dir(a)\n",
    "# 해당 a에는 __iter__가 존재\n",
    "# 따라서 한개씩 뽑는 것이 가능하다"
   ]
  },
  {
   "cell_type": "code",
   "execution_count": 13,
   "id": "bf7ada9f-5d42-4565-96c1-ca716229bf4c",
   "metadata": {},
   "outputs": [
    {
     "data": {
      "text/plain": [
       "True"
      ]
     },
     "execution_count": 13,
     "metadata": {},
     "output_type": "execute_result"
    }
   ],
   "source": [
    "# __iter__가 있는 확인 하는 법\n",
    "'__iter__' in dir(a)"
   ]
  },
  {
   "cell_type": "code",
   "execution_count": 14,
   "id": "257951ff-47ec-44ee-be49-7d71ff851955",
   "metadata": {},
   "outputs": [
    {
     "data": {
      "text/plain": [
       "True"
      ]
     },
     "execution_count": 14,
     "metadata": {},
     "output_type": "execute_result"
    }
   ],
   "source": [
    "a = {1,2,3}\n",
    "'__iter__' in dir(a)"
   ]
  },
  {
   "cell_type": "code",
   "execution_count": 16,
   "id": "77d58936-bce8-490e-8ba8-b3b13bfa682f",
   "metadata": {},
   "outputs": [
    {
     "name": "stdout",
     "output_type": "stream",
     "text": [
      "1\n",
      "2\n",
      "3\n"
     ]
    }
   ],
   "source": [
    "# 해당 for loop은 iterable이 가능하기 때문에 실행이 된다 \n",
    "for i in a:\n",
    "    print(i)"
   ]
  },
  {
   "cell_type": "markdown",
   "id": "a3c86129-b094-4d40-96f1-61b789d4fe6f",
   "metadata": {},
   "source": [
    "#### view: 내가 보고싶은 것만 보는 것"
   ]
  },
  {
   "cell_type": "code",
   "execution_count": 19,
   "id": "82d44905-636b-4eb8-b254-8f2ea17fa1ef",
   "metadata": {},
   "outputs": [
    {
     "name": "stdout",
     "output_type": "stream",
     "text": [
      "a\n",
      "b\n",
      "c\n"
     ]
    }
   ],
   "source": [
    "for i in {'a':1, 'b':2, 'c':3}: \n",
    "    print(i)\n",
    "# key만 보니까"
   ]
  },
  {
   "cell_type": "code",
   "execution_count": 20,
   "id": "073adc2f-8288-4097-9669-fb7131e339f1",
   "metadata": {},
   "outputs": [
    {
     "name": "stdout",
     "output_type": "stream",
     "text": [
      "a\n",
      "b\n",
      "c\n"
     ]
    }
   ],
   "source": [
    "for i in {'a':1, 'b':2, 'c':3}.keys(): \n",
    "    print(i)"
   ]
  },
  {
   "cell_type": "code",
   "execution_count": 21,
   "id": "a07b3fb2-ec23-44d6-82c7-4835b8484846",
   "metadata": {},
   "outputs": [
    {
     "name": "stdout",
     "output_type": "stream",
     "text": [
      "1\n",
      "2\n",
      "3\n"
     ]
    }
   ],
   "source": [
    "for i in {'a':1, 'b':2, 'c':3}.values(): \n",
    "    print(i)"
   ]
  },
  {
   "cell_type": "code",
   "execution_count": 22,
   "id": "0c68c5b8-1fc2-4204-89a9-f1240a8102a7",
   "metadata": {},
   "outputs": [
    {
     "name": "stdout",
     "output_type": "stream",
     "text": [
      "('a', 1)\n",
      "('b', 2)\n",
      "('c', 3)\n"
     ]
    }
   ],
   "source": [
    "for i in {'a':1, 'b':2, 'c':3}.items(): \n",
    "    print(i)"
   ]
  },
  {
   "cell_type": "markdown",
   "id": "1f74e6e5-9bfe-4101-b8b6-52ee21406739",
   "metadata": {},
   "source": [
    "#### 2-1. iter하게 만드는 법 "
   ]
  },
  {
   "cell_type": "code",
   "execution_count": 25,
   "id": "45428e8e-8d4b-412c-a1cc-c49e99ca069d",
   "metadata": {},
   "outputs": [],
   "source": [
    "class A:\n",
    "    a = 1"
   ]
  },
  {
   "cell_type": "code",
   "execution_count": 26,
   "id": "e5efcd4d-c2df-432c-b10c-bf422255e4da",
   "metadata": {},
   "outputs": [],
   "source": [
    "aa = A()"
   ]
  },
  {
   "cell_type": "code",
   "execution_count": 27,
   "id": "102813a7-c885-42d0-889e-470c696a8c08",
   "metadata": {},
   "outputs": [
    {
     "ename": "TypeError",
     "evalue": "'A' object is not iterable",
     "output_type": "error",
     "traceback": [
      "\u001b[1;31m---------------------------------------------------------------------------\u001b[0m",
      "\u001b[1;31mTypeError\u001b[0m                                 Traceback (most recent call last)",
      "Cell \u001b[1;32mIn[27], line 1\u001b[0m\n\u001b[1;32m----> 1\u001b[0m \u001b[38;5;28;01mfor\u001b[39;00m i \u001b[38;5;129;01min\u001b[39;00m aa:\n\u001b[0;32m      2\u001b[0m     \u001b[38;5;28mprint\u001b[39m(i)\n",
      "\u001b[1;31mTypeError\u001b[0m: 'A' object is not iterable"
     ]
    }
   ],
   "source": [
    "for i in aa:\n",
    "    print(i)\n",
    "# TypeError: 'A' object is not iterable"
   ]
  },
  {
   "cell_type": "code",
   "execution_count": 28,
   "id": "d16c22d9-48d3-4837-a947-cd22cf166dab",
   "metadata": {},
   "outputs": [],
   "source": [
    "class A:\n",
    "    a = 1\n",
    "    def __iter__(self):\n",
    "        return iter([1,2,3])"
   ]
  },
  {
   "cell_type": "code",
   "execution_count": 29,
   "id": "38499e6b-6097-4da9-9668-79b9c9eaa475",
   "metadata": {},
   "outputs": [],
   "source": [
    "aa = A()"
   ]
  },
  {
   "cell_type": "code",
   "execution_count": 30,
   "id": "81d94bab-902e-42d3-b38b-c9e3e50da1a5",
   "metadata": {},
   "outputs": [
    {
     "name": "stdout",
     "output_type": "stream",
     "text": [
      "1\n",
      "2\n",
      "3\n"
     ]
    }
   ],
   "source": [
    "for i in aa:\n",
    "    print(i)"
   ]
  },
  {
   "cell_type": "markdown",
   "id": "4c77139f-d475-46f0-88b9-0963379e827f",
   "metadata": {},
   "source": [
    "### 2-2. reassignment"
   ]
  },
  {
   "cell_type": "code",
   "execution_count": 23,
   "id": "913b648f-02db-4645-831d-e37ea5bfa451",
   "metadata": {},
   "outputs": [
    {
     "data": {
      "text/plain": [
       "False"
      ]
     },
     "execution_count": 23,
     "metadata": {},
     "output_type": "execute_result"
    }
   ],
   "source": [
    "1 in {'a':1, 'a':2,'c':3}\n",
    "# a가 중복이 되었기 때문에 reassignment "
   ]
  },
  {
   "cell_type": "code",
   "execution_count": 31,
   "id": "382b77a2-c325-4418-b736-8a96f4001583",
   "metadata": {},
   "outputs": [
    {
     "data": {
      "text/plain": [
       "2"
      ]
     },
     "execution_count": 31,
     "metadata": {},
     "output_type": "execute_result"
    }
   ],
   "source": [
    "a = 1\n",
    "a = 2 \n",
    "a"
   ]
  },
  {
   "cell_type": "code",
   "execution_count": 32,
   "id": "eca0913d-e7c4-4cce-85fc-b5180ac2cf1d",
   "metadata": {},
   "outputs": [],
   "source": [
    "a = b = 1"
   ]
  },
  {
   "cell_type": "code",
   "execution_count": 33,
   "id": "f5100c46-d88d-4674-aa6f-bd210f8a27b8",
   "metadata": {},
   "outputs": [],
   "source": [
    "a = b = [1,2,3]"
   ]
  },
  {
   "cell_type": "code",
   "execution_count": 34,
   "id": "18d26e5c-ed1f-4c6a-aa09-580ab6ac1406",
   "metadata": {},
   "outputs": [],
   "source": [
    "b[0] = 100"
   ]
  },
  {
   "cell_type": "code",
   "execution_count": 35,
   "id": "5790fc39-a78c-4520-a677-3540e8285065",
   "metadata": {},
   "outputs": [
    {
     "data": {
      "text/plain": [
       "[100, 2, 3]"
      ]
     },
     "execution_count": 35,
     "metadata": {},
     "output_type": "execute_result"
    }
   ],
   "source": [
    "a"
   ]
  },
  {
   "cell_type": "code",
   "execution_count": 36,
   "id": "e908ba7c-c2d3-4c93-872d-8ea953f7ec43",
   "metadata": {},
   "outputs": [],
   "source": [
    "a = [1,2,3]\n",
    "b = a"
   ]
  },
  {
   "cell_type": "code",
   "execution_count": 37,
   "id": "19cfe851-6ecf-463b-a484-09952c654149",
   "metadata": {},
   "outputs": [],
   "source": [
    "b[1] = [100]"
   ]
  },
  {
   "cell_type": "code",
   "execution_count": 38,
   "id": "733f2080-e0ad-4c13-ac25-ad152e6678a2",
   "metadata": {},
   "outputs": [
    {
     "data": {
      "text/plain": [
       "[1, [100], 3]"
      ]
     },
     "execution_count": 38,
     "metadata": {},
     "output_type": "execute_result"
    }
   ],
   "source": [
    "a"
   ]
  },
  {
   "cell_type": "code",
   "execution_count": 39,
   "id": "da1b80d6-220f-4852-a1ae-5680e2aded15",
   "metadata": {},
   "outputs": [],
   "source": [
    "# 같은 데이터 주소를 공유하기 때문에 하나를 바꾸면 다 바뀌어 버린다 \n",
    "# 그래서 .copy() 방법을 쓰는 것이 좋다"
   ]
  },
  {
   "cell_type": "code",
   "execution_count": 40,
   "id": "0d807940-c017-4156-a2f0-7ca8d4440575",
   "metadata": {},
   "outputs": [],
   "source": [
    "a = [1,2,3]"
   ]
  },
  {
   "cell_type": "code",
   "execution_count": 41,
   "id": "859b06d7-da9a-476c-bbfb-936aa3924266",
   "metadata": {},
   "outputs": [],
   "source": [
    "b = a[:]\n",
    "# or\n",
    "b = a.copy()"
   ]
  },
  {
   "cell_type": "code",
   "execution_count": 42,
   "id": "a8294824-86c4-4dba-a961-f4ff68b9d709",
   "metadata": {},
   "outputs": [],
   "source": [
    "a[1] = 100"
   ]
  },
  {
   "cell_type": "code",
   "execution_count": 43,
   "id": "9987adaf-4c32-45af-a0c1-c21795348e3d",
   "metadata": {},
   "outputs": [
    {
     "data": {
      "text/plain": [
       "[1, 2, 3]"
      ]
     },
     "execution_count": 43,
     "metadata": {},
     "output_type": "execute_result"
    }
   ],
   "source": [
    "b"
   ]
  },
  {
   "cell_type": "markdown",
   "id": "fc56f32d-07a7-4fab-8748-76a2baef9a91",
   "metadata": {},
   "source": [
    "### 2-3. unpacking"
   ]
  },
  {
   "cell_type": "code",
   "execution_count": 47,
   "id": "2a7cdf32-d34c-4a33-9984-fd4a0fc00869",
   "metadata": {},
   "outputs": [
    {
     "data": {
      "text/plain": [
       "(1, 2)"
      ]
     },
     "execution_count": 47,
     "metadata": {},
     "output_type": "execute_result"
    }
   ],
   "source": [
    "a, b = 1,2 # a,b = (a,b) = (1,2)\n",
    "a,b"
   ]
  },
  {
   "cell_type": "code",
   "execution_count": 49,
   "id": "a427ce8b-598e-4b00-b089-8909eb3b3b30",
   "metadata": {},
   "outputs": [
    {
     "ename": "ValueError",
     "evalue": "too many values to unpack (expected 2)",
     "output_type": "error",
     "traceback": [
      "\u001b[1;31m---------------------------------------------------------------------------\u001b[0m",
      "\u001b[1;31mValueError\u001b[0m                                Traceback (most recent call last)",
      "Cell \u001b[1;32mIn[49], line 1\u001b[0m\n\u001b[1;32m----> 1\u001b[0m a, b \u001b[38;5;241m=\u001b[39m \u001b[38;5;241m1\u001b[39m,\u001b[38;5;241m2\u001b[39m,\u001b[38;5;241m3\u001b[39m \u001b[38;5;66;03m# 갯수가 같아야 한다\u001b[39;00m\n\u001b[0;32m      2\u001b[0m \u001b[38;5;66;03m# ValueError: too many values to unpack (expected 2)\u001b[39;00m\n",
      "\u001b[1;31mValueError\u001b[0m: too many values to unpack (expected 2)"
     ]
    }
   ],
   "source": [
    "a, b = 1,2,3 # 갯수가 같아야 한다\n",
    "# ValueError: too many values to unpack (expected 2)"
   ]
  },
  {
   "cell_type": "code",
   "execution_count": 50,
   "id": "0ffa1ef2-308e-4359-86d8-91c435f29f6c",
   "metadata": {},
   "outputs": [],
   "source": [
    "a, *b = 1,2,3\n",
    "# *는 모두를 뜻함 -> 따라서, 현 구문에선 나머지를 뜻하게 된다"
   ]
  },
  {
   "cell_type": "code",
   "execution_count": 52,
   "id": "9135b70d-73dd-4f8b-9b41-aa22c47d207c",
   "metadata": {},
   "outputs": [
    {
     "data": {
      "text/plain": [
       "[2, 3]"
      ]
     },
     "execution_count": 52,
     "metadata": {},
     "output_type": "execute_result"
    }
   ],
   "source": [
    "b"
   ]
  },
  {
   "cell_type": "code",
   "execution_count": 53,
   "id": "6618f087-1bbd-451d-ace8-4fca29789ec9",
   "metadata": {},
   "outputs": [],
   "source": [
    "*a, b = 1,2,3"
   ]
  },
  {
   "cell_type": "code",
   "execution_count": 54,
   "id": "2e2c28d9-1320-4e95-8877-a1f96f801321",
   "metadata": {},
   "outputs": [
    {
     "data": {
      "text/plain": [
       "([1, 2], 3)"
      ]
     },
     "execution_count": 54,
     "metadata": {},
     "output_type": "execute_result"
    }
   ],
   "source": [
    "a, b # a=리스트 bc mutable "
   ]
  },
  {
   "cell_type": "code",
   "execution_count": 56,
   "id": "6f008048-9f69-443f-8a54-9599c5705d7c",
   "metadata": {},
   "outputs": [
    {
     "ename": "SyntaxError",
     "evalue": "starred assignment target must be in a list or tuple (1128504383.py, line 1)",
     "output_type": "error",
     "traceback": [
      "\u001b[1;36m  Cell \u001b[1;32mIn[56], line 1\u001b[1;36m\u001b[0m\n\u001b[1;33m    *a = 1,2,3\u001b[0m\n\u001b[1;37m    ^\u001b[0m\n\u001b[1;31mSyntaxError\u001b[0m\u001b[1;31m:\u001b[0m starred assignment target must be in a list or tuple\n"
     ]
    }
   ],
   "source": [
    "*a = 1,2,3\n",
    "# 튜플 또는 리스트처럼 iterable이 가능한 아이들로 작성해야하는데\n",
    "# 위의 'a'는 하나의 이름이라서 안됨\n",
    "# 따러서 밑의 방법을 이용한다 \n",
    "# SyntaxError: starred assignment target must be in a list or tuple"
   ]
  },
  {
   "cell_type": "code",
   "execution_count": 57,
   "id": "b2500b18-eb0f-469c-9161-1b5861f8c7dc",
   "metadata": {},
   "outputs": [],
   "source": [
    "*a, = 1,2,3"
   ]
  },
  {
   "cell_type": "code",
   "execution_count": 58,
   "id": "58069235-21c5-497a-9719-1679b86b3389",
   "metadata": {},
   "outputs": [
    {
     "data": {
      "text/plain": [
       "[1, 2, 3]"
      ]
     },
     "execution_count": 58,
     "metadata": {},
     "output_type": "execute_result"
    }
   ],
   "source": [
    "a"
   ]
  },
  {
   "cell_type": "markdown",
   "id": "3c1adca3-4675-4ce8-89b2-3d9d5ab5ac96",
   "metadata": {},
   "source": [
    "> 현 방법은 inmutable한 튜플을 mutable한 리스트로 변환하고자 할때 사용한다 "
   ]
  },
  {
   "cell_type": "code",
   "execution_count": 60,
   "id": "001587d3-021a-4912-a7e0-25129d6b496f",
   "metadata": {},
   "outputs": [],
   "source": [
    "import builtins\n",
    "# 파이썬을 실행시키면 자동으로 import된다"
   ]
  },
  {
   "cell_type": "code",
   "execution_count": 61,
   "id": "488b93a9-99d4-43cf-ae05-cb16de59ba1e",
   "metadata": {},
   "outputs": [
    {
     "data": {
      "text/plain": [
       "['ArithmeticError',\n",
       " 'AssertionError',\n",
       " 'AttributeError',\n",
       " 'BaseException',\n",
       " 'BlockingIOError',\n",
       " 'BrokenPipeError',\n",
       " 'BufferError',\n",
       " 'BytesWarning',\n",
       " 'ChildProcessError',\n",
       " 'ConnectionAbortedError',\n",
       " 'ConnectionError',\n",
       " 'ConnectionRefusedError',\n",
       " 'ConnectionResetError',\n",
       " 'DeprecationWarning',\n",
       " 'EOFError',\n",
       " 'Ellipsis',\n",
       " 'EncodingWarning',\n",
       " 'EnvironmentError',\n",
       " 'Exception',\n",
       " 'False',\n",
       " 'FileExistsError',\n",
       " 'FileNotFoundError',\n",
       " 'FloatingPointError',\n",
       " 'FutureWarning',\n",
       " 'GeneratorExit',\n",
       " 'IOError',\n",
       " 'ImportError',\n",
       " 'ImportWarning',\n",
       " 'IndentationError',\n",
       " 'IndexError',\n",
       " 'InterruptedError',\n",
       " 'IsADirectoryError',\n",
       " 'KeyError',\n",
       " 'KeyboardInterrupt',\n",
       " 'LookupError',\n",
       " 'MemoryError',\n",
       " 'ModuleNotFoundError',\n",
       " 'NameError',\n",
       " 'None',\n",
       " 'NotADirectoryError',\n",
       " 'NotImplemented',\n",
       " 'NotImplementedError',\n",
       " 'OSError',\n",
       " 'OverflowError',\n",
       " 'PendingDeprecationWarning',\n",
       " 'PermissionError',\n",
       " 'ProcessLookupError',\n",
       " 'RecursionError',\n",
       " 'ReferenceError',\n",
       " 'ResourceWarning',\n",
       " 'RuntimeError',\n",
       " 'RuntimeWarning',\n",
       " 'StopAsyncIteration',\n",
       " 'StopIteration',\n",
       " 'SyntaxError',\n",
       " 'SyntaxWarning',\n",
       " 'SystemError',\n",
       " 'SystemExit',\n",
       " 'TabError',\n",
       " 'TimeoutError',\n",
       " 'True',\n",
       " 'TypeError',\n",
       " 'UnboundLocalError',\n",
       " 'UnicodeDecodeError',\n",
       " 'UnicodeEncodeError',\n",
       " 'UnicodeError',\n",
       " 'UnicodeTranslateError',\n",
       " 'UnicodeWarning',\n",
       " 'UserWarning',\n",
       " 'ValueError',\n",
       " 'Warning',\n",
       " 'WindowsError',\n",
       " 'ZeroDivisionError',\n",
       " '__IPYTHON__',\n",
       " '__build_class__',\n",
       " '__debug__',\n",
       " '__doc__',\n",
       " '__import__',\n",
       " '__loader__',\n",
       " '__name__',\n",
       " '__package__',\n",
       " '__spec__',\n",
       " 'abs',\n",
       " 'aiter',\n",
       " 'all',\n",
       " 'anext',\n",
       " 'any',\n",
       " 'ascii',\n",
       " 'bin',\n",
       " 'bool',\n",
       " 'breakpoint',\n",
       " 'bytearray',\n",
       " 'bytes',\n",
       " 'callable',\n",
       " 'chr',\n",
       " 'classmethod',\n",
       " 'compile',\n",
       " 'complex',\n",
       " 'copyright',\n",
       " 'credits',\n",
       " 'delattr',\n",
       " 'dict',\n",
       " 'dir',\n",
       " 'display',\n",
       " 'divmod',\n",
       " 'enumerate',\n",
       " 'eval',\n",
       " 'exec',\n",
       " 'execfile',\n",
       " 'filter',\n",
       " 'float',\n",
       " 'format',\n",
       " 'frozenset',\n",
       " 'get_ipython',\n",
       " 'getattr',\n",
       " 'globals',\n",
       " 'hasattr',\n",
       " 'hash',\n",
       " 'help',\n",
       " 'hex',\n",
       " 'id',\n",
       " 'input',\n",
       " 'int',\n",
       " 'isinstance',\n",
       " 'issubclass',\n",
       " 'iter',\n",
       " 'len',\n",
       " 'license',\n",
       " 'list',\n",
       " 'locals',\n",
       " 'map',\n",
       " 'max',\n",
       " 'memoryview',\n",
       " 'min',\n",
       " 'next',\n",
       " 'object',\n",
       " 'oct',\n",
       " 'open',\n",
       " 'ord',\n",
       " 'pow',\n",
       " 'print',\n",
       " 'property',\n",
       " 'range',\n",
       " 'repr',\n",
       " 'reversed',\n",
       " 'round',\n",
       " 'runfile',\n",
       " 'set',\n",
       " 'setattr',\n",
       " 'slice',\n",
       " 'sorted',\n",
       " 'staticmethod',\n",
       " 'str',\n",
       " 'sum',\n",
       " 'super',\n",
       " 'tuple',\n",
       " 'type',\n",
       " 'vars',\n",
       " 'zip']"
      ]
     },
     "execution_count": 61,
     "metadata": {},
     "output_type": "execute_result"
    }
   ],
   "source": [
    "dir(builtins)"
   ]
  },
  {
   "cell_type": "code",
   "execution_count": 62,
   "id": "99f51a7f-ac66-428d-9161-fc1d4b8d1179",
   "metadata": {},
   "outputs": [
    {
     "name": "stdout",
     "output_type": "stream",
     "text": [
      "ArithmeticError\n",
      "AssertionError\n",
      "AttributeError\n",
      "BlockingIOError\n",
      "BrokenPipeError\n",
      "BufferError\n",
      "ChildProcessError\n",
      "ConnectionAbortedError\n",
      "ConnectionError\n",
      "ConnectionRefusedError\n",
      "ConnectionResetError\n",
      "EOFError\n",
      "EnvironmentError\n",
      "FileExistsError\n",
      "FileNotFoundError\n",
      "FloatingPointError\n",
      "IOError\n",
      "ImportError\n",
      "IndentationError\n",
      "IndexError\n",
      "InterruptedError\n",
      "IsADirectoryError\n",
      "KeyError\n",
      "LookupError\n",
      "MemoryError\n",
      "ModuleNotFoundError\n",
      "NameError\n",
      "NotADirectoryError\n",
      "NotImplementedError\n",
      "OSError\n",
      "OverflowError\n",
      "PermissionError\n",
      "ProcessLookupError\n",
      "RecursionError\n",
      "ReferenceError\n",
      "RuntimeError\n",
      "SyntaxError\n",
      "SystemError\n",
      "TabError\n",
      "TimeoutError\n",
      "TypeError\n",
      "UnboundLocalError\n",
      "UnicodeDecodeError\n",
      "UnicodeEncodeError\n",
      "UnicodeError\n",
      "UnicodeTranslateError\n",
      "ValueError\n",
      "WindowsError\n",
      "ZeroDivisionError\n"
     ]
    }
   ],
   "source": [
    "for i in dir(builtins):\n",
    "    if 'Error' in i:\n",
    "        print(i)"
   ]
  },
  {
   "cell_type": "code",
   "execution_count": 63,
   "id": "42103442-21d3-4b92-82d1-0d552b1568e0",
   "metadata": {},
   "outputs": [
    {
     "data": {
      "text/plain": [
       "1"
      ]
     },
     "execution_count": 63,
     "metadata": {},
     "output_type": "execute_result"
    }
   ],
   "source": [
    "a = 1\n",
    "++a"
   ]
  },
  {
   "cell_type": "code",
   "execution_count": 64,
   "id": "7dd6466c-ff27-44c5-b2f3-3e5f004799d0",
   "metadata": {},
   "outputs": [],
   "source": [
    "a += 1 # increment"
   ]
  },
  {
   "cell_type": "code",
   "execution_count": 66,
   "id": "d06bc758-c936-4ec0-a7b8-c06e065a069e",
   "metadata": {},
   "outputs": [
    {
     "data": {
      "text/plain": [
       "2"
      ]
     },
     "execution_count": 66,
     "metadata": {},
     "output_type": "execute_result"
    }
   ],
   "source": [
    "a"
   ]
  },
  {
   "cell_type": "code",
   "execution_count": 68,
   "id": "c62a23c9-8e23-4dec-bbdd-153126f63b93",
   "metadata": {},
   "outputs": [],
   "source": [
    "# unpacking  \n",
    "# 피보나치 수열 that swapping where other language cannot \n",
    "a, b = b, a+b  "
   ]
  },
  {
   "cell_type": "code",
   "execution_count": 69,
   "id": "b3d83c5d-22b2-4691-9e9e-7923a4300d2b",
   "metadata": {},
   "outputs": [
    {
     "data": {
      "text/plain": [
       "(2, 3)"
      ]
     },
     "execution_count": 69,
     "metadata": {},
     "output_type": "execute_result"
    }
   ],
   "source": [
    "a = 3\n",
    "b = 2\n",
    "a, b = b,a\n",
    "a,b"
   ]
  },
  {
   "cell_type": "code",
   "execution_count": 70,
   "id": "df9d0dc1-9fbc-41bc-aad6-bdf599e8d0e0",
   "metadata": {},
   "outputs": [],
   "source": [
    "import keyword"
   ]
  },
  {
   "cell_type": "code",
   "execution_count": 71,
   "id": "f5b4d518-f7c8-4604-924b-61622d77d249",
   "metadata": {},
   "outputs": [
    {
     "data": {
      "text/plain": [
       "['False',\n",
       " 'None',\n",
       " 'True',\n",
       " 'and',\n",
       " 'as',\n",
       " 'assert',\n",
       " 'async',\n",
       " 'await',\n",
       " 'break',\n",
       " 'class',\n",
       " 'continue',\n",
       " 'def',\n",
       " 'del',\n",
       " 'elif',\n",
       " 'else',\n",
       " 'except',\n",
       " 'finally',\n",
       " 'for',\n",
       " 'from',\n",
       " 'global',\n",
       " 'if',\n",
       " 'import',\n",
       " 'in',\n",
       " 'is',\n",
       " 'lambda',\n",
       " 'nonlocal',\n",
       " 'not',\n",
       " 'or',\n",
       " 'pass',\n",
       " 'raise',\n",
       " 'return',\n",
       " 'try',\n",
       " 'while',\n",
       " 'with',\n",
       " 'yield']"
      ]
     },
     "execution_count": 71,
     "metadata": {},
     "output_type": "execute_result"
    }
   ],
   "source": [
    "keyword.kwlist"
   ]
  },
  {
   "cell_type": "markdown",
   "id": "5431a431-4693-42d1-8fbc-f13748de39e7",
   "metadata": {},
   "source": [
    "> 현재까지 6개의 할당에 대해 배움"
   ]
  },
  {
   "cell_type": "markdown",
   "id": "45f46ac9-cb4c-4b82-83e5-00ea3664dcf9",
   "metadata": {},
   "source": [
    "### 2-4. accumulator pattern "
   ]
  },
  {
   "cell_type": "code",
   "execution_count": 72,
   "id": "ceac148b-72d9-48e5-9e48-01cef5a996af",
   "metadata": {},
   "outputs": [],
   "source": [
    "sum = 0\n",
    "for i in range(1,11):\n",
    "    sum = sum + i"
   ]
  },
  {
   "cell_type": "code",
   "execution_count": 73,
   "id": "ff885cad-8e04-4d56-a34b-f80707b3303c",
   "metadata": {},
   "outputs": [
    {
     "data": {
      "text/plain": [
       "55"
      ]
     },
     "execution_count": 73,
     "metadata": {},
     "output_type": "execute_result"
    }
   ],
   "source": [
    "sum"
   ]
  },
  {
   "cell_type": "code",
   "execution_count": 74,
   "id": "5062f4ef-d9e4-4edf-9db6-0990f0585b90",
   "metadata": {},
   "outputs": [],
   "source": [
    "del sum\n",
    "# sum은 내장함수\n",
    "# 따라서 sum의 builtin function이 사라지게 된다 "
   ]
  },
  {
   "cell_type": "code",
   "execution_count": 75,
   "id": "38fa3d1a-d48f-4d6e-a046-7b08c03c1e0a",
   "metadata": {},
   "outputs": [],
   "source": [
    "sum_ = 0\n",
    "for i in range(1,11):\n",
    "    sum_  += i"
   ]
  },
  {
   "cell_type": "code",
   "execution_count": 76,
   "id": "e66c2605-b88d-41e2-8950-62d765fcd754",
   "metadata": {},
   "outputs": [],
   "source": [
    "sum_ = [] # mutable that can expand the memory space\n",
    "for i in range(1,11):\n",
    "    if i%2 == 0:         # look and search (보고 나서 맞춘다)\n",
    "        sum_ .append(i)"
   ]
  },
  {
   "cell_type": "code",
   "execution_count": 77,
   "id": "8eb21b16-db0c-434f-a1f6-4239a24b69ce",
   "metadata": {},
   "outputs": [
    {
     "data": {
      "text/plain": [
       "[2, 4, 6, 8, 10]"
      ]
     },
     "execution_count": 77,
     "metadata": {},
     "output_type": "execute_result"
    }
   ],
   "source": [
    "sum_"
   ]
  },
  {
   "cell_type": "markdown",
   "id": "689939f5-bdbf-49f1-9195-38303b848124",
   "metadata": {},
   "source": [
    "> sum = iterable\n",
    "> 한개씩 누적을 시켜서 iterator를 통해 iterable한다"
   ]
  },
  {
   "cell_type": "code",
   "execution_count": 78,
   "id": "50fe257d-c6b9-4d05-b51b-fa57ff855de1",
   "metadata": {},
   "outputs": [],
   "source": [
    "a = [1,2,0, '', 3,4, None, 0, 'a']"
   ]
  },
  {
   "cell_type": "code",
   "execution_count": 79,
   "id": "aaa5c5ce-f89e-4fb0-9155-61af158cacb0",
   "metadata": {},
   "outputs": [
    {
     "data": {
      "text/plain": [
       "[0, '', None, 0]"
      ]
     },
     "execution_count": 79,
     "metadata": {},
     "output_type": "execute_result"
    }
   ],
   "source": [
    "# 참인지 아닌지 확인하고 거짓을 뽑아라\n",
    "# 이때 a의 '하나씩 차례대로' 검색하며 체크한다 -> 이것을 iterable이라고 한다 \n",
    "temp = []\n",
    "for i in a:\n",
    "    if not i: # if i is not True -> if i is False\n",
    "        temp.append(i)\n",
    "temp"
   ]
  },
  {
   "cell_type": "code",
   "execution_count": 80,
   "id": "37a14473-a015-4f20-accf-5bf7a9ccb3f3",
   "metadata": {},
   "outputs": [
    {
     "data": {
      "text/plain": [
       "True"
      ]
     },
     "execution_count": 80,
     "metadata": {},
     "output_type": "execute_result"
    }
   ],
   "source": [
    "any(a) # 거짓이 있는지 없는지 "
   ]
  },
  {
   "cell_type": "code",
   "execution_count": 81,
   "id": "fd1811e0-ae50-4aa9-afd0-021df4931175",
   "metadata": {},
   "outputs": [
    {
     "data": {
      "text/plain": [
       "False"
      ]
     },
     "execution_count": 81,
     "metadata": {},
     "output_type": "execute_result"
    }
   ],
   "source": [
    "all(a) # return true if bool(x) is True for all values x in the iterable"
   ]
  },
  {
   "cell_type": "markdown",
   "id": "e2415bf5-8415-4050-9fee-081241152402",
   "metadata": {},
   "source": [
    "## 2-5. 에러 처리"
   ]
  },
  {
   "cell_type": "markdown",
   "id": "5428eacf-6d03-4f5d-a20d-51065e614bd4",
   "metadata": {},
   "source": [
    "* 에러 처리:\n",
    "    * EAFP \n",
    "        * 허락보다 용서가 쉽다\n",
    "        * 에러가 나면 에러처리를 그냥 놔두고 나중에 한다\n",
    "        * 파이썬이 느리기 때문에 이것을 하나하나 체크하면 더 느려진다\n",
    "    * LBYL\n",
    "        * EAFP의 반대 "
   ]
  },
  {
   "cell_type": "markdown",
   "id": "065576c8-ed74-4b54-a3af-b5b088ebbcff",
   "metadata": {},
   "source": [
    "* assert : 주로 디버깅 할 때 사용\n",
    "    * 정해진 값이 아닐 경우 에러를 발생 시킴 -> 강제 종료가 가능 "
   ]
  },
  {
   "cell_type": "code",
   "execution_count": 91,
   "id": "ac134740-62c7-456a-815b-6beade8f0e5c",
   "metadata": {},
   "outputs": [],
   "source": [
    "a = 3"
   ]
  },
  {
   "cell_type": "code",
   "execution_count": 92,
   "id": "10ef17e1-ac88-4aa2-a8ed-2c9e8689ecae",
   "metadata": {},
   "outputs": [
    {
     "name": "stdout",
     "output_type": "stream",
     "text": [
      "6 살입니다\n"
     ]
    }
   ],
   "source": [
    "print(int(a)+3,'살입니다')"
   ]
  },
  {
   "cell_type": "code",
   "execution_count": 93,
   "id": "b6ebee67-0e68-4e32-9efb-c597c0ec3452",
   "metadata": {},
   "outputs": [],
   "source": [
    "assert a == 3"
   ]
  },
  {
   "cell_type": "code",
   "execution_count": 94,
   "id": "575fd65e-2c11-42fe-919b-4ff1bcd26aeb",
   "metadata": {
    "scrolled": true
   },
   "outputs": [
    {
     "ename": "AssertionError",
     "evalue": "",
     "output_type": "error",
     "traceback": [
      "\u001b[1;31m---------------------------------------------------------------------------\u001b[0m",
      "\u001b[1;31mAssertionError\u001b[0m                            Traceback (most recent call last)",
      "Cell \u001b[1;32mIn[94], line 1\u001b[0m\n\u001b[1;32m----> 1\u001b[0m \u001b[38;5;28;01massert\u001b[39;00m a \u001b[38;5;241m==\u001b[39m \u001b[38;5;241m2\u001b[39m\n",
      "\u001b[1;31mAssertionError\u001b[0m: "
     ]
    }
   ],
   "source": [
    "assert a == 2"
   ]
  },
  {
   "cell_type": "code",
   "execution_count": 95,
   "id": "b05d9226-96a1-4822-874b-b4bf08af9834",
   "metadata": {},
   "outputs": [
    {
     "ename": "AssertionError",
     "evalue": "a는 3이어야 한다",
     "output_type": "error",
     "traceback": [
      "\u001b[1;31m---------------------------------------------------------------------------\u001b[0m",
      "\u001b[1;31mAssertionError\u001b[0m                            Traceback (most recent call last)",
      "Cell \u001b[1;32mIn[95], line 1\u001b[0m\n\u001b[1;32m----> 1\u001b[0m \u001b[38;5;28;01massert\u001b[39;00m a \u001b[38;5;241m==\u001b[39m \u001b[38;5;241m2\u001b[39m, \u001b[38;5;124m'\u001b[39m\u001b[38;5;124ma는 3이어야 한다\u001b[39m\u001b[38;5;124m'\u001b[39m\n",
      "\u001b[1;31mAssertionError\u001b[0m: a는 3이어야 한다"
     ]
    }
   ],
   "source": [
    "assert a == 2, 'a는 3이어야 한다'"
   ]
  },
  {
   "cell_type": "markdown",
   "id": "e7f79d57-39b0-4c55-8d87-67d05e86348b",
   "metadata": {},
   "source": [
    "* raise : 문제/예외를 발생시킨다\n",
    "    * 중간에 값을 찾는데 도움이 많이 된다\n",
    "    * 인공지능 모델링을 돌릴 때 매우 많이 활용되고 유용하게 쓰인다"
   ]
  },
  {
   "cell_type": "code",
   "execution_count": 97,
   "id": "826096ef-4261-4ce4-86f4-6d533da733b0",
   "metadata": {},
   "outputs": [
    {
     "ename": "RuntimeError",
     "evalue": "No active exception to reraise",
     "output_type": "error",
     "traceback": [
      "\u001b[1;31m---------------------------------------------------------------------------\u001b[0m",
      "\u001b[1;31mRuntimeError\u001b[0m                              Traceback (most recent call last)",
      "Cell \u001b[1;32mIn[97], line 1\u001b[0m\n\u001b[1;32m----> 1\u001b[0m \u001b[38;5;28;01mraise\u001b[39;00m\n",
      "\u001b[1;31mRuntimeError\u001b[0m: No active exception to reraise"
     ]
    }
   ],
   "source": [
    "raise"
   ]
  },
  {
   "cell_type": "code",
   "execution_count": 99,
   "id": "b6e9442b-0bd5-4e8c-9af9-9638a33a0daf",
   "metadata": {},
   "outputs": [
    {
     "name": "stdout",
     "output_type": "stream",
     "text": [
      "Error: Division by zero is not allowed\n"
     ]
    }
   ],
   "source": [
    "def divide(x, y):\n",
    "    if y == 0:\n",
    "        raise ZeroDivisionError(\"Division by zero is not allowed\")\n",
    "    return x / y\n",
    "\n",
    "try:\n",
    "    result = divide(10, 0)\n",
    "except ZeroDivisionError as e:\n",
    "    print(\"Error:\", e)"
   ]
  },
  {
   "cell_type": "markdown",
   "id": "36ddd66a-eb26-4f28-acb5-4754c91bdd18",
   "metadata": {},
   "source": [
    "* 에러가 나와도 중단하지 않는 방법"
   ]
  },
  {
   "cell_type": "code",
   "execution_count": 104,
   "id": "965cf1d7-b76f-4986-9c18-edbefed04045",
   "metadata": {},
   "outputs": [],
   "source": [
    "a = '삼'"
   ]
  },
  {
   "cell_type": "code",
   "execution_count": 105,
   "id": "abe72a72-07cc-429b-afb2-6646379d3b5e",
   "metadata": {},
   "outputs": [
    {
     "data": {
      "text/plain": [
       "str"
      ]
     },
     "execution_count": 105,
     "metadata": {},
     "output_type": "execute_result"
    }
   ],
   "source": [
    "type(a)"
   ]
  },
  {
   "cell_type": "code",
   "execution_count": 106,
   "id": "fdbd0a8e-8e23-4467-b7e9-25623b901df3",
   "metadata": {},
   "outputs": [
    {
     "ename": "ValueError",
     "evalue": "invalid literal for int() with base 10: '삼'",
     "output_type": "error",
     "traceback": [
      "\u001b[1;31m---------------------------------------------------------------------------\u001b[0m",
      "\u001b[1;31mValueError\u001b[0m                                Traceback (most recent call last)",
      "Cell \u001b[1;32mIn[106], line 1\u001b[0m\n\u001b[1;32m----> 1\u001b[0m b \u001b[38;5;241m=\u001b[39m \u001b[38;5;28;43mint\u001b[39;49m\u001b[43m(\u001b[49m\u001b[43ma\u001b[49m\u001b[43m)\u001b[49m\n",
      "\u001b[1;31mValueError\u001b[0m: invalid literal for int() with base 10: '삼'"
     ]
    }
   ],
   "source": [
    "# coercion 지원 안 함\n",
    "# 강제 캐스팅이 필요 \n",
    "# 캐스팅이란? 연산을 통하여 타입을 바꿔줌 \n",
    "b = int(a)"
   ]
  },
  {
   "cell_type": "code",
   "execution_count": 107,
   "id": "14fc217d-0d8d-4236-8f97-0463f1295021",
   "metadata": {},
   "outputs": [],
   "source": [
    "# 잘못된 데이터 타입이 나올때 에러가 뜨는 것이 있지만 (싸이킷런)\n",
    "# 파이토치나 텐서플로우의 경우 뜨지 않는다"
   ]
  },
  {
   "cell_type": "code",
   "execution_count": 108,
   "id": "6251816d-7ec8-4787-bb88-0e0c883431ea",
   "metadata": {},
   "outputs": [
    {
     "name": "stdin",
     "output_type": "stream",
     "text": [
      "숫자를 입력하세요 삼\n"
     ]
    },
    {
     "name": "stdout",
     "output_type": "stream",
     "text": [
      "V\n"
     ]
    },
    {
     "name": "stdin",
     "output_type": "stream",
     "text": [
      "숫자를 입력하세요 4\n"
     ]
    },
    {
     "name": "stdout",
     "output_type": "stream",
     "text": [
      "1\n"
     ]
    }
   ],
   "source": [
    "while True:\n",
    "    try: \n",
    "        a = input('숫자를 입력하세요')\n",
    "        b = int(a)\n",
    "        # 무한루프를 벗어나기 위해서 \n",
    "    except ValueError:\n",
    "        print('V')\n",
    "        continue # 다시 입력 받아줘 \n",
    "    else: \n",
    "        print(b-3)\n",
    "        break"
   ]
  },
  {
   "cell_type": "markdown",
   "id": "6de8de85-3a8f-46ba-90d6-ed5c9d0eb2ef",
   "metadata": {},
   "source": [
    "### 2-6. with; parameter & argument"
   ]
  },
  {
   "cell_type": "markdown",
   "id": "766659da-650d-4120-8c29-6a93fb55f3cd",
   "metadata": {},
   "source": [
    "* Lazy/ resue:\n",
    "    * 함수\n",
    "    * 클래스\n",
    "        * (유연하낟, 자유도가 높다 but 책임)(consenting adults)\n",
    "     \n",
    "* 인자 argument: 사용할때\n",
    "* 매개변수 parameter: 정의\n",
    "    * 파라미터의 수와 아규먼트의 수가 일치해야만 작동한다 \n",
    "* definition/declaration: 정의한다\n",
    "* 따라서, 이름이 다르다 -> 역할이 다르다"
   ]
  },
  {
   "cell_type": "code",
   "execution_count": 109,
   "id": "c93526cb-417f-44be-b950-fc048d08f6db",
   "metadata": {},
   "outputs": [],
   "source": [
    "def x(a): # 파라미터\n",
    "    print(a)"
   ]
  },
  {
   "cell_type": "code",
   "execution_count": 110,
   "id": "4b25c49e-f80a-4a03-b058-0f9868af7d53",
   "metadata": {},
   "outputs": [
    {
     "name": "stdout",
     "output_type": "stream",
     "text": [
      "3\n"
     ]
    }
   ],
   "source": [
    "x(3) # argument"
   ]
  },
  {
   "cell_type": "code",
   "execution_count": 112,
   "id": "1ed6bf90-b634-4bab-a0ba-4a9ac8bbfcde",
   "metadata": {},
   "outputs": [
    {
     "ename": "TypeError",
     "evalue": "x() missing 1 required positional argument: 'a'",
     "output_type": "error",
     "traceback": [
      "\u001b[1;31m---------------------------------------------------------------------------\u001b[0m",
      "\u001b[1;31mTypeError\u001b[0m                                 Traceback (most recent call last)",
      "Cell \u001b[1;32mIn[112], line 1\u001b[0m\n\u001b[1;32m----> 1\u001b[0m \u001b[43mx\u001b[49m\u001b[43m(\u001b[49m\u001b[43m)\u001b[49m\n\u001b[0;32m      2\u001b[0m \u001b[38;5;66;03m# no of argument != no of parameter -> arguement error\u001b[39;00m\n\u001b[0;32m      3\u001b[0m \u001b[38;5;66;03m# TypeError: x() missing 1 required positional argument: 'a'\u001b[39;00m\n",
      "\u001b[1;31mTypeError\u001b[0m: x() missing 1 required positional argument: 'a'"
     ]
    }
   ],
   "source": [
    "x()\n",
    "# no of argument != no of parameter -> arguement error\n",
    "# TypeError: x() missing 1 required positional argument: 'a'"
   ]
  },
  {
   "cell_type": "markdown",
   "id": "91feb021-8525-4005-9725-a9dbeee4cb9c",
   "metadata": {},
   "source": [
    "* 방식\n",
    "    * positional: 매개변수가 선언된 순선에 따라 인자를 입력\n",
    "        * 무조건 모든 인자를 입력해야 한다 \n",
    "    * keywrod: 매개변수와 인자를 함께 입력\n",
    "        * 필요한 것만 적어도 상관이 없다  \n",
    "        * default 값은 뒤에서 부터 채운다\n",
    "          \n",
    "    > 혼용해서 사용해도 무관하다. 단, 한번 keyword를 쓰기 시작하면 positional을 쓸 수 없다\n",
    "\n",
    "    * 특이사항\n",
    "        * '/'를 쓰는 경우: / 앞에는 positional만 써야한다\n",
    "        * '*'를 쓰는 경우:\n",
    "            * (a, *, b): * 뒤에는 무조건 keyword를 써야한다\n",
    "            * (*a) : 결과가 튜플로 반환되는 가변 positional 방식\n",
    "                * argument에 쓰는 *는 unpacking \n",
    "                * 사용자에게 입력을 받을 때 유용하게 쓰일 수 있다. 특히 하나가 될지 여러개가 될지 모르는 상황에서\n",
    "            * (**a) : 결과가 딕셔너리로 반환되는 가변 keyword 방식\n",
    "\n",
    "\n",
    "    * ex)\n",
    "        * positional only = /\n",
    "        * / * **"
   ]
  },
  {
   "cell_type": "code",
   "execution_count": 113,
   "id": "6a6c1b1f-4a8f-47b9-93ae-61c389583db2",
   "metadata": {},
   "outputs": [],
   "source": [
    " def xx(a,b):\n",
    "    print(a+2*b)"
   ]
  },
  {
   "cell_type": "code",
   "execution_count": 114,
   "id": "853b2ab8-06e4-4e7f-a99a-a28b1c3b50da",
   "metadata": {},
   "outputs": [
    {
     "name": "stdout",
     "output_type": "stream",
     "text": [
      "8\n"
     ]
    }
   ],
   "source": [
    "# positional\n",
    "xx(2,3)"
   ]
  },
  {
   "cell_type": "code",
   "execution_count": 115,
   "id": "97125c38-4edf-4458-9903-7ab09ec322d1",
   "metadata": {},
   "outputs": [
    {
     "name": "stdout",
     "output_type": "stream",
     "text": [
      "8\n"
     ]
    }
   ],
   "source": [
    "# keyword\n",
    "xx(a = 2, b=3)"
   ]
  },
  {
   "cell_type": "code",
   "execution_count": 116,
   "id": "f8cb5f79-b352-4f47-91e4-b05ea7153fb8",
   "metadata": {},
   "outputs": [
    {
     "ename": "SyntaxError",
     "evalue": "non-default argument follows default argument (300200983.py, line 1)",
     "output_type": "error",
     "traceback": [
      "\u001b[1;36m  Cell \u001b[1;32mIn[116], line 1\u001b[1;36m\u001b[0m\n\u001b[1;33m    def xxx(a=3,b):\u001b[0m\n\u001b[1;37m                ^\u001b[0m\n\u001b[1;31mSyntaxError\u001b[0m\u001b[1;31m:\u001b[0m non-default argument follows default argument\n"
     ]
    }
   ],
   "source": [
    "def xxx(a=3,b):\n",
    "    print(a,b*3)"
   ]
  },
  {
   "cell_type": "code",
   "execution_count": 117,
   "id": "ad613c3c-2626-4ddb-976e-30ecda21764c",
   "metadata": {},
   "outputs": [],
   "source": [
    "def xxx(b, a=3):\n",
    "    print(a,b*3)"
   ]
  },
  {
   "cell_type": "code",
   "execution_count": 118,
   "id": "c9023398-27a1-4e15-a124-0f8e8f87f533",
   "metadata": {},
   "outputs": [],
   "source": [
    "def xxxx(a=1, b=3, c=2, d=4):\n",
    "    print(a, b*3)"
   ]
  },
  {
   "cell_type": "code",
   "execution_count": 119,
   "id": "97dec911-f6bd-4e52-af3d-02b1dadfe13f",
   "metadata": {},
   "outputs": [
    {
     "name": "stdout",
     "output_type": "stream",
     "text": [
      "1 9\n"
     ]
    }
   ],
   "source": [
    "xxxx(a=1, d=4)"
   ]
  },
  {
   "cell_type": "code",
   "execution_count": 120,
   "id": "56b090dc-94bb-4154-91e1-b3b93653be08",
   "metadata": {},
   "outputs": [
    {
     "name": "stdout",
     "output_type": "stream",
     "text": [
      "1 9\n"
     ]
    }
   ],
   "source": [
    "# 혼용\n",
    "xxxx(1,d=4)"
   ]
  },
  {
   "cell_type": "code",
   "execution_count": 122,
   "id": "360f243c-039d-4739-b98d-e776024f29ae",
   "metadata": {},
   "outputs": [],
   "source": [
    "# /\n",
    "def y(a,/,b):\n",
    "    print(a,b)"
   ]
  },
  {
   "cell_type": "code",
   "execution_count": 123,
   "id": "572dbe03-08de-476e-8c5f-58d803255e58",
   "metadata": {},
   "outputs": [
    {
     "ename": "TypeError",
     "evalue": "y() got some positional-only arguments passed as keyword arguments: 'a'",
     "output_type": "error",
     "traceback": [
      "\u001b[1;31m---------------------------------------------------------------------------\u001b[0m",
      "\u001b[1;31mTypeError\u001b[0m                                 Traceback (most recent call last)",
      "Cell \u001b[1;32mIn[123], line 1\u001b[0m\n\u001b[1;32m----> 1\u001b[0m \u001b[43my\u001b[49m\u001b[43m(\u001b[49m\u001b[43ma\u001b[49m\u001b[38;5;241;43m=\u001b[39;49m\u001b[38;5;241;43m1\u001b[39;49m\u001b[43m,\u001b[49m\u001b[43m \u001b[49m\u001b[43mb\u001b[49m\u001b[38;5;241;43m=\u001b[39;49m\u001b[38;5;241;43m2\u001b[39;49m\u001b[43m)\u001b[49m\n",
      "\u001b[1;31mTypeError\u001b[0m: y() got some positional-only arguments passed as keyword arguments: 'a'"
     ]
    }
   ],
   "source": [
    "y(a=1, b=2)"
   ]
  },
  {
   "cell_type": "code",
   "execution_count": 124,
   "id": "6aaa9c56-3dcb-48cd-8e08-78da4ff76007",
   "metadata": {},
   "outputs": [
    {
     "name": "stdout",
     "output_type": "stream",
     "text": [
      "1 2\n"
     ]
    }
   ],
   "source": [
    "y(1, b=2)"
   ]
  },
  {
   "cell_type": "code",
   "execution_count": 125,
   "id": "e66884fd-065c-4d18-839d-d33696622ab1",
   "metadata": {},
   "outputs": [
    {
     "name": "stdout",
     "output_type": "stream",
     "text": [
      "1 2\n"
     ]
    }
   ],
   "source": [
    "y(1, 2)"
   ]
  },
  {
   "cell_type": "code",
   "execution_count": 127,
   "id": "aa22f5f9-7b4d-4a81-833f-48a6dbe171b9",
   "metadata": {},
   "outputs": [],
   "source": [
    "# * : unpacking\n",
    "def z(a, * ,b): \n",
    "    print(a,b)"
   ]
  },
  {
   "cell_type": "code",
   "execution_count": 128,
   "id": "437c432f-f832-4d23-9205-6460a2d436c6",
   "metadata": {},
   "outputs": [
    {
     "ename": "TypeError",
     "evalue": "z() takes 1 positional argument but 2 were given",
     "output_type": "error",
     "traceback": [
      "\u001b[1;31m---------------------------------------------------------------------------\u001b[0m",
      "\u001b[1;31mTypeError\u001b[0m                                 Traceback (most recent call last)",
      "Cell \u001b[1;32mIn[128], line 1\u001b[0m\n\u001b[1;32m----> 1\u001b[0m \u001b[43mz\u001b[49m\u001b[43m(\u001b[49m\u001b[38;5;241;43m1\u001b[39;49m\u001b[43m,\u001b[49m\u001b[38;5;241;43m2\u001b[39;49m\u001b[43m)\u001b[49m\n",
      "\u001b[1;31mTypeError\u001b[0m: z() takes 1 positional argument but 2 were given"
     ]
    }
   ],
   "source": [
    "z(1,2)"
   ]
  },
  {
   "cell_type": "code",
   "execution_count": 131,
   "id": "9bd5992d-acef-44f2-ac5c-5a6416b16ce1",
   "metadata": {},
   "outputs": [
    {
     "name": "stdout",
     "output_type": "stream",
     "text": [
      "1 2\n"
     ]
    }
   ],
   "source": [
    "z(a=1, b=2)"
   ]
  },
  {
   "cell_type": "code",
   "execution_count": 132,
   "id": "df55a2cd-7d7f-4670-8e68-c3613f4be1e4",
   "metadata": {},
   "outputs": [
    {
     "name": "stdout",
     "output_type": "stream",
     "text": [
      "1 2\n"
     ]
    }
   ],
   "source": [
    "z(1, b=2)"
   ]
  },
  {
   "cell_type": "code",
   "execution_count": 133,
   "id": "434e8211-554c-4322-aa29-ef98c1a979ec",
   "metadata": {},
   "outputs": [],
   "source": [
    "def zz(*a):\n",
    "    print(a)"
   ]
  },
  {
   "cell_type": "code",
   "execution_count": 134,
   "id": "82c017ae-2dbe-476d-8641-2e7752814292",
   "metadata": {},
   "outputs": [
    {
     "name": "stdout",
     "output_type": "stream",
     "text": [
      "()\n"
     ]
    }
   ],
   "source": [
    "zz()"
   ]
  },
  {
   "cell_type": "code",
   "execution_count": 135,
   "id": "1985db4e-2c97-4437-a194-7cd3102761e7",
   "metadata": {},
   "outputs": [
    {
     "name": "stdout",
     "output_type": "stream",
     "text": [
      "(1,)\n"
     ]
    }
   ],
   "source": [
    "zz(1)"
   ]
  },
  {
   "cell_type": "code",
   "execution_count": 136,
   "id": "75a13a6d-265f-4385-8678-450f6b3fd0e4",
   "metadata": {},
   "outputs": [
    {
     "name": "stdout",
     "output_type": "stream",
     "text": [
      "(1, 2)\n"
     ]
    }
   ],
   "source": [
    "zz(1,2)"
   ]
  },
  {
   "cell_type": "code",
   "execution_count": 137,
   "id": "df24c682-ae70-4d08-ac41-44b58f876b6e",
   "metadata": {},
   "outputs": [
    {
     "ename": "TypeError",
     "evalue": "zz() got an unexpected keyword argument 'a'",
     "output_type": "error",
     "traceback": [
      "\u001b[1;31m---------------------------------------------------------------------------\u001b[0m",
      "\u001b[1;31mTypeError\u001b[0m                                 Traceback (most recent call last)",
      "Cell \u001b[1;32mIn[137], line 1\u001b[0m\n\u001b[1;32m----> 1\u001b[0m \u001b[43mzz\u001b[49m\u001b[43m(\u001b[49m\u001b[43ma\u001b[49m\u001b[38;5;241;43m=\u001b[39;49m\u001b[38;5;241;43m1\u001b[39;49m\u001b[43m)\u001b[49m\n",
      "\u001b[1;31mTypeError\u001b[0m: zz() got an unexpected keyword argument 'a'"
     ]
    }
   ],
   "source": [
    "zz(a=1)"
   ]
  },
  {
   "cell_type": "code",
   "execution_count": 142,
   "id": "8c899e89-e19c-443f-a576-de2e7e0f6fda",
   "metadata": {},
   "outputs": [],
   "source": [
    "def zz(*a, b):\n",
    "    print(a, b)"
   ]
  },
  {
   "cell_type": "code",
   "execution_count": 143,
   "id": "736cf26c-731c-4654-b42c-18f33efaf278",
   "metadata": {},
   "outputs": [
    {
     "ename": "TypeError",
     "evalue": "zz() missing 1 required keyword-only argument: 'b'",
     "output_type": "error",
     "traceback": [
      "\u001b[1;31m---------------------------------------------------------------------------\u001b[0m",
      "\u001b[1;31mTypeError\u001b[0m                                 Traceback (most recent call last)",
      "Cell \u001b[1;32mIn[143], line 1\u001b[0m\n\u001b[1;32m----> 1\u001b[0m \u001b[43mzz\u001b[49m\u001b[43m(\u001b[49m\u001b[38;5;241;43m1\u001b[39;49m\u001b[43m,\u001b[49m\u001b[38;5;241;43m2\u001b[39;49m\u001b[43m)\u001b[49m\n",
      "\u001b[1;31mTypeError\u001b[0m: zz() missing 1 required keyword-only argument: 'b'"
     ]
    }
   ],
   "source": [
    "zz(1,2)"
   ]
  },
  {
   "cell_type": "code",
   "execution_count": 144,
   "id": "e5e9e022-74e8-4aa2-9fea-f81314f7167c",
   "metadata": {},
   "outputs": [
    {
     "ename": "TypeError",
     "evalue": "zz() got an unexpected keyword argument 'a'",
     "output_type": "error",
     "traceback": [
      "\u001b[1;31m---------------------------------------------------------------------------\u001b[0m",
      "\u001b[1;31mTypeError\u001b[0m                                 Traceback (most recent call last)",
      "Cell \u001b[1;32mIn[144], line 1\u001b[0m\n\u001b[1;32m----> 1\u001b[0m \u001b[43mzz\u001b[49m\u001b[43m(\u001b[49m\u001b[43ma\u001b[49m\u001b[38;5;241;43m=\u001b[39;49m\u001b[43m(\u001b[49m\u001b[38;5;241;43m1\u001b[39;49m\u001b[43m,\u001b[49m\u001b[38;5;241;43m2\u001b[39;49m\u001b[43m)\u001b[49m\u001b[43m,\u001b[49m\u001b[43m \u001b[49m\u001b[43mb\u001b[49m\u001b[38;5;241;43m=\u001b[39;49m\u001b[38;5;241;43m1\u001b[39;49m\u001b[43m)\u001b[49m\n",
      "\u001b[1;31mTypeError\u001b[0m: zz() got an unexpected keyword argument 'a'"
     ]
    }
   ],
   "source": [
    "zz(a=(1,2), b=1)"
   ]
  },
  {
   "cell_type": "code",
   "execution_count": 141,
   "id": "f8bc8463-84fd-45a8-8dc3-fa6e9c0b40a3",
   "metadata": {},
   "outputs": [
    {
     "name": "stdout",
     "output_type": "stream",
     "text": [
      "(1, 2) 1\n"
     ]
    }
   ],
   "source": [
    "zz(1, 2, b=1)"
   ]
  },
  {
   "cell_type": "code",
   "execution_count": 148,
   "id": "5beab6ec-19fb-494e-bb0a-f643e85d5008",
   "metadata": {},
   "outputs": [
    {
     "ename": "SyntaxError",
     "evalue": "invalid syntax (786355235.py, line 1)",
     "output_type": "error",
     "traceback": [
      "\u001b[1;36m  Cell \u001b[1;32mIn[148], line 1\u001b[1;36m\u001b[0m\n\u001b[1;33m    def zzz(**a, b):\u001b[0m\n\u001b[1;37m                 ^\u001b[0m\n\u001b[1;31mSyntaxError\u001b[0m\u001b[1;31m:\u001b[0m invalid syntax\n"
     ]
    }
   ],
   "source": [
    "def zzz(**a, b):\n",
    "    print(b, a)\n",
    "# SyntaxError: invalid syntax\n",
    "# 가변 키워드 방식이기 때문에, positional이 가능한 b가 앞에 있으면 안된다"
   ]
  },
  {
   "cell_type": "code",
   "execution_count": 150,
   "id": "245e8695-ae22-469c-816b-6018196ddd1b",
   "metadata": {},
   "outputs": [],
   "source": [
    "def zzz(b, **a):\n",
    "    print(b, a)"
   ]
  },
  {
   "cell_type": "code",
   "execution_count": 152,
   "id": "e03a1419-2d46-42ac-8d79-0a54be30a383",
   "metadata": {},
   "outputs": [
    {
     "name": "stdout",
     "output_type": "stream",
     "text": [
      "1 {}\n"
     ]
    }
   ],
   "source": [
    "zzz(1)"
   ]
  },
  {
   "cell_type": "code",
   "execution_count": 153,
   "id": "49e41614-5970-4a57-a5a5-e3f9310b4f0b",
   "metadata": {},
   "outputs": [],
   "source": [
    "# 가변 positional\n",
    "def t(*a):\n",
    "    print(a)"
   ]
  },
  {
   "cell_type": "code",
   "execution_count": 157,
   "id": "134e9be8-27ae-46dc-a95c-6d88d442eef2",
   "metadata": {},
   "outputs": [
    {
     "name": "stdout",
     "output_type": "stream",
     "text": [
      "([1, 2, 3, 4],)\n"
     ]
    }
   ],
   "source": [
    "t([1,2,3,4])\n",
    "# 가변 positional이므로 하나의 인자를 받아 0번째 자리에 리스트가 저장된 튜플을 반환"
   ]
  },
  {
   "cell_type": "code",
   "execution_count": 159,
   "id": "043f1e60-405d-4b08-ab15-ced0823eefb4",
   "metadata": {},
   "outputs": [
    {
     "name": "stdout",
     "output_type": "stream",
     "text": [
      "(1, 2, 3, 4)\n"
     ]
    }
   ],
   "source": [
    "t(*[1,2,3,4])  \n",
    "# argument에 쓰는 *는 unpacking\n",
    "# argument를 unpacking하는 것으로 하나씩 읽어드림 \n",
    "# 따라서 리스트에 있는 element를 하나씩 반환"
   ]
  },
  {
   "cell_type": "code",
   "execution_count": 158,
   "id": "59a3fd36-5420-4364-b9ce-cce322d44cc2",
   "metadata": {},
   "outputs": [
    {
     "name": "stdout",
     "output_type": "stream",
     "text": [
      "(1, 2, 3, 4)\n"
     ]
    }
   ],
   "source": [
    "t(1,2,3,4)"
   ]
  },
  {
   "cell_type": "code",
   "execution_count": 160,
   "id": "a662c978-96a7-4f42-9b36-757a2512bf3b",
   "metadata": {},
   "outputs": [],
   "source": [
    "# dynamic keyword\n",
    "def tt(**a):\n",
    "    print(a)"
   ]
  },
  {
   "cell_type": "code",
   "execution_count": 161,
   "id": "a784983e-5ccb-489e-b646-698dad5914a1",
   "metadata": {},
   "outputs": [],
   "source": [
    "xxx = {'a':1, 'b':2}"
   ]
  },
  {
   "cell_type": "code",
   "execution_count": 162,
   "id": "62b04c51-5eac-436d-b47c-00e23a83355a",
   "metadata": {},
   "outputs": [
    {
     "name": "stdout",
     "output_type": "stream",
     "text": [
      "{'a': 1, 'b': 2}\n"
     ]
    }
   ],
   "source": [
    "tt(**xxx)"
   ]
  },
  {
   "cell_type": "code",
   "execution_count": 163,
   "id": "48e59c1d-31b6-4b8c-b339-34ac7e546d83",
   "metadata": {},
   "outputs": [
    {
     "ename": "TypeError",
     "evalue": "tt() takes 0 positional arguments but 1 was given",
     "output_type": "error",
     "traceback": [
      "\u001b[1;31m---------------------------------------------------------------------------\u001b[0m",
      "\u001b[1;31mTypeError\u001b[0m                                 Traceback (most recent call last)",
      "Cell \u001b[1;32mIn[163], line 1\u001b[0m\n\u001b[1;32m----> 1\u001b[0m \u001b[43mtt\u001b[49m\u001b[43m(\u001b[49m\u001b[43mxxx\u001b[49m\u001b[43m)\u001b[49m\n",
      "\u001b[1;31mTypeError\u001b[0m: tt() takes 0 positional arguments but 1 was given"
     ]
    }
   ],
   "source": [
    "tt(xxx)"
   ]
  },
  {
   "cell_type": "code",
   "execution_count": 164,
   "id": "5b4964ed-abff-44de-a6eb-d82b8e4dcb1f",
   "metadata": {},
   "outputs": [],
   "source": [
    "def t(*a):\n",
    "    print(a)"
   ]
  },
  {
   "cell_type": "code",
   "execution_count": 165,
   "id": "682a9c57-9804-4540-9c4b-9529a4e6d38d",
   "metadata": {},
   "outputs": [
    {
     "name": "stdout",
     "output_type": "stream",
     "text": [
      "('a', 'b')\n"
     ]
    }
   ],
   "source": [
    "t(*xxx)"
   ]
  },
  {
   "cell_type": "code",
   "execution_count": 166,
   "id": "0e6276cf-b272-4cec-9d85-e60ddd5c7f6e",
   "metadata": {},
   "outputs": [],
   "source": [
    "a = {'a':1, 'b':2}\n",
    "c = {'a':3, 'c':4}"
   ]
  },
  {
   "cell_type": "code",
   "execution_count": 167,
   "id": "0321e5b1-1734-4c4f-8341-995cfa6aa28e",
   "metadata": {},
   "outputs": [
    {
     "data": {
      "text/plain": [
       "{'a': 3, 'b': 2, 'c': 4}"
      ]
     },
     "execution_count": 167,
     "metadata": {},
     "output_type": "execute_result"
    }
   ],
   "source": [
    "{**a, **c}"
   ]
  }
 ],
 "metadata": {
  "kernelspec": {
   "display_name": "Python 3 (ipykernel)",
   "language": "python",
   "name": "python3"
  },
  "language_info": {
   "codemirror_mode": {
    "name": "ipython",
    "version": 3
   },
   "file_extension": ".py",
   "mimetype": "text/x-python",
   "name": "python",
   "nbconvert_exporter": "python",
   "pygments_lexer": "ipython3",
   "version": "3.10.11"
  }
 },
 "nbformat": 4,
 "nbformat_minor": 5
}
